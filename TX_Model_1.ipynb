{
  "cells": [
    {
      "cell_type": "markdown",
      "metadata": {
        "id": "view-in-github",
        "colab_type": "text"
      },
      "source": [
        "<a href=\"https://colab.research.google.com/github/IkramuddinAhmed/ADL_Project/blob/main/TX_Model_1.ipynb\" target=\"_parent\"><img src=\"https://colab.research.google.com/assets/colab-badge.svg\" alt=\"Open In Colab\"/></a>"
      ]
    },
    {
      "cell_type": "code",
      "source": [
        "import numpy as np\n",
        "import pandas as pd\n",
        "from keras.models import Sequential\n",
        "from keras.layers import Dense\n",
        "from keras.layers import LSTM"
      ],
      "outputs": [],
      "execution_count": null,
      "metadata": {
        "gather": {
          "logged": 1648823775068
        },
        "id": "77aTbJxUt3ha"
      }
    },
    {
      "cell_type": "code",
      "source": [
        "df = pd.read_csv('natural_calamities.csv', parse_dates=['Date'])\n",
        "df.head(10)"
      ],
      "outputs": [
        {
          "output_type": "execute_result",
          "execution_count": 2,
          "data": {
            "text/plain": "                       Date  Year State  State_Label Calamity\n0 1953-05-02 00:00:00+00:00  1953    GA           12  Tornado\n1 1953-05-15 00:00:00+00:00  1953    TX           49  Tornado\n2 1953-05-29 00:00:00+00:00  1953    LA           21    Flood\n3 1953-06-02 00:00:00+00:00  1953    MI           26  Tornado\n4 1953-06-06 00:00:00+00:00  1953    MT           31    Flood\n5 1953-06-09 00:00:00+00:00  1953    MI           26  Tornado\n6 1953-06-11 00:00:00+00:00  1953    MA           22  Tornado\n7 1953-06-11 00:00:00+00:00  1953    IA           15    Flood\n8 1953-06-19 00:00:00+00:00  1953    TX           49    Flood\n9 1953-10-22 00:00:00+00:00  1954    FL           10    Flood",
            "text/html": "<div>\n<style scoped>\n    .dataframe tbody tr th:only-of-type {\n        vertical-align: middle;\n    }\n\n    .dataframe tbody tr th {\n        vertical-align: top;\n    }\n\n    .dataframe thead th {\n        text-align: right;\n    }\n</style>\n<table border=\"1\" class=\"dataframe\">\n  <thead>\n    <tr style=\"text-align: right;\">\n      <th></th>\n      <th>Date</th>\n      <th>Year</th>\n      <th>State</th>\n      <th>State_Label</th>\n      <th>Calamity</th>\n    </tr>\n  </thead>\n  <tbody>\n    <tr>\n      <th>0</th>\n      <td>1953-05-02 00:00:00+00:00</td>\n      <td>1953</td>\n      <td>GA</td>\n      <td>12</td>\n      <td>Tornado</td>\n    </tr>\n    <tr>\n      <th>1</th>\n      <td>1953-05-15 00:00:00+00:00</td>\n      <td>1953</td>\n      <td>TX</td>\n      <td>49</td>\n      <td>Tornado</td>\n    </tr>\n    <tr>\n      <th>2</th>\n      <td>1953-05-29 00:00:00+00:00</td>\n      <td>1953</td>\n      <td>LA</td>\n      <td>21</td>\n      <td>Flood</td>\n    </tr>\n    <tr>\n      <th>3</th>\n      <td>1953-06-02 00:00:00+00:00</td>\n      <td>1953</td>\n      <td>MI</td>\n      <td>26</td>\n      <td>Tornado</td>\n    </tr>\n    <tr>\n      <th>4</th>\n      <td>1953-06-06 00:00:00+00:00</td>\n      <td>1953</td>\n      <td>MT</td>\n      <td>31</td>\n      <td>Flood</td>\n    </tr>\n    <tr>\n      <th>5</th>\n      <td>1953-06-09 00:00:00+00:00</td>\n      <td>1953</td>\n      <td>MI</td>\n      <td>26</td>\n      <td>Tornado</td>\n    </tr>\n    <tr>\n      <th>6</th>\n      <td>1953-06-11 00:00:00+00:00</td>\n      <td>1953</td>\n      <td>MA</td>\n      <td>22</td>\n      <td>Tornado</td>\n    </tr>\n    <tr>\n      <th>7</th>\n      <td>1953-06-11 00:00:00+00:00</td>\n      <td>1953</td>\n      <td>IA</td>\n      <td>15</td>\n      <td>Flood</td>\n    </tr>\n    <tr>\n      <th>8</th>\n      <td>1953-06-19 00:00:00+00:00</td>\n      <td>1953</td>\n      <td>TX</td>\n      <td>49</td>\n      <td>Flood</td>\n    </tr>\n    <tr>\n      <th>9</th>\n      <td>1953-10-22 00:00:00+00:00</td>\n      <td>1954</td>\n      <td>FL</td>\n      <td>10</td>\n      <td>Flood</td>\n    </tr>\n  </tbody>\n</table>\n</div>"
          },
          "metadata": {}
        }
      ],
      "execution_count": null,
      "metadata": {
        "jupyter": {
          "source_hidden": false,
          "outputs_hidden": false
        },
        "nteract": {
          "transient": {
            "deleting": false
          }
        },
        "gather": {
          "logged": 1648823775893
        },
        "id": "5Zd_9Jqqt3hf",
        "outputId": "1275727e-4ba0-42de-e43c-6a7e161c993f"
      }
    },
    {
      "cell_type": "code",
      "source": [
        "df.info()"
      ],
      "outputs": [
        {
          "output_type": "stream",
          "name": "stdout",
          "text": "<class 'pandas.core.frame.DataFrame'>\nRangeIndex: 24831 entries, 0 to 24830\nData columns (total 5 columns):\n #   Column       Non-Null Count  Dtype              \n---  ------       --------------  -----              \n 0   Date         24831 non-null  datetime64[ns, UTC]\n 1   Year         24831 non-null  int64              \n 2   State        24831 non-null  object             \n 3   State_Label  24831 non-null  int64              \n 4   Calamity     24831 non-null  object             \ndtypes: datetime64[ns, UTC](1), int64(2), object(2)\nmemory usage: 970.1+ KB\n"
        }
      ],
      "execution_count": null,
      "metadata": {
        "jupyter": {
          "source_hidden": false,
          "outputs_hidden": false
        },
        "nteract": {
          "transient": {
            "deleting": false
          }
        },
        "gather": {
          "logged": 1648823780794
        },
        "id": "QaTUzlpZt3hg",
        "outputId": "a7c7d9c9-d17c-4aff-9956-4afb2864a312"
      }
    },
    {
      "cell_type": "code",
      "source": [
        "df_TX = df[df['State']=='TX']\n",
        "df_TX.head(30)"
      ],
      "outputs": [
        {
          "output_type": "execute_result",
          "execution_count": 4,
          "data": {
            "text/plain": "                         Date  Year State  State_Label   Calamity\n1   1953-05-15 00:00:00+00:00  1953    TX           49    Tornado\n8   1953-06-19 00:00:00+00:00  1953    TX           49      Flood\n14  1954-07-01 00:00:00+00:00  1954    TX           49      Flood\n60  1957-04-29 00:00:00+00:00  1957    TX           49  Hurricane\n73  1958-06-06 00:00:00+00:00  1958    TX           49    Tornado\n81  1959-07-08 00:00:00+00:00  1959    TX           49      Flood\n101 1961-09-16 00:00:00+00:00  1961    TX           49  Hurricane\n134 1963-09-24 00:00:00+00:00  1963    TX           49  Hurricane\n501 1965-06-19 00:00:00+00:00  1965    TX           49    Tornado\n502 1965-06-19 00:00:00+00:00  1965    TX           49    Tornado\n503 1965-06-19 00:00:00+00:00  1965    TX           49    Tornado\n504 1965-06-19 00:00:00+00:00  1965    TX           49    Tornado\n505 1965-06-19 00:00:00+00:00  1965    TX           49    Tornado\n507 1965-06-19 00:00:00+00:00  1965    TX           49    Tornado\n508 1965-06-19 00:00:00+00:00  1965    TX           49    Tornado\n708 1966-05-12 00:00:00+00:00  1966    TX           49      Flood\n709 1966-05-12 00:00:00+00:00  1966    TX           49      Flood\n710 1966-05-12 00:00:00+00:00  1966    TX           49      Flood\n711 1966-05-12 00:00:00+00:00  1966    TX           49      Flood\n712 1966-05-12 00:00:00+00:00  1966    TX           49      Flood\n713 1966-05-12 00:00:00+00:00  1966    TX           49      Flood\n714 1966-05-12 00:00:00+00:00  1966    TX           49      Flood\n715 1966-05-12 00:00:00+00:00  1966    TX           49      Flood\n716 1966-05-12 00:00:00+00:00  1966    TX           49      Flood\n717 1966-05-12 00:00:00+00:00  1966    TX           49      Flood\n718 1966-05-12 00:00:00+00:00  1966    TX           49      Flood\n719 1966-05-12 00:00:00+00:00  1966    TX           49      Flood\n720 1966-05-12 00:00:00+00:00  1966    TX           49      Flood\n721 1966-05-12 00:00:00+00:00  1966    TX           49      Flood\n722 1966-05-12 00:00:00+00:00  1966    TX           49      Flood",
            "text/html": "<div>\n<style scoped>\n    .dataframe tbody tr th:only-of-type {\n        vertical-align: middle;\n    }\n\n    .dataframe tbody tr th {\n        vertical-align: top;\n    }\n\n    .dataframe thead th {\n        text-align: right;\n    }\n</style>\n<table border=\"1\" class=\"dataframe\">\n  <thead>\n    <tr style=\"text-align: right;\">\n      <th></th>\n      <th>Date</th>\n      <th>Year</th>\n      <th>State</th>\n      <th>State_Label</th>\n      <th>Calamity</th>\n    </tr>\n  </thead>\n  <tbody>\n    <tr>\n      <th>1</th>\n      <td>1953-05-15 00:00:00+00:00</td>\n      <td>1953</td>\n      <td>TX</td>\n      <td>49</td>\n      <td>Tornado</td>\n    </tr>\n    <tr>\n      <th>8</th>\n      <td>1953-06-19 00:00:00+00:00</td>\n      <td>1953</td>\n      <td>TX</td>\n      <td>49</td>\n      <td>Flood</td>\n    </tr>\n    <tr>\n      <th>14</th>\n      <td>1954-07-01 00:00:00+00:00</td>\n      <td>1954</td>\n      <td>TX</td>\n      <td>49</td>\n      <td>Flood</td>\n    </tr>\n    <tr>\n      <th>60</th>\n      <td>1957-04-29 00:00:00+00:00</td>\n      <td>1957</td>\n      <td>TX</td>\n      <td>49</td>\n      <td>Hurricane</td>\n    </tr>\n    <tr>\n      <th>73</th>\n      <td>1958-06-06 00:00:00+00:00</td>\n      <td>1958</td>\n      <td>TX</td>\n      <td>49</td>\n      <td>Tornado</td>\n    </tr>\n    <tr>\n      <th>81</th>\n      <td>1959-07-08 00:00:00+00:00</td>\n      <td>1959</td>\n      <td>TX</td>\n      <td>49</td>\n      <td>Flood</td>\n    </tr>\n    <tr>\n      <th>101</th>\n      <td>1961-09-16 00:00:00+00:00</td>\n      <td>1961</td>\n      <td>TX</td>\n      <td>49</td>\n      <td>Hurricane</td>\n    </tr>\n    <tr>\n      <th>134</th>\n      <td>1963-09-24 00:00:00+00:00</td>\n      <td>1963</td>\n      <td>TX</td>\n      <td>49</td>\n      <td>Hurricane</td>\n    </tr>\n    <tr>\n      <th>501</th>\n      <td>1965-06-19 00:00:00+00:00</td>\n      <td>1965</td>\n      <td>TX</td>\n      <td>49</td>\n      <td>Tornado</td>\n    </tr>\n    <tr>\n      <th>502</th>\n      <td>1965-06-19 00:00:00+00:00</td>\n      <td>1965</td>\n      <td>TX</td>\n      <td>49</td>\n      <td>Tornado</td>\n    </tr>\n    <tr>\n      <th>503</th>\n      <td>1965-06-19 00:00:00+00:00</td>\n      <td>1965</td>\n      <td>TX</td>\n      <td>49</td>\n      <td>Tornado</td>\n    </tr>\n    <tr>\n      <th>504</th>\n      <td>1965-06-19 00:00:00+00:00</td>\n      <td>1965</td>\n      <td>TX</td>\n      <td>49</td>\n      <td>Tornado</td>\n    </tr>\n    <tr>\n      <th>505</th>\n      <td>1965-06-19 00:00:00+00:00</td>\n      <td>1965</td>\n      <td>TX</td>\n      <td>49</td>\n      <td>Tornado</td>\n    </tr>\n    <tr>\n      <th>507</th>\n      <td>1965-06-19 00:00:00+00:00</td>\n      <td>1965</td>\n      <td>TX</td>\n      <td>49</td>\n      <td>Tornado</td>\n    </tr>\n    <tr>\n      <th>508</th>\n      <td>1965-06-19 00:00:00+00:00</td>\n      <td>1965</td>\n      <td>TX</td>\n      <td>49</td>\n      <td>Tornado</td>\n    </tr>\n    <tr>\n      <th>708</th>\n      <td>1966-05-12 00:00:00+00:00</td>\n      <td>1966</td>\n      <td>TX</td>\n      <td>49</td>\n      <td>Flood</td>\n    </tr>\n    <tr>\n      <th>709</th>\n      <td>1966-05-12 00:00:00+00:00</td>\n      <td>1966</td>\n      <td>TX</td>\n      <td>49</td>\n      <td>Flood</td>\n    </tr>\n    <tr>\n      <th>710</th>\n      <td>1966-05-12 00:00:00+00:00</td>\n      <td>1966</td>\n      <td>TX</td>\n      <td>49</td>\n      <td>Flood</td>\n    </tr>\n    <tr>\n      <th>711</th>\n      <td>1966-05-12 00:00:00+00:00</td>\n      <td>1966</td>\n      <td>TX</td>\n      <td>49</td>\n      <td>Flood</td>\n    </tr>\n    <tr>\n      <th>712</th>\n      <td>1966-05-12 00:00:00+00:00</td>\n      <td>1966</td>\n      <td>TX</td>\n      <td>49</td>\n      <td>Flood</td>\n    </tr>\n    <tr>\n      <th>713</th>\n      <td>1966-05-12 00:00:00+00:00</td>\n      <td>1966</td>\n      <td>TX</td>\n      <td>49</td>\n      <td>Flood</td>\n    </tr>\n    <tr>\n      <th>714</th>\n      <td>1966-05-12 00:00:00+00:00</td>\n      <td>1966</td>\n      <td>TX</td>\n      <td>49</td>\n      <td>Flood</td>\n    </tr>\n    <tr>\n      <th>715</th>\n      <td>1966-05-12 00:00:00+00:00</td>\n      <td>1966</td>\n      <td>TX</td>\n      <td>49</td>\n      <td>Flood</td>\n    </tr>\n    <tr>\n      <th>716</th>\n      <td>1966-05-12 00:00:00+00:00</td>\n      <td>1966</td>\n      <td>TX</td>\n      <td>49</td>\n      <td>Flood</td>\n    </tr>\n    <tr>\n      <th>717</th>\n      <td>1966-05-12 00:00:00+00:00</td>\n      <td>1966</td>\n      <td>TX</td>\n      <td>49</td>\n      <td>Flood</td>\n    </tr>\n    <tr>\n      <th>718</th>\n      <td>1966-05-12 00:00:00+00:00</td>\n      <td>1966</td>\n      <td>TX</td>\n      <td>49</td>\n      <td>Flood</td>\n    </tr>\n    <tr>\n      <th>719</th>\n      <td>1966-05-12 00:00:00+00:00</td>\n      <td>1966</td>\n      <td>TX</td>\n      <td>49</td>\n      <td>Flood</td>\n    </tr>\n    <tr>\n      <th>720</th>\n      <td>1966-05-12 00:00:00+00:00</td>\n      <td>1966</td>\n      <td>TX</td>\n      <td>49</td>\n      <td>Flood</td>\n    </tr>\n    <tr>\n      <th>721</th>\n      <td>1966-05-12 00:00:00+00:00</td>\n      <td>1966</td>\n      <td>TX</td>\n      <td>49</td>\n      <td>Flood</td>\n    </tr>\n    <tr>\n      <th>722</th>\n      <td>1966-05-12 00:00:00+00:00</td>\n      <td>1966</td>\n      <td>TX</td>\n      <td>49</td>\n      <td>Flood</td>\n    </tr>\n  </tbody>\n</table>\n</div>"
          },
          "metadata": {}
        }
      ],
      "execution_count": null,
      "metadata": {
        "jupyter": {
          "source_hidden": false,
          "outputs_hidden": false
        },
        "nteract": {
          "transient": {
            "deleting": false
          }
        },
        "gather": {
          "logged": 1648823783855
        },
        "id": "9liCH3yLt3hi",
        "outputId": "ef51f73f-46eb-4faf-ff12-24005d38fb3e"
      }
    },
    {
      "cell_type": "code",
      "source": [
        "df_TX.info()"
      ],
      "outputs": [
        {
          "output_type": "stream",
          "name": "stdout",
          "text": "<class 'pandas.core.frame.DataFrame'>\nInt64Index: 1856 entries, 1 to 24037\nData columns (total 5 columns):\n #   Column       Non-Null Count  Dtype              \n---  ------       --------------  -----              \n 0   Date         1856 non-null   datetime64[ns, UTC]\n 1   Year         1856 non-null   int64              \n 2   State        1856 non-null   object             \n 3   State_Label  1856 non-null   int64              \n 4   Calamity     1856 non-null   object             \ndtypes: datetime64[ns, UTC](1), int64(2), object(2)\nmemory usage: 87.0+ KB\n"
        }
      ],
      "execution_count": null,
      "metadata": {
        "jupyter": {
          "source_hidden": false,
          "outputs_hidden": false
        },
        "nteract": {
          "transient": {
            "deleting": false
          }
        },
        "gather": {
          "logged": 1648823788836
        },
        "id": "kDWhX6YPt3hi",
        "outputId": "06ea983f-f582-4ecf-b6b0-abb7a5075222"
      }
    },
    {
      "cell_type": "code",
      "source": [
        "df_TX['Date'].unique"
      ],
      "outputs": [
        {
          "output_type": "execute_result",
          "execution_count": 6,
          "data": {
            "text/plain": "<bound method Series.unique of 1       1953-05-15 00:00:00+00:00\n8       1953-06-19 00:00:00+00:00\n14      1954-07-01 00:00:00+00:00\n60      1957-04-29 00:00:00+00:00\n73      1958-06-06 00:00:00+00:00\n                   ...           \n24033   2020-08-23 00:00:00+00:00\n24034   2020-08-23 00:00:00+00:00\n24035   2020-08-23 00:00:00+00:00\n24036   2020-08-23 00:00:00+00:00\n24037   2020-08-23 00:00:00+00:00\nName: Date, Length: 1856, dtype: datetime64[ns, UTC]>"
          },
          "metadata": {}
        }
      ],
      "execution_count": null,
      "metadata": {
        "jupyter": {
          "source_hidden": false,
          "outputs_hidden": false
        },
        "nteract": {
          "transient": {
            "deleting": false
          }
        },
        "gather": {
          "logged": 1648823791812
        },
        "id": "DhbFnSyot3hj",
        "outputId": "a9af40e2-bcda-4a31-d9f7-17a1d5d00666"
      }
    },
    {
      "cell_type": "code",
      "source": [
        "df_TX.drop_duplicates(inplace=True)"
      ],
      "outputs": [
        {
          "output_type": "stream",
          "name": "stderr",
          "text": "<ipython-input-7-8287c33e70c1>:1: SettingWithCopyWarning: \nA value is trying to be set on a copy of a slice from a DataFrame\n\nSee the caveats in the documentation: https://pandas.pydata.org/pandas-docs/stable/user_guide/indexing.html#returning-a-view-versus-a-copy\n  df_TX.drop_duplicates(inplace=True)\n"
        }
      ],
      "execution_count": null,
      "metadata": {
        "jupyter": {
          "source_hidden": false,
          "outputs_hidden": false
        },
        "nteract": {
          "transient": {
            "deleting": false
          }
        },
        "gather": {
          "logged": 1648823795001
        },
        "id": "bLxDA_EDt3hk",
        "outputId": "27b6f3a6-a20c-41c5-d8c9-ab7863fbe8e9"
      }
    },
    {
      "cell_type": "code",
      "source": [
        "df_TX.head(30)"
      ],
      "outputs": [
        {
          "output_type": "execute_result",
          "execution_count": 12,
          "data": {
            "text/plain": "                          Date  Year State  State_Label   Calamity\n1    1953-05-15 00:00:00+00:00  1953    TX           49    Tornado\n8    1953-06-19 00:00:00+00:00  1953    TX           49      Flood\n14   1954-07-01 00:00:00+00:00  1954    TX           49      Flood\n60   1957-04-29 00:00:00+00:00  1957    TX           49  Hurricane\n73   1958-06-06 00:00:00+00:00  1958    TX           49    Tornado\n81   1959-07-08 00:00:00+00:00  1959    TX           49      Flood\n101  1961-09-16 00:00:00+00:00  1961    TX           49  Hurricane\n134  1963-09-24 00:00:00+00:00  1963    TX           49  Hurricane\n501  1965-06-19 00:00:00+00:00  1965    TX           49    Tornado\n708  1966-05-12 00:00:00+00:00  1966    TX           49      Flood\n752  1966-09-27 00:00:00+00:00  1966    TX           49      Flood\n908  1967-09-28 00:00:00+00:00  1967    TX           49  Hurricane\n1022 1968-06-10 00:00:00+00:00  1968    TX           49      Flood\n1030 1968-07-05 00:00:00+00:00  1968    TX           49      Flood\n1627 1970-05-13 00:00:00+00:00  1970    TX           49    Tornado\n1690 1970-08-04 00:00:00+00:00  1970    TX           49  Hurricane\n1902 1971-09-18 00:00:00+00:00  1971    TX           49      Flood\n1977 1972-01-27 00:00:00+00:00  1972    TX           49      Flood\n2057 1972-05-20 00:00:00+00:00  1972    TX           49      Flood\n2885 1973-06-25 00:00:00+00:00  1973    TX           49      Flood\n2940 1973-07-11 00:00:00+00:00  1973    TX           49      Flood\n3576 1974-11-30 00:00:00+00:00  1975    TX           49      Flood\n3647 1975-02-15 00:00:00+00:00  1975    TX           49      Flood\n3736 1975-04-01 00:00:00+00:00  1975    TX           49    Tornado\n4091 1976-06-19 00:00:00+00:00  1976    TX           49      Flood\n4461 1978-08-03 00:00:00+00:00  1978    TX           49      Flood\n4559 1979-04-11 00:00:00+00:00  1979    TX           49    Tornado\n4711 1979-06-14 00:00:00+00:00  1979    TX           49      Flood\n4732 1979-07-28 00:00:00+00:00  1979    TX           49      Flood\n4863 1979-09-25 00:00:00+00:00  1979    TX           49      Flood",
            "text/html": "<div>\n<style scoped>\n    .dataframe tbody tr th:only-of-type {\n        vertical-align: middle;\n    }\n\n    .dataframe tbody tr th {\n        vertical-align: top;\n    }\n\n    .dataframe thead th {\n        text-align: right;\n    }\n</style>\n<table border=\"1\" class=\"dataframe\">\n  <thead>\n    <tr style=\"text-align: right;\">\n      <th></th>\n      <th>Date</th>\n      <th>Year</th>\n      <th>State</th>\n      <th>State_Label</th>\n      <th>Calamity</th>\n    </tr>\n  </thead>\n  <tbody>\n    <tr>\n      <th>1</th>\n      <td>1953-05-15 00:00:00+00:00</td>\n      <td>1953</td>\n      <td>TX</td>\n      <td>49</td>\n      <td>Tornado</td>\n    </tr>\n    <tr>\n      <th>8</th>\n      <td>1953-06-19 00:00:00+00:00</td>\n      <td>1953</td>\n      <td>TX</td>\n      <td>49</td>\n      <td>Flood</td>\n    </tr>\n    <tr>\n      <th>14</th>\n      <td>1954-07-01 00:00:00+00:00</td>\n      <td>1954</td>\n      <td>TX</td>\n      <td>49</td>\n      <td>Flood</td>\n    </tr>\n    <tr>\n      <th>60</th>\n      <td>1957-04-29 00:00:00+00:00</td>\n      <td>1957</td>\n      <td>TX</td>\n      <td>49</td>\n      <td>Hurricane</td>\n    </tr>\n    <tr>\n      <th>73</th>\n      <td>1958-06-06 00:00:00+00:00</td>\n      <td>1958</td>\n      <td>TX</td>\n      <td>49</td>\n      <td>Tornado</td>\n    </tr>\n    <tr>\n      <th>81</th>\n      <td>1959-07-08 00:00:00+00:00</td>\n      <td>1959</td>\n      <td>TX</td>\n      <td>49</td>\n      <td>Flood</td>\n    </tr>\n    <tr>\n      <th>101</th>\n      <td>1961-09-16 00:00:00+00:00</td>\n      <td>1961</td>\n      <td>TX</td>\n      <td>49</td>\n      <td>Hurricane</td>\n    </tr>\n    <tr>\n      <th>134</th>\n      <td>1963-09-24 00:00:00+00:00</td>\n      <td>1963</td>\n      <td>TX</td>\n      <td>49</td>\n      <td>Hurricane</td>\n    </tr>\n    <tr>\n      <th>501</th>\n      <td>1965-06-19 00:00:00+00:00</td>\n      <td>1965</td>\n      <td>TX</td>\n      <td>49</td>\n      <td>Tornado</td>\n    </tr>\n    <tr>\n      <th>708</th>\n      <td>1966-05-12 00:00:00+00:00</td>\n      <td>1966</td>\n      <td>TX</td>\n      <td>49</td>\n      <td>Flood</td>\n    </tr>\n    <tr>\n      <th>752</th>\n      <td>1966-09-27 00:00:00+00:00</td>\n      <td>1966</td>\n      <td>TX</td>\n      <td>49</td>\n      <td>Flood</td>\n    </tr>\n    <tr>\n      <th>908</th>\n      <td>1967-09-28 00:00:00+00:00</td>\n      <td>1967</td>\n      <td>TX</td>\n      <td>49</td>\n      <td>Hurricane</td>\n    </tr>\n    <tr>\n      <th>1022</th>\n      <td>1968-06-10 00:00:00+00:00</td>\n      <td>1968</td>\n      <td>TX</td>\n      <td>49</td>\n      <td>Flood</td>\n    </tr>\n    <tr>\n      <th>1030</th>\n      <td>1968-07-05 00:00:00+00:00</td>\n      <td>1968</td>\n      <td>TX</td>\n      <td>49</td>\n      <td>Flood</td>\n    </tr>\n    <tr>\n      <th>1627</th>\n      <td>1970-05-13 00:00:00+00:00</td>\n      <td>1970</td>\n      <td>TX</td>\n      <td>49</td>\n      <td>Tornado</td>\n    </tr>\n    <tr>\n      <th>1690</th>\n      <td>1970-08-04 00:00:00+00:00</td>\n      <td>1970</td>\n      <td>TX</td>\n      <td>49</td>\n      <td>Hurricane</td>\n    </tr>\n    <tr>\n      <th>1902</th>\n      <td>1971-09-18 00:00:00+00:00</td>\n      <td>1971</td>\n      <td>TX</td>\n      <td>49</td>\n      <td>Flood</td>\n    </tr>\n    <tr>\n      <th>1977</th>\n      <td>1972-01-27 00:00:00+00:00</td>\n      <td>1972</td>\n      <td>TX</td>\n      <td>49</td>\n      <td>Flood</td>\n    </tr>\n    <tr>\n      <th>2057</th>\n      <td>1972-05-20 00:00:00+00:00</td>\n      <td>1972</td>\n      <td>TX</td>\n      <td>49</td>\n      <td>Flood</td>\n    </tr>\n    <tr>\n      <th>2885</th>\n      <td>1973-06-25 00:00:00+00:00</td>\n      <td>1973</td>\n      <td>TX</td>\n      <td>49</td>\n      <td>Flood</td>\n    </tr>\n    <tr>\n      <th>2940</th>\n      <td>1973-07-11 00:00:00+00:00</td>\n      <td>1973</td>\n      <td>TX</td>\n      <td>49</td>\n      <td>Flood</td>\n    </tr>\n    <tr>\n      <th>3576</th>\n      <td>1974-11-30 00:00:00+00:00</td>\n      <td>1975</td>\n      <td>TX</td>\n      <td>49</td>\n      <td>Flood</td>\n    </tr>\n    <tr>\n      <th>3647</th>\n      <td>1975-02-15 00:00:00+00:00</td>\n      <td>1975</td>\n      <td>TX</td>\n      <td>49</td>\n      <td>Flood</td>\n    </tr>\n    <tr>\n      <th>3736</th>\n      <td>1975-04-01 00:00:00+00:00</td>\n      <td>1975</td>\n      <td>TX</td>\n      <td>49</td>\n      <td>Tornado</td>\n    </tr>\n    <tr>\n      <th>4091</th>\n      <td>1976-06-19 00:00:00+00:00</td>\n      <td>1976</td>\n      <td>TX</td>\n      <td>49</td>\n      <td>Flood</td>\n    </tr>\n    <tr>\n      <th>4461</th>\n      <td>1978-08-03 00:00:00+00:00</td>\n      <td>1978</td>\n      <td>TX</td>\n      <td>49</td>\n      <td>Flood</td>\n    </tr>\n    <tr>\n      <th>4559</th>\n      <td>1979-04-11 00:00:00+00:00</td>\n      <td>1979</td>\n      <td>TX</td>\n      <td>49</td>\n      <td>Tornado</td>\n    </tr>\n    <tr>\n      <th>4711</th>\n      <td>1979-06-14 00:00:00+00:00</td>\n      <td>1979</td>\n      <td>TX</td>\n      <td>49</td>\n      <td>Flood</td>\n    </tr>\n    <tr>\n      <th>4732</th>\n      <td>1979-07-28 00:00:00+00:00</td>\n      <td>1979</td>\n      <td>TX</td>\n      <td>49</td>\n      <td>Flood</td>\n    </tr>\n    <tr>\n      <th>4863</th>\n      <td>1979-09-25 00:00:00+00:00</td>\n      <td>1979</td>\n      <td>TX</td>\n      <td>49</td>\n      <td>Flood</td>\n    </tr>\n  </tbody>\n</table>\n</div>"
          },
          "metadata": {}
        }
      ],
      "execution_count": null,
      "metadata": {
        "jupyter": {
          "source_hidden": false,
          "outputs_hidden": false
        },
        "nteract": {
          "transient": {
            "deleting": false
          }
        },
        "gather": {
          "logged": 1648655274501
        },
        "id": "Bj9FuFqFt3hl",
        "outputId": "bdd1d1a5-48a7-4ed6-bfba-7edbe19a55aa"
      }
    },
    {
      "cell_type": "code",
      "source": [
        "df_TX.info()"
      ],
      "outputs": [
        {
          "output_type": "stream",
          "name": "stdout",
          "text": "<class 'pandas.core.frame.DataFrame'>\nInt64Index: 78 entries, 1 to 24033\nData columns (total 5 columns):\n #   Column       Non-Null Count  Dtype              \n---  ------       --------------  -----              \n 0   Date         78 non-null     datetime64[ns, UTC]\n 1   Year         78 non-null     int64              \n 2   State        78 non-null     object             \n 3   State_Label  78 non-null     int64              \n 4   Calamity     78 non-null     object             \ndtypes: datetime64[ns, UTC](1), int64(2), object(2)\nmemory usage: 3.7+ KB\n"
        }
      ],
      "execution_count": null,
      "metadata": {
        "jupyter": {
          "source_hidden": false,
          "outputs_hidden": false
        },
        "nteract": {
          "transient": {
            "deleting": false
          }
        },
        "gather": {
          "logged": 1648823798940
        },
        "id": "cWJlHPHrt3hl",
        "outputId": "cff63cad-58e6-4d73-d351-567737dc37c3"
      }
    },
    {
      "cell_type": "code",
      "source": [
        "df_TX.drop(['Year','State','State_Label'], axis = 1, inplace=True)\n",
        "df_TX.head()"
      ],
      "outputs": [
        {
          "output_type": "stream",
          "name": "stderr",
          "text": "<ipython-input-9-742f7502681b>:1: SettingWithCopyWarning: \nA value is trying to be set on a copy of a slice from a DataFrame\n\nSee the caveats in the documentation: https://pandas.pydata.org/pandas-docs/stable/user_guide/indexing.html#returning-a-view-versus-a-copy\n  df_TX.drop(['Year','State','State_Label'], axis = 1, inplace=True)\n"
        },
        {
          "output_type": "execute_result",
          "execution_count": 9,
          "data": {
            "text/plain": "                        Date   Calamity\n1  1953-05-15 00:00:00+00:00    Tornado\n8  1953-06-19 00:00:00+00:00      Flood\n14 1954-07-01 00:00:00+00:00      Flood\n60 1957-04-29 00:00:00+00:00  Hurricane\n73 1958-06-06 00:00:00+00:00    Tornado",
            "text/html": "<div>\n<style scoped>\n    .dataframe tbody tr th:only-of-type {\n        vertical-align: middle;\n    }\n\n    .dataframe tbody tr th {\n        vertical-align: top;\n    }\n\n    .dataframe thead th {\n        text-align: right;\n    }\n</style>\n<table border=\"1\" class=\"dataframe\">\n  <thead>\n    <tr style=\"text-align: right;\">\n      <th></th>\n      <th>Date</th>\n      <th>Calamity</th>\n    </tr>\n  </thead>\n  <tbody>\n    <tr>\n      <th>1</th>\n      <td>1953-05-15 00:00:00+00:00</td>\n      <td>Tornado</td>\n    </tr>\n    <tr>\n      <th>8</th>\n      <td>1953-06-19 00:00:00+00:00</td>\n      <td>Flood</td>\n    </tr>\n    <tr>\n      <th>14</th>\n      <td>1954-07-01 00:00:00+00:00</td>\n      <td>Flood</td>\n    </tr>\n    <tr>\n      <th>60</th>\n      <td>1957-04-29 00:00:00+00:00</td>\n      <td>Hurricane</td>\n    </tr>\n    <tr>\n      <th>73</th>\n      <td>1958-06-06 00:00:00+00:00</td>\n      <td>Tornado</td>\n    </tr>\n  </tbody>\n</table>\n</div>"
          },
          "metadata": {}
        }
      ],
      "execution_count": null,
      "metadata": {
        "jupyter": {
          "source_hidden": false,
          "outputs_hidden": false
        },
        "nteract": {
          "transient": {
            "deleting": false
          }
        },
        "gather": {
          "logged": 1648823801920
        },
        "id": "hI2W0V6Ht3hm",
        "outputId": "54eb66c6-b8cc-416a-8003-c318420ceb55"
      }
    },
    {
      "cell_type": "code",
      "source": [
        "df_TX = pd.get_dummies(df_TX, columns=['Calamity'])\n",
        "df_TX.head(10)"
      ],
      "outputs": [
        {
          "output_type": "execute_result",
          "execution_count": 10,
          "data": {
            "text/plain": "                         Date  Calamity_Flood  Calamity_Hurricane  \\\n1   1953-05-15 00:00:00+00:00               0                   0   \n8   1953-06-19 00:00:00+00:00               1                   0   \n14  1954-07-01 00:00:00+00:00               1                   0   \n60  1957-04-29 00:00:00+00:00               0                   1   \n73  1958-06-06 00:00:00+00:00               0                   0   \n81  1959-07-08 00:00:00+00:00               1                   0   \n101 1961-09-16 00:00:00+00:00               0                   1   \n134 1963-09-24 00:00:00+00:00               0                   1   \n501 1965-06-19 00:00:00+00:00               0                   0   \n708 1966-05-12 00:00:00+00:00               1                   0   \n\n     Calamity_Tornado  \n1                   1  \n8                   0  \n14                  0  \n60                  0  \n73                  1  \n81                  0  \n101                 0  \n134                 0  \n501                 1  \n708                 0  ",
            "text/html": "<div>\n<style scoped>\n    .dataframe tbody tr th:only-of-type {\n        vertical-align: middle;\n    }\n\n    .dataframe tbody tr th {\n        vertical-align: top;\n    }\n\n    .dataframe thead th {\n        text-align: right;\n    }\n</style>\n<table border=\"1\" class=\"dataframe\">\n  <thead>\n    <tr style=\"text-align: right;\">\n      <th></th>\n      <th>Date</th>\n      <th>Calamity_Flood</th>\n      <th>Calamity_Hurricane</th>\n      <th>Calamity_Tornado</th>\n    </tr>\n  </thead>\n  <tbody>\n    <tr>\n      <th>1</th>\n      <td>1953-05-15 00:00:00+00:00</td>\n      <td>0</td>\n      <td>0</td>\n      <td>1</td>\n    </tr>\n    <tr>\n      <th>8</th>\n      <td>1953-06-19 00:00:00+00:00</td>\n      <td>1</td>\n      <td>0</td>\n      <td>0</td>\n    </tr>\n    <tr>\n      <th>14</th>\n      <td>1954-07-01 00:00:00+00:00</td>\n      <td>1</td>\n      <td>0</td>\n      <td>0</td>\n    </tr>\n    <tr>\n      <th>60</th>\n      <td>1957-04-29 00:00:00+00:00</td>\n      <td>0</td>\n      <td>1</td>\n      <td>0</td>\n    </tr>\n    <tr>\n      <th>73</th>\n      <td>1958-06-06 00:00:00+00:00</td>\n      <td>0</td>\n      <td>0</td>\n      <td>1</td>\n    </tr>\n    <tr>\n      <th>81</th>\n      <td>1959-07-08 00:00:00+00:00</td>\n      <td>1</td>\n      <td>0</td>\n      <td>0</td>\n    </tr>\n    <tr>\n      <th>101</th>\n      <td>1961-09-16 00:00:00+00:00</td>\n      <td>0</td>\n      <td>1</td>\n      <td>0</td>\n    </tr>\n    <tr>\n      <th>134</th>\n      <td>1963-09-24 00:00:00+00:00</td>\n      <td>0</td>\n      <td>1</td>\n      <td>0</td>\n    </tr>\n    <tr>\n      <th>501</th>\n      <td>1965-06-19 00:00:00+00:00</td>\n      <td>0</td>\n      <td>0</td>\n      <td>1</td>\n    </tr>\n    <tr>\n      <th>708</th>\n      <td>1966-05-12 00:00:00+00:00</td>\n      <td>1</td>\n      <td>0</td>\n      <td>0</td>\n    </tr>\n  </tbody>\n</table>\n</div>"
          },
          "metadata": {}
        }
      ],
      "execution_count": null,
      "metadata": {
        "jupyter": {
          "source_hidden": false,
          "outputs_hidden": false
        },
        "nteract": {
          "transient": {
            "deleting": false
          }
        },
        "gather": {
          "logged": 1648823804480
        },
        "id": "e01UlGzvt3hn",
        "outputId": "09f29d6e-96f5-4c1f-f6ac-38d7da935a7a"
      }
    },
    {
      "cell_type": "code",
      "source": [
        "df_TX =df_TX.set_index('Date')\n",
        "df_TX.head()"
      ],
      "outputs": [
        {
          "output_type": "execute_result",
          "execution_count": 11,
          "data": {
            "text/plain": "                           Calamity_Flood  Calamity_Hurricane  \\\nDate                                                            \n1953-05-15 00:00:00+00:00               0                   0   \n1953-06-19 00:00:00+00:00               1                   0   \n1954-07-01 00:00:00+00:00               1                   0   \n1957-04-29 00:00:00+00:00               0                   1   \n1958-06-06 00:00:00+00:00               0                   0   \n\n                           Calamity_Tornado  \nDate                                         \n1953-05-15 00:00:00+00:00                 1  \n1953-06-19 00:00:00+00:00                 0  \n1954-07-01 00:00:00+00:00                 0  \n1957-04-29 00:00:00+00:00                 0  \n1958-06-06 00:00:00+00:00                 1  ",
            "text/html": "<div>\n<style scoped>\n    .dataframe tbody tr th:only-of-type {\n        vertical-align: middle;\n    }\n\n    .dataframe tbody tr th {\n        vertical-align: top;\n    }\n\n    .dataframe thead th {\n        text-align: right;\n    }\n</style>\n<table border=\"1\" class=\"dataframe\">\n  <thead>\n    <tr style=\"text-align: right;\">\n      <th></th>\n      <th>Calamity_Flood</th>\n      <th>Calamity_Hurricane</th>\n      <th>Calamity_Tornado</th>\n    </tr>\n    <tr>\n      <th>Date</th>\n      <th></th>\n      <th></th>\n      <th></th>\n    </tr>\n  </thead>\n  <tbody>\n    <tr>\n      <th>1953-05-15 00:00:00+00:00</th>\n      <td>0</td>\n      <td>0</td>\n      <td>1</td>\n    </tr>\n    <tr>\n      <th>1953-06-19 00:00:00+00:00</th>\n      <td>1</td>\n      <td>0</td>\n      <td>0</td>\n    </tr>\n    <tr>\n      <th>1954-07-01 00:00:00+00:00</th>\n      <td>1</td>\n      <td>0</td>\n      <td>0</td>\n    </tr>\n    <tr>\n      <th>1957-04-29 00:00:00+00:00</th>\n      <td>0</td>\n      <td>1</td>\n      <td>0</td>\n    </tr>\n    <tr>\n      <th>1958-06-06 00:00:00+00:00</th>\n      <td>0</td>\n      <td>0</td>\n      <td>1</td>\n    </tr>\n  </tbody>\n</table>\n</div>"
          },
          "metadata": {}
        }
      ],
      "execution_count": null,
      "metadata": {
        "jupyter": {
          "source_hidden": false,
          "outputs_hidden": false
        },
        "nteract": {
          "transient": {
            "deleting": false
          }
        },
        "gather": {
          "logged": 1648823808815
        },
        "id": "2GxscEfEt3ho",
        "outputId": "e6b99c35-cda3-4efc-decc-8b67bcb5a631"
      }
    },
    {
      "cell_type": "code",
      "source": [
        "df3 = df_TX.resample('M').mean()\n",
        "df3.head()"
      ],
      "outputs": [
        {
          "output_type": "execute_result",
          "execution_count": 12,
          "data": {
            "text/plain": "                           Calamity_Flood  Calamity_Hurricane  \\\nDate                                                            \n1953-05-31 00:00:00+00:00             0.0                 0.0   \n1953-06-30 00:00:00+00:00             1.0                 0.0   \n1953-07-31 00:00:00+00:00             NaN                 NaN   \n1953-08-31 00:00:00+00:00             NaN                 NaN   \n1953-09-30 00:00:00+00:00             NaN                 NaN   \n\n                           Calamity_Tornado  \nDate                                         \n1953-05-31 00:00:00+00:00               1.0  \n1953-06-30 00:00:00+00:00               0.0  \n1953-07-31 00:00:00+00:00               NaN  \n1953-08-31 00:00:00+00:00               NaN  \n1953-09-30 00:00:00+00:00               NaN  ",
            "text/html": "<div>\n<style scoped>\n    .dataframe tbody tr th:only-of-type {\n        vertical-align: middle;\n    }\n\n    .dataframe tbody tr th {\n        vertical-align: top;\n    }\n\n    .dataframe thead th {\n        text-align: right;\n    }\n</style>\n<table border=\"1\" class=\"dataframe\">\n  <thead>\n    <tr style=\"text-align: right;\">\n      <th></th>\n      <th>Calamity_Flood</th>\n      <th>Calamity_Hurricane</th>\n      <th>Calamity_Tornado</th>\n    </tr>\n    <tr>\n      <th>Date</th>\n      <th></th>\n      <th></th>\n      <th></th>\n    </tr>\n  </thead>\n  <tbody>\n    <tr>\n      <th>1953-05-31 00:00:00+00:00</th>\n      <td>0.0</td>\n      <td>0.0</td>\n      <td>1.0</td>\n    </tr>\n    <tr>\n      <th>1953-06-30 00:00:00+00:00</th>\n      <td>1.0</td>\n      <td>0.0</td>\n      <td>0.0</td>\n    </tr>\n    <tr>\n      <th>1953-07-31 00:00:00+00:00</th>\n      <td>NaN</td>\n      <td>NaN</td>\n      <td>NaN</td>\n    </tr>\n    <tr>\n      <th>1953-08-31 00:00:00+00:00</th>\n      <td>NaN</td>\n      <td>NaN</td>\n      <td>NaN</td>\n    </tr>\n    <tr>\n      <th>1953-09-30 00:00:00+00:00</th>\n      <td>NaN</td>\n      <td>NaN</td>\n      <td>NaN</td>\n    </tr>\n  </tbody>\n</table>\n</div>"
          },
          "metadata": {}
        }
      ],
      "execution_count": null,
      "metadata": {
        "jupyter": {
          "source_hidden": false,
          "outputs_hidden": false
        },
        "nteract": {
          "transient": {
            "deleting": false
          }
        },
        "gather": {
          "logged": 1648823811907
        },
        "id": "QUgYhTjBt3hp",
        "outputId": "ccb9486c-22d2-4afb-cbd9-86b09ecbcde1"
      }
    },
    {
      "cell_type": "code",
      "source": [
        "df3.isnull().sum()"
      ],
      "outputs": [
        {
          "output_type": "execute_result",
          "execution_count": 13,
          "data": {
            "text/plain": "Calamity_Flood        733\nCalamity_Hurricane    733\nCalamity_Tornado      733\ndtype: int64"
          },
          "metadata": {}
        }
      ],
      "execution_count": null,
      "metadata": {
        "jupyter": {
          "source_hidden": false,
          "outputs_hidden": false
        },
        "nteract": {
          "transient": {
            "deleting": false
          }
        },
        "gather": {
          "logged": 1648823816827
        },
        "id": "bc02FvaOt3hp",
        "outputId": "0d8b89ea-2b5b-4a38-e680-334c516b6299"
      }
    },
    {
      "cell_type": "code",
      "source": [
        "df3['Calamity_Flood'] = df3['Calamity_Flood'].fillna(0)\n",
        "df3['Calamity_Hurricane'] = df3['Calamity_Hurricane'].fillna(0)\n",
        "df3['Calamity_Tornado'] = df3['Calamity_Tornado'].fillna(0)\n",
        "df3.head(10)"
      ],
      "outputs": [
        {
          "output_type": "execute_result",
          "execution_count": 14,
          "data": {
            "text/plain": "                           Calamity_Flood  Calamity_Hurricane  \\\nDate                                                            \n1953-05-31 00:00:00+00:00             0.0                 0.0   \n1953-06-30 00:00:00+00:00             1.0                 0.0   \n1953-07-31 00:00:00+00:00             0.0                 0.0   \n1953-08-31 00:00:00+00:00             0.0                 0.0   \n1953-09-30 00:00:00+00:00             0.0                 0.0   \n1953-10-31 00:00:00+00:00             0.0                 0.0   \n1953-11-30 00:00:00+00:00             0.0                 0.0   \n1953-12-31 00:00:00+00:00             0.0                 0.0   \n1954-01-31 00:00:00+00:00             0.0                 0.0   \n1954-02-28 00:00:00+00:00             0.0                 0.0   \n\n                           Calamity_Tornado  \nDate                                         \n1953-05-31 00:00:00+00:00               1.0  \n1953-06-30 00:00:00+00:00               0.0  \n1953-07-31 00:00:00+00:00               0.0  \n1953-08-31 00:00:00+00:00               0.0  \n1953-09-30 00:00:00+00:00               0.0  \n1953-10-31 00:00:00+00:00               0.0  \n1953-11-30 00:00:00+00:00               0.0  \n1953-12-31 00:00:00+00:00               0.0  \n1954-01-31 00:00:00+00:00               0.0  \n1954-02-28 00:00:00+00:00               0.0  ",
            "text/html": "<div>\n<style scoped>\n    .dataframe tbody tr th:only-of-type {\n        vertical-align: middle;\n    }\n\n    .dataframe tbody tr th {\n        vertical-align: top;\n    }\n\n    .dataframe thead th {\n        text-align: right;\n    }\n</style>\n<table border=\"1\" class=\"dataframe\">\n  <thead>\n    <tr style=\"text-align: right;\">\n      <th></th>\n      <th>Calamity_Flood</th>\n      <th>Calamity_Hurricane</th>\n      <th>Calamity_Tornado</th>\n    </tr>\n    <tr>\n      <th>Date</th>\n      <th></th>\n      <th></th>\n      <th></th>\n    </tr>\n  </thead>\n  <tbody>\n    <tr>\n      <th>1953-05-31 00:00:00+00:00</th>\n      <td>0.0</td>\n      <td>0.0</td>\n      <td>1.0</td>\n    </tr>\n    <tr>\n      <th>1953-06-30 00:00:00+00:00</th>\n      <td>1.0</td>\n      <td>0.0</td>\n      <td>0.0</td>\n    </tr>\n    <tr>\n      <th>1953-07-31 00:00:00+00:00</th>\n      <td>0.0</td>\n      <td>0.0</td>\n      <td>0.0</td>\n    </tr>\n    <tr>\n      <th>1953-08-31 00:00:00+00:00</th>\n      <td>0.0</td>\n      <td>0.0</td>\n      <td>0.0</td>\n    </tr>\n    <tr>\n      <th>1953-09-30 00:00:00+00:00</th>\n      <td>0.0</td>\n      <td>0.0</td>\n      <td>0.0</td>\n    </tr>\n    <tr>\n      <th>1953-10-31 00:00:00+00:00</th>\n      <td>0.0</td>\n      <td>0.0</td>\n      <td>0.0</td>\n    </tr>\n    <tr>\n      <th>1953-11-30 00:00:00+00:00</th>\n      <td>0.0</td>\n      <td>0.0</td>\n      <td>0.0</td>\n    </tr>\n    <tr>\n      <th>1953-12-31 00:00:00+00:00</th>\n      <td>0.0</td>\n      <td>0.0</td>\n      <td>0.0</td>\n    </tr>\n    <tr>\n      <th>1954-01-31 00:00:00+00:00</th>\n      <td>0.0</td>\n      <td>0.0</td>\n      <td>0.0</td>\n    </tr>\n    <tr>\n      <th>1954-02-28 00:00:00+00:00</th>\n      <td>0.0</td>\n      <td>0.0</td>\n      <td>0.0</td>\n    </tr>\n  </tbody>\n</table>\n</div>"
          },
          "metadata": {}
        }
      ],
      "execution_count": null,
      "metadata": {
        "jupyter": {
          "source_hidden": false,
          "outputs_hidden": false
        },
        "nteract": {
          "transient": {
            "deleting": false
          }
        },
        "gather": {
          "logged": 1648823819823
        },
        "id": "qFtMhHx_t3hq",
        "outputId": "9dfcf7d5-a632-4d0f-cf3b-cfce216e52ca"
      }
    },
    {
      "cell_type": "code",
      "source": [
        "df3.value_counts()"
      ],
      "outputs": [
        {
          "output_type": "execute_result",
          "execution_count": 184,
          "data": {
            "text/plain": "Calamity_Flood  Calamity_Hurricane  Calamity_Tornado  Calamity_None\n0               0                   0                 1                733\n1               0                   0                 0                 40\n0               1                   0                 0                 20\n                0                   1                 0                 15\ndtype: int64"
          },
          "metadata": {}
        }
      ],
      "execution_count": null,
      "metadata": {
        "jupyter": {
          "source_hidden": false,
          "outputs_hidden": false
        },
        "nteract": {
          "transient": {
            "deleting": false
          }
        },
        "gather": {
          "logged": 1648887593548
        },
        "id": "LPGvFurKt3hq",
        "outputId": "74dade80-7704-4e1b-9d51-0bc2b5001b76"
      }
    },
    {
      "cell_type": "code",
      "source": [
        "cols = list(df3)[0:]\n",
        "df3 = df3[cols].astype(int)\n",
        "df3.info()"
      ],
      "outputs": [
        {
          "output_type": "stream",
          "name": "stdout",
          "text": "<class 'pandas.core.frame.DataFrame'>\nDatetimeIndex: 808 entries, 1953-05-31 00:00:00+00:00 to 2020-08-31 00:00:00+00:00\nFreq: M\nData columns (total 3 columns):\n #   Column              Non-Null Count  Dtype\n---  ------              --------------  -----\n 0   Calamity_Flood      808 non-null    int64\n 1   Calamity_Hurricane  808 non-null    int64\n 2   Calamity_Tornado    808 non-null    int64\ndtypes: int64(3)\nmemory usage: 25.2 KB\n"
        }
      ],
      "execution_count": null,
      "metadata": {
        "jupyter": {
          "source_hidden": false,
          "outputs_hidden": false
        },
        "nteract": {
          "transient": {
            "deleting": false
          }
        },
        "gather": {
          "logged": 1648823825105
        },
        "id": "y0NAzpAkt3hr",
        "outputId": "ff45ebe5-2b86-4c5c-a170-54a31ad60d98"
      }
    },
    {
      "cell_type": "code",
      "source": [
        "df3.head(10)"
      ],
      "outputs": [
        {
          "output_type": "execute_result",
          "execution_count": 16,
          "data": {
            "text/plain": "                           Calamity_Flood  Calamity_Hurricane  \\\nDate                                                            \n1953-05-31 00:00:00+00:00               0                   0   \n1953-06-30 00:00:00+00:00               1                   0   \n1953-07-31 00:00:00+00:00               0                   0   \n1953-08-31 00:00:00+00:00               0                   0   \n1953-09-30 00:00:00+00:00               0                   0   \n1953-10-31 00:00:00+00:00               0                   0   \n1953-11-30 00:00:00+00:00               0                   0   \n1953-12-31 00:00:00+00:00               0                   0   \n1954-01-31 00:00:00+00:00               0                   0   \n1954-02-28 00:00:00+00:00               0                   0   \n\n                           Calamity_Tornado  \nDate                                         \n1953-05-31 00:00:00+00:00                 1  \n1953-06-30 00:00:00+00:00                 0  \n1953-07-31 00:00:00+00:00                 0  \n1953-08-31 00:00:00+00:00                 0  \n1953-09-30 00:00:00+00:00                 0  \n1953-10-31 00:00:00+00:00                 0  \n1953-11-30 00:00:00+00:00                 0  \n1953-12-31 00:00:00+00:00                 0  \n1954-01-31 00:00:00+00:00                 0  \n1954-02-28 00:00:00+00:00                 0  ",
            "text/html": "<div>\n<style scoped>\n    .dataframe tbody tr th:only-of-type {\n        vertical-align: middle;\n    }\n\n    .dataframe tbody tr th {\n        vertical-align: top;\n    }\n\n    .dataframe thead th {\n        text-align: right;\n    }\n</style>\n<table border=\"1\" class=\"dataframe\">\n  <thead>\n    <tr style=\"text-align: right;\">\n      <th></th>\n      <th>Calamity_Flood</th>\n      <th>Calamity_Hurricane</th>\n      <th>Calamity_Tornado</th>\n    </tr>\n    <tr>\n      <th>Date</th>\n      <th></th>\n      <th></th>\n      <th></th>\n    </tr>\n  </thead>\n  <tbody>\n    <tr>\n      <th>1953-05-31 00:00:00+00:00</th>\n      <td>0</td>\n      <td>0</td>\n      <td>1</td>\n    </tr>\n    <tr>\n      <th>1953-06-30 00:00:00+00:00</th>\n      <td>1</td>\n      <td>0</td>\n      <td>0</td>\n    </tr>\n    <tr>\n      <th>1953-07-31 00:00:00+00:00</th>\n      <td>0</td>\n      <td>0</td>\n      <td>0</td>\n    </tr>\n    <tr>\n      <th>1953-08-31 00:00:00+00:00</th>\n      <td>0</td>\n      <td>0</td>\n      <td>0</td>\n    </tr>\n    <tr>\n      <th>1953-09-30 00:00:00+00:00</th>\n      <td>0</td>\n      <td>0</td>\n      <td>0</td>\n    </tr>\n    <tr>\n      <th>1953-10-31 00:00:00+00:00</th>\n      <td>0</td>\n      <td>0</td>\n      <td>0</td>\n    </tr>\n    <tr>\n      <th>1953-11-30 00:00:00+00:00</th>\n      <td>0</td>\n      <td>0</td>\n      <td>0</td>\n    </tr>\n    <tr>\n      <th>1953-12-31 00:00:00+00:00</th>\n      <td>0</td>\n      <td>0</td>\n      <td>0</td>\n    </tr>\n    <tr>\n      <th>1954-01-31 00:00:00+00:00</th>\n      <td>0</td>\n      <td>0</td>\n      <td>0</td>\n    </tr>\n    <tr>\n      <th>1954-02-28 00:00:00+00:00</th>\n      <td>0</td>\n      <td>0</td>\n      <td>0</td>\n    </tr>\n  </tbody>\n</table>\n</div>"
          },
          "metadata": {}
        }
      ],
      "execution_count": null,
      "metadata": {
        "jupyter": {
          "source_hidden": false,
          "outputs_hidden": false
        },
        "nteract": {
          "transient": {
            "deleting": false
          }
        },
        "gather": {
          "logged": 1648823828056
        },
        "id": "H_iaTyZ3t3hr",
        "outputId": "885d7e32-87e2-40b2-e5e2-858b04e66d5c"
      }
    },
    {
      "cell_type": "code",
      "source": [
        "df3['Calamity_None'] = np.where((df3['Calamity_Tornado']==0) & (df3['Calamity_Flood']==0) & (df3['Calamity_Hurricane']==0),1,0)"
      ],
      "outputs": [],
      "execution_count": null,
      "metadata": {
        "jupyter": {
          "source_hidden": false,
          "outputs_hidden": false
        },
        "nteract": {
          "transient": {
            "deleting": false
          }
        },
        "gather": {
          "logged": 1648823833845
        },
        "id": "IV31vN8nt3hr"
      }
    },
    {
      "cell_type": "code",
      "source": [
        "df3.head(10)"
      ],
      "outputs": [
        {
          "output_type": "execute_result",
          "execution_count": 18,
          "data": {
            "text/plain": "                           Calamity_Flood  Calamity_Hurricane  \\\nDate                                                            \n1953-05-31 00:00:00+00:00               0                   0   \n1953-06-30 00:00:00+00:00               1                   0   \n1953-07-31 00:00:00+00:00               0                   0   \n1953-08-31 00:00:00+00:00               0                   0   \n1953-09-30 00:00:00+00:00               0                   0   \n1953-10-31 00:00:00+00:00               0                   0   \n1953-11-30 00:00:00+00:00               0                   0   \n1953-12-31 00:00:00+00:00               0                   0   \n1954-01-31 00:00:00+00:00               0                   0   \n1954-02-28 00:00:00+00:00               0                   0   \n\n                           Calamity_Tornado  Calamity_None  \nDate                                                        \n1953-05-31 00:00:00+00:00                 1              0  \n1953-06-30 00:00:00+00:00                 0              0  \n1953-07-31 00:00:00+00:00                 0              1  \n1953-08-31 00:00:00+00:00                 0              1  \n1953-09-30 00:00:00+00:00                 0              1  \n1953-10-31 00:00:00+00:00                 0              1  \n1953-11-30 00:00:00+00:00                 0              1  \n1953-12-31 00:00:00+00:00                 0              1  \n1954-01-31 00:00:00+00:00                 0              1  \n1954-02-28 00:00:00+00:00                 0              1  ",
            "text/html": "<div>\n<style scoped>\n    .dataframe tbody tr th:only-of-type {\n        vertical-align: middle;\n    }\n\n    .dataframe tbody tr th {\n        vertical-align: top;\n    }\n\n    .dataframe thead th {\n        text-align: right;\n    }\n</style>\n<table border=\"1\" class=\"dataframe\">\n  <thead>\n    <tr style=\"text-align: right;\">\n      <th></th>\n      <th>Calamity_Flood</th>\n      <th>Calamity_Hurricane</th>\n      <th>Calamity_Tornado</th>\n      <th>Calamity_None</th>\n    </tr>\n    <tr>\n      <th>Date</th>\n      <th></th>\n      <th></th>\n      <th></th>\n      <th></th>\n    </tr>\n  </thead>\n  <tbody>\n    <tr>\n      <th>1953-05-31 00:00:00+00:00</th>\n      <td>0</td>\n      <td>0</td>\n      <td>1</td>\n      <td>0</td>\n    </tr>\n    <tr>\n      <th>1953-06-30 00:00:00+00:00</th>\n      <td>1</td>\n      <td>0</td>\n      <td>0</td>\n      <td>0</td>\n    </tr>\n    <tr>\n      <th>1953-07-31 00:00:00+00:00</th>\n      <td>0</td>\n      <td>0</td>\n      <td>0</td>\n      <td>1</td>\n    </tr>\n    <tr>\n      <th>1953-08-31 00:00:00+00:00</th>\n      <td>0</td>\n      <td>0</td>\n      <td>0</td>\n      <td>1</td>\n    </tr>\n    <tr>\n      <th>1953-09-30 00:00:00+00:00</th>\n      <td>0</td>\n      <td>0</td>\n      <td>0</td>\n      <td>1</td>\n    </tr>\n    <tr>\n      <th>1953-10-31 00:00:00+00:00</th>\n      <td>0</td>\n      <td>0</td>\n      <td>0</td>\n      <td>1</td>\n    </tr>\n    <tr>\n      <th>1953-11-30 00:00:00+00:00</th>\n      <td>0</td>\n      <td>0</td>\n      <td>0</td>\n      <td>1</td>\n    </tr>\n    <tr>\n      <th>1953-12-31 00:00:00+00:00</th>\n      <td>0</td>\n      <td>0</td>\n      <td>0</td>\n      <td>1</td>\n    </tr>\n    <tr>\n      <th>1954-01-31 00:00:00+00:00</th>\n      <td>0</td>\n      <td>0</td>\n      <td>0</td>\n      <td>1</td>\n    </tr>\n    <tr>\n      <th>1954-02-28 00:00:00+00:00</th>\n      <td>0</td>\n      <td>0</td>\n      <td>0</td>\n      <td>1</td>\n    </tr>\n  </tbody>\n</table>\n</div>"
          },
          "metadata": {}
        }
      ],
      "execution_count": null,
      "metadata": {
        "jupyter": {
          "source_hidden": false,
          "outputs_hidden": false
        },
        "nteract": {
          "transient": {
            "deleting": false
          }
        },
        "gather": {
          "logged": 1648823836827
        },
        "id": "ZWh_aHSRt3hs",
        "outputId": "4b6faec9-6c1f-4d13-dad7-ec2754fc042e"
      }
    },
    {
      "cell_type": "code",
      "source": [
        "df3.unique()"
      ],
      "outputs": [
        {
          "output_type": "error",
          "ename": "AttributeError",
          "evalue": "'DataFrame' object has no attribute 'unique'",
          "traceback": [
            "\u001b[0;31m---------------------------------------------------------------------------\u001b[0m",
            "\u001b[0;31mAttributeError\u001b[0m                            Traceback (most recent call last)",
            "\u001b[0;32m<ipython-input-183-769a43463e76>\u001b[0m in \u001b[0;36m<module>\u001b[0;34m\u001b[0m\n\u001b[0;32m----> 1\u001b[0;31m \u001b[0mdf3\u001b[0m\u001b[0;34m.\u001b[0m\u001b[0munique\u001b[0m\u001b[0;34m(\u001b[0m\u001b[0;34m)\u001b[0m\u001b[0;34m\u001b[0m\u001b[0;34m\u001b[0m\u001b[0m\n\u001b[0m",
            "\u001b[0;32m/anaconda/envs/azureml_py38_PT_TF/lib/python3.8/site-packages/pandas/core/generic.py\u001b[0m in \u001b[0;36m__getattr__\u001b[0;34m(self, name)\u001b[0m\n\u001b[1;32m   5581\u001b[0m         ):\n\u001b[1;32m   5582\u001b[0m             \u001b[0;32mreturn\u001b[0m \u001b[0mself\u001b[0m\u001b[0;34m[\u001b[0m\u001b[0mname\u001b[0m\u001b[0;34m]\u001b[0m\u001b[0;34m\u001b[0m\u001b[0;34m\u001b[0m\u001b[0m\n\u001b[0;32m-> 5583\u001b[0;31m         \u001b[0;32mreturn\u001b[0m \u001b[0mobject\u001b[0m\u001b[0;34m.\u001b[0m\u001b[0m__getattribute__\u001b[0m\u001b[0;34m(\u001b[0m\u001b[0mself\u001b[0m\u001b[0;34m,\u001b[0m \u001b[0mname\u001b[0m\u001b[0;34m)\u001b[0m\u001b[0;34m\u001b[0m\u001b[0;34m\u001b[0m\u001b[0m\n\u001b[0m\u001b[1;32m   5584\u001b[0m \u001b[0;34m\u001b[0m\u001b[0m\n\u001b[1;32m   5585\u001b[0m     \u001b[0;32mdef\u001b[0m \u001b[0m__setattr__\u001b[0m\u001b[0;34m(\u001b[0m\u001b[0mself\u001b[0m\u001b[0;34m,\u001b[0m \u001b[0mname\u001b[0m\u001b[0;34m:\u001b[0m \u001b[0mstr\u001b[0m\u001b[0;34m,\u001b[0m \u001b[0mvalue\u001b[0m\u001b[0;34m)\u001b[0m \u001b[0;34m->\u001b[0m \u001b[0;32mNone\u001b[0m\u001b[0;34m:\u001b[0m\u001b[0;34m\u001b[0m\u001b[0;34m\u001b[0m\u001b[0m\n",
            "\u001b[0;31mAttributeError\u001b[0m: 'DataFrame' object has no attribute 'unique'"
          ]
        }
      ],
      "execution_count": null,
      "metadata": {
        "jupyter": {
          "source_hidden": false,
          "outputs_hidden": false
        },
        "nteract": {
          "transient": {
            "deleting": false
          }
        },
        "gather": {
          "logged": 1648887510159
        },
        "id": "mH1HeENTt3hs",
        "outputId": "e76a7916-2dda-445e-962d-0eaf083e0d53"
      }
    },
    {
      "cell_type": "code",
      "source": [
        "df3.to_csv('TX_calamities.csv', index=True)"
      ],
      "outputs": [],
      "execution_count": null,
      "metadata": {
        "jupyter": {
          "source_hidden": false,
          "outputs_hidden": false
        },
        "nteract": {
          "transient": {
            "deleting": false
          }
        },
        "gather": {
          "logged": 1648823840835
        },
        "id": "3FXWeedWt3hs"
      }
    },
    {
      "cell_type": "code",
      "source": [
        "Flood = df3['Calamity_Flood']\n",
        "Flood.plot()"
      ],
      "outputs": [
        {
          "output_type": "execute_result",
          "execution_count": 20,
          "data": {
            "text/plain": "<AxesSubplot:xlabel='Date'>"
          },
          "metadata": {}
        },
        {
          "output_type": "display_data",
          "data": {
            "text/plain": "<Figure size 432x288 with 1 Axes>",
            "image/png": "[encoded data removed]"
          },
          "metadata": {
            "needs_background": "light"
          }
        }
      ],
      "execution_count": null,
      "metadata": {
        "jupyter": {
          "source_hidden": false,
          "outputs_hidden": false
        },
        "nteract": {
          "transient": {
            "deleting": false
          }
        },
        "gather": {
          "logged": 1648823849017
        },
        "id": "AAV5p-xSt3ht",
        "outputId": "3745b7e6-e1e1-43af-fb18-d04a6d458485"
      }
    },
    {
      "cell_type": "code",
      "source": [
        "Hurricane = df3['Calamity_Hurricane']\n",
        "Hurricane.plot()"
      ],
      "outputs": [
        {
          "output_type": "execute_result",
          "execution_count": 21,
          "data": {
            "text/plain": "<AxesSubplot:xlabel='Date'>"
          },
          "metadata": {}
        },
        {
          "output_type": "display_data",
          "data": {
            "text/plain": "<Figure size 432x288 with 1 Axes>",
            "image/png": "[encoded data removed]"
          },
          "metadata": {
            "needs_background": "light"
          }
        }
      ],
      "execution_count": null,
      "metadata": {
        "jupyter": {
          "source_hidden": false,
          "outputs_hidden": false
        },
        "nteract": {
          "transient": {
            "deleting": false
          }
        },
        "gather": {
          "logged": 1648823873053
        },
        "id": "-UtmalYYt3ht",
        "outputId": "94c20c50-7623-44dd-db44-089b1b82686e"
      }
    },
    {
      "cell_type": "code",
      "source": [
        "Tornado = df3['Calamity_Tornado']\n",
        "Tornado.plot()"
      ],
      "outputs": [
        {
          "output_type": "execute_result",
          "execution_count": 22,
          "data": {
            "text/plain": "<AxesSubplot:xlabel='Date'>"
          },
          "metadata": {}
        },
        {
          "output_type": "display_data",
          "data": {
            "text/plain": "<Figure size 432x288 with 1 Axes>",
            "image/png": "[encoded data removed]"
          },
          "metadata": {
            "needs_background": "light"
          }
        }
      ],
      "execution_count": null,
      "metadata": {
        "jupyter": {
          "source_hidden": false,
          "outputs_hidden": false
        },
        "nteract": {
          "transient": {
            "deleting": false
          }
        },
        "gather": {
          "logged": 1648823881316
        },
        "id": "TXosu91it3hu",
        "outputId": "84620af6-5f78-4b96-dae3-8c322601d993"
      }
    },
    {
      "cell_type": "code",
      "source": [
        "df3['x1'] = df3.index\n",
        "Training_Dates = df3['x1']\n",
        "Training_Dates.head()"
      ],
      "outputs": [
        {
          "output_type": "execute_result",
          "execution_count": 23,
          "data": {
            "text/plain": "Date\n1953-05-31 00:00:00+00:00   1953-05-31 00:00:00+00:00\n1953-06-30 00:00:00+00:00   1953-06-30 00:00:00+00:00\n1953-07-31 00:00:00+00:00   1953-07-31 00:00:00+00:00\n1953-08-31 00:00:00+00:00   1953-08-31 00:00:00+00:00\n1953-09-30 00:00:00+00:00   1953-09-30 00:00:00+00:00\nFreq: M, Name: x1, dtype: datetime64[ns, UTC]"
          },
          "metadata": {}
        }
      ],
      "execution_count": null,
      "metadata": {
        "jupyter": {
          "source_hidden": false,
          "outputs_hidden": false
        },
        "nteract": {
          "transient": {
            "deleting": false
          }
        },
        "gather": {
          "logged": 1648823886412
        },
        "id": "lQfzF61-t3hu",
        "outputId": "b6b00c7d-06c1-4a36-d7b7-8c2f3d2ff52e"
      }
    },
    {
      "cell_type": "code",
      "source": [
        "df3.drop(['x1'], axis = 1, inplace=True)\n",
        "df3.head()"
      ],
      "outputs": [
        {
          "output_type": "execute_result",
          "execution_count": 24,
          "data": {
            "text/plain": "                           Calamity_Flood  Calamity_Hurricane  \\\nDate                                                            \n1953-05-31 00:00:00+00:00               0                   0   \n1953-06-30 00:00:00+00:00               1                   0   \n1953-07-31 00:00:00+00:00               0                   0   \n1953-08-31 00:00:00+00:00               0                   0   \n1953-09-30 00:00:00+00:00               0                   0   \n\n                           Calamity_Tornado  Calamity_None  \nDate                                                        \n1953-05-31 00:00:00+00:00                 1              0  \n1953-06-30 00:00:00+00:00                 0              0  \n1953-07-31 00:00:00+00:00                 0              1  \n1953-08-31 00:00:00+00:00                 0              1  \n1953-09-30 00:00:00+00:00                 0              1  ",
            "text/html": "<div>\n<style scoped>\n    .dataframe tbody tr th:only-of-type {\n        vertical-align: middle;\n    }\n\n    .dataframe tbody tr th {\n        vertical-align: top;\n    }\n\n    .dataframe thead th {\n        text-align: right;\n    }\n</style>\n<table border=\"1\" class=\"dataframe\">\n  <thead>\n    <tr style=\"text-align: right;\">\n      <th></th>\n      <th>Calamity_Flood</th>\n      <th>Calamity_Hurricane</th>\n      <th>Calamity_Tornado</th>\n      <th>Calamity_None</th>\n    </tr>\n    <tr>\n      <th>Date</th>\n      <th></th>\n      <th></th>\n      <th></th>\n      <th></th>\n    </tr>\n  </thead>\n  <tbody>\n    <tr>\n      <th>1953-05-31 00:00:00+00:00</th>\n      <td>0</td>\n      <td>0</td>\n      <td>1</td>\n      <td>0</td>\n    </tr>\n    <tr>\n      <th>1953-06-30 00:00:00+00:00</th>\n      <td>1</td>\n      <td>0</td>\n      <td>0</td>\n      <td>0</td>\n    </tr>\n    <tr>\n      <th>1953-07-31 00:00:00+00:00</th>\n      <td>0</td>\n      <td>0</td>\n      <td>0</td>\n      <td>1</td>\n    </tr>\n    <tr>\n      <th>1953-08-31 00:00:00+00:00</th>\n      <td>0</td>\n      <td>0</td>\n      <td>0</td>\n      <td>1</td>\n    </tr>\n    <tr>\n      <th>1953-09-30 00:00:00+00:00</th>\n      <td>0</td>\n      <td>0</td>\n      <td>0</td>\n      <td>1</td>\n    </tr>\n  </tbody>\n</table>\n</div>"
          },
          "metadata": {}
        }
      ],
      "execution_count": null,
      "metadata": {
        "jupyter": {
          "source_hidden": false,
          "outputs_hidden": false
        },
        "nteract": {
          "transient": {
            "deleting": false
          }
        },
        "gather": {
          "logged": 1648823889008
        },
        "id": "O3TQrbsUt3hu",
        "outputId": "db4ec290-86a0-4154-9239-4849308cefe3"
      }
    },
    {
      "cell_type": "code",
      "source": [
        "import matplotlib as plt\n",
        "import matplotlib.pyplot as plt"
      ],
      "outputs": [],
      "execution_count": null,
      "metadata": {
        "jupyter": {
          "source_hidden": false,
          "outputs_hidden": false
        },
        "nteract": {
          "transient": {
            "deleting": false
          }
        },
        "gather": {
          "logged": 1648823893039
        },
        "id": "B4cfiTwvt3hv"
      }
    },
    {
      "cell_type": "code",
      "source": [
        "df3[['Calamity_Flood', 'Calamity_Tornado','Calamity_Hurricane', 'Calamity_None']].plot(subplots=True)"
      ],
      "outputs": [
        {
          "output_type": "execute_result",
          "execution_count": 26,
          "data": {
            "text/plain": "array([<AxesSubplot:xlabel='Date'>, <AxesSubplot:xlabel='Date'>,\n       <AxesSubplot:xlabel='Date'>, <AxesSubplot:xlabel='Date'>],\n      dtype=object)"
          },
          "metadata": {}
        },
        {
          "output_type": "display_data",
          "data": {
            "text/plain": "<Figure size 432x288 with 4 Axes>",
            "image/png": "[encoded data removed]"
          },
          "metadata": {
            "needs_background": "light"
          }
        }
      ],
      "execution_count": null,
      "metadata": {
        "jupyter": {
          "source_hidden": false,
          "outputs_hidden": false
        },
        "nteract": {
          "transient": {
            "deleting": false
          }
        },
        "gather": {
          "logged": 1648823903450
        },
        "id": "oCY6glhct3hv",
        "outputId": "946a5bd0-2e57-47b2-c230-0e9b858d80d9"
      }
    },
    {
      "cell_type": "code",
      "source": [
        "dataset = df3.values\n",
        "dataset"
      ],
      "outputs": [
        {
          "output_type": "execute_result",
          "execution_count": 27,
          "data": {
            "text/plain": "array([[0, 0, 1, 0],\n       [1, 0, 0, 0],\n       [0, 0, 0, 1],\n       ...,\n       [0, 0, 0, 1],\n       [0, 1, 0, 0],\n       [0, 1, 0, 0]])"
          },
          "metadata": {}
        }
      ],
      "execution_count": null,
      "metadata": {
        "jupyter": {
          "source_hidden": false,
          "outputs_hidden": false
        },
        "nteract": {
          "transient": {
            "deleting": false
          }
        },
        "gather": {
          "logged": 1648823908838
        },
        "id": "DCNahfmwt3hv",
        "outputId": "b9c94ed9-8c49-480d-8981-61e36e797920"
      }
    },
    {
      "cell_type": "code",
      "source": [
        "dataset = dataset.astype(float)\n",
        "dataset"
      ],
      "outputs": [
        {
          "output_type": "execute_result",
          "execution_count": 91,
          "data": {
            "text/plain": "array([[0., 0., 1., 0.],\n       [1., 0., 0., 0.],\n       [0., 0., 0., 1.],\n       ...,\n       [0., 0., 0., 1.],\n       [0., 1., 0., 0.],\n       [0., 1., 0., 0.]])"
          },
          "metadata": {}
        }
      ],
      "execution_count": null,
      "metadata": {
        "jupyter": {
          "source_hidden": false,
          "outputs_hidden": false
        },
        "nteract": {
          "transient": {
            "deleting": false
          }
        },
        "gather": {
          "logged": 1648832882108
        },
        "id": "zOKoZ1Vbt3hv",
        "outputId": "87c30c82-15c2-4efc-8787-8f20c7fe262d"
      }
    },
    {
      "cell_type": "code",
      "source": [
        "# split into train and test sets\n",
        "train_size = int(len(dataset) * 0.80)\n",
        "test_size = len(dataset) - train_size\n",
        "train, test = dataset[0:train_size,:], dataset[train_size:len(dataset),:]\n",
        "print(len(train), len(test))"
      ],
      "outputs": [
        {
          "output_type": "stream",
          "name": "stdout",
          "text": "646 162\n"
        }
      ],
      "execution_count": null,
      "metadata": {
        "jupyter": {
          "source_hidden": false,
          "outputs_hidden": false
        },
        "nteract": {
          "transient": {
            "deleting": false
          }
        },
        "gather": {
          "logged": 1648832901889
        },
        "id": "t2r6DCEut3hw",
        "outputId": "f529fb2c-f498-492d-8790-1ea984058f88"
      }
    },
    {
      "cell_type": "code",
      "source": [
        "train"
      ],
      "outputs": [
        {
          "output_type": "execute_result",
          "execution_count": 93,
          "data": {
            "text/plain": "array([[0., 0., 1., 0.],\n       [1., 0., 0., 0.],\n       [0., 0., 0., 1.],\n       ...,\n       [0., 0., 0., 1.],\n       [0., 0., 0., 1.],\n       [0., 0., 0., 1.]])"
          },
          "metadata": {}
        }
      ],
      "execution_count": null,
      "metadata": {
        "jupyter": {
          "source_hidden": false,
          "outputs_hidden": false
        },
        "nteract": {
          "transient": {
            "deleting": false
          }
        },
        "gather": {
          "logged": 1648832904808
        },
        "id": "l1BCfpAut3hw",
        "outputId": "b1a1a8bb-0cac-4d0d-8bb8-f64a00853466"
      }
    },
    {
      "cell_type": "code",
      "source": [
        "test"
      ],
      "outputs": [
        {
          "output_type": "execute_result",
          "execution_count": 94,
          "data": {
            "text/plain": "array([[0., 0., 0., 1.],\n       [0., 0., 0., 1.],\n       [0., 0., 0., 1.],\n       [0., 0., 0., 1.],\n       [0., 0., 0., 1.],\n       [0., 1., 0., 0.],\n       [0., 0., 0., 1.],\n       [0., 0., 0., 1.],\n       [0., 0., 0., 1.],\n       [0., 0., 0., 1.],\n       [0., 0., 0., 1.],\n       [0., 0., 0., 1.],\n       [0., 0., 0., 1.],\n       [0., 0., 0., 1.],\n       [0., 0., 0., 1.],\n       [0., 0., 0., 1.],\n       [0., 1., 0., 0.],\n       [0., 1., 0., 0.],\n       [0., 1., 0., 0.],\n       [0., 0., 0., 1.],\n       [0., 0., 0., 1.],\n       [0., 0., 0., 1.],\n       [0., 0., 0., 1.],\n       [0., 0., 0., 1.],\n       [0., 0., 0., 1.],\n       [0., 0., 0., 1.],\n       [0., 0., 0., 1.],\n       [0., 0., 0., 1.],\n       [0., 0., 0., 1.],\n       [0., 0., 0., 1.],\n       [0., 0., 0., 1.],\n       [0., 0., 0., 1.],\n       [0., 0., 0., 1.],\n       [0., 0., 0., 1.],\n       [0., 0., 0., 1.],\n       [0., 0., 0., 1.],\n       [0., 0., 0., 1.],\n       [0., 0., 0., 1.],\n       [0., 0., 0., 1.],\n       [0., 1., 0., 0.],\n       [0., 0., 0., 1.],\n       [0., 0., 0., 1.],\n       [0., 0., 0., 1.],\n       [0., 0., 0., 1.],\n       [0., 0., 0., 1.],\n       [0., 0., 0., 1.],\n       [0., 0., 0., 1.],\n       [0., 0., 0., 1.],\n       [0., 0., 0., 1.],\n       [0., 0., 0., 1.],\n       [0., 0., 0., 1.],\n       [0., 0., 0., 1.],\n       [0., 0., 0., 1.],\n       [0., 0., 0., 1.],\n       [0., 0., 0., 1.],\n       [0., 0., 0., 1.],\n       [0., 0., 0., 1.],\n       [0., 0., 0., 1.],\n       [0., 0., 0., 1.],\n       [0., 0., 0., 1.],\n       [0., 0., 0., 1.],\n       [0., 0., 0., 1.],\n       [0., 0., 0., 1.],\n       [0., 0., 0., 1.],\n       [0., 0., 0., 1.],\n       [0., 0., 0., 1.],\n       [0., 0., 0., 1.],\n       [0., 0., 0., 1.],\n       [0., 0., 0., 1.],\n       [0., 0., 0., 1.],\n       [0., 0., 0., 1.],\n       [0., 0., 0., 1.],\n       [0., 0., 0., 1.],\n       [0., 0., 0., 1.],\n       [0., 0., 0., 1.],\n       [0., 0., 0., 1.],\n       [0., 0., 0., 1.],\n       [0., 0., 0., 1.],\n       [0., 0., 0., 1.],\n       [0., 0., 0., 1.],\n       [0., 0., 0., 1.],\n       [0., 0., 0., 1.],\n       [0., 0., 0., 1.],\n       [0., 0., 0., 1.],\n       [0., 0., 0., 1.],\n       [0., 0., 0., 1.],\n       [0., 0., 0., 1.],\n       [0., 0., 0., 1.],\n       [0., 0., 0., 1.],\n       [0., 0., 0., 1.],\n       [0., 0., 0., 1.],\n       [0., 0., 0., 1.],\n       [0., 0., 0., 1.],\n       [0., 0., 0., 1.],\n       [0., 0., 0., 1.],\n       [0., 0., 0., 1.],\n       [0., 0., 0., 1.],\n       [0., 0., 0., 1.],\n       [0., 0., 0., 1.],\n       [0., 0., 0., 1.],\n       [0., 0., 0., 1.],\n       [0., 0., 0., 1.],\n       [0., 0., 0., 1.],\n       [0., 0., 0., 1.],\n       [0., 0., 0., 1.],\n       [0., 0., 0., 1.],\n       [0., 0., 0., 1.],\n       [0., 0., 0., 1.],\n       [1., 0., 0., 0.],\n       [1., 0., 0., 0.],\n       [1., 0., 0., 0.],\n       [0., 0., 0., 1.],\n       [0., 0., 0., 1.],\n       [0., 0., 0., 1.],\n       [0., 0., 0., 1.],\n       [0., 0., 0., 1.],\n       [0., 0., 0., 1.],\n       [0., 0., 0., 1.],\n       [0., 0., 0., 1.],\n       [0., 0., 0., 1.],\n       [0., 0., 0., 1.],\n       [0., 0., 0., 1.],\n       [0., 0., 0., 1.],\n       [0., 0., 0., 1.],\n       [0., 0., 0., 1.],\n       [0., 1., 0., 0.],\n       [0., 0., 0., 1.],\n       [0., 0., 0., 1.],\n       [0., 0., 0., 1.],\n       [0., 0., 0., 1.],\n       [0., 0., 0., 1.],\n       [0., 0., 0., 1.],\n       [0., 0., 0., 1.],\n       [0., 0., 0., 1.],\n       [0., 0., 0., 1.],\n       [1., 0., 0., 0.],\n       [0., 0., 0., 1.],\n       [0., 0., 0., 1.],\n       [1., 0., 0., 0.],\n       [0., 0., 0., 1.],\n       [0., 0., 0., 1.],\n       [0., 0., 0., 1.],\n       [0., 0., 0., 1.],\n       [0., 0., 0., 1.],\n       [0., 0., 0., 1.],\n       [0., 0., 0., 1.],\n       [0., 0., 0., 1.],\n       [1., 0., 0., 0.],\n       [0., 0., 0., 1.],\n       [0., 0., 0., 1.],\n       [1., 0., 0., 0.],\n       [0., 0., 0., 1.],\n       [0., 0., 0., 1.],\n       [0., 0., 0., 1.],\n       [0., 0., 0., 1.],\n       [0., 0., 0., 1.],\n       [0., 0., 0., 1.],\n       [0., 0., 0., 1.],\n       [0., 0., 0., 1.],\n       [0., 0., 0., 1.],\n       [0., 1., 0., 0.],\n       [0., 1., 0., 0.]])"
          },
          "metadata": {}
        }
      ],
      "execution_count": null,
      "metadata": {
        "jupyter": {
          "source_hidden": false,
          "outputs_hidden": false
        },
        "nteract": {
          "transient": {
            "deleting": false
          }
        },
        "gather": {
          "logged": 1648832916916
        },
        "id": "UHCRMMwPt3hw",
        "outputId": "68c762a0-e27a-4c68-a24f-e63461ae0688"
      }
    },
    {
      "cell_type": "code",
      "source": [
        "# convert an array of values into a dataset matrix\n",
        "def create_dataset(dataset, look_back=72):\n",
        "\tdataX, dataY = [], []\n",
        "\tfor i in range(len(dataset)-look_back-1):\n",
        "\t\ta = dataset[i:(i+look_back)]\n",
        "\t\tdataX.append(a)\n",
        "\t\tdataY.append(dataset[i + look_back])\n",
        "\treturn np.array(dataX), np.array(dataY)"
      ],
      "outputs": [],
      "execution_count": null,
      "metadata": {
        "jupyter": {
          "source_hidden": false,
          "outputs_hidden": false
        },
        "nteract": {
          "transient": {
            "deleting": false
          }
        },
        "gather": {
          "logged": 1648832935935
        },
        "id": "golR5lGit3hx"
      }
    },
    {
      "cell_type": "code",
      "source": [
        "# reshape into X=t and Y=t+1\n",
        "look_back = 72\n",
        "trainX, trainY = create_dataset(train, look_back)\n",
        "testX, testY = create_dataset(test, look_back)"
      ],
      "outputs": [],
      "execution_count": null,
      "metadata": {
        "jupyter": {
          "source_hidden": false,
          "outputs_hidden": false
        },
        "nteract": {
          "transient": {
            "deleting": false
          }
        },
        "gather": {
          "logged": 1648832938855
        },
        "id": "G8J-iJlkt3hx"
      }
    },
    {
      "cell_type": "code",
      "source": [
        "trainX.shape"
      ],
      "outputs": [
        {
          "output_type": "execute_result",
          "execution_count": 97,
          "data": {
            "text/plain": "(573, 72, 4)"
          },
          "metadata": {}
        }
      ],
      "execution_count": null,
      "metadata": {
        "jupyter": {
          "source_hidden": false,
          "outputs_hidden": false
        },
        "nteract": {
          "transient": {
            "deleting": false
          }
        },
        "gather": {
          "logged": 1648832946916
        },
        "id": "5W3jyCuvt3hx",
        "outputId": "32fb902f-4185-4475-fba4-988abe9859a0"
      }
    },
    {
      "cell_type": "code",
      "source": [
        "trainY.shape"
      ],
      "outputs": [
        {
          "output_type": "execute_result",
          "execution_count": 157,
          "data": {
            "text/plain": "(573, 4)"
          },
          "metadata": {}
        }
      ],
      "execution_count": null,
      "metadata": {
        "jupyter": {
          "source_hidden": false,
          "outputs_hidden": false
        },
        "nteract": {
          "transient": {
            "deleting": false
          }
        },
        "gather": {
          "logged": 1648850129972
        },
        "id": "BqraMrfMt3hy",
        "outputId": "0c0a39c8-d81d-4955-866a-14be417212ca"
      }
    },
    {
      "cell_type": "code",
      "source": [
        "trainY"
      ],
      "outputs": [
        {
          "output_type": "execute_result",
          "execution_count": 171,
          "data": {
            "text/plain": "array([[0., 0., 0., 1.],\n       [0., 0., 0., 1.],\n       [1., 0., 0., 0.],\n       ...,\n       [0., 0., 0., 1.],\n       [0., 0., 0., 1.],\n       [0., 0., 0., 1.]])"
          },
          "metadata": {}
        }
      ],
      "execution_count": null,
      "metadata": {
        "jupyter": {
          "source_hidden": false,
          "outputs_hidden": false
        },
        "nteract": {
          "transient": {
            "deleting": false
          }
        },
        "gather": {
          "logged": 1648880826088
        },
        "id": "bWqzmj4Ft3hy",
        "outputId": "9454a77e-9014-4dff-a306-1bea9ab793e9"
      }
    },
    {
      "cell_type": "code",
      "source": [
        "# reshape input to be [samples, time steps, features]\n",
        "trainX = np.reshape(trainX, (trainX.shape[0], look_back, trainX.shape[2]))\n",
        "testX = np.reshape(testX, (testX.shape[0], look_back, testX.shape[2]))"
      ],
      "outputs": [],
      "execution_count": null,
      "metadata": {
        "jupyter": {
          "source_hidden": false,
          "outputs_hidden": false
        },
        "nteract": {
          "transient": {
            "deleting": false
          }
        },
        "gather": {
          "logged": 1648832950862
        },
        "id": "8b9etRZ0t3hy"
      }
    },
    {
      "cell_type": "code",
      "source": [
        "testX.shape"
      ],
      "outputs": [
        {
          "output_type": "execute_result",
          "execution_count": 99,
          "data": {
            "text/plain": "(89, 72, 4)"
          },
          "metadata": {}
        }
      ],
      "execution_count": null,
      "metadata": {
        "jupyter": {
          "source_hidden": false,
          "outputs_hidden": false
        },
        "nteract": {
          "transient": {
            "deleting": false
          }
        },
        "gather": {
          "logged": 1648832953851
        },
        "id": "OTU3CpW_t3hy",
        "outputId": "4bee0eb7-18b5-41be-acda-4bfc7222e5f0"
      }
    },
    {
      "cell_type": "code",
      "source": [
        "import tensorflow as tf"
      ],
      "outputs": [],
      "execution_count": null,
      "metadata": {
        "jupyter": {
          "source_hidden": false,
          "outputs_hidden": false
        },
        "nteract": {
          "transient": {
            "deleting": false
          }
        },
        "gather": {
          "logged": 1648823941159
        },
        "id": "o2xTOT3ct3hz"
      }
    },
    {
      "cell_type": "code",
      "source": [
        "# creating and fitting the LSTM network\n",
        "model = Sequential()\n",
        "model.add(LSTM(64, input_shape=(look_back, trainX.shape[2]), return_sequences = True))\n",
        "model.add(LSTM(64, return_sequences=False))\n",
        "model.add(tf.keras.layers.Dropout(0.3))\n",
        "model.add(Dense(4,activation='softmax'))"
      ],
      "outputs": [],
      "execution_count": null,
      "metadata": {
        "jupyter": {
          "source_hidden": false,
          "outputs_hidden": false
        },
        "nteract": {
          "transient": {
            "deleting": false
          }
        },
        "gather": {
          "logged": 1648823946851
        },
        "id": "k0x7hXwht3hz"
      }
    },
    {
      "cell_type": "code",
      "source": [
        "model.summary()"
      ],
      "outputs": [
        {
          "output_type": "stream",
          "name": "stdout",
          "text": "Model: \"sequential\"\n_________________________________________________________________\n Layer (type)                Output Shape              Param #   \n=================================================================\n lstm (LSTM)                 (None, 72, 64)            17664     \n                                                                 \n lstm_1 (LSTM)               (None, 64)                33024     \n                                                                 \n dropout (Dropout)           (None, 64)                0         \n                                                                 \n dense (Dense)               (None, 4)                 260       \n                                                                 \n=================================================================\nTotal params: 50,948\nTrainable params: 50,948\nNon-trainable params: 0\n_________________________________________________________________\n"
        }
      ],
      "execution_count": null,
      "metadata": {
        "jupyter": {
          "source_hidden": false,
          "outputs_hidden": false
        },
        "nteract": {
          "transient": {
            "deleting": false
          }
        },
        "gather": {
          "logged": 1648823949956
        },
        "id": "pKI7qPRTt3hz",
        "outputId": "123aee1f-e887-4375-8f88-108832701eb5"
      }
    },
    {
      "cell_type": "code",
      "source": [
        "from tensorflow import keras"
      ],
      "outputs": [],
      "execution_count": null,
      "metadata": {
        "jupyter": {
          "source_hidden": false,
          "outputs_hidden": false
        },
        "nteract": {
          "transient": {
            "deleting": false
          }
        },
        "gather": {
          "logged": 1648823954897
        },
        "id": "1xpW12qLt3hz"
      }
    },
    {
      "cell_type": "code",
      "source": [
        "METRICS = [\n",
        "   \n",
        "      \n",
        "      keras.metrics.BinaryAccuracy(name='accuracy'),\n",
        "      keras.metrics.Precision(name='precision'),\n",
        "      keras.metrics.Recall(name='recall'),\n",
        "      \n",
        "]"
      ],
      "outputs": [],
      "execution_count": null,
      "metadata": {
        "jupyter": {
          "source_hidden": false,
          "outputs_hidden": false
        },
        "nteract": {
          "transient": {
            "deleting": false
          }
        },
        "gather": {
          "logged": 1648852110409
        },
        "id": "pYkCKmnkt3h0"
      }
    },
    {
      "cell_type": "code",
      "source": [
        "\"\"\"pip install tensorflow-addons\n",
        "import tensorflow_addons as tfa\n",
        "fl = tfa.losses.SigmoidFocalCrossEntropy(alpha, gamma)\n",
        "def focal_loss_custom(alpha, gamma):\n",
        "   def binary_focal_loss(y_true, y_pred):\n",
        "      fl = tfa.losses.SigmoidFocalCrossEntropy(alpha=alpha, gamma=gamma)\n",
        "      y_true_K = K.ones_like(y_true)\n",
        "      focal_loss = fl(y_true, y_pred)\n",
        "      return focal_loss\n",
        "   return binary_focal_loss"
      ],
      "outputs": [
        {
          "output_type": "stream",
          "name": "stdout",
          "text": "Requirement already satisfied: tensorflow-addons in /anaconda/envs/azureml_py38_PT_TF/lib/python3.8/site-packages (0.16.1)\nRequirement already satisfied: typeguard>=2.7 in /anaconda/envs/azureml_py38_PT_TF/lib/python3.8/site-packages (from tensorflow-addons) (2.13.3)\nNote: you may need to restart the kernel to use updated packages.\n"
        }
      ],
      "execution_count": null,
      "metadata": {
        "jupyter": {
          "source_hidden": false,
          "outputs_hidden": false
        },
        "nteract": {
          "transient": {
            "deleting": false
          }
        },
        "gather": {
          "logged": 1648823964697
        },
        "id": "_MZ8TBXOt3h0",
        "outputId": "c41dbbc0-8ed8-42f7-f715-21c19e86e9e3"
      }
    },
    {
      "cell_type": "code",
      "source": [
        "\"\"\"from tensorflow_addons import focal_loss\n",
        "from focal_loss import sparse_categorical_focal_loss"
      ],
      "outputs": [
        {
          "output_type": "error",
          "ename": "ImportError",
          "evalue": "cannot import name 'focal_loss' from 'tensorflow_addons' (/anaconda/envs/azureml_py38_PT_TF/lib/python3.8/site-packages/tensorflow_addons/__init__.py)",
          "traceback": [
            "\u001b[0;31m---------------------------------------------------------------------------\u001b[0m",
            "\u001b[0;31mImportError\u001b[0m                               Traceback (most recent call last)",
            "\u001b[0;32m<ipython-input-160-85766e373125>\u001b[0m in \u001b[0;36m<module>\u001b[0;34m\u001b[0m\n\u001b[0;32m----> 1\u001b[0;31m \u001b[0;32mfrom\u001b[0m \u001b[0mtensorflow_addons\u001b[0m \u001b[0;32mimport\u001b[0m \u001b[0mfocal_loss\u001b[0m\u001b[0;34m\u001b[0m\u001b[0;34m\u001b[0m\u001b[0m\n\u001b[0m\u001b[1;32m      2\u001b[0m \u001b[0;32mfrom\u001b[0m \u001b[0mfocal_loss\u001b[0m \u001b[0;32mimport\u001b[0m \u001b[0msparse_categorical_focal_loss\u001b[0m\u001b[0;34m\u001b[0m\u001b[0;34m\u001b[0m\u001b[0m\n",
            "\u001b[0;31mImportError\u001b[0m: cannot import name 'focal_loss' from 'tensorflow_addons' (/anaconda/envs/azureml_py38_PT_TF/lib/python3.8/site-packages/tensorflow_addons/__init__.py)"
          ]
        }
      ],
      "execution_count": null,
      "metadata": {
        "jupyter": {
          "source_hidden": false,
          "outputs_hidden": false
        },
        "nteract": {
          "transient": {
            "deleting": false
          }
        },
        "gather": {
          "logged": 1648884192745
        },
        "id": "LQL0tQFxt3h0",
        "outputId": "f54b510d-e3a1-4064-b7ae-e9b7de5d1f75"
      }
    },
    {
      "cell_type": "code",
      "source": [
        "\"\"\"import tensorflow_addons as tfa\n",
        "f2 = tfa.losses.SigmoidFocalCrossEntropy()"
      ],
      "outputs": [],
      "execution_count": null,
      "metadata": {
        "jupyter": {
          "source_hidden": false,
          "outputs_hidden": false
        },
        "nteract": {
          "transient": {
            "deleting": false
          }
        },
        "gather": {
          "logged": 1648824031694
        },
        "id": "YrKrzhZxt3h1"
      }
    },
    {
      "cell_type": "code",
      "source": [
        "\"\"\"pip install focal-loss\n",
        "from focal_loss import SparseCategoricalFocalLoss"
      ],
      "outputs": [
        {
          "output_type": "stream",
          "name": "stdout",
          "text": "Collecting focal-loss\n  Downloading focal_loss-0.0.7-py3-none-any.whl (19 kB)\nRequirement already satisfied: tensorflow>=2.2 in /anaconda/envs/azureml_py38_PT_TF/lib/python3.8/site-packages (from focal-loss) (2.8.0)\nRequirement already satisfied: tensorflow-io-gcs-filesystem>=0.23.1 in /anaconda/envs/azureml_py38_PT_TF/lib/python3.8/site-packages (from tensorflow>=2.2->focal-loss) (0.24.0)\nRequirement already satisfied: h5py>=2.9.0 in /anaconda/envs/azureml_py38_PT_TF/lib/python3.8/site-packages (from tensorflow>=2.2->focal-loss) (3.6.0)\nRequirement already satisfied: wrapt>=1.11.0 in /anaconda/envs/azureml_py38_PT_TF/lib/python3.8/site-packages (from tensorflow>=2.2->focal-loss) (1.13.3)\nRequirement already satisfied: numpy>=1.20 in /anaconda/envs/azureml_py38_PT_TF/lib/python3.8/site-packages (from tensorflow>=2.2->focal-loss) (1.22.2)\nRequirement already satisfied: six>=1.12.0 in /anaconda/envs/azureml_py38_PT_TF/lib/python3.8/site-packages (from tensorflow>=2.2->focal-loss) (1.16.0)\nRequirement already satisfied: keras<2.9,>=2.8.0rc0 in /anaconda/envs/azureml_py38_PT_TF/lib/python3.8/site-packages (from tensorflow>=2.2->focal-loss) (2.8.0)\nRequirement already satisfied: tf-estimator-nightly==2.8.0.dev2021122109 in /anaconda/envs/azureml_py38_PT_TF/lib/python3.8/site-packages (from tensorflow>=2.2->focal-loss) (2.8.0.dev2021122109)\nRequirement already satisfied: setuptools in /anaconda/envs/azureml_py38_PT_TF/lib/python3.8/site-packages (from tensorflow>=2.2->focal-loss) (50.3.0.post20201006)\nRequirement already satisfied: google-pasta>=0.1.1 in /anaconda/envs/azureml_py38_PT_TF/lib/python3.8/site-packages (from tensorflow>=2.2->focal-loss) (0.2.0)\nRequirement already satisfied: tensorboard<2.9,>=2.8 in /anaconda/envs/azureml_py38_PT_TF/lib/python3.8/site-packages (from tensorflow>=2.2->focal-loss) (2.8.0)\nRequirement already satisfied: typing-extensions>=3.6.6 in /anaconda/envs/azureml_py38_PT_TF/lib/python3.8/site-packages (from tensorflow>=2.2->focal-loss) (4.0.1)\nRequirement already satisfied: keras-preprocessing>=1.1.1 in /anaconda/envs/azureml_py38_PT_TF/lib/python3.8/site-packages (from tensorflow>=2.2->focal-loss) (1.1.2)\nRequirement already satisfied: absl-py>=0.4.0 in /anaconda/envs/azureml_py38_PT_TF/lib/python3.8/site-packages (from tensorflow>=2.2->focal-loss) (1.0.0)\nRequirement already satisfied: protobuf>=3.9.2 in /anaconda/envs/azureml_py38_PT_TF/lib/python3.8/site-packages (from tensorflow>=2.2->focal-loss) (3.19.4)\nRequirement already satisfied: grpcio<2.0,>=1.24.3 in /anaconda/envs/azureml_py38_PT_TF/lib/python3.8/site-packages (from tensorflow>=2.2->focal-loss) (1.43.0)\nRequirement already satisfied: astunparse>=1.6.0 in /anaconda/envs/azureml_py38_PT_TF/lib/python3.8/site-packages (from tensorflow>=2.2->focal-loss) (1.6.3)\nRequirement already satisfied: flatbuffers>=1.12 in /anaconda/envs/azureml_py38_PT_TF/lib/python3.8/site-packages (from tensorflow>=2.2->focal-loss) (2.0)\nRequirement already satisfied: termcolor>=1.1.0 in /anaconda/envs/azureml_py38_PT_TF/lib/python3.8/site-packages (from tensorflow>=2.2->focal-loss) (1.1.0)\nRequirement already satisfied: gast>=0.2.1 in /anaconda/envs/azureml_py38_PT_TF/lib/python3.8/site-packages (from tensorflow>=2.2->focal-loss) (0.5.3)\nRequirement already satisfied: libclang>=9.0.1 in /anaconda/envs/azureml_py38_PT_TF/lib/python3.8/site-packages (from tensorflow>=2.2->focal-loss) (13.0.0)\nRequirement already satisfied: opt-einsum>=2.3.2 in /anaconda/envs/azureml_py38_PT_TF/lib/python3.8/site-packages (from tensorflow>=2.2->focal-loss) (3.3.0)\nRequirement already satisfied: wheel>=0.26 in /anaconda/envs/azureml_py38_PT_TF/lib/python3.8/site-packages (from tensorboard<2.9,>=2.8->tensorflow>=2.2->focal-loss) (0.35.1)\nRequirement already satisfied: google-auth<3,>=1.6.3 in /anaconda/envs/azureml_py38_PT_TF/lib/python3.8/site-packages (from tensorboard<2.9,>=2.8->tensorflow>=2.2->focal-loss) (2.6.0)\nRequirement already satisfied: tensorboard-plugin-wit>=1.6.0 in /anaconda/envs/azureml_py38_PT_TF/lib/python3.8/site-packages (from tensorboard<2.9,>=2.8->tensorflow>=2.2->focal-loss) (1.8.1)\nRequirement already satisfied: werkzeug>=0.11.15 in /anaconda/envs/azureml_py38_PT_TF/lib/python3.8/site-packages (from tensorboard<2.9,>=2.8->tensorflow>=2.2->focal-loss) (2.0.3)\nRequirement already satisfied: markdown>=2.6.8 in /anaconda/envs/azureml_py38_PT_TF/lib/python3.8/site-packages (from tensorboard<2.9,>=2.8->tensorflow>=2.2->focal-loss) (3.3.6)\nRequirement already satisfied: google-auth-oauthlib<0.5,>=0.4.1 in /anaconda/envs/azureml_py38_PT_TF/lib/python3.8/site-packages (from tensorboard<2.9,>=2.8->tensorflow>=2.2->focal-loss) (0.4.6)\nRequirement already satisfied: tensorboard-data-server<0.7.0,>=0.6.0 in /anaconda/envs/azureml_py38_PT_TF/lib/python3.8/site-packages (from tensorboard<2.9,>=2.8->tensorflow>=2.2->focal-loss) (0.6.1)\nRequirement already satisfied: requests<3,>=2.21.0 in /anaconda/envs/azureml_py38_PT_TF/lib/python3.8/site-packages (from tensorboard<2.9,>=2.8->tensorflow>=2.2->focal-loss) (2.27.1)\nRequirement already satisfied: cachetools<6.0,>=2.0.0 in /anaconda/envs/azureml_py38_PT_TF/lib/python3.8/site-packages (from google-auth<3,>=1.6.3->tensorboard<2.9,>=2.8->tensorflow>=2.2->focal-loss) (5.0.0)\nRequirement already satisfied: pyasn1-modules>=0.2.1 in /anaconda/envs/azureml_py38_PT_TF/lib/python3.8/site-packages (from google-auth<3,>=1.6.3->tensorboard<2.9,>=2.8->tensorflow>=2.2->focal-loss) (0.2.8)\nRequirement already satisfied: rsa<5,>=3.1.4; python_version >= \"3.6\" in /anaconda/envs/azureml_py38_PT_TF/lib/python3.8/site-packages (from google-auth<3,>=1.6.3->tensorboard<2.9,>=2.8->tensorflow>=2.2->focal-loss) (4.8)\nRequirement already satisfied: importlib-metadata>=4.4; python_version < \"3.10\" in /anaconda/envs/azureml_py38_PT_TF/lib/python3.8/site-packages (from markdown>=2.6.8->tensorboard<2.9,>=2.8->tensorflow>=2.2->focal-loss) (4.10.1)\nRequirement already satisfied: requests-oauthlib>=0.7.0 in /anaconda/envs/azureml_py38_PT_TF/lib/python3.8/site-packages (from google-auth-oauthlib<0.5,>=0.4.1->tensorboard<2.9,>=2.8->tensorflow>=2.2->focal-loss) (1.3.1)\nRequirement already satisfied: charset-normalizer~=2.0.0; python_version >= \"3\" in /anaconda/envs/azureml_py38_PT_TF/lib/python3.8/site-packages (from requests<3,>=2.21.0->tensorboard<2.9,>=2.8->tensorflow>=2.2->focal-loss) (2.0.11)\nRequirement already satisfied: idna<4,>=2.5; python_version >= \"3\" in /anaconda/envs/azureml_py38_PT_TF/lib/python3.8/site-packages (from requests<3,>=2.21.0->tensorboard<2.9,>=2.8->tensorflow>=2.2->focal-loss) (3.3)\nRequirement already satisfied: certifi>=2017.4.17 in /anaconda/envs/azureml_py38_PT_TF/lib/python3.8/site-packages (from requests<3,>=2.21.0->tensorboard<2.9,>=2.8->tensorflow>=2.2->focal-loss) (2021.10.8)\nRequirement already satisfied: urllib3<1.27,>=1.21.1 in /anaconda/envs/azureml_py38_PT_TF/lib/python3.8/site-packages (from requests<3,>=2.21.0->tensorboard<2.9,>=2.8->tensorflow>=2.2->focal-loss) (1.26.7)\nRequirement already satisfied: pyasn1<0.5.0,>=0.4.6 in /anaconda/envs/azureml_py38_PT_TF/lib/python3.8/site-packages (from pyasn1-modules>=0.2.1->google-auth<3,>=1.6.3->tensorboard<2.9,>=2.8->tensorflow>=2.2->focal-loss) (0.4.8)\nRequirement already satisfied: zipp>=0.5 in /anaconda/envs/azureml_py38_PT_TF/lib/python3.8/site-packages (from importlib-metadata>=4.4; python_version < \"3.10\"->markdown>=2.6.8->tensorboard<2.9,>=2.8->tensorflow>=2.2->focal-loss) (3.7.0)\nRequirement already satisfied: oauthlib>=3.0.0 in /anaconda/envs/azureml_py38_PT_TF/lib/python3.8/site-packages (from requests-oauthlib>=0.7.0->google-auth-oauthlib<0.5,>=0.4.1->tensorboard<2.9,>=2.8->tensorflow>=2.2->focal-loss) (3.2.0)\nInstalling collected packages: focal-loss\nSuccessfully installed focal-loss-0.0.7\nNote: you may need to restart the kernel to use updated packages.\n"
        }
      ],
      "execution_count": null,
      "metadata": {
        "jupyter": {
          "source_hidden": false,
          "outputs_hidden": false
        },
        "nteract": {
          "transient": {
            "deleting": false
          }
        },
        "gather": {
          "logged": 1648829606738
        },
        "id": "Rvlfy9qbt3h1",
        "outputId": "9ba6beef-e7a4-48bb-ba9d-fde8470dd1f5"
      }
    },
    {
      "cell_type": "code",
      "source": [
        "pip install dill"
      ],
      "outputs": [
        {
          "output_type": "stream",
          "name": "stdout",
          "text": "Collecting dill\n  Downloading dill-0.3.4-py2.py3-none-any.whl (86 kB)\n\u001b[K     |████████████████████████████████| 86 kB 599 kB/s  eta 0:00:01\n\u001b[?25hInstalling collected packages: dill\nSuccessfully installed dill-0.3.4\nNote: you may need to restart the kernel to use updated packages.\n"
        }
      ],
      "execution_count": null,
      "metadata": {
        "jupyter": {
          "source_hidden": false,
          "outputs_hidden": false
        },
        "nteract": {
          "transient": {
            "deleting": false
          }
        },
        "gather": {
          "logged": 1648832655054
        },
        "id": "e38ZcVV_t3h1",
        "outputId": "8caddab4-6d4b-48b9-c7da-3c3db2941b26"
      }
    },
    {
      "cell_type": "code",
      "source": [
        "from keras import backend as K\n",
        "\n",
        "import dill\n",
        "\n",
        "def categorical_focal_loss(alpha, gamma=2.):\n",
        "    \"\"\"\n",
        "    Softmax version of focal loss.\n",
        "    When there is a skew between different categories/labels in your data set, you can try to apply this function as a\n",
        "    loss.\n",
        "           m\n",
        "      FL = ∑  -alpha * (1 - p_o,c)^gamma * y_o,c * log(p_o,c)\n",
        "          c=1\n",
        "      where m = number of classes, c = class and o = observation\n",
        "    Parameters:\n",
        "      alpha -- the same as weighing factor in balanced cross entropy. Alpha is used to specify the weight of different\n",
        "      categories/labels, the size of the array needs to be consistent with the number of classes.\n",
        "      gamma -- focusing parameter for modulating factor (1-p)\n",
        "    Default value:\n",
        "      gamma -- 2.0 as mentioned in the paper\n",
        "      alpha -- 0.25 as mentioned in the paper\n",
        "    References:\n",
        "        Official paper: https://arxiv.org/pdf/1708.02002.pdf\n",
        "        https://www.tensorflow.org/api_docs/python/tf/keras/backend/categorical_crossentropy\n",
        "    Usage:\n",
        "     model.compile(loss=[categorical_focal_loss(alpha=[[.25, .25, .25]], gamma=2)], metrics=[\"accuracy\"], optimizer=adam)\n",
        "    \"\"\"\n",
        "\n",
        "    alpha = np.array(alpha, dtype=np.float32)\n",
        "\n",
        "    def categorical_focal_loss_fixed(y_true, y_pred):\n",
        "        \"\"\"\n",
        "        :param y_true: A tensor of the same shape as `y_pred`\n",
        "        :param y_pred: A tensor resulting from a softmax\n",
        "        :return: Output tensor.\n",
        "        \"\"\"\n",
        "\n",
        "        # Clip the prediction value to prevent NaN's and Inf's\n",
        "        epsilon = K.epsilon()\n",
        "        y_pred = K.clip(y_pred, epsilon, 1. - epsilon)\n",
        "\n",
        "        # Calculate Cross Entropy\n",
        "        cross_entropy = -y_true * K.log(y_pred)\n",
        "\n",
        "        # Calculate Focal Loss\n",
        "        loss = alpha * K.pow(1 - y_pred, gamma) * cross_entropy\n",
        "\n",
        "        # Compute mean loss in mini_batch\n",
        "        return K.mean(K.sum(loss, axis=-1))\n",
        "\n",
        "    return categorical_focal_loss_fixed\n",
        "\n",
        "\n",
        "if __name__ == '__main__':\n",
        "\n",
        "    # Test serialization of nested functions\n",
        "   \n",
        "\n",
        "    cat_inner = dill.loads(dill.dumps(categorical_focal_loss(gamma=2., alpha=.25)))\n",
        "    print(cat_inner)"
      ],
      "outputs": [
        {
          "output_type": "stream",
          "name": "stdout",
          "text": "<function categorical_focal_loss_fixed at 0x7f9706ce3700>\n"
        }
      ],
      "execution_count": null,
      "metadata": {
        "jupyter": {
          "source_hidden": false,
          "outputs_hidden": false
        },
        "nteract": {
          "transient": {
            "deleting": false
          }
        },
        "gather": {
          "logged": 1648832663144
        },
        "id": "20uTn8Nwt3h1",
        "outputId": "57802bfd-d3d8-4041-8eca-a58d1ea80049"
      }
    },
    {
      "cell_type": "code",
      "source": [
        "model.compile(loss=[categorical_focal_loss(alpha=[[.29, .29, .29, .13]], gamma=2)], optimizer='adam', metrics = METRICS)"
      ],
      "outputs": [],
      "execution_count": null,
      "metadata": {
        "jupyter": {
          "source_hidden": false,
          "outputs_hidden": false
        },
        "nteract": {
          "transient": {
            "deleting": false
          }
        },
        "gather": {
          "logged": 1648884212197
        },
        "id": "bc7G8tIXt3h2"
      }
    },
    {
      "cell_type": "code",
      "source": [
        "history = model.fit(trainX, trainY, epochs=50, batch_size=6, validation_split=0.1)"
      ],
      "outputs": [
        {
          "output_type": "stream",
          "name": "stdout",
          "text": "Epoch 1/50\n86/86 [==============================] - 9s 58ms/step - loss: 0.0042 - accuracy: 0.9865 - precision: 0.9754 - recall: 0.9703 - val_loss: 0.0065 - val_accuracy: 0.9698 - val_precision: 0.9474 - val_recall: 0.9310\b\b\b\b\b\b\b\b\b\b\b\b\b\b\b\b\b\b\b\b\b\b\b\b\b\b\b\b\b\b\b\b\b\b\b\b\b\b\b\nEpoch 2/50\n86/86 [==============================] - 4s 45ms/step - loss: 0.0048 - accuracy: 0.9845 - precision: 0.9689 - recall: 0.9689 - val_loss: 0.0106 - val_accuracy: 0.9397 - val_precision: 0.8793 - val_recall: 0.8793\b\b\b\b\b\b\b\b\b\b\b\b\b\b\b\b\b\b\b\b\b\b\b\b\b\b\b\b\b\b\b\b\b\b\b\nEpoch 3/50\n86/86 [==============================] - 4s 45ms/step - loss: 0.0043 - accuracy: 0.9845 - precision: 0.9708 - recall: 0.9670 - val_loss: 0.0210 - val_accuracy: 0.9655 - val_precision: 0.9310 - val_recall: 0.9310\b\b\b\b\b\b\b\b\b\b\b\b\b\b\b\b\b\b\b\b\b\b\b\b\b\b\b\b\b\b\b\b\b\b\b\nEpoch 4/50\n86/86 [==============================] - 4s 46ms/step - loss: 0.0110 - accuracy: 0.9718 - precision: 0.9437 - recall: 0.9437 - val_loss: 0.0153 - val_accuracy: 0.9569 - val_precision: 0.9138 - val_recall: 0.9138\b\b\b\b\b\b\b\b\b\b\b\b\b\b\b\b\b\b\b\b\b\b\b\b\b\b\b\b\b\b\b\b\b\b\b\nEpoch 5/50\n86/86 [==============================] - 4s 45ms/step - loss: 0.0044 - accuracy: 0.9883 - precision: 0.9786 - recall: 0.9748 - val_loss: 0.0147 - val_accuracy: 0.9655 - val_precision: 0.9310 - val_recall: 0.9310\b\b\b\b\b\b\b\b\b\b\b\b\b\b\b\b\b\b\b\b\b\b\b\b\b\b\b\b\b\b\b\b\b\b\b\nEpoch 6/50\n86/86 [==============================] - 4s 45ms/step - loss: 0.0020 - accuracy: 0.9908 - precision: 0.9825 - recall: 0.9806 - val_loss: 0.0104 - val_accuracy: 0.9698 - val_precision: 0.9474 - val_recall: 0.9310\b\b\b\b\b\b\b\b\b\b\b\b\b\b\b\b\b\b\b\b\b\b\b\b\b\b\b\b\b\b\b\b\b\b\b\nEpoch 7/50\n86/86 [==============================] - 4s 45ms/step - loss: 0.0016 - accuracy: 0.9976 - precision: 0.9961 - recall: 0.9942 - val_loss: 0.0129 - val_accuracy: 0.9569 - val_precision: 0.9138 - val_recall: 0.9138\b\b\b\b\b\b\b\b\b\b\b\b\b\b\b\b\b\b\b\b\b\b\b\b\b\b\b\b\b\b\b\b\b\b\b\nEpoch 8/50\n86/86 [==============================] - 4s 46ms/step - loss: 0.0018 - accuracy: 0.9937 - precision: 0.9883 - recall: 0.9864 - val_loss: 0.0107 - val_accuracy: 0.9569 - val_precision: 0.9138 - val_recall: 0.9138\b\b\b\b\b\b\b\b\b\b\b\b\b\b\b\b\b\b\b\b\b\b\b\b\b\b\b\b\b\b\b\b\b\b\b\nEpoch 9/50\n86/86 [==============================] - 4s 45ms/step - loss: 0.0019 - accuracy: 0.9937 - precision: 0.9883 - recall: 0.9864 - val_loss: 0.0138 - val_accuracy: 0.9569 - val_precision: 0.9138 - val_recall: 0.9138\b\b\b\b\b\b\b\b\b\b\b\b\b\b\b\b\b\b\b\b\b\b\b\b\b\b\b\b\b\b\b\b\b\b\b\nEpoch 10/50\n86/86 [==============================] - 4s 45ms/step - loss: 0.0045 - accuracy: 0.9806 - precision: 0.9612 - recall: 0.9612 - val_loss: 0.0130 - val_accuracy: 0.9828 - val_precision: 0.9655 - val_recall: 0.9655\b\b\b\b\b\b\b\b\b\b\b\b\b\b\b\b\b\b\b\b\b\b\b\b\b\b\b\b\b\b\b\b\b\b\b\nEpoch 11/50\n86/86 [==============================] - 4s 46ms/step - loss: 0.0041 - accuracy: 0.9801 - precision: 0.9629 - recall: 0.9573 - val_loss: 0.0155 - val_accuracy: 0.9310 - val_precision: 0.8621 - val_recall: 0.8621\b\b\b\b\b\b\b\b\b\b\b\b\b\b\b\b\b\b\b\b\b\b\b\b\b\b\b\b\b\b\b\b\b\b\b\nEpoch 12/50\n86/86 [==============================] - 4s 45ms/step - loss: 0.0044 - accuracy: 0.9854 - precision: 0.9709 - recall: 0.9709 - val_loss: 0.0251 - val_accuracy: 0.9310 - val_precision: 0.8621 - val_recall: 0.8621\b\b\b\b\b\b\b\b\b\b\b\b\b\b\b\b\b\b\b\b\b\b\b\b\b\b\b\b\b\b\b\b\b\b\b\nEpoch 13/50\n86/86 [==============================] - 4s 46ms/step - loss: 0.0066 - accuracy: 0.9806 - precision: 0.9630 - recall: 0.9592 - val_loss: 0.0098 - val_accuracy: 0.9353 - val_precision: 0.8772 - val_recall: 0.8621\b\b\b\b\b\b\b\b\b\b\b\b\b\b\b\b\b\b\b\b\b\b\b\b\b\b\b\nEpoch 14/50\n86/86 [==============================] - 4s 47ms/step - loss: 0.0027 - accuracy: 0.9869 - precision: 0.9766 - recall: 0.9709 - val_loss: 0.0203 - val_accuracy: 0.9138 - val_precision: 0.8276 - val_recall: 0.8276\b\b\b\b\b\b\b\b\b\b\b\b\b\b\b\b\b\b\b\b\b\b\b\b\b\b\b\b\b\b\b\b\b\b\b\nEpoch 15/50\n86/86 [==============================] - 4s 47ms/step - loss: 0.0029 - accuracy: 0.9874 - precision: 0.9748 - recall: 0.9748 - val_loss: 0.0262 - val_accuracy: 0.9224 - val_precision: 0.8448 - val_recall: 0.8448\b\b\b\b\b\b\b\b\b\b\b\b\b\b\b\b\b\b\b\b\b\b\b\b\b\b\b\b\b\b\b\b\b\b\b\nEpoch 16/50\n86/86 [==============================] - 4s 47ms/step - loss: 0.0020 - accuracy: 0.9922 - precision: 0.9845 - recall: 0.9845 - val_loss: 0.0284 - val_accuracy: 0.9224 - val_precision: 0.8448 - val_recall: 0.8448\b\b\b\b\b\b\b\b\b\b\b\b\b\b\b\b\b\b\b\b\b\b\b\b\b\b\b\b\b\b\b\b\b\b\b\nEpoch 17/50\n86/86 [==============================] - 4s 46ms/step - loss: 0.0018 - accuracy: 0.9956 - precision: 0.9922 - recall: 0.9903 - val_loss: 0.0246 - val_accuracy: 0.9397 - val_precision: 0.8793 - val_recall: 0.8793\b\b\b\b\b\b\b\b\b\b\b\b\b\b\b\b\b\b\b\b\b\b\b\b\b\b\b\nEpoch 18/50\n86/86 [==============================] - 4s 46ms/step - loss: 0.0032 - accuracy: 0.9864 - precision: 0.9728 - recall: 0.9728 - val_loss: 0.0205 - val_accuracy: 0.9310 - val_precision: 0.8621 - val_recall: 0.8621\b\b\b\b\b\b\b\b\b\b\b\b\b\b\b\b\b\b\b\b\b\b\b\b\b\b\b\b\b\b\b\b\b\b\b\nEpoch 19/50\n86/86 [==============================] - 4s 45ms/step - loss: 0.0018 - accuracy: 0.9951 - precision: 0.9903 - recall: 0.9903 - val_loss: 0.0265 - val_accuracy: 0.9483 - val_precision: 0.8966 - val_recall: 0.8966\b\b\b\b\b\b\b\b\b\b\b\b\b\b\b\b\b\b\b\b\b\b\b\b\b\b\b\b\b\b\b\b\b\b\b\nEpoch 20/50\n86/86 [==============================] - 4s 46ms/step - loss: 0.0026 - accuracy: 0.9927 - precision: 0.9864 - recall: 0.9845 - val_loss: 0.0315 - val_accuracy: 0.9483 - val_precision: 0.8966 - val_recall: 0.8966\b\b\b\b\b\b\b\b\b\b\b\b\b\b\b\b\b\b\b\b\b\b\b\b\b\b\b\b\b\b\b\b\b\b\b\nEpoch 21/50\n86/86 [==============================] - 4s 46ms/step - loss: 0.0045 - accuracy: 0.9908 - precision: 0.9825 - recall: 0.9806 - val_loss: 0.0198 - val_accuracy: 0.9397 - val_precision: 0.8793 - val_recall: 0.8793\b\b\b\b\b\b\b\b\b\b\b\b\b\b\b\b\b\b\b\b\b\b\b\b\b\b\b\b\b\b\b\b\b\b\b\nEpoch 22/50\n86/86 [==============================] - 4s 46ms/step - loss: 0.0099 - accuracy: 0.9825 - precision: 0.9650 - recall: 0.9650 - val_loss: 0.0171 - val_accuracy: 0.9655 - val_precision: 0.9310 - val_recall: 0.9310\b\b\b\b\b\b\b\b\b\b\b\b\b\b\b\b\b\b\b\b\b\b\b\b\b\b\b\b\b\b\b\b\b\b\b\nEpoch 23/50\n86/86 [==============================] - 4s 46ms/step - loss: 0.0070 - accuracy: 0.9786 - precision: 0.9591 - recall: 0.9553 - val_loss: 0.0157 - val_accuracy: 0.9569 - val_precision: 0.9138 - val_recall: 0.9138\b\b\b\b\b\b\b\b\b\b\b\b\b\b\b\b\b\b\b\b\b\b\b\b\b\b\b\nEpoch 24/50\n86/86 [==============================] - 4s 45ms/step - loss: 0.0066 - accuracy: 0.9762 - precision: 0.9569 - recall: 0.9476 - val_loss: 0.0394 - val_accuracy: 0.8664 - val_precision: 0.7368 - val_recall: 0.7241\b\b\b\b\b\b\b\b\b\b\b\b\b\b\b\b\b\b\b\b\b\b\b\b\b\b\b\b\b\b\b\b\b\b\b\nEpoch 25/50\n86/86 [==============================] - 4s 45ms/step - loss: 0.0055 - accuracy: 0.9791 - precision: 0.9591 - recall: 0.9573 - val_loss: 0.0173 - val_accuracy: 0.9483 - val_precision: 0.8966 - val_recall: 0.8966\b\b\b\b\b\b\b\b\b\b\b\b\b\b\b\b\b\b\b\b\b\b\b\b\b\b\b\b\b\b\b\b\b\b\b\nEpoch 26/50\n86/86 [==============================] - 4s 47ms/step - loss: 0.0022 - accuracy: 0.9932 - precision: 0.9864 - recall: 0.9864 - val_loss: 0.0231 - val_accuracy: 0.9310 - val_precision: 0.8621 - val_recall: 0.8621\b\b\b\b\b\b\b\b\b\b\b\b\b\b\b\b\b\b\b\b\b\b\b\b\b\b\b\nEpoch 27/50\n86/86 [==============================] - 4s 45ms/step - loss: 0.0024 - accuracy: 0.9883 - precision: 0.9786 - recall: 0.9748 - val_loss: 0.0360 - val_accuracy: 0.9138 - val_precision: 0.8276 - val_recall: 0.8276\b\b\b\b\b\b\b\b\b\b\b\b\b\b\b\b\b\b\b\b\b\b\b\b\b\b\b\nEpoch 28/50\n86/86 [==============================] - 4s 46ms/step - loss: 0.0017 - accuracy: 0.9971 - precision: 0.9942 - recall: 0.9942 - val_loss: 0.0256 - val_accuracy: 0.9353 - val_precision: 0.8772 - val_recall: 0.8621\b\b\b\b\b\b\b\b\b\b\b\b\b\b\b\b\b\b\b\b\b\b\b\b\b\b\b\b\b\b\b\b\b\b\b\nEpoch 29/50\n86/86 [==============================] - 4s 45ms/step - loss: 0.0016 - accuracy: 0.9961 - precision: 0.9922 - recall: 0.9922 - val_loss: 0.0314 - val_accuracy: 0.9224 - val_precision: 0.8448 - val_recall: 0.8448\b\b\b\b\b\b\b\b\b\b\b\b\b\b\b\b\b\b\b\b\b\b\b\b\b\b\b\b\b\b\b\b\b\b\b\nEpoch 30/50\n86/86 [==============================] - 4s 45ms/step - loss: 0.0013 - accuracy: 0.9985 - precision: 0.9981 - recall: 0.9961 - val_loss: 0.0283 - val_accuracy: 0.9224 - val_precision: 0.8448 - val_recall: 0.8448\b\b\b\b\b\b\b\b\b\b\b\b\b\b\b\b\b\b\b\b\b\b\b\b\b\b\b\b\b\b\b\b\b\b\b\nEpoch 31/50\n86/86 [==============================] - 4s 45ms/step - loss: 0.0013 - accuracy: 0.9981 - precision: 0.9961 - recall: 0.9961 - val_loss: 0.0357 - val_accuracy: 0.9224 - val_precision: 0.8448 - val_recall: 0.8448\b\b\b\b\b\b\b\b\b\b\b\b\b\b\b\b\b\b\b\b\b\b\b\b\b\b\b\b\b\b\b\b\b\b\b\nEpoch 32/50\n86/86 [==============================] - 4s 47ms/step - loss: 0.0012 - accuracy: 0.9942 - precision: 0.9883 - recall: 0.9883 - val_loss: 0.0229 - val_accuracy: 0.9310 - val_precision: 0.8621 - val_recall: 0.8621\b\b\b\b\b\b\b\b\b\b\b\b\b\b\b\b\b\b\b\b\b\b\b\b\b\b\b\b\b\b\b\b\b\b\b\nEpoch 33/50\n86/86 [==============================] - 4s 49ms/step - loss: 8.8742e-04 - accuracy: 0.9971 - precision: 0.9942 - recall: 0.9942 - val_loss: 0.0237 - val_accuracy: 0.9224 - val_precision: 0.8448 - val_recall: 0.8448\b\b\b\b\b\b\b\b\b\b\b\b\b\b\b\b\b\b\b\b\b\b\b\b\b\b\b\b\b\b\b\nEpoch 34/50\n86/86 [==============================] - 4s 45ms/step - loss: 0.0012 - accuracy: 0.9961 - precision: 0.9922 - recall: 0.9922 - val_loss: 0.0290 - val_accuracy: 0.9224 - val_precision: 0.8448 - val_recall: 0.8448\b\b\b\b\b\b\b\b\b\b\b\b\b\b\b\b\b\b\b\b\b\b\b\b\b\b\b\b\b\b\b\b\b\b\b\nEpoch 35/50\n86/86 [==============================] - 4s 46ms/step - loss: 9.7561e-04 - accuracy: 0.9971 - precision: 0.9942 - recall: 0.9942 - val_loss: 0.0327 - val_accuracy: 0.9310 - val_precision: 0.8621 - val_recall: 0.8621\b\b\b\b\b\b\b\b\b\b\b\b\b\b\b\b\b\b\b\b\b\b\b\b\b\b\b\b\b\b\b\nEpoch 36/50\n86/86 [==============================] - 4s 46ms/step - loss: 0.0014 - accuracy: 0.9942 - precision: 0.9883 - recall: 0.9883 - val_loss: 0.0180 - val_accuracy: 0.9310 - val_precision: 0.8621 - val_recall: 0.8621\b\b\b\b\b\b\b\b\b\b\b\b\b\b\b\b\b\b\b\b\b\b\b\b\b\b\b\b\b\b\b\b\b\b\b\nEpoch 37/50\n86/86 [==============================] - 4s 47ms/step - loss: 0.0055 - accuracy: 0.9845 - precision: 0.9708 - recall: 0.9670 - val_loss: 0.0337 - val_accuracy: 0.8966 - val_precision: 0.7931 - val_recall: 0.7931\b\b\b\b\b\b\b\b\b\b\b\b\b\b\b\b\b\b\b\b\b\b\b\b\b\b\b\b\b\b\b\b\b\b\b\nEpoch 38/50\n86/86 [==============================] - 4s 46ms/step - loss: 0.0022 - accuracy: 0.9903 - precision: 0.9806 - recall: 0.9806 - val_loss: 0.0222 - val_accuracy: 0.9397 - val_precision: 0.8793 - val_recall: 0.8793\b\b\b\b\b\b\b\b\b\b\b\b\b\b\b\b\b\b\b\b\b\b\b\b\b\b\b\nEpoch 39/50\n86/86 [==============================] - 4s 46ms/step - loss: 0.0020 - accuracy: 0.9913 - precision: 0.9825 - recall: 0.9825 - val_loss: 0.0271 - val_accuracy: 0.9397 - val_precision: 0.8793 - val_recall: 0.8793\b\b\b\b\b\b\b\b\b\b\b\b\b\b\b\b\b\b\b\b\b\b\b\b\b\b\b\b\b\b\b\b\b\b\b\nEpoch 40/50\n86/86 [==============================] - 4s 46ms/step - loss: 0.0013 - accuracy: 0.9956 - precision: 0.9922 - recall: 0.9903 - val_loss: 0.0256 - val_accuracy: 0.9138 - val_precision: 0.8276 - val_recall: 0.8276\b\b\b\b\b\b\b\b\b\b\b\b\b\b\b\b\b\b\b\b\b\b\b\b\b\b\b\b\b\b\b\b\b\b\b\nEpoch 41/50\n86/86 [==============================] - 4s 46ms/step - loss: 0.0012 - accuracy: 0.9951 - precision: 0.9903 - recall: 0.9903 - val_loss: 0.0257 - val_accuracy: 0.9397 - val_precision: 0.8793 - val_recall: 0.8793\b\b\b\b\b\b\b\b\b\b\b\b\b\b\b\b\b\b\b\b\b\b\b\b\b\b\b\b\b\b\b\b\b\b\b\nEpoch 42/50\n86/86 [==============================] - 4s 45ms/step - loss: 8.5170e-04 - accuracy: 0.9971 - precision: 0.9942 - recall: 0.9942 - val_loss: 0.0290 - val_accuracy: 0.9310 - val_precision: 0.8621 - val_recall: 0.8621\b\b\b\b\b\b\b\b\b\b\b\b\b\b\b\b\b\b\b\b\b\b\b\b\b\b\b\b\b\b\b\nEpoch 43/50\n86/86 [==============================] - 4s 45ms/step - loss: 0.0014 - accuracy: 0.9947 - precision: 0.9903 - recall: 0.9883 - val_loss: 0.0215 - val_accuracy: 0.9138 - val_precision: 0.8276 - val_recall: 0.8276\b\b\b\b\b\b\b\b\b\b\b\b\b\b\b\b\b\b\b\b\b\b\b\b\b\b\b\b\b\b\b\b\b\b\b\nEpoch 44/50\n86/86 [==============================] - 4s 45ms/step - loss: 0.0021 - accuracy: 0.9903 - precision: 0.9825 - recall: 0.9786 - val_loss: 0.0298 - val_accuracy: 0.9397 - val_precision: 0.8793 - val_recall: 0.8793\b\b\b\b\b\b\b\b\b\b\b\b\b\b\b\b\b\b\b\b\b\b\b\b\b\b\b\b\b\b\b\b\b\b\b\nEpoch 45/50\n86/86 [==============================] - 4s 46ms/step - loss: 0.0163 - accuracy: 0.9675 - precision: 0.9375 - recall: 0.9320 - val_loss: 0.0278 - val_accuracy: 0.9224 - val_precision: 0.8448 - val_recall: 0.8448\b\b\b\b\b\b\b\b\b\b\b\b\b\b\b\b\b\b\b\b\b\b\b\b\b\b\b\nEpoch 46/50\n86/86 [==============================] - 4s 46ms/step - loss: 0.0131 - accuracy: 0.9689 - precision: 0.9379 - recall: 0.9379 - val_loss: 0.0126 - val_accuracy: 0.9569 - val_precision: 0.9138 - val_recall: 0.9138\b\b\b\b\b\b\b\b\b\b\b\b\b\b\b\b\b\b\b\b\b\b\b\b\b\b\b\b\b\b\b\b\b\b\b\nEpoch 47/50\n86/86 [==============================] - 4s 45ms/step - loss: 0.0035 - accuracy: 0.9883 - precision: 0.9767 - recall: 0.9767 - val_loss: 0.0208 - val_accuracy: 0.9483 - val_precision: 0.8966 - val_recall: 0.8966\b\b\b\b\b\b\b\b\b\b\b\b\b\b\b\b\b\b\b\b\b\b\b\b\b\b\b\b\b\b\b\b\b\b\b\nEpoch 48/50\n86/86 [==============================] - 4s 45ms/step - loss: 0.0035 - accuracy: 0.9830 - precision: 0.9688 - recall: 0.9631 - val_loss: 0.0190 - val_accuracy: 0.9310 - val_precision: 0.8621 - val_recall: 0.8621\b\b\b\b\b\b\b\b\b\b\b\b\b\b\b\b\b\b\b\b\b\b\b\b\b\b\b\b\b\b\b\b\b\b\b\nEpoch 49/50\n86/86 [==============================] - 4s 45ms/step - loss: 0.0019 - accuracy: 0.9947 - precision: 0.9903 - recall: 0.9883 - val_loss: 0.0220 - val_accuracy: 0.9267 - val_precision: 0.8596 - val_recall: 0.8448\b\b\b\b\b\b\b\b\b\b\b\b\b\b\b\b\b\b\b\b\b\b\b\b\b\b\b\b\b\b\b\b\b\b\b\nEpoch 50/50\n86/86 [==============================] - 4s 45ms/step - loss: 0.0024 - accuracy: 0.9922 - precision: 0.9864 - recall: 0.9825 - val_loss: 0.0288 - val_accuracy: 0.9052 - val_precision: 0.8103 - val_recall: 0.8103\b\b\b\b\b\b\b\b\b\b\b\b\b\b\b\b\b\b\b\b\b\b\b\b\b\b\b\b\b\b\b\b\b\b\b\n"
        }
      ],
      "execution_count": null,
      "metadata": {
        "jupyter": {
          "source_hidden": false,
          "outputs_hidden": false
        },
        "nteract": {
          "transient": {
            "deleting": false
          }
        },
        "gather": {
          "logged": 1648884417938
        },
        "id": "3vJRa6GAt3h2",
        "outputId": "21c36d53-74a8-46c8-ddf9-bce0d8bc471d"
      }
    },
    {
      "cell_type": "code",
      "source": [
        "plt.plot(history.history['loss'], label='Training loss')\n",
        "plt.plot(history.history['val_loss'], label='Validation loss')\n",
        "plt.legend()"
      ],
      "outputs": [
        {
          "output_type": "execute_result",
          "execution_count": 176,
          "data": {
            "text/plain": "<matplotlib.legend.Legend at 0x7f96fd4e6e20>"
          },
          "metadata": {}
        },
        {
          "output_type": "display_data",
          "data": {
            "text/plain": "<Figure size 432x288 with 1 Axes>",
            "image/png": "[encoded data removed]"
          },
          "metadata": {
            "needs_background": "light"
          }
        }
      ],
      "execution_count": null,
      "metadata": {
        "jupyter": {
          "source_hidden": false,
          "outputs_hidden": false
        },
        "nteract": {
          "transient": {
            "deleting": false
          }
        },
        "gather": {
          "logged": 1648884439319
        },
        "id": "Ka09gx04t3h3",
        "outputId": "e205738a-e154-48d3-c152-d5476d5145b9"
      }
    },
    {
      "cell_type": "code",
      "source": [
        "#Forecasting\n",
        "#as inputs for prediction. We only have all 4 variables until the last day in our dataset.\n",
        "n_future = 73\n",
        "n_months_for_prediction=72  #let us predict past 72 months\n",
        "train_dates = Training_Dates.values\n",
        "forecast_period_dates = pd.date_range(list(train_dates)[-n_future], periods=n_months_for_prediction, freq='M').tolist()\n",
        "print(forecast_period_dates)"
      ],
      "outputs": [
        {
          "output_type": "stream",
          "name": "stdout",
          "text": "[Timestamp('2014-08-31 00:00:00', freq='M'), Timestamp('2014-09-30 00:00:00', freq='M'), Timestamp('2014-10-31 00:00:00', freq='M'), Timestamp('2014-11-30 00:00:00', freq='M'), Timestamp('2014-12-31 00:00:00', freq='M'), Timestamp('2015-01-31 00:00:00', freq='M'), Timestamp('2015-02-28 00:00:00', freq='M'), Timestamp('2015-03-31 00:00:00', freq='M'), Timestamp('2015-04-30 00:00:00', freq='M'), Timestamp('2015-05-31 00:00:00', freq='M'), Timestamp('2015-06-30 00:00:00', freq='M'), Timestamp('2015-07-31 00:00:00', freq='M'), Timestamp('2015-08-31 00:00:00', freq='M'), Timestamp('2015-09-30 00:00:00', freq='M'), Timestamp('2015-10-31 00:00:00', freq='M'), Timestamp('2015-11-30 00:00:00', freq='M'), Timestamp('2015-12-31 00:00:00', freq='M'), Timestamp('2016-01-31 00:00:00', freq='M'), Timestamp('2016-02-29 00:00:00', freq='M'), Timestamp('2016-03-31 00:00:00', freq='M'), Timestamp('2016-04-30 00:00:00', freq='M'), Timestamp('2016-05-31 00:00:00', freq='M'), Timestamp('2016-06-30 00:00:00', freq='M'), Timestamp('2016-07-31 00:00:00', freq='M'), Timestamp('2016-08-31 00:00:00', freq='M'), Timestamp('2016-09-30 00:00:00', freq='M'), Timestamp('2016-10-31 00:00:00', freq='M'), Timestamp('2016-11-30 00:00:00', freq='M'), Timestamp('2016-12-31 00:00:00', freq='M'), Timestamp('2017-01-31 00:00:00', freq='M'), Timestamp('2017-02-28 00:00:00', freq='M'), Timestamp('2017-03-31 00:00:00', freq='M'), Timestamp('2017-04-30 00:00:00', freq='M'), Timestamp('2017-05-31 00:00:00', freq='M'), Timestamp('2017-06-30 00:00:00', freq='M'), Timestamp('2017-07-31 00:00:00', freq='M'), Timestamp('2017-08-31 00:00:00', freq='M'), Timestamp('2017-09-30 00:00:00', freq='M'), Timestamp('2017-10-31 00:00:00', freq='M'), Timestamp('2017-11-30 00:00:00', freq='M'), Timestamp('2017-12-31 00:00:00', freq='M'), Timestamp('2018-01-31 00:00:00', freq='M'), Timestamp('2018-02-28 00:00:00', freq='M'), Timestamp('2018-03-31 00:00:00', freq='M'), Timestamp('2018-04-30 00:00:00', freq='M'), Timestamp('2018-05-31 00:00:00', freq='M'), Timestamp('2018-06-30 00:00:00', freq='M'), Timestamp('2018-07-31 00:00:00', freq='M'), Timestamp('2018-08-31 00:00:00', freq='M'), Timestamp('2018-09-30 00:00:00', freq='M'), Timestamp('2018-10-31 00:00:00', freq='M'), Timestamp('2018-11-30 00:00:00', freq='M'), Timestamp('2018-12-31 00:00:00', freq='M'), Timestamp('2019-01-31 00:00:00', freq='M'), Timestamp('2019-02-28 00:00:00', freq='M'), Timestamp('2019-03-31 00:00:00', freq='M'), Timestamp('2019-04-30 00:00:00', freq='M'), Timestamp('2019-05-31 00:00:00', freq='M'), Timestamp('2019-06-30 00:00:00', freq='M'), Timestamp('2019-07-31 00:00:00', freq='M'), Timestamp('2019-08-31 00:00:00', freq='M'), Timestamp('2019-09-30 00:00:00', freq='M'), Timestamp('2019-10-31 00:00:00', freq='M'), Timestamp('2019-11-30 00:00:00', freq='M'), Timestamp('2019-12-31 00:00:00', freq='M'), Timestamp('2020-01-31 00:00:00', freq='M'), Timestamp('2020-02-29 00:00:00', freq='M'), Timestamp('2020-03-31 00:00:00', freq='M'), Timestamp('2020-04-30 00:00:00', freq='M'), Timestamp('2020-05-31 00:00:00', freq='M'), Timestamp('2020-06-30 00:00:00', freq='M'), Timestamp('2020-07-31 00:00:00', freq='M')]\n"
        }
      ],
      "execution_count": null,
      "metadata": {
        "jupyter": {
          "source_hidden": false,
          "outputs_hidden": false
        },
        "nteract": {
          "transient": {
            "deleting": false
          }
        },
        "gather": {
          "logged": 1648884648103
        },
        "id": "dCULSnHOt3h3",
        "outputId": "9728aa8d-0bb4-4826-aab2-32fd19095a05"
      }
    },
    {
      "cell_type": "code",
      "source": [
        "# Convert timestamp to date\n",
        "forecast_dates = []\n",
        "for time_i in forecast_period_dates:\n",
        "    forecast_dates.append(time_i.date())\n",
        "\n",
        "print(forecast_dates)"
      ],
      "outputs": [
        {
          "output_type": "stream",
          "name": "stdout",
          "text": "[datetime.date(2014, 8, 31), datetime.date(2014, 9, 30), datetime.date(2014, 10, 31), datetime.date(2014, 11, 30), datetime.date(2014, 12, 31), datetime.date(2015, 1, 31), datetime.date(2015, 2, 28), datetime.date(2015, 3, 31), datetime.date(2015, 4, 30), datetime.date(2015, 5, 31), datetime.date(2015, 6, 30), datetime.date(2015, 7, 31), datetime.date(2015, 8, 31), datetime.date(2015, 9, 30), datetime.date(2015, 10, 31), datetime.date(2015, 11, 30), datetime.date(2015, 12, 31), datetime.date(2016, 1, 31), datetime.date(2016, 2, 29), datetime.date(2016, 3, 31), datetime.date(2016, 4, 30), datetime.date(2016, 5, 31), datetime.date(2016, 6, 30), datetime.date(2016, 7, 31), datetime.date(2016, 8, 31), datetime.date(2016, 9, 30), datetime.date(2016, 10, 31), datetime.date(2016, 11, 30), datetime.date(2016, 12, 31), datetime.date(2017, 1, 31), datetime.date(2017, 2, 28), datetime.date(2017, 3, 31), datetime.date(2017, 4, 30), datetime.date(2017, 5, 31), datetime.date(2017, 6, 30), datetime.date(2017, 7, 31), datetime.date(2017, 8, 31), datetime.date(2017, 9, 30), datetime.date(2017, 10, 31), datetime.date(2017, 11, 30), datetime.date(2017, 12, 31), datetime.date(2018, 1, 31), datetime.date(2018, 2, 28), datetime.date(2018, 3, 31), datetime.date(2018, 4, 30), datetime.date(2018, 5, 31), datetime.date(2018, 6, 30), datetime.date(2018, 7, 31), datetime.date(2018, 8, 31), datetime.date(2018, 9, 30), datetime.date(2018, 10, 31), datetime.date(2018, 11, 30), datetime.date(2018, 12, 31), datetime.date(2019, 1, 31), datetime.date(2019, 2, 28), datetime.date(2019, 3, 31), datetime.date(2019, 4, 30), datetime.date(2019, 5, 31), datetime.date(2019, 6, 30), datetime.date(2019, 7, 31), datetime.date(2019, 8, 31), datetime.date(2019, 9, 30), datetime.date(2019, 10, 31), datetime.date(2019, 11, 30), datetime.date(2019, 12, 31), datetime.date(2020, 1, 31), datetime.date(2020, 2, 29), datetime.date(2020, 3, 31), datetime.date(2020, 4, 30), datetime.date(2020, 5, 31), datetime.date(2020, 6, 30), datetime.date(2020, 7, 31)]\n"
        }
      ],
      "execution_count": null,
      "metadata": {
        "jupyter": {
          "source_hidden": false,
          "outputs_hidden": false
        },
        "nteract": {
          "transient": {
            "deleting": false
          }
        },
        "gather": {
          "logged": 1648884657466
        },
        "id": "tWO2ofXAt3h3",
        "outputId": "4d42dead-f12e-4abe-fa87-1f07965a0fe1"
      }
    },
    {
      "cell_type": "code",
      "source": [
        "#Make prediction\n",
        "prediction = model.predict(trainX[-n_months_for_prediction:]) "
      ],
      "outputs": [],
      "execution_count": null,
      "metadata": {
        "jupyter": {
          "source_hidden": false,
          "outputs_hidden": false
        },
        "nteract": {
          "transient": {
            "deleting": false
          }
        },
        "gather": {
          "logged": 1648884671900
        },
        "id": "0oVP9PAwt3h4"
      }
    },
    {
      "cell_type": "code",
      "source": [
        "prediction.shape\n",
        "ypred = prediction"
      ],
      "outputs": [
        {
          "output_type": "execute_result",
          "execution_count": 181,
          "data": {
            "text/plain": "(72, 4)"
          },
          "metadata": {}
        }
      ],
      "execution_count": null,
      "metadata": {
        "jupyter": {
          "source_hidden": false,
          "outputs_hidden": false
        },
        "nteract": {
          "transient": {
            "deleting": false
          }
        },
        "gather": {
          "logged": 1648884690083
        },
        "id": "GBEgTCgHt3h4",
        "outputId": "f97fd642-edda-4172-c010-5aacd6b70c38"
      }
    },
    {
      "cell_type": "code",
      "source": [
        "# make predictions\n",
        "trainPredict = model.predict(trainX)\n",
        "testPredict = model.predict(testX)"
      ],
      "outputs": [],
      "execution_count": null,
      "metadata": {
        "jupyter": {
          "source_hidden": false,
          "outputs_hidden": false
        },
        "nteract": {
          "transient": {
            "deleting": false
          }
        },
        "gather": {
          "logged": 1648852666951
        },
        "id": "WyoZu9VEt3h4"
      }
    },
    {
      "cell_type": "code",
      "source": [
        "trainPredict.shape"
      ],
      "outputs": [
        {
          "output_type": "execute_result",
          "execution_count": 162,
          "data": {
            "text/plain": "(573, 4)"
          },
          "metadata": {}
        }
      ],
      "execution_count": null,
      "metadata": {
        "jupyter": {
          "source_hidden": false,
          "outputs_hidden": false
        },
        "nteract": {
          "transient": {
            "deleting": false
          }
        },
        "gather": {
          "logged": 1648852669982
        },
        "id": "Gj4S0sQkt3h4",
        "outputId": "8444cf06-4ff2-4b54-b0e0-96e258c0d5a8"
      }
    },
    {
      "cell_type": "code",
      "source": [
        "trainPredict"
      ],
      "outputs": [
        {
          "output_type": "execute_result",
          "execution_count": 163,
          "data": {
            "text/plain": "array([[1.24806808e-02, 2.35415518e-01, 9.47688892e-03, 7.42626905e-01],\n       [2.74465024e-01, 1.04836136e-01, 1.70286745e-03, 6.18996024e-01],\n       [7.95186460e-01, 5.10069402e-03, 1.06775784e-04, 1.99606135e-01],\n       ...,\n       [5.54442592e-02, 9.99366603e-05, 1.70057797e-06, 9.44454074e-01],\n       [5.08764423e-02, 6.72445094e-05, 9.38913308e-06, 9.49046969e-01],\n       [3.96474339e-02, 4.65536032e-05, 8.28483535e-05, 9.60223198e-01]],\n      dtype=float32)"
          },
          "metadata": {}
        }
      ],
      "execution_count": null,
      "metadata": {
        "jupyter": {
          "source_hidden": false,
          "outputs_hidden": false
        },
        "nteract": {
          "transient": {
            "deleting": false
          }
        },
        "gather": {
          "logged": 1648852673207
        },
        "id": "07dlDS0Kt3h5",
        "outputId": "38c0d1ee-4f9a-4028-c9d6-e48c19dcbd09"
      }
    },
    {
      "cell_type": "code",
      "source": [
        "np.argmax(trainPredict, axis=1)"
      ],
      "outputs": [
        {
          "output_type": "execute_result",
          "execution_count": 164,
          "data": {
            "text/plain": "array([3, 3, 0, 3, 3, 3, 3, 3, 3, 3, 3, 3, 3, 3, 3, 3, 3, 3, 3, 3, 3, 3,\n       3, 3, 3, 3, 3, 1, 1, 3, 3, 3, 3, 3, 3, 3, 3, 3, 3, 3, 3, 3, 3, 3,\n       3, 3, 3, 3, 3, 3, 3, 1, 1, 3, 3, 3, 3, 3, 3, 3, 3, 3, 3, 3, 3, 3,\n       3, 3, 3, 3, 3, 3, 2, 2, 3, 3, 3, 3, 3, 3, 3, 3, 3, 0, 0, 3, 3, 3,\n       0, 3, 3, 3, 3, 3, 3, 3, 3, 3, 3, 3, 1, 3, 3, 3, 3, 3, 3, 3, 0, 0,\n       0, 3, 3, 3, 3, 3, 3, 3, 3, 3, 3, 3, 3, 3, 3, 3, 3, 3, 3, 3, 3, 3,\n       2, 3, 3, 1, 3, 3, 3, 3, 3, 3, 3, 3, 3, 3, 3, 3, 0, 3, 3, 3, 0, 3,\n       3, 3, 0, 3, 3, 3, 3, 3, 3, 3, 3, 3, 3, 0, 0, 0, 0, 3, 3, 3, 3, 3,\n       3, 3, 3, 3, 3, 3, 3, 3, 3, 3, 0, 3, 3, 0, 3, 2, 3, 3, 3, 3, 3, 3,\n       3, 3, 3, 3, 3, 3, 3, 0, 3, 3, 3, 3, 3, 3, 3, 3, 3, 3, 3, 3, 3, 3,\n       3, 3, 3, 3, 3, 3, 3, 3, 3, 3, 3, 0, 3, 3, 3, 3, 3, 3, 3, 2, 3, 0,\n       0, 3, 0, 3, 3, 3, 3, 3, 3, 3, 3, 3, 3, 1, 0, 3, 3, 3, 3, 3, 3, 3,\n       3, 3, 3, 3, 0, 0, 3, 3, 3, 3, 3, 2, 0, 3, 3, 3, 3, 3, 3, 3, 3, 3,\n       3, 3, 3, 3, 1, 1, 3, 3, 3, 3, 3, 3, 3, 3, 3, 3, 3, 3, 0, 0, 3, 3,\n       3, 3, 3, 3, 3, 3, 3, 3, 3, 3, 3, 3, 3, 3, 3, 2, 2, 3, 3, 3, 3, 3,\n       3, 3, 3, 3, 3, 3, 2, 3, 3, 3, 3, 3, 2, 3, 3, 3, 3, 3, 3, 3, 3, 3,\n       1, 3, 3, 3, 3, 3, 0, 3, 3, 0, 3, 3, 3, 3, 3, 3, 3, 3, 3, 3, 3, 3,\n       3, 3, 3, 3, 3, 3, 3, 3, 3, 3, 3, 3, 3, 3, 3, 3, 3, 0, 3, 3, 0, 3,\n       3, 2, 3, 3, 3, 3, 2, 3, 3, 3, 3, 3, 3, 3, 3, 3, 3, 3, 3, 3, 3, 3,\n       3, 3, 3, 3, 3, 3, 3, 0, 3, 3, 3, 3, 3, 3, 3, 3, 3, 3, 3, 3, 3, 3,\n       3, 3, 3, 3, 3, 3, 3, 3, 3, 3, 3, 3, 3, 3, 3, 3, 3, 0, 3, 3, 3, 3,\n       3, 3, 3, 3, 3, 3, 3, 3, 3, 3, 3, 0, 3, 3, 3, 3, 3, 3, 2, 3, 3, 1,\n       3, 3, 3, 3, 3, 3, 2, 3, 3, 3, 3, 3, 3, 3, 3, 3, 3, 3, 3, 3, 3, 3,\n       3, 3, 3, 3, 3, 3, 3, 3, 3, 3, 3, 0, 3, 3, 3, 3, 3, 3, 3, 3, 3, 3,\n       3, 3, 1, 3, 3, 3, 3, 3, 3, 3, 3, 3, 3, 3, 3, 3, 3, 3, 3, 3, 3, 3,\n       3, 3, 3, 3, 1, 1, 1, 3, 3, 3, 3, 3, 3, 3, 3, 3, 3, 3, 3, 3, 3, 3,\n       3])"
          },
          "metadata": {}
        }
      ],
      "execution_count": null,
      "metadata": {
        "jupyter": {
          "source_hidden": false,
          "outputs_hidden": false
        },
        "nteract": {
          "transient": {
            "deleting": false
          }
        },
        "gather": {
          "logged": 1648852695961
        },
        "id": "jMZvuJw3t3h5",
        "outputId": "30d07c44-52d7-4c3e-c27f-b2e5351d1d63"
      }
    },
    {
      "cell_type": "code",
      "source": [
        "trainY"
      ],
      "outputs": [
        {
          "output_type": "execute_result",
          "execution_count": 165,
          "data": {
            "text/plain": "array([[0., 0., 0., 1.],\n       [0., 0., 0., 1.],\n       [1., 0., 0., 0.],\n       ...,\n       [0., 0., 0., 1.],\n       [0., 0., 0., 1.],\n       [0., 0., 0., 1.]])"
          },
          "metadata": {}
        }
      ],
      "execution_count": null,
      "metadata": {
        "jupyter": {
          "source_hidden": false,
          "outputs_hidden": false
        },
        "nteract": {
          "transient": {
            "deleting": false
          }
        },
        "gather": {
          "logged": 1648852705291
        },
        "id": "r_3txtzMt3h5",
        "outputId": "1169dc82-afc6-44ce-dcbd-012e6c270d33"
      }
    },
    {
      "cell_type": "code",
      "source": [
        "np.argmax(trainY, axis=1)"
      ],
      "outputs": [
        {
          "output_type": "execute_result",
          "execution_count": 166,
          "data": {
            "text/plain": "array([3, 3, 0, 3, 3, 3, 3, 3, 3, 3, 3, 3, 3, 3, 3, 3, 3, 3, 3, 3, 3, 3,\n       3, 3, 3, 3, 3, 3, 1, 3, 3, 3, 3, 3, 3, 3, 3, 3, 3, 3, 3, 3, 3, 3,\n       3, 3, 3, 3, 3, 3, 3, 3, 1, 3, 3, 3, 3, 3, 3, 3, 3, 3, 3, 3, 3, 3,\n       3, 3, 3, 3, 3, 3, 3, 2, 3, 3, 3, 3, 3, 3, 3, 3, 3, 3, 0, 3, 3, 3,\n       0, 3, 3, 3, 3, 3, 3, 3, 3, 3, 3, 3, 1, 3, 3, 3, 3, 3, 3, 3, 3, 0,\n       0, 3, 3, 3, 3, 3, 3, 3, 3, 3, 3, 3, 3, 3, 3, 3, 3, 3, 3, 3, 3, 3,\n       2, 3, 3, 1, 3, 3, 3, 3, 3, 3, 3, 3, 3, 3, 3, 3, 0, 3, 3, 3, 0, 3,\n       3, 3, 0, 3, 3, 3, 3, 3, 3, 3, 3, 3, 3, 3, 3, 0, 0, 3, 3, 3, 3, 3,\n       3, 3, 3, 3, 3, 3, 3, 3, 3, 3, 0, 3, 3, 0, 3, 2, 3, 3, 3, 3, 3, 3,\n       3, 3, 3, 3, 3, 3, 3, 0, 3, 3, 3, 3, 3, 3, 3, 3, 3, 3, 3, 3, 3, 3,\n       3, 3, 3, 3, 3, 3, 3, 3, 3, 3, 3, 0, 3, 3, 3, 3, 3, 3, 3, 2, 3, 0,\n       0, 3, 0, 3, 3, 3, 3, 3, 3, 3, 3, 3, 3, 1, 0, 3, 3, 3, 3, 3, 3, 3,\n       3, 3, 3, 3, 0, 0, 3, 3, 3, 3, 3, 2, 0, 3, 3, 3, 3, 3, 3, 3, 3, 3,\n       3, 3, 3, 3, 3, 1, 3, 3, 3, 3, 3, 3, 3, 3, 3, 3, 3, 3, 0, 0, 3, 3,\n       3, 3, 3, 3, 3, 3, 3, 3, 3, 3, 3, 3, 3, 3, 3, 2, 2, 3, 3, 3, 3, 3,\n       3, 3, 3, 3, 3, 3, 2, 3, 3, 3, 3, 3, 2, 3, 3, 3, 3, 3, 3, 3, 3, 3,\n       1, 3, 3, 3, 3, 3, 0, 3, 3, 0, 3, 3, 3, 3, 3, 3, 3, 3, 3, 3, 3, 3,\n       3, 3, 3, 3, 3, 3, 3, 3, 3, 3, 3, 3, 3, 3, 3, 3, 3, 0, 3, 3, 0, 3,\n       3, 2, 3, 3, 3, 3, 2, 3, 3, 3, 3, 3, 3, 3, 3, 3, 3, 3, 3, 3, 3, 3,\n       3, 3, 3, 3, 3, 3, 3, 0, 3, 3, 3, 3, 3, 3, 3, 3, 3, 3, 3, 3, 3, 3,\n       3, 3, 3, 3, 3, 3, 3, 3, 3, 3, 3, 3, 3, 3, 3, 3, 3, 0, 3, 3, 3, 3,\n       3, 3, 3, 3, 3, 3, 3, 3, 3, 3, 3, 0, 3, 3, 3, 3, 3, 3, 2, 3, 3, 1,\n       3, 3, 3, 3, 3, 3, 2, 3, 3, 3, 3, 3, 3, 3, 3, 3, 3, 3, 3, 3, 3, 3,\n       3, 3, 3, 3, 3, 3, 3, 3, 3, 3, 3, 0, 3, 3, 3, 3, 3, 3, 3, 3, 3, 3,\n       3, 3, 1, 3, 3, 3, 3, 3, 3, 3, 3, 3, 3, 3, 3, 3, 3, 3, 3, 3, 3, 3,\n       3, 3, 3, 3, 3, 1, 1, 3, 3, 3, 3, 3, 3, 3, 3, 3, 3, 3, 3, 3, 3, 3,\n       3])"
          },
          "metadata": {}
        }
      ],
      "execution_count": null,
      "metadata": {
        "jupyter": {
          "source_hidden": false,
          "outputs_hidden": false
        },
        "nteract": {
          "transient": {
            "deleting": false
          }
        },
        "gather": {
          "logged": 1648852712952
        },
        "id": "Nm0Gei4Mt3h5",
        "outputId": "4412fedc-7661-4bd8-e78e-09d5f5356ae8"
      }
    },
    {
      "cell_type": "code",
      "source": [
        "np.argmax(testPredict, axis=1)"
      ],
      "outputs": [
        {
          "output_type": "execute_result",
          "execution_count": 167,
          "data": {
            "text/plain": "array([3, 3, 3, 3, 3, 3, 3, 3, 3, 3, 3, 3, 3, 3, 3, 3, 3, 1, 3, 3, 3, 3,\n       3, 3, 3, 3, 3, 3, 3, 3, 3, 3, 0, 0, 0, 0, 0, 3, 3, 3, 3, 3, 3, 3,\n       3, 3, 3, 3, 3, 3, 3, 3, 3, 3, 3, 3, 3, 2, 2, 2, 2, 3, 3, 3, 3, 3,\n       3, 3, 3, 3, 3, 2, 2, 3, 3, 3, 3, 3, 3, 3, 3, 3, 3, 3, 2, 2, 2, 3,\n       3])"
          },
          "metadata": {}
        }
      ],
      "execution_count": null,
      "metadata": {
        "jupyter": {
          "source_hidden": false,
          "outputs_hidden": false
        },
        "nteract": {
          "transient": {
            "deleting": false
          }
        },
        "gather": {
          "logged": 1648852740987
        },
        "id": "Zc3UE23Et3h6",
        "outputId": "fb032cf4-57da-4531-c1ba-4eb6c8145e55"
      }
    },
    {
      "cell_type": "code",
      "source": [
        "np.argmax(testY, axis=1)"
      ],
      "outputs": [
        {
          "output_type": "execute_result",
          "execution_count": 168,
          "data": {
            "text/plain": "array([3, 3, 3, 3, 3, 3, 3, 3, 3, 3, 3, 3, 3, 3, 3, 3, 3, 3, 3, 3, 3, 3,\n       3, 3, 3, 3, 3, 3, 3, 3, 3, 3, 3, 3, 3, 3, 0, 0, 0, 3, 3, 3, 3, 3,\n       3, 3, 3, 3, 3, 3, 3, 3, 3, 1, 3, 3, 3, 3, 3, 3, 3, 3, 3, 0, 3, 3,\n       0, 3, 3, 3, 3, 3, 3, 3, 3, 0, 3, 3, 0, 3, 3, 3, 3, 3, 3, 3, 3, 3,\n       1])"
          },
          "metadata": {}
        }
      ],
      "execution_count": null,
      "metadata": {
        "jupyter": {
          "source_hidden": false,
          "outputs_hidden": false
        },
        "nteract": {
          "transient": {
            "deleting": false
          }
        },
        "gather": {
          "logged": 1648852748938
        },
        "id": "kk80mDCbt3h6",
        "outputId": "24fce328-01c3-4f10-f9fe-3cdd0d8a10a5"
      }
    },
    {
      "cell_type": "code",
      "source": [
        "# shift train predictions for plotting\n",
        "trainPredictPlot = np.empty_like(dataset)\n",
        "trainPredictPlot.astype(float)\n",
        "trainPredictPlot[look_back:len(trainPredict)+look_back] = trainPredict\n",
        "# shift test predictions for plotting\n",
        "testPredictPlot = np.empty_like(dataset)\n",
        "testPredictPlot[len(trainPredict)+(look_back*2)+1:len(dataset)-1] = testPredict\n",
        "# plot baseline and predictions\n",
        "plt.plot(dataset)\n",
        "plt.plot(trainPredictPlot)\n",
        "plt.plot(testPredictPlot)\n",
        "plt.show()"
      ],
      "outputs": [
        {
          "output_type": "display_data",
          "data": {
            "text/plain": "<Figure size 432x288 with 1 Axes>",
            "image/png": "[encoded data removed]"
          },
          "metadata": {
            "needs_background": "light"
          }
        }
      ],
      "execution_count": null,
      "metadata": {
        "jupyter": {
          "source_hidden": false,
          "outputs_hidden": false
        },
        "nteract": {
          "transient": {
            "deleting": false
          }
        },
        "gather": {
          "logged": 1648852765212
        },
        "id": "wqDGbLilt3h7",
        "outputId": "fdca81cd-985f-4dc4-ea9a-5518b42b0d15"
      }
    },
    {
      "cell_type": "code",
      "source": [
        "import math\n",
        "def rmse(predictions, targets):\n",
        "    return np.sqrt(((predictions - targets) ** 2).mean())\n",
        "# calculate root mean squared error\n",
        "trainScore = math.sqrt(rmse(trainY, trainPredict))\n",
        "print('Train Score: %.2f RMSE' % (trainScore))\n",
        "testScore = math.sqrt(rmse(testY, testPredict))\n",
        "print('Test Score: %.2f RMSE' % (testScore))"
      ],
      "outputs": [
        {
          "output_type": "stream",
          "name": "stdout",
          "text": "Train Score: 0.34 RMSE\nTest Score: 0.56 RMSE\n"
        }
      ],
      "execution_count": null,
      "metadata": {
        "jupyter": {
          "source_hidden": false,
          "outputs_hidden": false
        },
        "nteract": {
          "transient": {
            "deleting": false
          }
        },
        "gather": {
          "logged": 1648852806949
        },
        "id": "UIlfZEfAt3h7",
        "outputId": "2342940e-a01f-488d-cd4e-eb6e06e02aad"
      }
    },
    {
      "cell_type": "code",
      "source": [
        "def plot_predictions2(model, X, y, start=0, end=100):\n",
        "  predictions = model.predict(X)\n",
        "  p_preds, temp_preds = predictions[:, 0], predictions[:, 1]\n",
        "  p_actuals, temp_actuals = y[:, 0], y[:, 1]\n",
        "  df = pd.DataFrame(data={'Temperature Predictions': temp_preds,\n",
        "                          'Temperature Actuals':temp_actuals,\n",
        "                          'Pressure Predictions': p_preds,\n",
        "                          'Pressure Actuals': p_actuals\n",
        "                          })\n",
        "  plt.plot(df['Temperature Predictions'][start:end])\n",
        "  plt.plot(df['Temperature Actuals'][start:end])\n",
        "  plt.plot(df['Pressure Predictions'][start:end])\n",
        "  plt.plot(df['Pressure Actuals'][start:end])\n",
        "  return df[start:end]"
      ],
      "outputs": [],
      "execution_count": null,
      "metadata": {
        "jupyter": {
          "source_hidden": false,
          "outputs_hidden": false
        },
        "nteract": {
          "transient": {
            "deleting": false
          }
        },
        "id": "RzGEN88kt3h7"
      }
    }
  ],
  "metadata": {
    "kernelspec": {
      "name": "azureml_py38_pt_tf",
      "language": "python",
      "display_name": "Python 3.8 - Pytorch and Tensorflow"
    },
    "language_info": {
      "name": "python",
      "version": "3.8.1",
      "mimetype": "text/x-python",
      "codemirror_mode": {
        "name": "ipython",
        "version": 3
      },
      "pygments_lexer": "ipython3",
      "nbconvert_exporter": "python",
      "file_extension": ".py"
    },
    "kernel_info": {
      "name": "azureml_py38_pt_tf"
    },
    "microsoft": {
      "host": {
        "AzureML": {
          "notebookHasBeenCompleted": true
        }
      }
    },
    "nteract": {
      "version": "nteract-front-end@1.0.0"
    },
    "colab": {
      "name": "TX_Model_1.ipynb",
      "provenance": [],
      "include_colab_link": true
    }
  },
  "nbformat": 4,
  "nbformat_minor": 0
}