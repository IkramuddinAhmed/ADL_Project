{
  "cells": [
    {
      "cell_type": "markdown",
      "metadata": {
        "id": "view-in-github",
        "colab_type": "text"
      },
      "source": [
        "<a href=\"https://colab.research.google.com/github/IkramuddinAhmed/ADL_Project/blob/main/Model_3_forecast.ipynb\" target=\"_parent\"><img src=\"https://colab.research.google.com/assets/colab-badge.svg\" alt=\"Open In Colab\"/></a>"
      ]
    },
    {
      "cell_type": "code",
      "source": [
        "import numpy as np\n",
        "from tensorflow.keras.models import Sequential\n",
        "from tensorflow.keras.layers import LSTM\n",
        "from tensorflow.keras.layers import Dense, Dropout\n",
        "import pandas as pd\n",
        "import matplotlib as mlb\n",
        "from matplotlib import pyplot as plt\n",
        "import seaborn as sns\n",
        "import tensorflow as tf\n",
        "from tensorflow import keras"
      ],
      "outputs": [],
      "execution_count": null,
      "metadata": {
        "gather": {
          "logged": 1648879252955
        },
        "id": "Ip5NFF9RzQJD"
      }
    },
    {
      "cell_type": "code",
      "source": [
        "df = pd.read_csv('TX_calamities.csv')\n",
        "df.head()"
      ],
      "outputs": [
        {
          "output_type": "execute_result",
          "execution_count": 5,
          "data": {
            "text/plain": "                        Date  Calamity_Flood  Calamity_Hurricane  \\\n0  1953-05-31 00:00:00+00:00               0                   0   \n1  1953-06-30 00:00:00+00:00               1                   0   \n2  1953-07-31 00:00:00+00:00               0                   0   \n3  1953-08-31 00:00:00+00:00               0                   0   \n4  1953-09-30 00:00:00+00:00               0                   0   \n\n   Calamity_Tornado  Calamity_None  \n0                 1              0  \n1                 0              0  \n2                 0              1  \n3                 0              1  \n4                 0              1  ",
            "text/html": "<div>\n<style scoped>\n    .dataframe tbody tr th:only-of-type {\n        vertical-align: middle;\n    }\n\n    .dataframe tbody tr th {\n        vertical-align: top;\n    }\n\n    .dataframe thead th {\n        text-align: right;\n    }\n</style>\n<table border=\"1\" class=\"dataframe\">\n  <thead>\n    <tr style=\"text-align: right;\">\n      <th></th>\n      <th>Date</th>\n      <th>Calamity_Flood</th>\n      <th>Calamity_Hurricane</th>\n      <th>Calamity_Tornado</th>\n      <th>Calamity_None</th>\n    </tr>\n  </thead>\n  <tbody>\n    <tr>\n      <th>0</th>\n      <td>1953-05-31 00:00:00+00:00</td>\n      <td>0</td>\n      <td>0</td>\n      <td>1</td>\n      <td>0</td>\n    </tr>\n    <tr>\n      <th>1</th>\n      <td>1953-06-30 00:00:00+00:00</td>\n      <td>1</td>\n      <td>0</td>\n      <td>0</td>\n      <td>0</td>\n    </tr>\n    <tr>\n      <th>2</th>\n      <td>1953-07-31 00:00:00+00:00</td>\n      <td>0</td>\n      <td>0</td>\n      <td>0</td>\n      <td>1</td>\n    </tr>\n    <tr>\n      <th>3</th>\n      <td>1953-08-31 00:00:00+00:00</td>\n      <td>0</td>\n      <td>0</td>\n      <td>0</td>\n      <td>1</td>\n    </tr>\n    <tr>\n      <th>4</th>\n      <td>1953-09-30 00:00:00+00:00</td>\n      <td>0</td>\n      <td>0</td>\n      <td>0</td>\n      <td>1</td>\n    </tr>\n  </tbody>\n</table>\n</div>"
          },
          "metadata": {}
        }
      ],
      "execution_count": null,
      "metadata": {
        "jupyter": {
          "source_hidden": false,
          "outputs_hidden": false
        },
        "nteract": {
          "transient": {
            "deleting": false
          }
        },
        "gather": {
          "logged": 1648877931102
        },
        "id": "GbiwbDsHzQJF",
        "outputId": "6494f0d6-7b0a-432c-9838-9c7f61e38052"
      }
    },
    {
      "cell_type": "code",
      "source": [
        "df.info()"
      ],
      "outputs": [
        {
          "output_type": "stream",
          "name": "stdout",
          "text": "<class 'pandas.core.frame.DataFrame'>\nRangeIndex: 808 entries, 0 to 807\nData columns (total 5 columns):\n #   Column              Non-Null Count  Dtype \n---  ------              --------------  ----- \n 0   Date                808 non-null    object\n 1   Calamity_Flood      808 non-null    int64 \n 2   Calamity_Hurricane  808 non-null    int64 \n 3   Calamity_Tornado    808 non-null    int64 \n 4   Calamity_None       808 non-null    int64 \ndtypes: int64(4), object(1)\nmemory usage: 31.7+ KB\n"
        }
      ],
      "execution_count": null,
      "metadata": {
        "jupyter": {
          "source_hidden": false,
          "outputs_hidden": false
        },
        "nteract": {
          "transient": {
            "deleting": false
          }
        },
        "gather": {
          "logged": 1648877943044
        },
        "id": "82NRpCbnzQJG",
        "outputId": "07dc7f99-2925-4568-eb67-ef1b6da31613"
      }
    },
    {
      "cell_type": "code",
      "source": [
        "#Separate dates for future plotting\n",
        "train_dates = pd.to_datetime(df['Date'])\n",
        "print(train_dates.tail(15))"
      ],
      "outputs": [
        {
          "output_type": "stream",
          "name": "stdout",
          "text": "793   2019-06-30 00:00:00+00:00\n794   2019-07-31 00:00:00+00:00\n795   2019-08-31 00:00:00+00:00\n796   2019-09-30 00:00:00+00:00\n797   2019-10-31 00:00:00+00:00\n798   2019-11-30 00:00:00+00:00\n799   2019-12-31 00:00:00+00:00\n800   2020-01-31 00:00:00+00:00\n801   2020-02-29 00:00:00+00:00\n802   2020-03-31 00:00:00+00:00\n803   2020-04-30 00:00:00+00:00\n804   2020-05-31 00:00:00+00:00\n805   2020-06-30 00:00:00+00:00\n806   2020-07-31 00:00:00+00:00\n807   2020-08-31 00:00:00+00:00\nName: Date, dtype: datetime64[ns, UTC]\n"
        }
      ],
      "execution_count": null,
      "metadata": {
        "jupyter": {
          "source_hidden": false,
          "outputs_hidden": false
        },
        "nteract": {
          "transient": {
            "deleting": false
          }
        },
        "gather": {
          "logged": 1648877966880
        },
        "id": "rNGvSEYtzQJH",
        "outputId": "cbf34833-8882-4297-945d-f800b5b6cd05"
      }
    },
    {
      "cell_type": "code",
      "source": [
        "train_dates.info()"
      ],
      "outputs": [
        {
          "output_type": "stream",
          "name": "stdout",
          "text": "<class 'pandas.core.series.Series'>\nRangeIndex: 808 entries, 0 to 807\nSeries name: Date\nNon-Null Count  Dtype              \n--------------  -----              \n808 non-null    datetime64[ns, UTC]\ndtypes: datetime64[ns, UTC](1)\nmemory usage: 6.4 KB\n"
        }
      ],
      "execution_count": null,
      "metadata": {
        "jupyter": {
          "source_hidden": false,
          "outputs_hidden": false
        },
        "nteract": {
          "transient": {
            "deleting": false
          }
        },
        "gather": {
          "logged": 1648878132443
        },
        "id": "qFXquX7JzQJH",
        "outputId": "c2bba250-6fc0-48f4-ca7b-01e3eee59f41"
      }
    },
    {
      "cell_type": "code",
      "source": [
        "#Variables for training\n",
        "cols = list(df)[1:5]\n",
        "print(cols)"
      ],
      "outputs": [
        {
          "output_type": "stream",
          "name": "stdout",
          "text": "['Calamity_Flood', 'Calamity_Hurricane', 'Calamity_Tornado', 'Calamity_None']\n"
        }
      ],
      "execution_count": null,
      "metadata": {
        "jupyter": {
          "source_hidden": false,
          "outputs_hidden": false
        },
        "nteract": {
          "transient": {
            "deleting": false
          }
        },
        "gather": {
          "logged": 1648878053150
        },
        "id": "8M428xwtzQJI",
        "outputId": "db057ab9-4f08-4543-9aad-936784183fa5"
      }
    },
    {
      "cell_type": "code",
      "source": [
        "df_for_training = df[cols].astype(float)\n",
        "df_for_training.head()"
      ],
      "outputs": [
        {
          "output_type": "execute_result",
          "execution_count": 11,
          "data": {
            "text/plain": "   Calamity_Flood  Calamity_Hurricane  Calamity_Tornado  Calamity_None\n0             0.0                 0.0               1.0            0.0\n1             1.0                 0.0               0.0            0.0\n2             0.0                 0.0               0.0            1.0\n3             0.0                 0.0               0.0            1.0\n4             0.0                 0.0               0.0            1.0",
            "text/html": "<div>\n<style scoped>\n    .dataframe tbody tr th:only-of-type {\n        vertical-align: middle;\n    }\n\n    .dataframe tbody tr th {\n        vertical-align: top;\n    }\n\n    .dataframe thead th {\n        text-align: right;\n    }\n</style>\n<table border=\"1\" class=\"dataframe\">\n  <thead>\n    <tr style=\"text-align: right;\">\n      <th></th>\n      <th>Calamity_Flood</th>\n      <th>Calamity_Hurricane</th>\n      <th>Calamity_Tornado</th>\n      <th>Calamity_None</th>\n    </tr>\n  </thead>\n  <tbody>\n    <tr>\n      <th>0</th>\n      <td>0.0</td>\n      <td>0.0</td>\n      <td>1.0</td>\n      <td>0.0</td>\n    </tr>\n    <tr>\n      <th>1</th>\n      <td>1.0</td>\n      <td>0.0</td>\n      <td>0.0</td>\n      <td>0.0</td>\n    </tr>\n    <tr>\n      <th>2</th>\n      <td>0.0</td>\n      <td>0.0</td>\n      <td>0.0</td>\n      <td>1.0</td>\n    </tr>\n    <tr>\n      <th>3</th>\n      <td>0.0</td>\n      <td>0.0</td>\n      <td>0.0</td>\n      <td>1.0</td>\n    </tr>\n    <tr>\n      <th>4</th>\n      <td>0.0</td>\n      <td>0.0</td>\n      <td>0.0</td>\n      <td>1.0</td>\n    </tr>\n  </tbody>\n</table>\n</div>"
          },
          "metadata": {}
        }
      ],
      "execution_count": null,
      "metadata": {
        "jupyter": {
          "source_hidden": false,
          "outputs_hidden": false
        },
        "nteract": {
          "transient": {
            "deleting": false
          }
        },
        "gather": {
          "logged": 1648878086030
        },
        "id": "mv3zLGzzzQJI",
        "outputId": "c01aa1f6-6476-4047-99f2-9e34257614cd"
      }
    },
    {
      "cell_type": "code",
      "source": [
        "df_for_training = df_for_training.to_numpy(dtype = float)\n",
        "df_for_training"
      ],
      "outputs": [
        {
          "output_type": "execute_result",
          "execution_count": 44,
          "data": {
            "text/plain": "array([[0., 0., 1., 0.],\n       [1., 0., 0., 0.],\n       [0., 0., 0., 1.],\n       ...,\n       [0., 0., 0., 1.],\n       [0., 1., 0., 0.],\n       [0., 1., 0., 0.]])"
          },
          "metadata": {}
        }
      ],
      "execution_count": null,
      "metadata": {
        "jupyter": {
          "source_hidden": false,
          "outputs_hidden": false
        },
        "nteract": {
          "transient": {
            "deleting": false
          }
        },
        "gather": {
          "logged": 1648880056952
        },
        "id": "VsauR7bszQJJ",
        "outputId": "2d4a3382-6137-46bf-e9c4-d4ecd9235425"
      }
    },
    {
      "cell_type": "code",
      "source": [
        "#As required for LSTM networks, we require to reshape an input data into n_samples x timesteps x n_features. \n",
        "#In this example, the n_features is 4. We will make timesteps = 36 (past months data used for training). \n",
        "\n",
        "#Empty lists to be populated using formatted training data\n",
        "trainX = []\n",
        "trainY = []\n",
        "\n",
        "n_future = 12   # Number of months we want to look into the future based on the past days.\n",
        "n_past = 36  # Number of past months we want to use to predict the future."
      ],
      "outputs": [],
      "execution_count": null,
      "metadata": {
        "jupyter": {
          "source_hidden": false,
          "outputs_hidden": false
        },
        "nteract": {
          "transient": {
            "deleting": false
          }
        },
        "gather": {
          "logged": 1648881015149
        },
        "id": "pcMdlEHczQJJ"
      }
    },
    {
      "cell_type": "code",
      "source": [
        "df_for_training.shape"
      ],
      "outputs": [
        {
          "output_type": "execute_result",
          "execution_count": 59,
          "data": {
            "text/plain": "(808, 4)"
          },
          "metadata": {}
        }
      ],
      "execution_count": null,
      "metadata": {
        "jupyter": {
          "source_hidden": false,
          "outputs_hidden": false
        },
        "nteract": {
          "transient": {
            "deleting": false
          }
        },
        "gather": {
          "logged": 1648880676013
        },
        "id": "_j-q30tCzQJJ",
        "outputId": "39317367-4a39-42ce-ac12-ebbdcf86ddb9"
      }
    },
    {
      "cell_type": "code",
      "source": [
        "df_for_training"
      ],
      "outputs": [
        {
          "output_type": "execute_result",
          "execution_count": 68,
          "data": {
            "text/plain": "array([[0., 0., 1., 0.],\n       [1., 0., 0., 0.],\n       [0., 0., 0., 1.],\n       ...,\n       [0., 0., 0., 1.],\n       [0., 1., 0., 0.],\n       [0., 1., 0., 0.]])"
          },
          "metadata": {}
        }
      ],
      "execution_count": null,
      "metadata": {
        "jupyter": {
          "source_hidden": false,
          "outputs_hidden": false
        },
        "nteract": {
          "transient": {
            "deleting": false
          }
        },
        "gather": {
          "logged": 1648880952248
        },
        "id": "UdwPcRwBzQJK",
        "outputId": "9887e040-7d76-4800-b162-39dc95ad1376"
      }
    },
    {
      "cell_type": "code",
      "source": [
        "#Reformat input data into a shape: (n_samples x timesteps x n_features)\n",
        "#my df_for_training_scaled has a shape (808, 4)\n",
        "#808 refers to the number of data points and 4 refers to the columns (multi-variables).\n",
        "for i in range(n_past, len(df_for_training) - n_future +1):\n",
        "    trainX.append(df_for_training[i - n_past:i,0:df_for_training.shape[1]])\n",
        "    trainY.append(df_for_training[i + n_future - 1:i + n_future])"
      ],
      "outputs": [],
      "execution_count": null,
      "metadata": {
        "jupyter": {
          "source_hidden": false,
          "outputs_hidden": false
        },
        "nteract": {
          "transient": {
            "deleting": false
          }
        },
        "gather": {
          "logged": 1648881026046
        },
        "id": "gifrmuvezQJK"
      }
    },
    {
      "cell_type": "code",
      "source": [
        "trainX, trainY = np.array(trainX), np.array(trainY)\n",
        "\n",
        "print('trainX shape == {}.'.format(trainX.shape))\n",
        "print('trainY shape == {}.'.format(trainY.shape))"
      ],
      "outputs": [
        {
          "output_type": "stream",
          "name": "stdout",
          "text": "trainX shape == (761, 36, 4).\ntrainY shape == (761, 1, 4).\n"
        }
      ],
      "execution_count": null,
      "metadata": {
        "jupyter": {
          "source_hidden": false,
          "outputs_hidden": false
        },
        "nteract": {
          "transient": {
            "deleting": false
          }
        },
        "gather": {
          "logged": 1648881029083
        },
        "id": "DxTEeOg_zQJL",
        "outputId": "50f04837-85c5-4e26-deab-fcf4055707a5"
      }
    },
    {
      "cell_type": "code",
      "source": [
        "trainY = trainY.reshape(761,1*4)"
      ],
      "outputs": [],
      "execution_count": null,
      "metadata": {
        "jupyter": {
          "source_hidden": false,
          "outputs_hidden": false
        },
        "nteract": {
          "transient": {
            "deleting": false
          }
        },
        "gather": {
          "logged": 1648881577969
        },
        "id": "wNIbz967zQJL"
      }
    },
    {
      "cell_type": "code",
      "source": [
        "print('trainY shape == {}.'.format(trainY.shape))"
      ],
      "outputs": [
        {
          "output_type": "stream",
          "name": "stdout",
          "text": "trainY shape == (761, 4).\n"
        }
      ],
      "execution_count": null,
      "metadata": {
        "jupyter": {
          "source_hidden": false,
          "outputs_hidden": false
        },
        "nteract": {
          "transient": {
            "deleting": false
          }
        },
        "gather": {
          "logged": 1648881598091
        },
        "id": "OmCnf2JBzQJL",
        "outputId": "3da73779-729e-4122-a20b-fac13d3d3577"
      }
    },
    {
      "cell_type": "code",
      "source": [
        "# creating and fitting the LSTM network\n",
        "model = Sequential()\n",
        "model.add(LSTM(64, input_shape=(trainX.shape[1], trainX.shape[2]), return_sequences = True))\n",
        "model.add(LSTM(64, return_sequences=False))\n",
        "model.add(tf.keras.layers.Dropout(0.3))\n",
        "model.add(Dense(4,activation='softmax'))"
      ],
      "outputs": [],
      "execution_count": null,
      "metadata": {
        "jupyter": {
          "source_hidden": false,
          "outputs_hidden": false
        },
        "nteract": {
          "transient": {
            "deleting": false
          }
        },
        "gather": {
          "logged": 1648881612853
        },
        "id": "CIMvZbIDzQJM"
      }
    },
    {
      "cell_type": "code",
      "source": [
        "model.summary()"
      ],
      "outputs": [
        {
          "output_type": "stream",
          "name": "stdout",
          "text": "Model: \"sequential_3\"\n_________________________________________________________________\n Layer (type)                Output Shape              Param #   \n=================================================================\n lstm_6 (LSTM)               (None, 36, 64)            17664     \n                                                                 \n lstm_7 (LSTM)               (None, 64)                33024     \n                                                                 \n dropout_2 (Dropout)         (None, 64)                0         \n                                                                 \n dense_2 (Dense)             (None, 4)                 260       \n                                                                 \n=================================================================\nTotal params: 50,948\nTrainable params: 50,948\nNon-trainable params: 0\n_________________________________________________________________\n"
        }
      ],
      "execution_count": null,
      "metadata": {
        "jupyter": {
          "source_hidden": false,
          "outputs_hidden": false
        },
        "nteract": {
          "transient": {
            "deleting": false
          }
        },
        "gather": {
          "logged": 1648881615208
        },
        "id": "_0WG6nCQzQJM",
        "outputId": "85226413-a409-4c7d-ff78-df621c856ad8"
      }
    },
    {
      "cell_type": "code",
      "source": [
        "METRICS = [\n",
        "   \n",
        "      \n",
        "      keras.metrics.BinaryAccuracy(name='accuracy'),\n",
        "      keras.metrics.Precision(name='precision'),\n",
        "      keras.metrics.Recall(name='recall'),\n",
        "      \n",
        "]"
      ],
      "outputs": [],
      "execution_count": null,
      "metadata": {
        "jupyter": {
          "source_hidden": false,
          "outputs_hidden": false
        },
        "nteract": {
          "transient": {
            "deleting": false
          }
        },
        "gather": {
          "logged": 1648879258947
        },
        "id": "jFAuVOhtzQJM"
      }
    },
    {
      "cell_type": "code",
      "source": [
        "from keras import backend as K\n",
        "\n",
        "import dill\n",
        "\n",
        "def categorical_focal_loss(alpha, gamma=2.):\n",
        "    \"\"\"\n",
        "    Softmax version of focal loss.\n",
        "    When there is a skew between different categories/labels in your data set, you can try to apply this function as a\n",
        "    loss.\n",
        "           m\n",
        "      FL = ∑  -alpha * (1 - p_o,c)^gamma * y_o,c * log(p_o,c)\n",
        "          c=1\n",
        "      where m = number of classes, c = class and o = observation\n",
        "    Parameters:\n",
        "      alpha -- the same as weighing factor in balanced cross entropy. Alpha is used to specify the weight of different\n",
        "      categories/labels, the size of the array needs to be consistent with the number of classes.\n",
        "      gamma -- focusing parameter for modulating factor (1-p)\n",
        "    Default value:\n",
        "      gamma -- 2.0 as mentioned in the paper\n",
        "      alpha -- 0.25 as mentioned in the paper\n",
        "    References:\n",
        "        Official paper: https://arxiv.org/pdf/1708.02002.pdf\n",
        "        https://www.tensorflow.org/api_docs/python/tf/keras/backend/categorical_crossentropy\n",
        "    Usage:\n",
        "     model.compile(loss=[categorical_focal_loss(alpha=[[.25, .25, .25]], gamma=2)], metrics=[\"accuracy\"], optimizer=adam)\n",
        "    \"\"\"\n",
        "\n",
        "    alpha = np.array(alpha, dtype=np.float32)\n",
        "\n",
        "    def categorical_focal_loss_fixed(y_true, y_pred):\n",
        "        \"\"\"\n",
        "        :param y_true: A tensor of the same shape as `y_pred`\n",
        "        :param y_pred: A tensor resulting from a softmax\n",
        "        :return: Output tensor.\n",
        "        \"\"\"\n",
        "\n",
        "        # Clip the prediction value to prevent NaN's and Inf's\n",
        "        epsilon = K.epsilon()\n",
        "        y_pred = K.clip(y_pred, epsilon, 1. - epsilon)\n",
        "\n",
        "        # Calculate Cross Entropy\n",
        "        cross_entropy = -y_true * K.log(y_pred)\n",
        "\n",
        "        # Calculate Focal Loss\n",
        "        loss = alpha * K.pow(1 - y_pred, gamma) * cross_entropy\n",
        "\n",
        "        # Compute mean loss in mini_batch\n",
        "        return K.mean(K.sum(loss, axis=-1))\n",
        "\n",
        "    return categorical_focal_loss_fixed\n",
        "\n",
        "\n",
        "if __name__ == '__main__':\n",
        "\n",
        "    # Test serialization of nested functions\n",
        "   \n",
        "\n",
        "    cat_inner = dill.loads(dill.dumps(categorical_focal_loss(gamma=2., alpha=.25)))\n",
        "    print(cat_inner)"
      ],
      "outputs": [
        {
          "output_type": "stream",
          "name": "stdout",
          "text": "<function categorical_focal_loss_fixed at 0x7f76b466faf0>\n"
        }
      ],
      "execution_count": null,
      "metadata": {
        "jupyter": {
          "source_hidden": false,
          "outputs_hidden": false
        },
        "nteract": {
          "transient": {
            "deleting": false
          }
        },
        "gather": {
          "logged": 1648879262897
        },
        "id": "m3Uo8Yd_zQJN",
        "outputId": "41ce1947-2fb2-4f70-aaf7-5fd28c5460bd"
      }
    },
    {
      "cell_type": "code",
      "source": [
        "model.compile(loss=[categorical_focal_loss(alpha=[[.29, .29, .29, .13]], gamma=2)], optimizer='adam', metrics = METRICS)"
      ],
      "outputs": [],
      "execution_count": null,
      "metadata": {
        "jupyter": {
          "source_hidden": false,
          "outputs_hidden": false
        },
        "nteract": {
          "transient": {
            "deleting": false
          }
        },
        "gather": {
          "logged": 1648881986960
        },
        "id": "vGnF74NbzQJO"
      }
    },
    {
      "cell_type": "code",
      "source": [
        "history = model.fit(trainX, trainY, epochs=50, batch_size=6, validation_split=0.1)"
      ],
      "outputs": [
        {
          "output_type": "stream",
          "name": "stdout",
          "text": "Epoch 1/50\n114/114 [==============================] - 6s 27ms/step - loss: 0.0360 - accuracy: 0.9467 - precision: 0.9153 - recall: 0.8671 - val_loss: 0.0324 - val_accuracy: 0.9253 - val_precision: 0.8857 - val_recall: 0.8052\b\b\b\b\b\b\b\b\b\b\b\b\b\b\b\b\b\b\b\b\b\b\b\b\b\b\b\b\b\b\b\b\b\nEpoch 2/50\n114/114 [==============================] - 2s 18ms/step - loss: 0.0316 - accuracy: 0.9492 - precision: 0.9212 - recall: 0.8713 - val_loss: 0.0330 - val_accuracy: 0.9253 - val_precision: 0.8971 - val_recall: 0.7922\b\b\b\b\b\b\b\b\b\b\b\b\b\b\b\b\b\b\b\b\b\b\b\b\b\b\b\b\b\nEpoch 3/50\n114/114 [==============================] - 2s 17ms/step - loss: 0.0286 - accuracy: 0.9481 - precision: 0.9221 - recall: 0.8655 - val_loss: 0.0401 - val_accuracy: 0.9351 - val_precision: 0.8904 - val_recall: 0.8442\b\b\b\b\b\b\b\b\b\b\b\b\b\b\b\b\b\b\b\b\b\b\b\b\b\b\b\b\b\nEpoch 4/50\n114/114 [==============================] - 2s 17ms/step - loss: 0.0298 - accuracy: 0.9444 - precision: 0.9156 - recall: 0.8567 - val_loss: 0.0424 - val_accuracy: 0.9026 - val_precision: 0.8507 - val_recall: 0.7403\b\b\b\b\b\b\b\b\b\b\b\b\b\b\b\b\b\b\b\b\b\b\b\b\b\b\b\b\b\nEpoch 5/50\n114/114 [==============================] - 2s 17ms/step - loss: 0.0289 - accuracy: 0.9455 - precision: 0.9213 - recall: 0.8553 - val_loss: 0.0361 - val_accuracy: 0.9286 - val_precision: 0.9104 - val_recall: 0.7922\b\b\b\b\b\b\b\b\b\b\b\b\b\b\b\b\b\b\b\b\b\b\b\b\b\b\b\b\b\nEpoch 6/50\n114/114 [==============================] - 2s 17ms/step - loss: 0.0267 - accuracy: 0.9393 - precision: 0.9098 - recall: 0.8406 - val_loss: 0.0404 - val_accuracy: 0.9221 - val_precision: 0.8732 - val_recall: 0.8052\b\b\b\b\b\b\b\b\b\b\b\b\b\b\b\b\b\b\b\b\b\b\b\b\b\b\b\b\b\nEpoch 7/50\n114/114 [==============================] - 2s 18ms/step - loss: 0.0279 - accuracy: 0.9419 - precision: 0.9108 - recall: 0.8509 - val_loss: 0.0441 - val_accuracy: 0.9123 - val_precision: 0.8571 - val_recall: 0.7792\b\b\b\b\b\b\b\b\b\b\b\b\b\b\b\b\b\b\b\b\b\b\b\b\b\b\b\b\b\nEpoch 8/50\n114/114 [==============================] - 2s 17ms/step - loss: 0.0275 - accuracy: 0.9390 - precision: 0.9033 - recall: 0.8465 - val_loss: 0.0402 - val_accuracy: 0.9221 - val_precision: 0.8732 - val_recall: 0.8052\b\b\b\b\b\b\b\b\b\b\b\b\b\b\b\b\b\b\b\b\b\b\b\b\b\b\b\b\b\nEpoch 9/50\n114/114 [==============================] - 2s 17ms/step - loss: 0.0267 - accuracy: 0.9412 - precision: 0.9225 - recall: 0.8348 - val_loss: 0.0418 - val_accuracy: 0.9221 - val_precision: 0.8732 - val_recall: 0.8052\b\b\b\b\b\b\b\b\b\b\b\b\b\b\b\b\b\b\b\b\b\b\b\b\b\b\b\b\b\nEpoch 10/50\n114/114 [==============================] - 2s 17ms/step - loss: 0.0291 - accuracy: 0.9507 - precision: 0.9243 - recall: 0.8743 - val_loss: 0.0417 - val_accuracy: 0.9286 - val_precision: 0.8767 - val_recall: 0.8312\b\b\b\b\b\b\b\b\b\b\b\b\b\b\b\b\b\b\b\b\b\b\b\b\b\b\b\b\b\nEpoch 11/50\n114/114 [==============================] - 2s 17ms/step - loss: 0.0303 - accuracy: 0.9455 - precision: 0.9160 - recall: 0.8611 - val_loss: 0.0468 - val_accuracy: 0.9188 - val_precision: 0.8611 - val_recall: 0.8052\b\b\b\b\b\b\b\b\b\b\b\b\b\b\b\b\b\b\b\b\b\b\b\b\b\b\b\b\b\nEpoch 12/50\n114/114 [==============================] - 2s 18ms/step - loss: 0.0301 - accuracy: 0.9404 - precision: 0.9089 - recall: 0.8465 - val_loss: 0.0466 - val_accuracy: 0.9058 - val_precision: 0.8429 - val_recall: 0.7662\b\b\b\b\b\b\b\b\b\b\b\b\b\b\b\b\b\b\b\b\b\b\b\b\b\b\b\b\b\nEpoch 13/50\n114/114 [==============================] - 2s 17ms/step - loss: 0.0291 - accuracy: 0.9390 - precision: 0.9123 - recall: 0.8363 - val_loss: 0.0464 - val_accuracy: 0.9091 - val_precision: 0.8551 - val_recall: 0.7662\b\b\b\b\b\b\b\b\b\b\b\b\b\b\b\b\b\b\b\b\b\b\b\b\b\b\b\b\b\nEpoch 14/50\n114/114 [==============================] - 2s 17ms/step - loss: 0.0227 - accuracy: 0.9503 - precision: 0.9215 - recall: 0.8757 - val_loss: 0.0460 - val_accuracy: 0.9091 - val_precision: 0.8551 - val_recall: 0.7662\b\b\b\b\b\b\b\b\b\b\b\b\b\b\b\b\b\b\b\b\b\b\b\b\b\b\b\b\b\nEpoch 15/50\n114/114 [==============================] - 2s 18ms/step - loss: 0.0229 - accuracy: 0.9448 - precision: 0.9158 - recall: 0.8582 - val_loss: 0.0551 - val_accuracy: 0.9253 - val_precision: 0.8649 - val_recall: 0.8312\b\b\b\b\b\b\b\b\b\b\b\b\b\b\b\b\b\b\b\b\b\b\b\b\b\b\b\b\b\nEpoch 16/50\n114/114 [==============================] - 2s 17ms/step - loss: 0.0275 - accuracy: 0.9401 - precision: 0.9012 - recall: 0.8538 - val_loss: 0.0531 - val_accuracy: 0.9091 - val_precision: 0.8551 - val_recall: 0.7662\b\b\b\b\b\b\b\b\b\b\b\b\b\b\b\b\b\b\b\b\b\b\b\b\b\b\b\b\b\nEpoch 17/50\n114/114 [==============================] - 2s 18ms/step - loss: 0.0282 - accuracy: 0.9371 - precision: 0.9089 - recall: 0.8319 - val_loss: 0.0502 - val_accuracy: 0.9156 - val_precision: 0.8493 - val_recall: 0.8052\b\b\b\b\b\b\b\b\b\b\b\b\b\b\b\b\b\b\b\b\b\b\b\b\b\b\b\b\b\nEpoch 18/50\n114/114 [==============================] - 2s 17ms/step - loss: 0.0223 - accuracy: 0.9485 - precision: 0.9196 - recall: 0.8699 - val_loss: 0.0510 - val_accuracy: 0.8929 - val_precision: 0.8143 - val_recall: 0.7403\b\b\b\b\b\b\b\b\b\b\b\b\b\b\b\b\b\b\b\b\b\b\b\b\b\b\b\b\b\nEpoch 19/50\n114/114 [==============================] - 2s 17ms/step - loss: 0.0213 - accuracy: 0.9459 - precision: 0.9110 - recall: 0.8684 - val_loss: 0.0481 - val_accuracy: 0.9091 - val_precision: 0.8356 - val_recall: 0.7922\b\b\b\b\b\b\b\b\b\b\b\b\b\b\b\b\b\b\b\b\b\b\b\b\b\b\b\b\b\nEpoch 20/50\n114/114 [==============================] - 2s 17ms/step - loss: 0.0204 - accuracy: 0.9459 - precision: 0.9061 - recall: 0.8743 - val_loss: 0.0463 - val_accuracy: 0.9091 - val_precision: 0.8267 - val_recall: 0.8052\b\b\b\b\b\b\b\b\b\b\b\b\b\b\b\b\b\b\b\b\b\b\b\b\b\b\b\b\b\nEpoch 21/50\n114/114 [==============================] - 2s 17ms/step - loss: 0.0200 - accuracy: 0.9459 - precision: 0.9073 - recall: 0.8728 - val_loss: 0.0522 - val_accuracy: 0.9156 - val_precision: 0.8400 - val_recall: 0.8182\b\b\b\b\b\b\b\b\b\b\b\b\b\b\b\b\b\b\b\b\b\b\b\b\b\b\b\b\b\nEpoch 22/50\n114/114 [==============================] - 2s 18ms/step - loss: 0.0367 - accuracy: 0.9474 - precision: 0.9180 - recall: 0.8670 - val_loss: 0.0505 - val_accuracy: 0.8929 - val_precision: 0.8143 - val_recall: 0.7403\b\b\b\b\b\b\b\b\b\b\b\b\b\b\b\b\b\b\b\b\b\b\b\b\b\b\b\b\b\nEpoch 23/50\n114/114 [==============================] - 2s 18ms/step - loss: 0.0285 - accuracy: 0.9412 - precision: 0.9042 - recall: 0.8553 - val_loss: 0.0571 - val_accuracy: 0.9123 - val_precision: 0.8571 - val_recall: 0.7792\b\b\b\b\b\b\b\b\b\b\b\b\b\b\b\b\b\b\b\b\b\b\b\b\b\b\b\b\b\nEpoch 24/50\n114/114 [==============================] - 2s 17ms/step - loss: 0.0235 - accuracy: 0.9481 - precision: 0.9156 - recall: 0.8728 - val_loss: 0.0604 - val_accuracy: 0.8994 - val_precision: 0.8286 - val_recall: 0.7532\b\b\b\b\b\b\b\b\b\b\b\b\b\b\b\b\b\b\b\b\b\b\b\b\b\b\b\b\b\nEpoch 25/50\n114/114 [==============================] - 2s 18ms/step - loss: 0.0228 - accuracy: 0.9521 - precision: 0.9287 - recall: 0.8757 - val_loss: 0.0574 - val_accuracy: 0.9058 - val_precision: 0.8243 - val_recall: 0.7922\b\b\b\b\b\b\b\b\b\b\b\b\b\b\b\b\b\b\b\b\b\b\b\b\b\b\b\b\b\nEpoch 26/50\n114/114 [==============================] - 2s 18ms/step - loss: 0.0231 - accuracy: 0.9415 - precision: 0.9056 - recall: 0.8553 - val_loss: 0.0601 - val_accuracy: 0.9026 - val_precision: 0.8219 - val_recall: 0.7792\b\b\b\b\b\b\b\b\b\b\b\b\b\b\b\b\b\b\b\b\b\b\b\b\b\b\b\b\b\nEpoch 27/50\n114/114 [==============================] - 2s 18ms/step - loss: 0.0192 - accuracy: 0.9441 - precision: 0.9066 - recall: 0.8655 - val_loss: 0.0656 - val_accuracy: 0.9091 - val_precision: 0.8267 - val_recall: 0.8052\b\b\b\b\b\b\b\b\b\b\b\b\b\b\b\b\b\b\b\b\b\b\b\b\b\b\b\b\b\nEpoch 28/50\n114/114 [==============================] - 2s 18ms/step - loss: 0.0199 - accuracy: 0.9466 - precision: 0.9113 - recall: 0.8713 - val_loss: 0.0627 - val_accuracy: 0.9123 - val_precision: 0.8289 - val_recall: 0.8182\b\b\b\b\b\b\b\b\b\b\b\b\b\b\b\b\b\b\b\b\b\b\b\b\b\b\b\b\b\nEpoch 29/50\n114/114 [==============================] - 2s 18ms/step - loss: 0.0219 - accuracy: 0.9415 - precision: 0.9018 - recall: 0.8596 - val_loss: 0.0596 - val_accuracy: 0.9091 - val_precision: 0.8356 - val_recall: 0.7922\b\b\b\b\b\b\b\b\b\b\b\b\b\b\b\b\b\b\b\b\b\b\b\b\b\b\b\b\b\nEpoch 30/50\n114/114 [==============================] - 2s 18ms/step - loss: 0.0224 - accuracy: 0.9463 - precision: 0.9112 - recall: 0.8699 - val_loss: 0.0630 - val_accuracy: 0.8994 - val_precision: 0.8108 - val_recall: 0.7792\b\b\b\b\b\b\b\b\b\b\b\b\b\b\b\b\b\b\b\b\b\b\b\b\b\b\b\b\b\nEpoch 31/50\n114/114 [==============================] - 2s 18ms/step - loss: 0.0187 - accuracy: 0.9452 - precision: 0.9070 - recall: 0.8699 - val_loss: 0.0589 - val_accuracy: 0.9026 - val_precision: 0.8133 - val_recall: 0.7922\b\b\b\b\b\b\b\b\b\b\b\b\b\b\b\b\b\b\b\b\b\b\b\b\b\b\b\b\b\nEpoch 32/50\n114/114 [==============================] - 2s 18ms/step - loss: 0.0183 - accuracy: 0.9455 - precision: 0.9059 - recall: 0.8728 - val_loss: 0.0608 - val_accuracy: 0.9123 - val_precision: 0.8289 - val_recall: 0.8182\b\b\b\b\b\b\b\b\b\b\b\b\b\b\b\b\b\b\b\b\b\b\b\b\b\b\b\b\b\nEpoch 33/50\n114/114 [==============================] - 2s 17ms/step - loss: 0.0175 - accuracy: 0.9455 - precision: 0.9059 - recall: 0.8728 - val_loss: 0.0657 - val_accuracy: 0.9026 - val_precision: 0.8052 - val_recall: 0.8052\b\b\b\b\b\b\b\b\b\b\b\b\b\b\b\b\b\b\b\b\b\b\b\b\b\b\b\b\b\nEpoch 34/50\n114/114 [==============================] - 2s 17ms/step - loss: 0.0156 - accuracy: 0.9554 - precision: 0.9258 - recall: 0.8933 - val_loss: 0.0726 - val_accuracy: 0.9091 - val_precision: 0.8182 - val_recall: 0.8182\b\b\b\b\b\b\b\b\b\b\b\b\b\b\b\b\b\b\b\b\b\b\b\b\b\b\b\b\b\nEpoch 35/50\n114/114 [==============================] - 2s 17ms/step - loss: 0.0197 - accuracy: 0.9455 - precision: 0.9084 - recall: 0.8699 - val_loss: 0.0683 - val_accuracy: 0.8864 - val_precision: 0.7838 - val_recall: 0.7532\b\b\b\b\b\b\b\b\b\b\b\b\b\b\b\b\b\b\b\b\b\b\b\b\b\b\b\b\b\nEpoch 36/50\n114/114 [==============================] - 2s 18ms/step - loss: 0.0267 - accuracy: 0.9357 - precision: 0.8932 - recall: 0.8436 - val_loss: 0.0722 - val_accuracy: 0.9058 - val_precision: 0.8243 - val_recall: 0.7922\b\b\b\b\b\b\b\b\b\b\b\b\b\b\b\b\b\b\b\b\b\b\b\b\b\b\b\b\b\nEpoch 37/50\n114/114 [==============================] - 2s 18ms/step - loss: 0.0229 - accuracy: 0.9485 - precision: 0.9171 - recall: 0.8728 - val_loss: 0.0638 - val_accuracy: 0.8929 - val_precision: 0.7895 - val_recall: 0.7792\b\b\b\b\b\b\b\b\b\b\b\b\b\b\b\b\b\b\b\b\b\b\b\b\b\b\b\b\b\nEpoch 38/50\n114/114 [==============================] - 2s 17ms/step - loss: 0.0188 - accuracy: 0.9474 - precision: 0.9054 - recall: 0.8816 - val_loss: 0.0681 - val_accuracy: 0.8929 - val_precision: 0.7895 - val_recall: 0.7792\b\b\b\b\b\b\b\b\b\b\b\b\b\b\b\b\b\b\b\b\b\b\b\b\b\b\b\b\b\nEpoch 39/50\n114/114 [==============================] - 2s 17ms/step - loss: 0.0170 - accuracy: 0.9558 - precision: 0.9246 - recall: 0.8962 - val_loss: 0.0688 - val_accuracy: 0.8929 - val_precision: 0.7973 - val_recall: 0.7662\b\b\b\b\b\b\b\b\b\b\b\b\b\b\b\b\b\b\b\b\b\b\b\b\b\b\b\b\b\nEpoch 40/50\n114/114 [==============================] - 2s 17ms/step - loss: 0.0169 - accuracy: 0.9529 - precision: 0.9186 - recall: 0.8904 - val_loss: 0.0684 - val_accuracy: 0.8961 - val_precision: 0.8082 - val_recall: 0.7662\b\b\b\b\b\b\b\b\b\b\b\b\b\b\b\b\b\b\b\b\b\b\b\b\b\b\b\b\b\nEpoch 41/50\n114/114 [==============================] - 2s 18ms/step - loss: 0.0154 - accuracy: 0.9510 - precision: 0.9154 - recall: 0.8860 - val_loss: 0.0670 - val_accuracy: 0.9253 - val_precision: 0.8553 - val_recall: 0.8442\b\b\b\b\b\b\b\b\b\b\b\b\b\b\b\b\b\b\b\b\b\b\b\b\b\b\b\b\b\nEpoch 42/50\n114/114 [==============================] - 2s 17ms/step - loss: 0.0160 - accuracy: 0.9532 - precision: 0.9162 - recall: 0.8947 - val_loss: 0.0723 - val_accuracy: 0.8799 - val_precision: 0.7778 - val_recall: 0.7273\b\b\b\b\b\b\b\b\b\b\b\b\b\b\b\b\b\b\b\b\b\b\b\b\b\b\b\b\b\nEpoch 43/50\n114/114 [==============================] - 2s 17ms/step - loss: 0.0217 - accuracy: 0.9401 - precision: 0.9000 - recall: 0.8553 - val_loss: 0.0654 - val_accuracy: 0.9026 - val_precision: 0.8133 - val_recall: 0.7922\b\b\b\b\b\b\b\b\b\b\b\b\b\b\b\b\b\b\b\b\b\b\b\b\b\b\b\b\b\nEpoch 44/50\n114/114 [==============================] - 2s 18ms/step - loss: 0.0164 - accuracy: 0.9499 - precision: 0.9163 - recall: 0.8801 - val_loss: 0.0730 - val_accuracy: 0.8961 - val_precision: 0.8000 - val_recall: 0.7792\b\b\b\b\b\b\b\b\b\b\b\b\b\b\b\b\b\b\b\b\b\b\b\b\b\b\b\b\b\nEpoch 45/50\n114/114 [==============================] - 2s 18ms/step - loss: 0.0154 - accuracy: 0.9514 - precision: 0.9155 - recall: 0.8874 - val_loss: 0.0740 - val_accuracy: 0.9058 - val_precision: 0.8158 - val_recall: 0.8052\b\b\b\b\b\b\b\b\b\b\b\b\b\b\b\b\b\b\b\b\b\b\b\b\b\b\b\b\b\nEpoch 46/50\n114/114 [==============================] - 2s 18ms/step - loss: 0.0138 - accuracy: 0.9572 - precision: 0.9212 - recall: 0.9064 - val_loss: 0.0824 - val_accuracy: 0.8831 - val_precision: 0.7733 - val_recall: 0.7532\b\b\b\b\b\b\b\b\b\b\b\b\b\b\b\b\b\b\b\b\b\b\b\b\b\b\b\b\b\nEpoch 47/50\n114/114 [==============================] - 2s 17ms/step - loss: 0.0169 - accuracy: 0.9499 - precision: 0.9113 - recall: 0.8860 - val_loss: 0.0769 - val_accuracy: 0.8961 - val_precision: 0.8000 - val_recall: 0.7792\b\b\b\b\b\b\b\b\b\b\b\b\b\b\b\b\b\b\b\b\b\b\b\b\b\b\b\b\b\nEpoch 48/50\n114/114 [==============================] - 2s 18ms/step - loss: 0.0163 - accuracy: 0.9558 - precision: 0.9208 - recall: 0.9006 - val_loss: 0.0827 - val_accuracy: 0.9123 - val_precision: 0.8289 - val_recall: 0.8182\b\b\b\b\b\b\b\b\b\b\b\b\b\b\b\b\b\b\b\b\b\b\b\b\b\b\b\b\b\nEpoch 49/50\n114/114 [==============================] - 2s 18ms/step - loss: 0.0198 - accuracy: 0.9430 - precision: 0.9074 - recall: 0.8596 - val_loss: 0.0897 - val_accuracy: 0.8994 - val_precision: 0.8026 - val_recall: 0.7922\b\b\b\b\b\b\b\b\b\b\b\b\b\b\b\b\b\b\b\b\b\b\b\b\b\b\b\b\b\nEpoch 50/50\n114/114 [==============================] - 2s 18ms/step - loss: 0.0148 - accuracy: 0.9550 - precision: 0.9244 - recall: 0.8933 - val_loss: 0.0728 - val_accuracy: 0.9091 - val_precision: 0.8267 - val_recall: 0.8052\b\b\b\b\b\b\b\b\b\b\b\b\b\b\b\b\b\b\b\b\b\b\b\b\b\b\b\b\b\n"
        }
      ],
      "execution_count": null,
      "metadata": {
        "jupyter": {
          "source_hidden": false,
          "outputs_hidden": false
        },
        "nteract": {
          "transient": {
            "deleting": false
          }
        },
        "gather": {
          "logged": 1648882097889
        },
        "id": "vzaqn35ZzQJP",
        "outputId": "1f54ae2a-f0f7-4180-c691-accc271a5e8b"
      }
    },
    {
      "cell_type": "code",
      "source": [
        "plt.plot(history.history['loss'], label='Training loss')\n",
        "plt.plot(history.history['val_loss'], label='Validation loss')\n",
        "plt.legend()"
      ],
      "outputs": [
        {
          "output_type": "execute_result",
          "execution_count": 82,
          "data": {
            "text/plain": "<matplotlib.legend.Legend at 0x7f769d91d040>"
          },
          "metadata": {}
        },
        {
          "output_type": "display_data",
          "data": {
            "text/plain": "<Figure size 432x288 with 1 Axes>",
            "image/png": "[encoded data removed]"
          },
          "metadata": {
            "needs_background": "light"
          }
        }
      ],
      "execution_count": null,
      "metadata": {
        "jupyter": {
          "source_hidden": false,
          "outputs_hidden": false
        },
        "nteract": {
          "transient": {
            "deleting": false
          }
        },
        "gather": {
          "logged": 1648882173437
        },
        "id": "hdf5VAtAzQJP",
        "outputId": "b24efe11-e483-42b3-928f-dc127a8459e4"
      }
    },
    {
      "cell_type": "code",
      "source": [
        "#Forecasting\n",
        "#as inputs for prediction. We only have all 4 variables until the last day in our dataset.\n",
        "n_future = 73\n",
        "n_months_for_prediction=72  #let us predict past 72 months\n",
        "\n",
        "forecast_period_dates = pd.date_range(list(train_dates)[-n_future], periods=n_months_for_prediction, freq='M').tolist()\n",
        "print(forecast_period_dates)\n"
      ],
      "outputs": [
        {
          "output_type": "stream",
          "name": "stdout",
          "text": "[Timestamp('2014-08-31 00:00:00+0000', tz='UTC', freq='M'), Timestamp('2014-09-30 00:00:00+0000', tz='UTC', freq='M'), Timestamp('2014-10-31 00:00:00+0000', tz='UTC', freq='M'), Timestamp('2014-11-30 00:00:00+0000', tz='UTC', freq='M'), Timestamp('2014-12-31 00:00:00+0000', tz='UTC', freq='M'), Timestamp('2015-01-31 00:00:00+0000', tz='UTC', freq='M'), Timestamp('2015-02-28 00:00:00+0000', tz='UTC', freq='M'), Timestamp('2015-03-31 00:00:00+0000', tz='UTC', freq='M'), Timestamp('2015-04-30 00:00:00+0000', tz='UTC', freq='M'), Timestamp('2015-05-31 00:00:00+0000', tz='UTC', freq='M'), Timestamp('2015-06-30 00:00:00+0000', tz='UTC', freq='M'), Timestamp('2015-07-31 00:00:00+0000', tz='UTC', freq='M'), Timestamp('2015-08-31 00:00:00+0000', tz='UTC', freq='M'), Timestamp('2015-09-30 00:00:00+0000', tz='UTC', freq='M'), Timestamp('2015-10-31 00:00:00+0000', tz='UTC', freq='M'), Timestamp('2015-11-30 00:00:00+0000', tz='UTC', freq='M'), Timestamp('2015-12-31 00:00:00+0000', tz='UTC', freq='M'), Timestamp('2016-01-31 00:00:00+0000', tz='UTC', freq='M'), Timestamp('2016-02-29 00:00:00+0000', tz='UTC', freq='M'), Timestamp('2016-03-31 00:00:00+0000', tz='UTC', freq='M'), Timestamp('2016-04-30 00:00:00+0000', tz='UTC', freq='M'), Timestamp('2016-05-31 00:00:00+0000', tz='UTC', freq='M'), Timestamp('2016-06-30 00:00:00+0000', tz='UTC', freq='M'), Timestamp('2016-07-31 00:00:00+0000', tz='UTC', freq='M'), Timestamp('2016-08-31 00:00:00+0000', tz='UTC', freq='M'), Timestamp('2016-09-30 00:00:00+0000', tz='UTC', freq='M'), Timestamp('2016-10-31 00:00:00+0000', tz='UTC', freq='M'), Timestamp('2016-11-30 00:00:00+0000', tz='UTC', freq='M'), Timestamp('2016-12-31 00:00:00+0000', tz='UTC', freq='M'), Timestamp('2017-01-31 00:00:00+0000', tz='UTC', freq='M'), Timestamp('2017-02-28 00:00:00+0000', tz='UTC', freq='M'), Timestamp('2017-03-31 00:00:00+0000', tz='UTC', freq='M'), Timestamp('2017-04-30 00:00:00+0000', tz='UTC', freq='M'), Timestamp('2017-05-31 00:00:00+0000', tz='UTC', freq='M'), Timestamp('2017-06-30 00:00:00+0000', tz='UTC', freq='M'), Timestamp('2017-07-31 00:00:00+0000', tz='UTC', freq='M'), Timestamp('2017-08-31 00:00:00+0000', tz='UTC', freq='M'), Timestamp('2017-09-30 00:00:00+0000', tz='UTC', freq='M'), Timestamp('2017-10-31 00:00:00+0000', tz='UTC', freq='M'), Timestamp('2017-11-30 00:00:00+0000', tz='UTC', freq='M'), Timestamp('2017-12-31 00:00:00+0000', tz='UTC', freq='M'), Timestamp('2018-01-31 00:00:00+0000', tz='UTC', freq='M'), Timestamp('2018-02-28 00:00:00+0000', tz='UTC', freq='M'), Timestamp('2018-03-31 00:00:00+0000', tz='UTC', freq='M'), Timestamp('2018-04-30 00:00:00+0000', tz='UTC', freq='M'), Timestamp('2018-05-31 00:00:00+0000', tz='UTC', freq='M'), Timestamp('2018-06-30 00:00:00+0000', tz='UTC', freq='M'), Timestamp('2018-07-31 00:00:00+0000', tz='UTC', freq='M'), Timestamp('2018-08-31 00:00:00+0000', tz='UTC', freq='M'), Timestamp('2018-09-30 00:00:00+0000', tz='UTC', freq='M'), Timestamp('2018-10-31 00:00:00+0000', tz='UTC', freq='M'), Timestamp('2018-11-30 00:00:00+0000', tz='UTC', freq='M'), Timestamp('2018-12-31 00:00:00+0000', tz='UTC', freq='M'), Timestamp('2019-01-31 00:00:00+0000', tz='UTC', freq='M'), Timestamp('2019-02-28 00:00:00+0000', tz='UTC', freq='M'), Timestamp('2019-03-31 00:00:00+0000', tz='UTC', freq='M'), Timestamp('2019-04-30 00:00:00+0000', tz='UTC', freq='M'), Timestamp('2019-05-31 00:00:00+0000', tz='UTC', freq='M'), Timestamp('2019-06-30 00:00:00+0000', tz='UTC', freq='M'), Timestamp('2019-07-31 00:00:00+0000', tz='UTC', freq='M'), Timestamp('2019-08-31 00:00:00+0000', tz='UTC', freq='M'), Timestamp('2019-09-30 00:00:00+0000', tz='UTC', freq='M'), Timestamp('2019-10-31 00:00:00+0000', tz='UTC', freq='M'), Timestamp('2019-11-30 00:00:00+0000', tz='UTC', freq='M'), Timestamp('2019-12-31 00:00:00+0000', tz='UTC', freq='M'), Timestamp('2020-01-31 00:00:00+0000', tz='UTC', freq='M'), Timestamp('2020-02-29 00:00:00+0000', tz='UTC', freq='M'), Timestamp('2020-03-31 00:00:00+0000', tz='UTC', freq='M'), Timestamp('2020-04-30 00:00:00+0000', tz='UTC', freq='M'), Timestamp('2020-05-31 00:00:00+0000', tz='UTC', freq='M'), Timestamp('2020-06-30 00:00:00+0000', tz='UTC', freq='M'), Timestamp('2020-07-31 00:00:00+0000', tz='UTC', freq='M')]\n"
        }
      ],
      "execution_count": null,
      "metadata": {
        "jupyter": {
          "source_hidden": false,
          "outputs_hidden": false
        },
        "nteract": {
          "transient": {
            "deleting": false
          }
        },
        "gather": {
          "logged": 1648882824928
        },
        "id": "c5AEMGIMzQJP",
        "outputId": "a844c476-c522-416b-c6ed-e77ee7b99d34"
      }
    },
    {
      "cell_type": "code",
      "source": [
        "# Convert timestamp to date\n",
        "forecast_dates = []\n",
        "for time_i in forecast_period_dates:\n",
        "    forecast_dates.append(time_i.date())\n",
        "\n",
        "print(forecast_dates)"
      ],
      "outputs": [
        {
          "output_type": "stream",
          "name": "stdout",
          "text": "[datetime.date(2014, 8, 31), datetime.date(2014, 9, 30), datetime.date(2014, 10, 31), datetime.date(2014, 11, 30), datetime.date(2014, 12, 31), datetime.date(2015, 1, 31), datetime.date(2015, 2, 28), datetime.date(2015, 3, 31), datetime.date(2015, 4, 30), datetime.date(2015, 5, 31), datetime.date(2015, 6, 30), datetime.date(2015, 7, 31), datetime.date(2015, 8, 31), datetime.date(2015, 9, 30), datetime.date(2015, 10, 31), datetime.date(2015, 11, 30), datetime.date(2015, 12, 31), datetime.date(2016, 1, 31), datetime.date(2016, 2, 29), datetime.date(2016, 3, 31), datetime.date(2016, 4, 30), datetime.date(2016, 5, 31), datetime.date(2016, 6, 30), datetime.date(2016, 7, 31), datetime.date(2016, 8, 31), datetime.date(2016, 9, 30), datetime.date(2016, 10, 31), datetime.date(2016, 11, 30), datetime.date(2016, 12, 31), datetime.date(2017, 1, 31), datetime.date(2017, 2, 28), datetime.date(2017, 3, 31), datetime.date(2017, 4, 30), datetime.date(2017, 5, 31), datetime.date(2017, 6, 30), datetime.date(2017, 7, 31), datetime.date(2017, 8, 31), datetime.date(2017, 9, 30), datetime.date(2017, 10, 31), datetime.date(2017, 11, 30), datetime.date(2017, 12, 31), datetime.date(2018, 1, 31), datetime.date(2018, 2, 28), datetime.date(2018, 3, 31), datetime.date(2018, 4, 30), datetime.date(2018, 5, 31), datetime.date(2018, 6, 30), datetime.date(2018, 7, 31), datetime.date(2018, 8, 31), datetime.date(2018, 9, 30), datetime.date(2018, 10, 31), datetime.date(2018, 11, 30), datetime.date(2018, 12, 31), datetime.date(2019, 1, 31), datetime.date(2019, 2, 28), datetime.date(2019, 3, 31), datetime.date(2019, 4, 30), datetime.date(2019, 5, 31), datetime.date(2019, 6, 30), datetime.date(2019, 7, 31), datetime.date(2019, 8, 31), datetime.date(2019, 9, 30), datetime.date(2019, 10, 31), datetime.date(2019, 11, 30), datetime.date(2019, 12, 31), datetime.date(2020, 1, 31), datetime.date(2020, 2, 29), datetime.date(2020, 3, 31), datetime.date(2020, 4, 30), datetime.date(2020, 5, 31), datetime.date(2020, 6, 30), datetime.date(2020, 7, 31)]\n"
        }
      ],
      "execution_count": null,
      "metadata": {
        "jupyter": {
          "source_hidden": false,
          "outputs_hidden": false
        },
        "nteract": {
          "transient": {
            "deleting": false
          }
        },
        "gather": {
          "logged": 1648882910950
        },
        "id": "xFrXQVeyzQJQ",
        "outputId": "b9e533c2-4461-47be-903e-6aeec3ef6884"
      }
    },
    {
      "cell_type": "code",
      "source": [
        "#Make prediction\n",
        "prediction = model.predict(trainX[-n_months_for_prediction:]) "
      ],
      "outputs": [],
      "execution_count": null,
      "metadata": {
        "jupyter": {
          "source_hidden": false,
          "outputs_hidden": false
        },
        "nteract": {
          "transient": {
            "deleting": false
          }
        },
        "gather": {
          "logged": 1648883029861
        },
        "id": "vCHL1Zk6zQJQ"
      }
    },
    {
      "cell_type": "code",
      "source": [
        "prediction.shape"
      ],
      "outputs": [
        {
          "output_type": "execute_result",
          "execution_count": 87,
          "data": {
            "text/plain": "(72, 4)"
          },
          "metadata": {}
        }
      ],
      "execution_count": null,
      "metadata": {
        "jupyter": {
          "source_hidden": false,
          "outputs_hidden": false
        },
        "nteract": {
          "transient": {
            "deleting": false
          }
        },
        "gather": {
          "logged": 1648883058990
        },
        "id": "z-RTYyU3zQJR",
        "outputId": "1b68b0be-63e8-47a5-ad8a-8e3c046c4c29"
      }
    },
    {
      "cell_type": "code",
      "source": [
        "prediction"
      ],
      "outputs": [
        {
          "output_type": "execute_result",
          "execution_count": 88,
          "data": {
            "text/plain": "array([[2.83101946e-01, 8.91133491e-03, 4.37930673e-02, 6.64193690e-01],\n       [2.83101946e-01, 8.91133491e-03, 4.37930673e-02, 6.64193690e-01],\n       [2.83101946e-01, 8.91133491e-03, 4.37930673e-02, 6.64193690e-01],\n       [2.83101946e-01, 8.91133491e-03, 4.37930673e-02, 6.64193690e-01],\n       [2.83101946e-01, 8.91133491e-03, 4.37930673e-02, 6.64193690e-01],\n       [2.83101946e-01, 8.91133491e-03, 4.37930673e-02, 6.64193690e-01],\n       [2.83101946e-01, 8.91133491e-03, 4.37930673e-02, 6.64193690e-01],\n       [2.83101946e-01, 8.91133491e-03, 4.37930673e-02, 6.64193690e-01],\n       [2.83101946e-01, 8.91133491e-03, 4.37930673e-02, 6.64193690e-01],\n       [2.83101946e-01, 8.91133491e-03, 4.37930673e-02, 6.64193690e-01],\n       [2.83101946e-01, 8.91133491e-03, 4.37930673e-02, 6.64193690e-01],\n       [2.83101946e-01, 8.91133491e-03, 4.37930673e-02, 6.64193690e-01],\n       [2.83101946e-01, 8.91133491e-03, 4.37930673e-02, 6.64193690e-01],\n       [2.83101946e-01, 8.91133491e-03, 4.37930673e-02, 6.64193690e-01],\n       [2.83101946e-01, 8.91133491e-03, 4.37930673e-02, 6.64193690e-01],\n       [2.83101946e-01, 8.91133491e-03, 4.37930673e-02, 6.64193690e-01],\n       [2.83101946e-01, 8.91133491e-03, 4.37930673e-02, 6.64193690e-01],\n       [2.83101946e-01, 8.91133491e-03, 4.37930673e-02, 6.64193690e-01],\n       [2.83101946e-01, 8.91133491e-03, 4.37930673e-02, 6.64193690e-01],\n       [2.83101946e-01, 8.91133491e-03, 4.37930673e-02, 6.64193690e-01],\n       [2.83101946e-01, 8.91133491e-03, 4.37930673e-02, 6.64193690e-01],\n       [2.83101946e-01, 8.91133491e-03, 4.37930673e-02, 6.64193690e-01],\n       [2.83101946e-01, 8.91133491e-03, 4.37930673e-02, 6.64193690e-01],\n       [2.83101946e-01, 8.91133491e-03, 4.37930673e-02, 6.64193690e-01],\n       [2.83101946e-01, 8.91133491e-03, 4.37930673e-02, 6.64193690e-01],\n       [2.83101946e-01, 8.91133491e-03, 4.37930673e-02, 6.64193690e-01],\n       [2.83101946e-01, 8.91133491e-03, 4.37930673e-02, 6.64193690e-01],\n       [2.83101946e-01, 8.91133491e-03, 4.37930673e-02, 6.64193690e-01],\n       [2.83101946e-01, 8.91133491e-03, 4.37930673e-02, 6.64193690e-01],\n       [2.83101946e-01, 8.91133491e-03, 4.37930673e-02, 6.64193690e-01],\n       [3.20245326e-01, 6.38947822e-03, 1.80847514e-02, 6.55280471e-01],\n       [4.36863422e-01, 6.71266858e-03, 2.22210377e-03, 5.54201782e-01],\n       [6.77197516e-01, 4.73404955e-03, 3.15548532e-04, 3.17752898e-01],\n       [7.77952969e-01, 8.83703178e-04, 1.16189665e-04, 2.21047133e-01],\n       [6.74264252e-01, 4.20059543e-04, 1.60901545e-04, 3.25154722e-01],\n       [4.56722200e-01, 4.01941215e-04, 2.54613842e-04, 5.42621195e-01],\n       [3.39462280e-01, 4.87141457e-04, 7.66556477e-04, 6.59284055e-01],\n       [3.02433014e-01, 7.87326775e-04, 4.52182628e-03, 6.92257822e-01],\n       [2.69708097e-01, 1.29418913e-03, 3.17987502e-02, 6.97198987e-01],\n       [1.85796559e-01, 1.43436994e-03, 1.75920025e-01, 6.36849105e-01],\n       [7.45567009e-02, 8.09779973e-04, 4.72536713e-01, 4.52096701e-01],\n       [5.51388897e-02, 5.59739710e-04, 4.86150593e-01, 4.58150774e-01],\n       [1.39903471e-01, 2.68901628e-03, 9.22074169e-02, 7.65200019e-01],\n       [1.39119744e-01, 1.64782703e-01, 1.16334809e-03, 6.94934249e-01],\n       [4.09336686e-02, 2.02784121e-01, 2.52538848e-05, 7.56256998e-01],\n       [2.12722216e-02, 4.10808399e-02, 1.17581503e-05, 9.37635124e-01],\n       [4.17648256e-02, 4.66283783e-02, 6.34959288e-05, 9.11543250e-01],\n       [1.23077534e-01, 3.45117375e-02, 4.90604783e-04, 8.41920197e-01],\n       [2.29436487e-01, 1.90228429e-02, 1.14217249e-03, 7.50398517e-01],\n       [3.30301583e-01, 1.03076370e-02, 2.54965643e-03, 6.56841159e-01],\n       [3.86883676e-01, 7.06087053e-03, 7.51333730e-03, 5.98542094e-01],\n       [3.83129716e-01, 5.80313616e-03, 2.72065867e-02, 5.83860576e-01],\n       [3.20839405e-01, 4.94376104e-03, 9.28351879e-02, 5.81381619e-01],\n       [2.33767897e-01, 3.65293818e-03, 2.14603946e-01, 5.47975242e-01],\n       [1.82687894e-01, 2.61186366e-03, 3.03011864e-01, 5.11688352e-01],\n       [1.87212721e-01, 2.24298378e-03, 2.95661271e-01, 5.14883101e-01],\n       [2.29231492e-01, 2.40948028e-03, 2.31850415e-01, 5.36508620e-01],\n       [2.76784718e-01, 1.29061705e-03, 3.91338430e-02, 6.82790816e-01],\n       [3.31340015e-01, 2.15616822e-03, 7.89286103e-03, 6.58610940e-01],\n       [4.04620320e-01, 1.84083218e-03, 1.98089378e-03, 5.91557980e-01],\n       [4.59500730e-01, 6.04654662e-04, 6.56859251e-04, 5.39237738e-01],\n       [4.39825982e-01, 7.45213474e-04, 1.05460209e-03, 5.58374226e-01],\n       [2.30950251e-01, 1.02464040e-03, 2.87499488e-03, 7.65150070e-01],\n       [9.51801017e-02, 1.44507200e-03, 2.46265996e-02, 8.78748238e-01],\n       [7.42607862e-02, 7.42243545e-04, 1.83076054e-01, 7.41920888e-01],\n       [8.23425427e-02, 4.39719355e-04, 3.47721696e-01, 5.69496036e-01],\n       [1.07814848e-01, 4.58070543e-04, 3.14348280e-01, 5.77378809e-01],\n       [2.97899097e-02, 3.83899052e-04, 6.61263227e-01, 3.08562934e-01],\n       [7.94317573e-02, 8.52607423e-04, 3.35373431e-01, 5.84342241e-01],\n       [1.82332963e-01, 3.17353569e-02, 7.37912720e-03, 7.78552532e-01],\n       [5.77237234e-02, 5.92530668e-01, 6.33136951e-05, 3.49682331e-01],\n       [2.47865897e-02, 1.84395403e-01, 1.00364632e-05, 7.90807962e-01]],\n      dtype=float32)"
          },
          "metadata": {}
        }
      ],
      "execution_count": null,
      "metadata": {
        "jupyter": {
          "source_hidden": false,
          "outputs_hidden": false
        },
        "nteract": {
          "transient": {
            "deleting": false
          }
        },
        "gather": {
          "logged": 1648883186993
        },
        "id": "_yen5CvuzQJR",
        "outputId": "9a6532c2-a458-458f-e20e-457f1fa874a9"
      }
    },
    {
      "cell_type": "code",
      "source": [
        "ypred = prediction\n",
        "ypred[:,0]"
      ],
      "outputs": [
        {
          "output_type": "execute_result",
          "execution_count": 90,
          "data": {
            "text/plain": "array([0.28310195, 0.28310195, 0.28310195, 0.28310195, 0.28310195,\n       0.28310195, 0.28310195, 0.28310195, 0.28310195, 0.28310195,\n       0.28310195, 0.28310195, 0.28310195, 0.28310195, 0.28310195,\n       0.28310195, 0.28310195, 0.28310195, 0.28310195, 0.28310195,\n       0.28310195, 0.28310195, 0.28310195, 0.28310195, 0.28310195,\n       0.28310195, 0.28310195, 0.28310195, 0.28310195, 0.28310195,\n       0.32024533, 0.43686342, 0.6771975 , 0.77795297, 0.67426425,\n       0.4567222 , 0.33946228, 0.302433  , 0.2697081 , 0.18579656,\n       0.0745567 , 0.05513889, 0.13990347, 0.13911974, 0.04093367,\n       0.02127222, 0.04176483, 0.12307753, 0.22943649, 0.33030158,\n       0.38688368, 0.38312972, 0.3208394 , 0.2337679 , 0.1826879 ,\n       0.18721272, 0.22923149, 0.27678472, 0.33134001, 0.40462032,\n       0.45950073, 0.43982598, 0.23095025, 0.0951801 , 0.07426079,\n       0.08234254, 0.10781485, 0.02978991, 0.07943176, 0.18233296,\n       0.05772372, 0.02478659], dtype=float32)"
          },
          "metadata": {}
        }
      ],
      "execution_count": null,
      "metadata": {
        "jupyter": {
          "source_hidden": false,
          "outputs_hidden": false
        },
        "nteract": {
          "transient": {
            "deleting": false
          }
        },
        "gather": {
          "logged": 1648883213041
        },
        "id": "hO_5T1LazQJR",
        "outputId": "101f50b4-2433-43e2-bf33-6aa42b3ce065"
      }
    },
    {
      "cell_type": "code",
      "source": [
        "np.argmax(ypred, axis=1)"
      ],
      "outputs": [
        {
          "output_type": "execute_result",
          "execution_count": 98,
          "data": {
            "text/plain": "array([3, 3, 3, 3, 3, 3, 3, 3, 3, 3, 3, 3, 3, 3, 3, 3, 3, 3, 3, 3, 3, 3,\n       3, 3, 3, 3, 3, 3, 3, 3, 3, 3, 0, 0, 0, 3, 3, 3, 3, 3, 2, 2, 3, 3,\n       3, 3, 3, 3, 3, 3, 3, 3, 3, 3, 3, 3, 3, 3, 3, 3, 3, 3, 3, 3, 3, 3,\n       3, 2, 3, 3, 1, 3])"
          },
          "metadata": {}
        }
      ],
      "execution_count": null,
      "metadata": {
        "jupyter": {
          "source_hidden": false,
          "outputs_hidden": false
        },
        "nteract": {
          "transient": {
            "deleting": false
          }
        },
        "gather": {
          "logged": 1648883846995
        },
        "id": "Eh_lq1eszQJR",
        "outputId": "92e8c9cd-3ae4-4e2d-f9ce-6c64e38dba87"
      }
    },
    {
      "cell_type": "code",
      "source": [
        "y_original = original.values\n",
        "np.argmax(y_original[:,1:5], axis=1)"
      ],
      "outputs": [
        {
          "output_type": "execute_result",
          "execution_count": 101,
          "data": {
            "text/plain": "array([3, 3, 3, 3, 3, 3, 3, 3, 3, 3, 3, 3, 3, 3, 3, 3, 3, 3, 3, 0, 0, 0,\n       3, 3, 3, 3, 3, 3, 3, 3, 3, 3, 3, 3, 3, 3, 1, 3, 3, 3, 3, 3, 3, 3,\n       3, 3, 0, 3, 3, 0, 3, 3, 3, 3, 3, 3, 3, 3, 0, 3, 3, 0, 3, 3, 3, 3,\n       3, 3, 3, 3, 3, 1, 1])"
          },
          "metadata": {}
        }
      ],
      "execution_count": null,
      "metadata": {
        "jupyter": {
          "source_hidden": false,
          "outputs_hidden": false
        },
        "nteract": {
          "transient": {
            "deleting": false
          }
        },
        "gather": {
          "logged": 1648883966013
        },
        "id": "CMxMvwJyzQJS",
        "outputId": "b3de524a-037f-4135-b612-f0e54b2bc173"
      }
    },
    {
      "cell_type": "code",
      "source": [
        "df_forecast = pd.DataFrame({'Date':np.array(forecast_dates), 'Calamity_Flood':ypred[:,0], 'Calamity_Hurricane':ypred[:,1], 'Calamity_Tornado':ypred[:,2], 'Calamity_None': ypred[:,3]})\n",
        "df_forecast['Date']=pd.to_datetime(df_forecast['Date'])"
      ],
      "outputs": [],
      "execution_count": null,
      "metadata": {
        "jupyter": {
          "source_hidden": false,
          "outputs_hidden": false
        },
        "nteract": {
          "transient": {
            "deleting": false
          }
        },
        "gather": {
          "logged": 1648883454156
        },
        "id": "MIT0vlhEzQJS"
      }
    },
    {
      "cell_type": "code",
      "source": [
        "df_forecast.head(10)"
      ],
      "outputs": [
        {
          "output_type": "execute_result",
          "execution_count": 92,
          "data": {
            "text/plain": "        Date  Calamity_Flood  Calamity_Hurricane  Calamity_Tornado  \\\n0 2014-08-31        0.283102            0.008911          0.043793   \n1 2014-09-30        0.283102            0.008911          0.043793   \n2 2014-10-31        0.283102            0.008911          0.043793   \n3 2014-11-30        0.283102            0.008911          0.043793   \n4 2014-12-31        0.283102            0.008911          0.043793   \n5 2015-01-31        0.283102            0.008911          0.043793   \n6 2015-02-28        0.283102            0.008911          0.043793   \n7 2015-03-31        0.283102            0.008911          0.043793   \n8 2015-04-30        0.283102            0.008911          0.043793   \n9 2015-05-31        0.283102            0.008911          0.043793   \n\n   Calamity_None  \n0       0.664194  \n1       0.664194  \n2       0.664194  \n3       0.664194  \n4       0.664194  \n5       0.664194  \n6       0.664194  \n7       0.664194  \n8       0.664194  \n9       0.664194  ",
            "text/html": "<div>\n<style scoped>\n    .dataframe tbody tr th:only-of-type {\n        vertical-align: middle;\n    }\n\n    .dataframe tbody tr th {\n        vertical-align: top;\n    }\n\n    .dataframe thead th {\n        text-align: right;\n    }\n</style>\n<table border=\"1\" class=\"dataframe\">\n  <thead>\n    <tr style=\"text-align: right;\">\n      <th></th>\n      <th>Date</th>\n      <th>Calamity_Flood</th>\n      <th>Calamity_Hurricane</th>\n      <th>Calamity_Tornado</th>\n      <th>Calamity_None</th>\n    </tr>\n  </thead>\n  <tbody>\n    <tr>\n      <th>0</th>\n      <td>2014-08-31</td>\n      <td>0.283102</td>\n      <td>0.008911</td>\n      <td>0.043793</td>\n      <td>0.664194</td>\n    </tr>\n    <tr>\n      <th>1</th>\n      <td>2014-09-30</td>\n      <td>0.283102</td>\n      <td>0.008911</td>\n      <td>0.043793</td>\n      <td>0.664194</td>\n    </tr>\n    <tr>\n      <th>2</th>\n      <td>2014-10-31</td>\n      <td>0.283102</td>\n      <td>0.008911</td>\n      <td>0.043793</td>\n      <td>0.664194</td>\n    </tr>\n    <tr>\n      <th>3</th>\n      <td>2014-11-30</td>\n      <td>0.283102</td>\n      <td>0.008911</td>\n      <td>0.043793</td>\n      <td>0.664194</td>\n    </tr>\n    <tr>\n      <th>4</th>\n      <td>2014-12-31</td>\n      <td>0.283102</td>\n      <td>0.008911</td>\n      <td>0.043793</td>\n      <td>0.664194</td>\n    </tr>\n    <tr>\n      <th>5</th>\n      <td>2015-01-31</td>\n      <td>0.283102</td>\n      <td>0.008911</td>\n      <td>0.043793</td>\n      <td>0.664194</td>\n    </tr>\n    <tr>\n      <th>6</th>\n      <td>2015-02-28</td>\n      <td>0.283102</td>\n      <td>0.008911</td>\n      <td>0.043793</td>\n      <td>0.664194</td>\n    </tr>\n    <tr>\n      <th>7</th>\n      <td>2015-03-31</td>\n      <td>0.283102</td>\n      <td>0.008911</td>\n      <td>0.043793</td>\n      <td>0.664194</td>\n    </tr>\n    <tr>\n      <th>8</th>\n      <td>2015-04-30</td>\n      <td>0.283102</td>\n      <td>0.008911</td>\n      <td>0.043793</td>\n      <td>0.664194</td>\n    </tr>\n    <tr>\n      <th>9</th>\n      <td>2015-05-31</td>\n      <td>0.283102</td>\n      <td>0.008911</td>\n      <td>0.043793</td>\n      <td>0.664194</td>\n    </tr>\n  </tbody>\n</table>\n</div>"
          },
          "metadata": {}
        }
      ],
      "execution_count": null,
      "metadata": {
        "jupyter": {
          "source_hidden": false,
          "outputs_hidden": false
        },
        "nteract": {
          "transient": {
            "deleting": false
          }
        },
        "gather": {
          "logged": 1648883468125
        },
        "id": "v9LWB6YnzQJS",
        "outputId": "bcc7a87e-df4b-47bb-8d7f-4ec5fd18fa44"
      }
    },
    {
      "cell_type": "code",
      "source": [
        "original = df\n",
        "original['Date']=pd.to_datetime(original['Date'])\n",
        "original = original.loc[original['Date'] >= '2014-08-31']"
      ],
      "outputs": [],
      "execution_count": null,
      "metadata": {
        "jupyter": {
          "source_hidden": false,
          "outputs_hidden": false
        },
        "nteract": {
          "transient": {
            "deleting": false
          }
        },
        "gather": {
          "logged": 1648883561970
        },
        "id": "RoBU-SBtzQJS"
      }
    },
    {
      "cell_type": "code",
      "source": [
        "sns.lineplot(original['Date'], original['Calamity_Flood'])\n",
        "sns.lineplot(df_forecast['Date'], df_forecast['Calamity_Flood'])"
      ],
      "outputs": [
        {
          "output_type": "stream",
          "name": "stderr",
          "text": "/anaconda/envs/azureml_py38_PT_TF/lib/python3.8/site-packages/seaborn/_decorators.py:36: FutureWarning: Pass the following variables as keyword args: x, y. From version 0.12, the only valid positional argument will be `data`, and passing other arguments without an explicit keyword will result in an error or misinterpretation.\n  warnings.warn(\n/anaconda/envs/azureml_py38_PT_TF/lib/python3.8/site-packages/seaborn/_decorators.py:36: FutureWarning: Pass the following variables as keyword args: x, y. From version 0.12, the only valid positional argument will be `data`, and passing other arguments without an explicit keyword will result in an error or misinterpretation.\n  warnings.warn(\n"
        },
        {
          "output_type": "execute_result",
          "execution_count": 94,
          "data": {
            "text/plain": "<AxesSubplot:xlabel='Date', ylabel='Calamity_Flood'>"
          },
          "metadata": {}
        },
        {
          "output_type": "display_data",
          "data": {
            "text/plain": "<Figure size 432x288 with 1 Axes>",
            "image/png": "[encoded data removed]"
          },
          "metadata": {
            "needs_background": "light"
          }
        }
      ],
      "execution_count": null,
      "metadata": {
        "jupyter": {
          "source_hidden": false,
          "outputs_hidden": false
        },
        "nteract": {
          "transient": {
            "deleting": false
          }
        },
        "gather": {
          "logged": 1648883668332
        },
        "id": "KqWN2pOczQJS",
        "outputId": "c33bbbc0-f17c-45a7-f78e-d366f1a13cd8"
      }
    },
    {
      "cell_type": "code",
      "source": [
        "sns.lineplot(original['Date'], original['Calamity_Hurricane'])\n",
        "sns.lineplot(df_forecast['Date'], df_forecast['Calamity_Hurricane'])"
      ],
      "outputs": [
        {
          "output_type": "stream",
          "name": "stderr",
          "text": "/anaconda/envs/azureml_py38_PT_TF/lib/python3.8/site-packages/seaborn/_decorators.py:36: FutureWarning: Pass the following variables as keyword args: x, y. From version 0.12, the only valid positional argument will be `data`, and passing other arguments without an explicit keyword will result in an error or misinterpretation.\n  warnings.warn(\n/anaconda/envs/azureml_py38_PT_TF/lib/python3.8/site-packages/seaborn/_decorators.py:36: FutureWarning: Pass the following variables as keyword args: x, y. From version 0.12, the only valid positional argument will be `data`, and passing other arguments without an explicit keyword will result in an error or misinterpretation.\n  warnings.warn(\n"
        },
        {
          "output_type": "execute_result",
          "execution_count": 95,
          "data": {
            "text/plain": "<AxesSubplot:xlabel='Date', ylabel='Calamity_Hurricane'>"
          },
          "metadata": {}
        },
        {
          "output_type": "display_data",
          "data": {
            "text/plain": "<Figure size 432x288 with 1 Axes>",
            "image/png": "[encoded data removed]"
          },
          "metadata": {
            "needs_background": "light"
          }
        }
      ],
      "execution_count": null,
      "metadata": {
        "jupyter": {
          "source_hidden": false,
          "outputs_hidden": false
        },
        "nteract": {
          "transient": {
            "deleting": false
          }
        },
        "gather": {
          "logged": 1648883698135
        },
        "id": "2TioqsjozQJT",
        "outputId": "9b066eae-ab10-4d41-b9b0-520239fe7f7f"
      }
    },
    {
      "cell_type": "code",
      "source": [
        "sns.lineplot(original['Date'], original['Calamity_Tornado'])\n",
        "sns.lineplot(df_forecast['Date'], df_forecast['Calamity_Tornado'])"
      ],
      "outputs": [
        {
          "output_type": "stream",
          "name": "stderr",
          "text": "/anaconda/envs/azureml_py38_PT_TF/lib/python3.8/site-packages/seaborn/_decorators.py:36: FutureWarning: Pass the following variables as keyword args: x, y. From version 0.12, the only valid positional argument will be `data`, and passing other arguments without an explicit keyword will result in an error or misinterpretation.\n  warnings.warn(\n/anaconda/envs/azureml_py38_PT_TF/lib/python3.8/site-packages/seaborn/_decorators.py:36: FutureWarning: Pass the following variables as keyword args: x, y. From version 0.12, the only valid positional argument will be `data`, and passing other arguments without an explicit keyword will result in an error or misinterpretation.\n  warnings.warn(\n"
        },
        {
          "output_type": "execute_result",
          "execution_count": 96,
          "data": {
            "text/plain": "<AxesSubplot:xlabel='Date', ylabel='Calamity_Tornado'>"
          },
          "metadata": {}
        },
        {
          "output_type": "display_data",
          "data": {
            "text/plain": "<Figure size 432x288 with 1 Axes>",
            "image/png": "[encoded data removed]"
          },
          "metadata": {
            "needs_background": "light"
          }
        }
      ],
      "execution_count": null,
      "metadata": {
        "jupyter": {
          "source_hidden": false,
          "outputs_hidden": false
        },
        "nteract": {
          "transient": {
            "deleting": false
          }
        },
        "gather": {
          "logged": 1648883710231
        },
        "id": "A-MhamYZzQJT",
        "outputId": "fa447956-a9ad-4ece-e636-b7d43b2ba6d1"
      }
    },
    {
      "cell_type": "code",
      "source": [
        "sns.lineplot(original['Date'], original['Calamity_None'])\n",
        "sns.lineplot(df_forecast['Date'], df_forecast['Calamity_None'])"
      ],
      "outputs": [
        {
          "output_type": "stream",
          "name": "stderr",
          "text": "/anaconda/envs/azureml_py38_PT_TF/lib/python3.8/site-packages/seaborn/_decorators.py:36: FutureWarning: Pass the following variables as keyword args: x, y. From version 0.12, the only valid positional argument will be `data`, and passing other arguments without an explicit keyword will result in an error or misinterpretation.\n  warnings.warn(\n/anaconda/envs/azureml_py38_PT_TF/lib/python3.8/site-packages/seaborn/_decorators.py:36: FutureWarning: Pass the following variables as keyword args: x, y. From version 0.12, the only valid positional argument will be `data`, and passing other arguments without an explicit keyword will result in an error or misinterpretation.\n  warnings.warn(\n"
        },
        {
          "output_type": "execute_result",
          "execution_count": 97,
          "data": {
            "text/plain": "<AxesSubplot:xlabel='Date', ylabel='Calamity_None'>"
          },
          "metadata": {}
        },
        {
          "output_type": "display_data",
          "data": {
            "text/plain": "<Figure size 432x288 with 1 Axes>",
            "image/png": "[encoded data removed]"
          },
          "metadata": {
            "needs_background": "light"
          }
        }
      ],
      "execution_count": null,
      "metadata": {
        "jupyter": {
          "source_hidden": false,
          "outputs_hidden": false
        },
        "nteract": {
          "transient": {
            "deleting": false
          }
        },
        "gather": {
          "logged": 1648883748463
        },
        "id": "JolXh12kzQJT",
        "outputId": "e80e5a1c-718b-4ff5-c0fd-7997d2ef5c02"
      }
    },
    {
      "cell_type": "code",
      "source": [
        "model = Get model (Sequential, Functional Model, or Model subclass)"
      ],
      "outputs": [],
      "execution_count": null,
      "metadata": {
        "jupyter": {
          "source_hidden": false,
          "outputs_hidden": false
        },
        "nteract": {
          "transient": {
            "deleting": false
          }
        },
        "id": "miZ1NePuzQJU"
      }
    },
    {
      "cell_type": "code",
      "source": [
        "model.save('model.h5')"
      ],
      "outputs": [],
      "execution_count": null,
      "metadata": {
        "jupyter": {
          "source_hidden": false,
          "outputs_hidden": false
        },
        "nteract": {
          "transient": {
            "deleting": false
          }
        },
        "gather": {
          "logged": 1648892869045
        },
        "id": "8LEwhR2TzQJU"
      }
    },
    {
      "cell_type": "code",
      "source": [
        ""
      ],
      "outputs": [],
      "execution_count": null,
      "metadata": {
        "jupyter": {
          "source_hidden": false,
          "outputs_hidden": false
        },
        "nteract": {
          "transient": {
            "deleting": false
          }
        },
        "id": "84ioO3GYzQJU"
      }
    }
  ],
  "metadata": {
    "kernelspec": {
      "name": "azureml_py38_pt_tf",
      "language": "python",
      "display_name": "Python 3.8 - Pytorch and Tensorflow"
    },
    "language_info": {
      "name": "python",
      "version": "3.8.1",
      "mimetype": "text/x-python",
      "codemirror_mode": {
        "name": "ipython",
        "version": 3
      },
      "pygments_lexer": "ipython3",
      "nbconvert_exporter": "python",
      "file_extension": ".py"
    },
    "kernel_info": {
      "name": "azureml_py38_pt_tf"
    },
    "microsoft": {
      "host": {
        "AzureML": {
          "notebookHasBeenCompleted": true
        }
      }
    },
    "nteract": {
      "version": "nteract-front-end@1.0.0"
    },
    "colab": {
      "name": "Model_3_forecast.ipynb",
      "provenance": [],
      "include_colab_link": true
    }
  },
  "nbformat": 4,
  "nbformat_minor": 0
}