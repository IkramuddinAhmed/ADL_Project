{
  "cells": [
    {
      "cell_type": "markdown",
      "metadata": {
        "id": "view-in-github",
        "colab_type": "text"
      },
      "source": [
        "<a href=\"https://colab.research.google.com/github/IkramuddinAhmed/ADL_Project/blob/main/Binary_Model.ipynb\" target=\"_parent\"><img src=\"https://colab.research.google.com/assets/colab-badge.svg\" alt=\"Open In Colab\"/></a>"
      ]
    },
    {
      "cell_type": "code",
      "source": [
        "import numpy as np\n",
        "import pandas as pd\n",
        "from keras.models import Sequential\n",
        "from keras.layers import Dense\n",
        "from keras.layers import LSTM"
      ],
      "outputs": [],
      "execution_count": null,
      "metadata": {
        "gather": {
          "logged": 1648885800050
        },
        "id": "vERAmBPKun79"
      }
    },
    {
      "cell_type": "code",
      "source": [
        "df = pd.read_csv('natural_calamities.csv', parse_dates=['Date'])\n",
        "df.head(10)"
      ],
      "outputs": [
        {
          "output_type": "execute_result",
          "execution_count": 189,
          "data": {
            "text/plain": "                       Date  Year State  State_Label Calamity\n0 1953-05-02 00:00:00+00:00  1953    GA           12  Tornado\n1 1953-05-15 00:00:00+00:00  1953    TX           49  Tornado\n2 1953-05-29 00:00:00+00:00  1953    LA           21    Flood\n3 1953-06-02 00:00:00+00:00  1953    MI           26  Tornado\n4 1953-06-06 00:00:00+00:00  1953    MT           31    Flood\n5 1953-06-09 00:00:00+00:00  1953    MI           26  Tornado\n6 1953-06-11 00:00:00+00:00  1953    MA           22  Tornado\n7 1953-06-11 00:00:00+00:00  1953    IA           15    Flood\n8 1953-06-19 00:00:00+00:00  1953    TX           49    Flood\n9 1953-10-22 00:00:00+00:00  1954    FL           10    Flood",
            "text/html": "<div>\n<style scoped>\n    .dataframe tbody tr th:only-of-type {\n        vertical-align: middle;\n    }\n\n    .dataframe tbody tr th {\n        vertical-align: top;\n    }\n\n    .dataframe thead th {\n        text-align: right;\n    }\n</style>\n<table border=\"1\" class=\"dataframe\">\n  <thead>\n    <tr style=\"text-align: right;\">\n      <th></th>\n      <th>Date</th>\n      <th>Year</th>\n      <th>State</th>\n      <th>State_Label</th>\n      <th>Calamity</th>\n    </tr>\n  </thead>\n  <tbody>\n    <tr>\n      <th>0</th>\n      <td>1953-05-02 00:00:00+00:00</td>\n      <td>1953</td>\n      <td>GA</td>\n      <td>12</td>\n      <td>Tornado</td>\n    </tr>\n    <tr>\n      <th>1</th>\n      <td>1953-05-15 00:00:00+00:00</td>\n      <td>1953</td>\n      <td>TX</td>\n      <td>49</td>\n      <td>Tornado</td>\n    </tr>\n    <tr>\n      <th>2</th>\n      <td>1953-05-29 00:00:00+00:00</td>\n      <td>1953</td>\n      <td>LA</td>\n      <td>21</td>\n      <td>Flood</td>\n    </tr>\n    <tr>\n      <th>3</th>\n      <td>1953-06-02 00:00:00+00:00</td>\n      <td>1953</td>\n      <td>MI</td>\n      <td>26</td>\n      <td>Tornado</td>\n    </tr>\n    <tr>\n      <th>4</th>\n      <td>1953-06-06 00:00:00+00:00</td>\n      <td>1953</td>\n      <td>MT</td>\n      <td>31</td>\n      <td>Flood</td>\n    </tr>\n    <tr>\n      <th>5</th>\n      <td>1953-06-09 00:00:00+00:00</td>\n      <td>1953</td>\n      <td>MI</td>\n      <td>26</td>\n      <td>Tornado</td>\n    </tr>\n    <tr>\n      <th>6</th>\n      <td>1953-06-11 00:00:00+00:00</td>\n      <td>1953</td>\n      <td>MA</td>\n      <td>22</td>\n      <td>Tornado</td>\n    </tr>\n    <tr>\n      <th>7</th>\n      <td>1953-06-11 00:00:00+00:00</td>\n      <td>1953</td>\n      <td>IA</td>\n      <td>15</td>\n      <td>Flood</td>\n    </tr>\n    <tr>\n      <th>8</th>\n      <td>1953-06-19 00:00:00+00:00</td>\n      <td>1953</td>\n      <td>TX</td>\n      <td>49</td>\n      <td>Flood</td>\n    </tr>\n    <tr>\n      <th>9</th>\n      <td>1953-10-22 00:00:00+00:00</td>\n      <td>1954</td>\n      <td>FL</td>\n      <td>10</td>\n      <td>Flood</td>\n    </tr>\n  </tbody>\n</table>\n</div>"
          },
          "metadata": {}
        }
      ],
      "execution_count": null,
      "metadata": {
        "jupyter": {
          "source_hidden": false,
          "outputs_hidden": false
        },
        "nteract": {
          "transient": {
            "deleting": false
          }
        },
        "gather": {
          "logged": 1648886272186
        },
        "id": "g74Nm7jjun8D",
        "outputId": "e9a69880-8095-4922-e453-fe69fa733024"
      }
    },
    {
      "cell_type": "code",
      "source": [
        "df.info()"
      ],
      "outputs": [
        {
          "output_type": "stream",
          "name": "stdout",
          "text": "<class 'pandas.core.frame.DataFrame'>\nRangeIndex: 24831 entries, 0 to 24830\nData columns (total 5 columns):\n #   Column       Non-Null Count  Dtype              \n---  ------       --------------  -----              \n 0   Date         24831 non-null  datetime64[ns, UTC]\n 1   Year         24831 non-null  int64              \n 2   State        24831 non-null  object             \n 3   State_Label  24831 non-null  int64              \n 4   Calamity     24831 non-null  object             \ndtypes: datetime64[ns, UTC](1), int64(2), object(2)\nmemory usage: 970.1+ KB\n"
        }
      ],
      "execution_count": null,
      "metadata": {
        "jupyter": {
          "source_hidden": false,
          "outputs_hidden": false
        },
        "nteract": {
          "transient": {
            "deleting": false
          }
        },
        "gather": {
          "logged": 1648886278061
        },
        "id": "axXDMwd_un8F",
        "outputId": "f03f66a3-965a-4ab8-b633-ea8104fc599b"
      }
    },
    {
      "cell_type": "code",
      "source": [
        "df_TX = df[df['State']=='TX']\n",
        "df_TX.head(30)"
      ],
      "outputs": [
        {
          "output_type": "execute_result",
          "execution_count": 191,
          "data": {
            "text/plain": "                         Date  Year State  State_Label   Calamity\n1   1953-05-15 00:00:00+00:00  1953    TX           49    Tornado\n8   1953-06-19 00:00:00+00:00  1953    TX           49      Flood\n14  1954-07-01 00:00:00+00:00  1954    TX           49      Flood\n60  1957-04-29 00:00:00+00:00  1957    TX           49  Hurricane\n73  1958-06-06 00:00:00+00:00  1958    TX           49    Tornado\n81  1959-07-08 00:00:00+00:00  1959    TX           49      Flood\n101 1961-09-16 00:00:00+00:00  1961    TX           49  Hurricane\n134 1963-09-24 00:00:00+00:00  1963    TX           49  Hurricane\n501 1965-06-19 00:00:00+00:00  1965    TX           49    Tornado\n502 1965-06-19 00:00:00+00:00  1965    TX           49    Tornado\n503 1965-06-19 00:00:00+00:00  1965    TX           49    Tornado\n504 1965-06-19 00:00:00+00:00  1965    TX           49    Tornado\n505 1965-06-19 00:00:00+00:00  1965    TX           49    Tornado\n507 1965-06-19 00:00:00+00:00  1965    TX           49    Tornado\n508 1965-06-19 00:00:00+00:00  1965    TX           49    Tornado\n708 1966-05-12 00:00:00+00:00  1966    TX           49      Flood\n709 1966-05-12 00:00:00+00:00  1966    TX           49      Flood\n710 1966-05-12 00:00:00+00:00  1966    TX           49      Flood\n711 1966-05-12 00:00:00+00:00  1966    TX           49      Flood\n712 1966-05-12 00:00:00+00:00  1966    TX           49      Flood\n713 1966-05-12 00:00:00+00:00  1966    TX           49      Flood\n714 1966-05-12 00:00:00+00:00  1966    TX           49      Flood\n715 1966-05-12 00:00:00+00:00  1966    TX           49      Flood\n716 1966-05-12 00:00:00+00:00  1966    TX           49      Flood\n717 1966-05-12 00:00:00+00:00  1966    TX           49      Flood\n718 1966-05-12 00:00:00+00:00  1966    TX           49      Flood\n719 1966-05-12 00:00:00+00:00  1966    TX           49      Flood\n720 1966-05-12 00:00:00+00:00  1966    TX           49      Flood\n721 1966-05-12 00:00:00+00:00  1966    TX           49      Flood\n722 1966-05-12 00:00:00+00:00  1966    TX           49      Flood",
            "text/html": "<div>\n<style scoped>\n    .dataframe tbody tr th:only-of-type {\n        vertical-align: middle;\n    }\n\n    .dataframe tbody tr th {\n        vertical-align: top;\n    }\n\n    .dataframe thead th {\n        text-align: right;\n    }\n</style>\n<table border=\"1\" class=\"dataframe\">\n  <thead>\n    <tr style=\"text-align: right;\">\n      <th></th>\n      <th>Date</th>\n      <th>Year</th>\n      <th>State</th>\n      <th>State_Label</th>\n      <th>Calamity</th>\n    </tr>\n  </thead>\n  <tbody>\n    <tr>\n      <th>1</th>\n      <td>1953-05-15 00:00:00+00:00</td>\n      <td>1953</td>\n      <td>TX</td>\n      <td>49</td>\n      <td>Tornado</td>\n    </tr>\n    <tr>\n      <th>8</th>\n      <td>1953-06-19 00:00:00+00:00</td>\n      <td>1953</td>\n      <td>TX</td>\n      <td>49</td>\n      <td>Flood</td>\n    </tr>\n    <tr>\n      <th>14</th>\n      <td>1954-07-01 00:00:00+00:00</td>\n      <td>1954</td>\n      <td>TX</td>\n      <td>49</td>\n      <td>Flood</td>\n    </tr>\n    <tr>\n      <th>60</th>\n      <td>1957-04-29 00:00:00+00:00</td>\n      <td>1957</td>\n      <td>TX</td>\n      <td>49</td>\n      <td>Hurricane</td>\n    </tr>\n    <tr>\n      <th>73</th>\n      <td>1958-06-06 00:00:00+00:00</td>\n      <td>1958</td>\n      <td>TX</td>\n      <td>49</td>\n      <td>Tornado</td>\n    </tr>\n    <tr>\n      <th>81</th>\n      <td>1959-07-08 00:00:00+00:00</td>\n      <td>1959</td>\n      <td>TX</td>\n      <td>49</td>\n      <td>Flood</td>\n    </tr>\n    <tr>\n      <th>101</th>\n      <td>1961-09-16 00:00:00+00:00</td>\n      <td>1961</td>\n      <td>TX</td>\n      <td>49</td>\n      <td>Hurricane</td>\n    </tr>\n    <tr>\n      <th>134</th>\n      <td>1963-09-24 00:00:00+00:00</td>\n      <td>1963</td>\n      <td>TX</td>\n      <td>49</td>\n      <td>Hurricane</td>\n    </tr>\n    <tr>\n      <th>501</th>\n      <td>1965-06-19 00:00:00+00:00</td>\n      <td>1965</td>\n      <td>TX</td>\n      <td>49</td>\n      <td>Tornado</td>\n    </tr>\n    <tr>\n      <th>502</th>\n      <td>1965-06-19 00:00:00+00:00</td>\n      <td>1965</td>\n      <td>TX</td>\n      <td>49</td>\n      <td>Tornado</td>\n    </tr>\n    <tr>\n      <th>503</th>\n      <td>1965-06-19 00:00:00+00:00</td>\n      <td>1965</td>\n      <td>TX</td>\n      <td>49</td>\n      <td>Tornado</td>\n    </tr>\n    <tr>\n      <th>504</th>\n      <td>1965-06-19 00:00:00+00:00</td>\n      <td>1965</td>\n      <td>TX</td>\n      <td>49</td>\n      <td>Tornado</td>\n    </tr>\n    <tr>\n      <th>505</th>\n      <td>1965-06-19 00:00:00+00:00</td>\n      <td>1965</td>\n      <td>TX</td>\n      <td>49</td>\n      <td>Tornado</td>\n    </tr>\n    <tr>\n      <th>507</th>\n      <td>1965-06-19 00:00:00+00:00</td>\n      <td>1965</td>\n      <td>TX</td>\n      <td>49</td>\n      <td>Tornado</td>\n    </tr>\n    <tr>\n      <th>508</th>\n      <td>1965-06-19 00:00:00+00:00</td>\n      <td>1965</td>\n      <td>TX</td>\n      <td>49</td>\n      <td>Tornado</td>\n    </tr>\n    <tr>\n      <th>708</th>\n      <td>1966-05-12 00:00:00+00:00</td>\n      <td>1966</td>\n      <td>TX</td>\n      <td>49</td>\n      <td>Flood</td>\n    </tr>\n    <tr>\n      <th>709</th>\n      <td>1966-05-12 00:00:00+00:00</td>\n      <td>1966</td>\n      <td>TX</td>\n      <td>49</td>\n      <td>Flood</td>\n    </tr>\n    <tr>\n      <th>710</th>\n      <td>1966-05-12 00:00:00+00:00</td>\n      <td>1966</td>\n      <td>TX</td>\n      <td>49</td>\n      <td>Flood</td>\n    </tr>\n    <tr>\n      <th>711</th>\n      <td>1966-05-12 00:00:00+00:00</td>\n      <td>1966</td>\n      <td>TX</td>\n      <td>49</td>\n      <td>Flood</td>\n    </tr>\n    <tr>\n      <th>712</th>\n      <td>1966-05-12 00:00:00+00:00</td>\n      <td>1966</td>\n      <td>TX</td>\n      <td>49</td>\n      <td>Flood</td>\n    </tr>\n    <tr>\n      <th>713</th>\n      <td>1966-05-12 00:00:00+00:00</td>\n      <td>1966</td>\n      <td>TX</td>\n      <td>49</td>\n      <td>Flood</td>\n    </tr>\n    <tr>\n      <th>714</th>\n      <td>1966-05-12 00:00:00+00:00</td>\n      <td>1966</td>\n      <td>TX</td>\n      <td>49</td>\n      <td>Flood</td>\n    </tr>\n    <tr>\n      <th>715</th>\n      <td>1966-05-12 00:00:00+00:00</td>\n      <td>1966</td>\n      <td>TX</td>\n      <td>49</td>\n      <td>Flood</td>\n    </tr>\n    <tr>\n      <th>716</th>\n      <td>1966-05-12 00:00:00+00:00</td>\n      <td>1966</td>\n      <td>TX</td>\n      <td>49</td>\n      <td>Flood</td>\n    </tr>\n    <tr>\n      <th>717</th>\n      <td>1966-05-12 00:00:00+00:00</td>\n      <td>1966</td>\n      <td>TX</td>\n      <td>49</td>\n      <td>Flood</td>\n    </tr>\n    <tr>\n      <th>718</th>\n      <td>1966-05-12 00:00:00+00:00</td>\n      <td>1966</td>\n      <td>TX</td>\n      <td>49</td>\n      <td>Flood</td>\n    </tr>\n    <tr>\n      <th>719</th>\n      <td>1966-05-12 00:00:00+00:00</td>\n      <td>1966</td>\n      <td>TX</td>\n      <td>49</td>\n      <td>Flood</td>\n    </tr>\n    <tr>\n      <th>720</th>\n      <td>1966-05-12 00:00:00+00:00</td>\n      <td>1966</td>\n      <td>TX</td>\n      <td>49</td>\n      <td>Flood</td>\n    </tr>\n    <tr>\n      <th>721</th>\n      <td>1966-05-12 00:00:00+00:00</td>\n      <td>1966</td>\n      <td>TX</td>\n      <td>49</td>\n      <td>Flood</td>\n    </tr>\n    <tr>\n      <th>722</th>\n      <td>1966-05-12 00:00:00+00:00</td>\n      <td>1966</td>\n      <td>TX</td>\n      <td>49</td>\n      <td>Flood</td>\n    </tr>\n  </tbody>\n</table>\n</div>"
          },
          "metadata": {}
        }
      ],
      "execution_count": null,
      "metadata": {
        "jupyter": {
          "source_hidden": false,
          "outputs_hidden": false
        },
        "nteract": {
          "transient": {
            "deleting": false
          }
        },
        "gather": {
          "logged": 1648886280089
        },
        "id": "cef0hMW7un8F",
        "outputId": "5a5a2694-7305-4ed8-95e7-4e589f611179"
      }
    },
    {
      "cell_type": "code",
      "source": [
        "df_TX.info()"
      ],
      "outputs": [
        {
          "output_type": "stream",
          "name": "stdout",
          "text": "<class 'pandas.core.frame.DataFrame'>\nInt64Index: 1856 entries, 1 to 24037\nData columns (total 5 columns):\n #   Column       Non-Null Count  Dtype              \n---  ------       --------------  -----              \n 0   Date         1856 non-null   datetime64[ns, UTC]\n 1   Year         1856 non-null   int64              \n 2   State        1856 non-null   object             \n 3   State_Label  1856 non-null   int64              \n 4   Calamity     1856 non-null   object             \ndtypes: datetime64[ns, UTC](1), int64(2), object(2)\nmemory usage: 87.0+ KB\n"
        }
      ],
      "execution_count": null,
      "metadata": {
        "jupyter": {
          "source_hidden": false,
          "outputs_hidden": false
        },
        "nteract": {
          "transient": {
            "deleting": false
          }
        },
        "gather": {
          "logged": 1648886284054
        },
        "id": "YzzrB0H7un8G",
        "outputId": "afa4150e-220b-4287-bf2f-4e6755409d18"
      }
    },
    {
      "cell_type": "code",
      "source": [
        "df_TX['Date'].unique"
      ],
      "outputs": [
        {
          "output_type": "execute_result",
          "execution_count": 193,
          "data": {
            "text/plain": "<bound method Series.unique of 1       1953-05-15 00:00:00+00:00\n8       1953-06-19 00:00:00+00:00\n14      1954-07-01 00:00:00+00:00\n60      1957-04-29 00:00:00+00:00\n73      1958-06-06 00:00:00+00:00\n                   ...           \n24033   2020-08-23 00:00:00+00:00\n24034   2020-08-23 00:00:00+00:00\n24035   2020-08-23 00:00:00+00:00\n24036   2020-08-23 00:00:00+00:00\n24037   2020-08-23 00:00:00+00:00\nName: Date, Length: 1856, dtype: datetime64[ns, UTC]>"
          },
          "metadata": {}
        }
      ],
      "execution_count": null,
      "metadata": {
        "jupyter": {
          "source_hidden": false,
          "outputs_hidden": false
        },
        "nteract": {
          "transient": {
            "deleting": false
          }
        },
        "gather": {
          "logged": 1648886286158
        },
        "id": "y8at5EoTun8H",
        "outputId": "bdefda90-3650-4fb3-ccad-0c9d922effac"
      }
    },
    {
      "cell_type": "code",
      "source": [
        "df_TX.drop_duplicates(inplace=True)"
      ],
      "outputs": [
        {
          "output_type": "stream",
          "name": "stderr",
          "text": "<ipython-input-194-8287c33e70c1>:1: SettingWithCopyWarning: \nA value is trying to be set on a copy of a slice from a DataFrame\n\nSee the caveats in the documentation: https://pandas.pydata.org/pandas-docs/stable/user_guide/indexing.html#returning-a-view-versus-a-copy\n  df_TX.drop_duplicates(inplace=True)\n"
        }
      ],
      "execution_count": null,
      "metadata": {
        "jupyter": {
          "source_hidden": false,
          "outputs_hidden": false
        },
        "nteract": {
          "transient": {
            "deleting": false
          }
        },
        "gather": {
          "logged": 1648886288167
        },
        "id": "0XfFsOonun8H",
        "outputId": "5d5a7f8d-937b-465c-89e4-c1add791e7ff"
      }
    },
    {
      "cell_type": "code",
      "source": [
        "df_TX.head(30)"
      ],
      "outputs": [
        {
          "output_type": "execute_result",
          "execution_count": 179,
          "data": {
            "text/plain": "                          Date  Year State  State_Label   Calamity\n1    1953-05-15 00:00:00+00:00  1953    TX           49    Tornado\n8    1953-06-19 00:00:00+00:00  1953    TX           49      Flood\n14   1954-07-01 00:00:00+00:00  1954    TX           49      Flood\n60   1957-04-29 00:00:00+00:00  1957    TX           49  Hurricane\n73   1958-06-06 00:00:00+00:00  1958    TX           49    Tornado\n81   1959-07-08 00:00:00+00:00  1959    TX           49      Flood\n101  1961-09-16 00:00:00+00:00  1961    TX           49  Hurricane\n134  1963-09-24 00:00:00+00:00  1963    TX           49  Hurricane\n501  1965-06-19 00:00:00+00:00  1965    TX           49    Tornado\n708  1966-05-12 00:00:00+00:00  1966    TX           49      Flood\n752  1966-09-27 00:00:00+00:00  1966    TX           49      Flood\n908  1967-09-28 00:00:00+00:00  1967    TX           49  Hurricane\n1022 1968-06-10 00:00:00+00:00  1968    TX           49      Flood\n1030 1968-07-05 00:00:00+00:00  1968    TX           49      Flood\n1627 1970-05-13 00:00:00+00:00  1970    TX           49    Tornado\n1690 1970-08-04 00:00:00+00:00  1970    TX           49  Hurricane\n1902 1971-09-18 00:00:00+00:00  1971    TX           49      Flood\n1977 1972-01-27 00:00:00+00:00  1972    TX           49      Flood\n2057 1972-05-20 00:00:00+00:00  1972    TX           49      Flood\n2885 1973-06-25 00:00:00+00:00  1973    TX           49      Flood\n2940 1973-07-11 00:00:00+00:00  1973    TX           49      Flood\n3576 1974-11-30 00:00:00+00:00  1975    TX           49      Flood\n3647 1975-02-15 00:00:00+00:00  1975    TX           49      Flood\n3736 1975-04-01 00:00:00+00:00  1975    TX           49    Tornado\n4091 1976-06-19 00:00:00+00:00  1976    TX           49      Flood\n4461 1978-08-03 00:00:00+00:00  1978    TX           49      Flood\n4559 1979-04-11 00:00:00+00:00  1979    TX           49    Tornado\n4711 1979-06-14 00:00:00+00:00  1979    TX           49      Flood\n4732 1979-07-28 00:00:00+00:00  1979    TX           49      Flood\n4863 1979-09-25 00:00:00+00:00  1979    TX           49      Flood",
            "text/html": "<div>\n<style scoped>\n    .dataframe tbody tr th:only-of-type {\n        vertical-align: middle;\n    }\n\n    .dataframe tbody tr th {\n        vertical-align: top;\n    }\n\n    .dataframe thead th {\n        text-align: right;\n    }\n</style>\n<table border=\"1\" class=\"dataframe\">\n  <thead>\n    <tr style=\"text-align: right;\">\n      <th></th>\n      <th>Date</th>\n      <th>Year</th>\n      <th>State</th>\n      <th>State_Label</th>\n      <th>Calamity</th>\n    </tr>\n  </thead>\n  <tbody>\n    <tr>\n      <th>1</th>\n      <td>1953-05-15 00:00:00+00:00</td>\n      <td>1953</td>\n      <td>TX</td>\n      <td>49</td>\n      <td>Tornado</td>\n    </tr>\n    <tr>\n      <th>8</th>\n      <td>1953-06-19 00:00:00+00:00</td>\n      <td>1953</td>\n      <td>TX</td>\n      <td>49</td>\n      <td>Flood</td>\n    </tr>\n    <tr>\n      <th>14</th>\n      <td>1954-07-01 00:00:00+00:00</td>\n      <td>1954</td>\n      <td>TX</td>\n      <td>49</td>\n      <td>Flood</td>\n    </tr>\n    <tr>\n      <th>60</th>\n      <td>1957-04-29 00:00:00+00:00</td>\n      <td>1957</td>\n      <td>TX</td>\n      <td>49</td>\n      <td>Hurricane</td>\n    </tr>\n    <tr>\n      <th>73</th>\n      <td>1958-06-06 00:00:00+00:00</td>\n      <td>1958</td>\n      <td>TX</td>\n      <td>49</td>\n      <td>Tornado</td>\n    </tr>\n    <tr>\n      <th>81</th>\n      <td>1959-07-08 00:00:00+00:00</td>\n      <td>1959</td>\n      <td>TX</td>\n      <td>49</td>\n      <td>Flood</td>\n    </tr>\n    <tr>\n      <th>101</th>\n      <td>1961-09-16 00:00:00+00:00</td>\n      <td>1961</td>\n      <td>TX</td>\n      <td>49</td>\n      <td>Hurricane</td>\n    </tr>\n    <tr>\n      <th>134</th>\n      <td>1963-09-24 00:00:00+00:00</td>\n      <td>1963</td>\n      <td>TX</td>\n      <td>49</td>\n      <td>Hurricane</td>\n    </tr>\n    <tr>\n      <th>501</th>\n      <td>1965-06-19 00:00:00+00:00</td>\n      <td>1965</td>\n      <td>TX</td>\n      <td>49</td>\n      <td>Tornado</td>\n    </tr>\n    <tr>\n      <th>708</th>\n      <td>1966-05-12 00:00:00+00:00</td>\n      <td>1966</td>\n      <td>TX</td>\n      <td>49</td>\n      <td>Flood</td>\n    </tr>\n    <tr>\n      <th>752</th>\n      <td>1966-09-27 00:00:00+00:00</td>\n      <td>1966</td>\n      <td>TX</td>\n      <td>49</td>\n      <td>Flood</td>\n    </tr>\n    <tr>\n      <th>908</th>\n      <td>1967-09-28 00:00:00+00:00</td>\n      <td>1967</td>\n      <td>TX</td>\n      <td>49</td>\n      <td>Hurricane</td>\n    </tr>\n    <tr>\n      <th>1022</th>\n      <td>1968-06-10 00:00:00+00:00</td>\n      <td>1968</td>\n      <td>TX</td>\n      <td>49</td>\n      <td>Flood</td>\n    </tr>\n    <tr>\n      <th>1030</th>\n      <td>1968-07-05 00:00:00+00:00</td>\n      <td>1968</td>\n      <td>TX</td>\n      <td>49</td>\n      <td>Flood</td>\n    </tr>\n    <tr>\n      <th>1627</th>\n      <td>1970-05-13 00:00:00+00:00</td>\n      <td>1970</td>\n      <td>TX</td>\n      <td>49</td>\n      <td>Tornado</td>\n    </tr>\n    <tr>\n      <th>1690</th>\n      <td>1970-08-04 00:00:00+00:00</td>\n      <td>1970</td>\n      <td>TX</td>\n      <td>49</td>\n      <td>Hurricane</td>\n    </tr>\n    <tr>\n      <th>1902</th>\n      <td>1971-09-18 00:00:00+00:00</td>\n      <td>1971</td>\n      <td>TX</td>\n      <td>49</td>\n      <td>Flood</td>\n    </tr>\n    <tr>\n      <th>1977</th>\n      <td>1972-01-27 00:00:00+00:00</td>\n      <td>1972</td>\n      <td>TX</td>\n      <td>49</td>\n      <td>Flood</td>\n    </tr>\n    <tr>\n      <th>2057</th>\n      <td>1972-05-20 00:00:00+00:00</td>\n      <td>1972</td>\n      <td>TX</td>\n      <td>49</td>\n      <td>Flood</td>\n    </tr>\n    <tr>\n      <th>2885</th>\n      <td>1973-06-25 00:00:00+00:00</td>\n      <td>1973</td>\n      <td>TX</td>\n      <td>49</td>\n      <td>Flood</td>\n    </tr>\n    <tr>\n      <th>2940</th>\n      <td>1973-07-11 00:00:00+00:00</td>\n      <td>1973</td>\n      <td>TX</td>\n      <td>49</td>\n      <td>Flood</td>\n    </tr>\n    <tr>\n      <th>3576</th>\n      <td>1974-11-30 00:00:00+00:00</td>\n      <td>1975</td>\n      <td>TX</td>\n      <td>49</td>\n      <td>Flood</td>\n    </tr>\n    <tr>\n      <th>3647</th>\n      <td>1975-02-15 00:00:00+00:00</td>\n      <td>1975</td>\n      <td>TX</td>\n      <td>49</td>\n      <td>Flood</td>\n    </tr>\n    <tr>\n      <th>3736</th>\n      <td>1975-04-01 00:00:00+00:00</td>\n      <td>1975</td>\n      <td>TX</td>\n      <td>49</td>\n      <td>Tornado</td>\n    </tr>\n    <tr>\n      <th>4091</th>\n      <td>1976-06-19 00:00:00+00:00</td>\n      <td>1976</td>\n      <td>TX</td>\n      <td>49</td>\n      <td>Flood</td>\n    </tr>\n    <tr>\n      <th>4461</th>\n      <td>1978-08-03 00:00:00+00:00</td>\n      <td>1978</td>\n      <td>TX</td>\n      <td>49</td>\n      <td>Flood</td>\n    </tr>\n    <tr>\n      <th>4559</th>\n      <td>1979-04-11 00:00:00+00:00</td>\n      <td>1979</td>\n      <td>TX</td>\n      <td>49</td>\n      <td>Tornado</td>\n    </tr>\n    <tr>\n      <th>4711</th>\n      <td>1979-06-14 00:00:00+00:00</td>\n      <td>1979</td>\n      <td>TX</td>\n      <td>49</td>\n      <td>Flood</td>\n    </tr>\n    <tr>\n      <th>4732</th>\n      <td>1979-07-28 00:00:00+00:00</td>\n      <td>1979</td>\n      <td>TX</td>\n      <td>49</td>\n      <td>Flood</td>\n    </tr>\n    <tr>\n      <th>4863</th>\n      <td>1979-09-25 00:00:00+00:00</td>\n      <td>1979</td>\n      <td>TX</td>\n      <td>49</td>\n      <td>Flood</td>\n    </tr>\n  </tbody>\n</table>\n</div>"
          },
          "metadata": {}
        }
      ],
      "execution_count": null,
      "metadata": {
        "jupyter": {
          "source_hidden": false,
          "outputs_hidden": false
        },
        "nteract": {
          "transient": {
            "deleting": false
          }
        },
        "gather": {
          "logged": 1648885830094
        },
        "id": "l-JprV_Tun8I",
        "outputId": "5ffbc16b-ccd7-4b53-bb8d-a8515a80f31a"
      }
    },
    {
      "cell_type": "code",
      "source": [
        "df_TX.info()"
      ],
      "outputs": [
        {
          "output_type": "stream",
          "name": "stdout",
          "text": "<class 'pandas.core.frame.DataFrame'>\nInt64Index: 78 entries, 1 to 24033\nData columns (total 5 columns):\n #   Column       Non-Null Count  Dtype              \n---  ------       --------------  -----              \n 0   Date         78 non-null     datetime64[ns, UTC]\n 1   Year         78 non-null     int64              \n 2   State        78 non-null     object             \n 3   State_Label  78 non-null     int64              \n 4   Calamity     78 non-null     object             \ndtypes: datetime64[ns, UTC](1), int64(2), object(2)\nmemory usage: 3.7+ KB\n"
        }
      ],
      "execution_count": null,
      "metadata": {
        "jupyter": {
          "source_hidden": false,
          "outputs_hidden": false
        },
        "nteract": {
          "transient": {
            "deleting": false
          }
        },
        "gather": {
          "logged": 1648886296318
        },
        "id": "nH6_4gitun8J",
        "outputId": "0ba61ad4-427a-46b3-aeec-dc92e78d8c65"
      }
    },
    {
      "cell_type": "code",
      "source": [
        "df_TX.drop(['Year','State','State_Label'], axis = 1, inplace=True)\n",
        "df_TX.head()"
      ],
      "outputs": [
        {
          "output_type": "stream",
          "name": "stderr",
          "text": "<ipython-input-196-742f7502681b>:1: SettingWithCopyWarning: \nA value is trying to be set on a copy of a slice from a DataFrame\n\nSee the caveats in the documentation: https://pandas.pydata.org/pandas-docs/stable/user_guide/indexing.html#returning-a-view-versus-a-copy\n  df_TX.drop(['Year','State','State_Label'], axis = 1, inplace=True)\n"
        },
        {
          "output_type": "execute_result",
          "execution_count": 196,
          "data": {
            "text/plain": "                        Date   Calamity\n1  1953-05-15 00:00:00+00:00    Tornado\n8  1953-06-19 00:00:00+00:00      Flood\n14 1954-07-01 00:00:00+00:00      Flood\n60 1957-04-29 00:00:00+00:00  Hurricane\n73 1958-06-06 00:00:00+00:00    Tornado",
            "text/html": "<div>\n<style scoped>\n    .dataframe tbody tr th:only-of-type {\n        vertical-align: middle;\n    }\n\n    .dataframe tbody tr th {\n        vertical-align: top;\n    }\n\n    .dataframe thead th {\n        text-align: right;\n    }\n</style>\n<table border=\"1\" class=\"dataframe\">\n  <thead>\n    <tr style=\"text-align: right;\">\n      <th></th>\n      <th>Date</th>\n      <th>Calamity</th>\n    </tr>\n  </thead>\n  <tbody>\n    <tr>\n      <th>1</th>\n      <td>1953-05-15 00:00:00+00:00</td>\n      <td>Tornado</td>\n    </tr>\n    <tr>\n      <th>8</th>\n      <td>1953-06-19 00:00:00+00:00</td>\n      <td>Flood</td>\n    </tr>\n    <tr>\n      <th>14</th>\n      <td>1954-07-01 00:00:00+00:00</td>\n      <td>Flood</td>\n    </tr>\n    <tr>\n      <th>60</th>\n      <td>1957-04-29 00:00:00+00:00</td>\n      <td>Hurricane</td>\n    </tr>\n    <tr>\n      <th>73</th>\n      <td>1958-06-06 00:00:00+00:00</td>\n      <td>Tornado</td>\n    </tr>\n  </tbody>\n</table>\n</div>"
          },
          "metadata": {}
        }
      ],
      "execution_count": null,
      "metadata": {
        "jupyter": {
          "source_hidden": false,
          "outputs_hidden": false
        },
        "nteract": {
          "transient": {
            "deleting": false
          }
        },
        "gather": {
          "logged": 1648886299163
        },
        "id": "jqI5QXLsun8K",
        "outputId": "c8d28984-4daf-4140-9694-dd01bbab9987"
      }
    },
    {
      "cell_type": "code",
      "source": [
        "train_dates = pd.to_datetime(df_TX['Date'])\n",
        "print(train_dates.tail(15))"
      ],
      "outputs": [
        {
          "output_type": "stream",
          "name": "stdout",
          "text": "15624   2008-08-27 00:00:00+00:00\n15963   2008-09-07 17:00:00+00:00\n16417   2010-06-27 00:00:00+00:00\n16458   2010-06-30 00:00:00+00:00\n19091   2016-03-07 00:00:00+00:00\n19141   2016-04-17 00:00:00+00:00\n19168   2016-05-22 00:00:00+00:00\n19857   2017-08-23 08:09:52+00:00\n20995   2018-06-19 00:00:00+00:00\n21793   2018-09-10 08:55:00+00:00\n22328   2019-06-24 08:00:00+00:00\n22730   2019-09-17 08:00:00+00:00\n22948   2020-07-25 08:00:00+00:00\n23357   2020-08-23 08:00:00+00:00\n24033   2020-08-23 00:00:00+00:00\nName: Date, dtype: datetime64[ns, UTC]\n"
        }
      ],
      "execution_count": null,
      "metadata": {
        "jupyter": {
          "source_hidden": false,
          "outputs_hidden": false
        },
        "nteract": {
          "transient": {
            "deleting": false
          }
        },
        "gather": {
          "logged": 1648886305092
        },
        "id": "1Vz2-coyun8L",
        "outputId": "2983ce92-293a-4128-d457-dbfddaa1c687"
      }
    },
    {
      "cell_type": "code",
      "source": [
        "df_TX['Date'] = pd.to_datetime(df_TX['Date'])"
      ],
      "outputs": [
        {
          "output_type": "stream",
          "name": "stderr",
          "text": "<ipython-input-198-b5a46451b156>:1: SettingWithCopyWarning: \nA value is trying to be set on a copy of a slice from a DataFrame.\nTry using .loc[row_indexer,col_indexer] = value instead\n\nSee the caveats in the documentation: https://pandas.pydata.org/pandas-docs/stable/user_guide/indexing.html#returning-a-view-versus-a-copy\n  df_TX['Date'] = pd.to_datetime(df_TX['Date'])\n"
        }
      ],
      "execution_count": null,
      "metadata": {
        "jupyter": {
          "source_hidden": false,
          "outputs_hidden": false
        },
        "nteract": {
          "transient": {
            "deleting": false
          }
        },
        "gather": {
          "logged": 1648886321052
        },
        "id": "Or9G6Dw9un8L",
        "outputId": "c111fc7a-bce2-4a93-af86-1c7cc4d04197"
      }
    },
    {
      "cell_type": "code",
      "source": [
        "df_TX"
      ],
      "outputs": [
        {
          "output_type": "execute_result",
          "execution_count": 199,
          "data": {
            "text/plain": "                           Date   Calamity\n1     1953-05-15 00:00:00+00:00    Tornado\n8     1953-06-19 00:00:00+00:00      Flood\n14    1954-07-01 00:00:00+00:00      Flood\n60    1957-04-29 00:00:00+00:00  Hurricane\n73    1958-06-06 00:00:00+00:00    Tornado\n...                         ...        ...\n22328 2019-06-24 08:00:00+00:00      Flood\n22730 2019-09-17 08:00:00+00:00      Flood\n22948 2020-07-25 08:00:00+00:00  Hurricane\n23357 2020-08-23 08:00:00+00:00  Hurricane\n24033 2020-08-23 00:00:00+00:00  Hurricane\n\n[78 rows x 2 columns]",
            "text/html": "<div>\n<style scoped>\n    .dataframe tbody tr th:only-of-type {\n        vertical-align: middle;\n    }\n\n    .dataframe tbody tr th {\n        vertical-align: top;\n    }\n\n    .dataframe thead th {\n        text-align: right;\n    }\n</style>\n<table border=\"1\" class=\"dataframe\">\n  <thead>\n    <tr style=\"text-align: right;\">\n      <th></th>\n      <th>Date</th>\n      <th>Calamity</th>\n    </tr>\n  </thead>\n  <tbody>\n    <tr>\n      <th>1</th>\n      <td>1953-05-15 00:00:00+00:00</td>\n      <td>Tornado</td>\n    </tr>\n    <tr>\n      <th>8</th>\n      <td>1953-06-19 00:00:00+00:00</td>\n      <td>Flood</td>\n    </tr>\n    <tr>\n      <th>14</th>\n      <td>1954-07-01 00:00:00+00:00</td>\n      <td>Flood</td>\n    </tr>\n    <tr>\n      <th>60</th>\n      <td>1957-04-29 00:00:00+00:00</td>\n      <td>Hurricane</td>\n    </tr>\n    <tr>\n      <th>73</th>\n      <td>1958-06-06 00:00:00+00:00</td>\n      <td>Tornado</td>\n    </tr>\n    <tr>\n      <th>...</th>\n      <td>...</td>\n      <td>...</td>\n    </tr>\n    <tr>\n      <th>22328</th>\n      <td>2019-06-24 08:00:00+00:00</td>\n      <td>Flood</td>\n    </tr>\n    <tr>\n      <th>22730</th>\n      <td>2019-09-17 08:00:00+00:00</td>\n      <td>Flood</td>\n    </tr>\n    <tr>\n      <th>22948</th>\n      <td>2020-07-25 08:00:00+00:00</td>\n      <td>Hurricane</td>\n    </tr>\n    <tr>\n      <th>23357</th>\n      <td>2020-08-23 08:00:00+00:00</td>\n      <td>Hurricane</td>\n    </tr>\n    <tr>\n      <th>24033</th>\n      <td>2020-08-23 00:00:00+00:00</td>\n      <td>Hurricane</td>\n    </tr>\n  </tbody>\n</table>\n<p>78 rows × 2 columns</p>\n</div>"
          },
          "metadata": {}
        }
      ],
      "execution_count": null,
      "metadata": {
        "jupyter": {
          "source_hidden": false,
          "outputs_hidden": false
        },
        "nteract": {
          "transient": {
            "deleting": false
          }
        },
        "gather": {
          "logged": 1648886325099
        },
        "id": "l3V6la1run8M",
        "outputId": "4502c8ae-4c75-4ab6-cdfe-cd6a09b59a83"
      }
    },
    {
      "cell_type": "code",
      "source": [
        "df_TX = pd.get_dummies(df_TX, columns=['Calamity'])\n",
        "df_TX.head(10)"
      ],
      "outputs": [
        {
          "output_type": "execute_result",
          "execution_count": 16,
          "data": {
            "text/plain": "                           Calamity_Flood  Calamity_Hurricane  \\\nDate                                                            \n1953-05-15 00:00:00+00:00               0                   0   \n1953-06-19 00:00:00+00:00               1                   0   \n1954-07-01 00:00:00+00:00               1                   0   \n1957-04-29 00:00:00+00:00               0                   1   \n1958-06-06 00:00:00+00:00               0                   0   \n1959-07-08 00:00:00+00:00               1                   0   \n1961-09-16 00:00:00+00:00               0                   1   \n1963-09-24 00:00:00+00:00               0                   1   \n1965-06-19 00:00:00+00:00               0                   0   \n1966-05-12 00:00:00+00:00               1                   0   \n\n                           Calamity_Tornado  \nDate                                         \n1953-05-15 00:00:00+00:00                 1  \n1953-06-19 00:00:00+00:00                 0  \n1954-07-01 00:00:00+00:00                 0  \n1957-04-29 00:00:00+00:00                 0  \n1958-06-06 00:00:00+00:00                 1  \n1959-07-08 00:00:00+00:00                 0  \n1961-09-16 00:00:00+00:00                 0  \n1963-09-24 00:00:00+00:00                 0  \n1965-06-19 00:00:00+00:00                 1  \n1966-05-12 00:00:00+00:00                 0  ",
            "text/html": "<div>\n<style scoped>\n    .dataframe tbody tr th:only-of-type {\n        vertical-align: middle;\n    }\n\n    .dataframe tbody tr th {\n        vertical-align: top;\n    }\n\n    .dataframe thead th {\n        text-align: right;\n    }\n</style>\n<table border=\"1\" class=\"dataframe\">\n  <thead>\n    <tr style=\"text-align: right;\">\n      <th></th>\n      <th>Calamity_Flood</th>\n      <th>Calamity_Hurricane</th>\n      <th>Calamity_Tornado</th>\n    </tr>\n    <tr>\n      <th>Date</th>\n      <th></th>\n      <th></th>\n      <th></th>\n    </tr>\n  </thead>\n  <tbody>\n    <tr>\n      <th>1953-05-15 00:00:00+00:00</th>\n      <td>0</td>\n      <td>0</td>\n      <td>1</td>\n    </tr>\n    <tr>\n      <th>1953-06-19 00:00:00+00:00</th>\n      <td>1</td>\n      <td>0</td>\n      <td>0</td>\n    </tr>\n    <tr>\n      <th>1954-07-01 00:00:00+00:00</th>\n      <td>1</td>\n      <td>0</td>\n      <td>0</td>\n    </tr>\n    <tr>\n      <th>1957-04-29 00:00:00+00:00</th>\n      <td>0</td>\n      <td>1</td>\n      <td>0</td>\n    </tr>\n    <tr>\n      <th>1958-06-06 00:00:00+00:00</th>\n      <td>0</td>\n      <td>0</td>\n      <td>1</td>\n    </tr>\n    <tr>\n      <th>1959-07-08 00:00:00+00:00</th>\n      <td>1</td>\n      <td>0</td>\n      <td>0</td>\n    </tr>\n    <tr>\n      <th>1961-09-16 00:00:00+00:00</th>\n      <td>0</td>\n      <td>1</td>\n      <td>0</td>\n    </tr>\n    <tr>\n      <th>1963-09-24 00:00:00+00:00</th>\n      <td>0</td>\n      <td>1</td>\n      <td>0</td>\n    </tr>\n    <tr>\n      <th>1965-06-19 00:00:00+00:00</th>\n      <td>0</td>\n      <td>0</td>\n      <td>1</td>\n    </tr>\n    <tr>\n      <th>1966-05-12 00:00:00+00:00</th>\n      <td>1</td>\n      <td>0</td>\n      <td>0</td>\n    </tr>\n  </tbody>\n</table>\n</div>"
          },
          "metadata": {}
        }
      ],
      "execution_count": null,
      "metadata": {
        "jupyter": {
          "source_hidden": false,
          "outputs_hidden": false
        },
        "nteract": {
          "transient": {
            "deleting": false
          }
        },
        "gather": {
          "logged": 1648844618180
        },
        "id": "iEKQeWXOun8N",
        "outputId": "0acc28bb-dca6-4086-e352-6bd6e113eabd"
      }
    },
    {
      "cell_type": "code",
      "source": [
        "df3.isnull().sum()"
      ],
      "outputs": [],
      "execution_count": null,
      "metadata": {
        "jupyter": {
          "source_hidden": false,
          "outputs_hidden": false
        },
        "nteract": {
          "transient": {
            "deleting": false
          }
        },
        "gather": {
          "logged": 1648823816827
        },
        "id": "EkM8C9Leun8N"
      }
    },
    {
      "cell_type": "code",
      "source": [
        "df3['Calamity_Flood'] = df3['Calamity_Flood'].fillna(0)\n",
        "df3['Calamity_Hurricane'] = df3['Calamity_Hurricane'].fillna(0)\n",
        "df3['Calamity_Tornado'] = df3['Calamity_Tornado'].fillna(0)\n",
        "df3.head(10)"
      ],
      "outputs": [
        {
          "output_type": "execute_result",
          "execution_count": 19,
          "data": {
            "text/plain": "                           Calamity_Flood  Calamity_Hurricane  \\\nDate                                                            \n1953-05-31 00:00:00+00:00             0.0                 0.0   \n1953-06-30 00:00:00+00:00             1.0                 0.0   \n1953-07-31 00:00:00+00:00             0.0                 0.0   \n1953-08-31 00:00:00+00:00             0.0                 0.0   \n1953-09-30 00:00:00+00:00             0.0                 0.0   \n1953-10-31 00:00:00+00:00             0.0                 0.0   \n1953-11-30 00:00:00+00:00             0.0                 0.0   \n1953-12-31 00:00:00+00:00             0.0                 0.0   \n1954-01-31 00:00:00+00:00             0.0                 0.0   \n1954-02-28 00:00:00+00:00             0.0                 0.0   \n\n                           Calamity_Tornado  \nDate                                         \n1953-05-31 00:00:00+00:00               1.0  \n1953-06-30 00:00:00+00:00               0.0  \n1953-07-31 00:00:00+00:00               0.0  \n1953-08-31 00:00:00+00:00               0.0  \n1953-09-30 00:00:00+00:00               0.0  \n1953-10-31 00:00:00+00:00               0.0  \n1953-11-30 00:00:00+00:00               0.0  \n1953-12-31 00:00:00+00:00               0.0  \n1954-01-31 00:00:00+00:00               0.0  \n1954-02-28 00:00:00+00:00               0.0  ",
            "text/html": "<div>\n<style scoped>\n    .dataframe tbody tr th:only-of-type {\n        vertical-align: middle;\n    }\n\n    .dataframe tbody tr th {\n        vertical-align: top;\n    }\n\n    .dataframe thead th {\n        text-align: right;\n    }\n</style>\n<table border=\"1\" class=\"dataframe\">\n  <thead>\n    <tr style=\"text-align: right;\">\n      <th></th>\n      <th>Calamity_Flood</th>\n      <th>Calamity_Hurricane</th>\n      <th>Calamity_Tornado</th>\n    </tr>\n    <tr>\n      <th>Date</th>\n      <th></th>\n      <th></th>\n      <th></th>\n    </tr>\n  </thead>\n  <tbody>\n    <tr>\n      <th>1953-05-31 00:00:00+00:00</th>\n      <td>0.0</td>\n      <td>0.0</td>\n      <td>1.0</td>\n    </tr>\n    <tr>\n      <th>1953-06-30 00:00:00+00:00</th>\n      <td>1.0</td>\n      <td>0.0</td>\n      <td>0.0</td>\n    </tr>\n    <tr>\n      <th>1953-07-31 00:00:00+00:00</th>\n      <td>0.0</td>\n      <td>0.0</td>\n      <td>0.0</td>\n    </tr>\n    <tr>\n      <th>1953-08-31 00:00:00+00:00</th>\n      <td>0.0</td>\n      <td>0.0</td>\n      <td>0.0</td>\n    </tr>\n    <tr>\n      <th>1953-09-30 00:00:00+00:00</th>\n      <td>0.0</td>\n      <td>0.0</td>\n      <td>0.0</td>\n    </tr>\n    <tr>\n      <th>1953-10-31 00:00:00+00:00</th>\n      <td>0.0</td>\n      <td>0.0</td>\n      <td>0.0</td>\n    </tr>\n    <tr>\n      <th>1953-11-30 00:00:00+00:00</th>\n      <td>0.0</td>\n      <td>0.0</td>\n      <td>0.0</td>\n    </tr>\n    <tr>\n      <th>1953-12-31 00:00:00+00:00</th>\n      <td>0.0</td>\n      <td>0.0</td>\n      <td>0.0</td>\n    </tr>\n    <tr>\n      <th>1954-01-31 00:00:00+00:00</th>\n      <td>0.0</td>\n      <td>0.0</td>\n      <td>0.0</td>\n    </tr>\n    <tr>\n      <th>1954-02-28 00:00:00+00:00</th>\n      <td>0.0</td>\n      <td>0.0</td>\n      <td>0.0</td>\n    </tr>\n  </tbody>\n</table>\n</div>"
          },
          "metadata": {}
        }
      ],
      "execution_count": null,
      "metadata": {
        "jupyter": {
          "source_hidden": false,
          "outputs_hidden": false
        },
        "nteract": {
          "transient": {
            "deleting": false
          }
        },
        "gather": {
          "logged": 1648844660970
        },
        "id": "dmHZpR81un8N",
        "outputId": "8616acde-1586-48d1-9d2a-c07ae694cccf"
      }
    },
    {
      "cell_type": "code",
      "source": [
        "cols = list(df3)[0:]\n",
        "df3 = df3[cols].astype(int)\n",
        "df3.info()"
      ],
      "outputs": [
        {
          "output_type": "stream",
          "name": "stdout",
          "text": "<class 'pandas.core.frame.DataFrame'>\nDatetimeIndex: 808 entries, 1953-05-31 00:00:00+00:00 to 2020-08-31 00:00:00+00:00\nFreq: M\nData columns (total 3 columns):\n #   Column              Non-Null Count  Dtype\n---  ------              --------------  -----\n 0   Calamity_Flood      808 non-null    int64\n 1   Calamity_Hurricane  808 non-null    int64\n 2   Calamity_Tornado    808 non-null    int64\ndtypes: int64(3)\nmemory usage: 25.2 KB\n"
        }
      ],
      "execution_count": null,
      "metadata": {
        "jupyter": {
          "source_hidden": false,
          "outputs_hidden": false
        },
        "nteract": {
          "transient": {
            "deleting": false
          }
        },
        "gather": {
          "logged": 1648844672303
        },
        "id": "odJPFA5Hun8O",
        "outputId": "0e5653ae-42f5-4853-f695-a7aa19c1abdc"
      }
    },
    {
      "cell_type": "code",
      "source": [
        "df3.head(10)"
      ],
      "outputs": [
        {
          "output_type": "execute_result",
          "execution_count": 21,
          "data": {
            "text/plain": "                           Calamity_Flood  Calamity_Hurricane  \\\nDate                                                            \n1953-05-31 00:00:00+00:00               0                   0   \n1953-06-30 00:00:00+00:00               1                   0   \n1953-07-31 00:00:00+00:00               0                   0   \n1953-08-31 00:00:00+00:00               0                   0   \n1953-09-30 00:00:00+00:00               0                   0   \n1953-10-31 00:00:00+00:00               0                   0   \n1953-11-30 00:00:00+00:00               0                   0   \n1953-12-31 00:00:00+00:00               0                   0   \n1954-01-31 00:00:00+00:00               0                   0   \n1954-02-28 00:00:00+00:00               0                   0   \n\n                           Calamity_Tornado  \nDate                                         \n1953-05-31 00:00:00+00:00                 1  \n1953-06-30 00:00:00+00:00                 0  \n1953-07-31 00:00:00+00:00                 0  \n1953-08-31 00:00:00+00:00                 0  \n1953-09-30 00:00:00+00:00                 0  \n1953-10-31 00:00:00+00:00                 0  \n1953-11-30 00:00:00+00:00                 0  \n1953-12-31 00:00:00+00:00                 0  \n1954-01-31 00:00:00+00:00                 0  \n1954-02-28 00:00:00+00:00                 0  ",
            "text/html": "<div>\n<style scoped>\n    .dataframe tbody tr th:only-of-type {\n        vertical-align: middle;\n    }\n\n    .dataframe tbody tr th {\n        vertical-align: top;\n    }\n\n    .dataframe thead th {\n        text-align: right;\n    }\n</style>\n<table border=\"1\" class=\"dataframe\">\n  <thead>\n    <tr style=\"text-align: right;\">\n      <th></th>\n      <th>Calamity_Flood</th>\n      <th>Calamity_Hurricane</th>\n      <th>Calamity_Tornado</th>\n    </tr>\n    <tr>\n      <th>Date</th>\n      <th></th>\n      <th></th>\n      <th></th>\n    </tr>\n  </thead>\n  <tbody>\n    <tr>\n      <th>1953-05-31 00:00:00+00:00</th>\n      <td>0</td>\n      <td>0</td>\n      <td>1</td>\n    </tr>\n    <tr>\n      <th>1953-06-30 00:00:00+00:00</th>\n      <td>1</td>\n      <td>0</td>\n      <td>0</td>\n    </tr>\n    <tr>\n      <th>1953-07-31 00:00:00+00:00</th>\n      <td>0</td>\n      <td>0</td>\n      <td>0</td>\n    </tr>\n    <tr>\n      <th>1953-08-31 00:00:00+00:00</th>\n      <td>0</td>\n      <td>0</td>\n      <td>0</td>\n    </tr>\n    <tr>\n      <th>1953-09-30 00:00:00+00:00</th>\n      <td>0</td>\n      <td>0</td>\n      <td>0</td>\n    </tr>\n    <tr>\n      <th>1953-10-31 00:00:00+00:00</th>\n      <td>0</td>\n      <td>0</td>\n      <td>0</td>\n    </tr>\n    <tr>\n      <th>1953-11-30 00:00:00+00:00</th>\n      <td>0</td>\n      <td>0</td>\n      <td>0</td>\n    </tr>\n    <tr>\n      <th>1953-12-31 00:00:00+00:00</th>\n      <td>0</td>\n      <td>0</td>\n      <td>0</td>\n    </tr>\n    <tr>\n      <th>1954-01-31 00:00:00+00:00</th>\n      <td>0</td>\n      <td>0</td>\n      <td>0</td>\n    </tr>\n    <tr>\n      <th>1954-02-28 00:00:00+00:00</th>\n      <td>0</td>\n      <td>0</td>\n      <td>0</td>\n    </tr>\n  </tbody>\n</table>\n</div>"
          },
          "metadata": {}
        }
      ],
      "execution_count": null,
      "metadata": {
        "jupyter": {
          "source_hidden": false,
          "outputs_hidden": false
        },
        "nteract": {
          "transient": {
            "deleting": false
          }
        },
        "gather": {
          "logged": 1648844674332
        },
        "id": "iNydWzxFun8P",
        "outputId": "f968eab4-1a44-4a9d-b558-ff0e610d6fec"
      }
    },
    {
      "cell_type": "code",
      "source": [
        "df3['Calamity_None'] = np.where((df3['Calamity_Tornado']==0) & (df3['Calamity_Flood']==0) & (df3['Calamity_Hurricane']==0),1,0)"
      ],
      "outputs": [],
      "execution_count": null,
      "metadata": {
        "jupyter": {
          "source_hidden": false,
          "outputs_hidden": false
        },
        "nteract": {
          "transient": {
            "deleting": false
          }
        },
        "gather": {
          "logged": 1648844683899
        },
        "id": "q2WJ8nA_un8P"
      }
    },
    {
      "cell_type": "code",
      "source": [
        "df3.head(10)"
      ],
      "outputs": [
        {
          "output_type": "execute_result",
          "execution_count": 23,
          "data": {
            "text/plain": "                           Calamity_Flood  Calamity_Hurricane  \\\nDate                                                            \n1953-05-31 00:00:00+00:00               0                   0   \n1953-06-30 00:00:00+00:00               1                   0   \n1953-07-31 00:00:00+00:00               0                   0   \n1953-08-31 00:00:00+00:00               0                   0   \n1953-09-30 00:00:00+00:00               0                   0   \n1953-10-31 00:00:00+00:00               0                   0   \n1953-11-30 00:00:00+00:00               0                   0   \n1953-12-31 00:00:00+00:00               0                   0   \n1954-01-31 00:00:00+00:00               0                   0   \n1954-02-28 00:00:00+00:00               0                   0   \n\n                           Calamity_Tornado  Calamity_None  \nDate                                                        \n1953-05-31 00:00:00+00:00                 1              0  \n1953-06-30 00:00:00+00:00                 0              0  \n1953-07-31 00:00:00+00:00                 0              1  \n1953-08-31 00:00:00+00:00                 0              1  \n1953-09-30 00:00:00+00:00                 0              1  \n1953-10-31 00:00:00+00:00                 0              1  \n1953-11-30 00:00:00+00:00                 0              1  \n1953-12-31 00:00:00+00:00                 0              1  \n1954-01-31 00:00:00+00:00                 0              1  \n1954-02-28 00:00:00+00:00                 0              1  ",
            "text/html": "<div>\n<style scoped>\n    .dataframe tbody tr th:only-of-type {\n        vertical-align: middle;\n    }\n\n    .dataframe tbody tr th {\n        vertical-align: top;\n    }\n\n    .dataframe thead th {\n        text-align: right;\n    }\n</style>\n<table border=\"1\" class=\"dataframe\">\n  <thead>\n    <tr style=\"text-align: right;\">\n      <th></th>\n      <th>Calamity_Flood</th>\n      <th>Calamity_Hurricane</th>\n      <th>Calamity_Tornado</th>\n      <th>Calamity_None</th>\n    </tr>\n    <tr>\n      <th>Date</th>\n      <th></th>\n      <th></th>\n      <th></th>\n      <th></th>\n    </tr>\n  </thead>\n  <tbody>\n    <tr>\n      <th>1953-05-31 00:00:00+00:00</th>\n      <td>0</td>\n      <td>0</td>\n      <td>1</td>\n      <td>0</td>\n    </tr>\n    <tr>\n      <th>1953-06-30 00:00:00+00:00</th>\n      <td>1</td>\n      <td>0</td>\n      <td>0</td>\n      <td>0</td>\n    </tr>\n    <tr>\n      <th>1953-07-31 00:00:00+00:00</th>\n      <td>0</td>\n      <td>0</td>\n      <td>0</td>\n      <td>1</td>\n    </tr>\n    <tr>\n      <th>1953-08-31 00:00:00+00:00</th>\n      <td>0</td>\n      <td>0</td>\n      <td>0</td>\n      <td>1</td>\n    </tr>\n    <tr>\n      <th>1953-09-30 00:00:00+00:00</th>\n      <td>0</td>\n      <td>0</td>\n      <td>0</td>\n      <td>1</td>\n    </tr>\n    <tr>\n      <th>1953-10-31 00:00:00+00:00</th>\n      <td>0</td>\n      <td>0</td>\n      <td>0</td>\n      <td>1</td>\n    </tr>\n    <tr>\n      <th>1953-11-30 00:00:00+00:00</th>\n      <td>0</td>\n      <td>0</td>\n      <td>0</td>\n      <td>1</td>\n    </tr>\n    <tr>\n      <th>1953-12-31 00:00:00+00:00</th>\n      <td>0</td>\n      <td>0</td>\n      <td>0</td>\n      <td>1</td>\n    </tr>\n    <tr>\n      <th>1954-01-31 00:00:00+00:00</th>\n      <td>0</td>\n      <td>0</td>\n      <td>0</td>\n      <td>1</td>\n    </tr>\n    <tr>\n      <th>1954-02-28 00:00:00+00:00</th>\n      <td>0</td>\n      <td>0</td>\n      <td>0</td>\n      <td>1</td>\n    </tr>\n  </tbody>\n</table>\n</div>"
          },
          "metadata": {}
        }
      ],
      "execution_count": null,
      "metadata": {
        "jupyter": {
          "source_hidden": false,
          "outputs_hidden": false
        },
        "nteract": {
          "transient": {
            "deleting": false
          }
        },
        "gather": {
          "logged": 1648844710051
        },
        "id": "1fMvCivSun8Q",
        "outputId": "1b9c2204-a8e1-48de-bdfe-4c55ae857498"
      }
    },
    {
      "cell_type": "code",
      "source": [
        "df3['Calamity'] = np.add(df3['Calamity_Tornado'],df3['Calamity_Flood'],df3['Calamity_Hurricane'])"
      ],
      "outputs": [],
      "execution_count": null,
      "metadata": {
        "jupyter": {
          "source_hidden": false,
          "outputs_hidden": false
        },
        "nteract": {
          "transient": {
            "deleting": false
          }
        },
        "gather": {
          "logged": 1648844955924
        },
        "id": "0EDs5hacun8Q"
      }
    },
    {
      "cell_type": "code",
      "source": [
        "df3.drop(['Calamity_Tornado','Calamity_Flood','Calamity_Hurricane'], axis = 1, inplace=True)\n",
        "df3.rename(columns={'Calamity_None': 'No_Calamity'}, inplace=True)\n",
        "df3.head(30)"
      ],
      "outputs": [
        {
          "output_type": "execute_result",
          "execution_count": 27,
          "data": {
            "text/plain": "                           No_Calamity  Calamity\nDate                                            \n1953-05-31 00:00:00+00:00            0         1\n1953-06-30 00:00:00+00:00            0         1\n1953-07-31 00:00:00+00:00            1         0\n1953-08-31 00:00:00+00:00            1         0\n1953-09-30 00:00:00+00:00            1         0\n1953-10-31 00:00:00+00:00            1         0\n1953-11-30 00:00:00+00:00            1         0\n1953-12-31 00:00:00+00:00            1         0\n1954-01-31 00:00:00+00:00            1         0\n1954-02-28 00:00:00+00:00            1         0\n1954-03-31 00:00:00+00:00            1         0\n1954-04-30 00:00:00+00:00            1         0\n1954-05-31 00:00:00+00:00            1         0\n1954-06-30 00:00:00+00:00            1         0\n1954-07-31 00:00:00+00:00            0         1\n1954-08-31 00:00:00+00:00            1         0\n1954-09-30 00:00:00+00:00            1         0\n1954-10-31 00:00:00+00:00            1         0\n1954-11-30 00:00:00+00:00            1         0\n1954-12-31 00:00:00+00:00            1         0\n1955-01-31 00:00:00+00:00            1         0\n1955-02-28 00:00:00+00:00            1         0\n1955-03-31 00:00:00+00:00            1         0\n1955-04-30 00:00:00+00:00            1         0\n1955-05-31 00:00:00+00:00            1         0\n1955-06-30 00:00:00+00:00            1         0\n1955-07-31 00:00:00+00:00            1         0\n1955-08-31 00:00:00+00:00            1         0\n1955-09-30 00:00:00+00:00            1         0\n1955-10-31 00:00:00+00:00            1         0",
            "text/html": "<div>\n<style scoped>\n    .dataframe tbody tr th:only-of-type {\n        vertical-align: middle;\n    }\n\n    .dataframe tbody tr th {\n        vertical-align: top;\n    }\n\n    .dataframe thead th {\n        text-align: right;\n    }\n</style>\n<table border=\"1\" class=\"dataframe\">\n  <thead>\n    <tr style=\"text-align: right;\">\n      <th></th>\n      <th>No_Calamity</th>\n      <th>Calamity</th>\n    </tr>\n    <tr>\n      <th>Date</th>\n      <th></th>\n      <th></th>\n    </tr>\n  </thead>\n  <tbody>\n    <tr>\n      <th>1953-05-31 00:00:00+00:00</th>\n      <td>0</td>\n      <td>1</td>\n    </tr>\n    <tr>\n      <th>1953-06-30 00:00:00+00:00</th>\n      <td>0</td>\n      <td>1</td>\n    </tr>\n    <tr>\n      <th>1953-07-31 00:00:00+00:00</th>\n      <td>1</td>\n      <td>0</td>\n    </tr>\n    <tr>\n      <th>1953-08-31 00:00:00+00:00</th>\n      <td>1</td>\n      <td>0</td>\n    </tr>\n    <tr>\n      <th>1953-09-30 00:00:00+00:00</th>\n      <td>1</td>\n      <td>0</td>\n    </tr>\n    <tr>\n      <th>1953-10-31 00:00:00+00:00</th>\n      <td>1</td>\n      <td>0</td>\n    </tr>\n    <tr>\n      <th>1953-11-30 00:00:00+00:00</th>\n      <td>1</td>\n      <td>0</td>\n    </tr>\n    <tr>\n      <th>1953-12-31 00:00:00+00:00</th>\n      <td>1</td>\n      <td>0</td>\n    </tr>\n    <tr>\n      <th>1954-01-31 00:00:00+00:00</th>\n      <td>1</td>\n      <td>0</td>\n    </tr>\n    <tr>\n      <th>1954-02-28 00:00:00+00:00</th>\n      <td>1</td>\n      <td>0</td>\n    </tr>\n    <tr>\n      <th>1954-03-31 00:00:00+00:00</th>\n      <td>1</td>\n      <td>0</td>\n    </tr>\n    <tr>\n      <th>1954-04-30 00:00:00+00:00</th>\n      <td>1</td>\n      <td>0</td>\n    </tr>\n    <tr>\n      <th>1954-05-31 00:00:00+00:00</th>\n      <td>1</td>\n      <td>0</td>\n    </tr>\n    <tr>\n      <th>1954-06-30 00:00:00+00:00</th>\n      <td>1</td>\n      <td>0</td>\n    </tr>\n    <tr>\n      <th>1954-07-31 00:00:00+00:00</th>\n      <td>0</td>\n      <td>1</td>\n    </tr>\n    <tr>\n      <th>1954-08-31 00:00:00+00:00</th>\n      <td>1</td>\n      <td>0</td>\n    </tr>\n    <tr>\n      <th>1954-09-30 00:00:00+00:00</th>\n      <td>1</td>\n      <td>0</td>\n    </tr>\n    <tr>\n      <th>1954-10-31 00:00:00+00:00</th>\n      <td>1</td>\n      <td>0</td>\n    </tr>\n    <tr>\n      <th>1954-11-30 00:00:00+00:00</th>\n      <td>1</td>\n      <td>0</td>\n    </tr>\n    <tr>\n      <th>1954-12-31 00:00:00+00:00</th>\n      <td>1</td>\n      <td>0</td>\n    </tr>\n    <tr>\n      <th>1955-01-31 00:00:00+00:00</th>\n      <td>1</td>\n      <td>0</td>\n    </tr>\n    <tr>\n      <th>1955-02-28 00:00:00+00:00</th>\n      <td>1</td>\n      <td>0</td>\n    </tr>\n    <tr>\n      <th>1955-03-31 00:00:00+00:00</th>\n      <td>1</td>\n      <td>0</td>\n    </tr>\n    <tr>\n      <th>1955-04-30 00:00:00+00:00</th>\n      <td>1</td>\n      <td>0</td>\n    </tr>\n    <tr>\n      <th>1955-05-31 00:00:00+00:00</th>\n      <td>1</td>\n      <td>0</td>\n    </tr>\n    <tr>\n      <th>1955-06-30 00:00:00+00:00</th>\n      <td>1</td>\n      <td>0</td>\n    </tr>\n    <tr>\n      <th>1955-07-31 00:00:00+00:00</th>\n      <td>1</td>\n      <td>0</td>\n    </tr>\n    <tr>\n      <th>1955-08-31 00:00:00+00:00</th>\n      <td>1</td>\n      <td>0</td>\n    </tr>\n    <tr>\n      <th>1955-09-30 00:00:00+00:00</th>\n      <td>1</td>\n      <td>0</td>\n    </tr>\n    <tr>\n      <th>1955-10-31 00:00:00+00:00</th>\n      <td>1</td>\n      <td>0</td>\n    </tr>\n  </tbody>\n</table>\n</div>"
          },
          "metadata": {}
        }
      ],
      "execution_count": null,
      "metadata": {
        "jupyter": {
          "source_hidden": false,
          "outputs_hidden": false
        },
        "nteract": {
          "transient": {
            "deleting": false
          }
        },
        "gather": {
          "logged": 1648845224002
        },
        "id": "TpPq8yIRun8R",
        "outputId": "e67aa6f6-7592-4325-9889-117a775bff15"
      }
    },
    {
      "cell_type": "code",
      "source": [
        "df3.to_csv('Binary_calamities.csv', index=True)"
      ],
      "outputs": [],
      "execution_count": null,
      "metadata": {
        "jupyter": {
          "source_hidden": false,
          "outputs_hidden": false
        },
        "nteract": {
          "transient": {
            "deleting": false
          }
        },
        "gather": {
          "logged": 1648845275986
        },
        "id": "zXCYT5Dsun8R"
      }
    },
    {
      "cell_type": "code",
      "source": [
        "C = df3['Calamity']\n",
        "C.plot()"
      ],
      "outputs": [
        {
          "output_type": "execute_result",
          "execution_count": 29,
          "data": {
            "text/plain": "<AxesSubplot:xlabel='Date'>"
          },
          "metadata": {}
        },
        {
          "output_type": "display_data",
          "data": {
            "text/plain": "<Figure size 432x288 with 1 Axes>",
            "image/png": "[encoded data removed]"
          },
          "metadata": {
            "needs_background": "light"
          }
        }
      ],
      "execution_count": null,
      "metadata": {
        "jupyter": {
          "source_hidden": false,
          "outputs_hidden": false
        },
        "nteract": {
          "transient": {
            "deleting": false
          }
        },
        "gather": {
          "logged": 1648845325074
        },
        "id": "eFWCJ3oVun8R",
        "outputId": "1a802c6b-cf2c-41fd-b9f8-6ef9ad0a7796"
      }
    },
    {
      "cell_type": "code",
      "source": [
        "NC = df3['No_Calamity']\n",
        "NC.plot()"
      ],
      "outputs": [
        {
          "output_type": "execute_result",
          "execution_count": 30,
          "data": {
            "text/plain": "<AxesSubplot:xlabel='Date'>"
          },
          "metadata": {}
        },
        {
          "output_type": "display_data",
          "data": {
            "text/plain": "<Figure size 432x288 with 1 Axes>",
            "image/png": "[encoded data removed]"
          },
          "metadata": {
            "needs_background": "light"
          }
        }
      ],
      "execution_count": null,
      "metadata": {
        "jupyter": {
          "source_hidden": false,
          "outputs_hidden": false
        },
        "nteract": {
          "transient": {
            "deleting": false
          }
        },
        "gather": {
          "logged": 1648845357207
        },
        "id": "0CKA86T3un8S",
        "outputId": "10238583-2b0f-44aa-d85b-bd3069f83675"
      }
    },
    {
      "cell_type": "code",
      "source": [
        "df3['x1'] = df3.index\n",
        "Training_Dates = df3['x1']\n",
        "Training_Dates.head()"
      ],
      "outputs": [
        {
          "output_type": "execute_result",
          "execution_count": 31,
          "data": {
            "text/plain": "Date\n1953-05-31 00:00:00+00:00   1953-05-31 00:00:00+00:00\n1953-06-30 00:00:00+00:00   1953-06-30 00:00:00+00:00\n1953-07-31 00:00:00+00:00   1953-07-31 00:00:00+00:00\n1953-08-31 00:00:00+00:00   1953-08-31 00:00:00+00:00\n1953-09-30 00:00:00+00:00   1953-09-30 00:00:00+00:00\nFreq: M, Name: x1, dtype: datetime64[ns, UTC]"
          },
          "metadata": {}
        }
      ],
      "execution_count": null,
      "metadata": {
        "jupyter": {
          "source_hidden": false,
          "outputs_hidden": false
        },
        "nteract": {
          "transient": {
            "deleting": false
          }
        },
        "gather": {
          "logged": 1648845372003
        },
        "id": "1u3rs9Inun8S",
        "outputId": "41bdc33b-87b5-440d-919c-12ccae2c3e7f"
      }
    },
    {
      "cell_type": "code",
      "source": [
        "df3.drop(['x1'], axis = 1, inplace=True)\n",
        "df3.head()"
      ],
      "outputs": [
        {
          "output_type": "execute_result",
          "execution_count": 32,
          "data": {
            "text/plain": "                           No_Calamity  Calamity\nDate                                            \n1953-05-31 00:00:00+00:00            0         1\n1953-06-30 00:00:00+00:00            0         1\n1953-07-31 00:00:00+00:00            1         0\n1953-08-31 00:00:00+00:00            1         0\n1953-09-30 00:00:00+00:00            1         0",
            "text/html": "<div>\n<style scoped>\n    .dataframe tbody tr th:only-of-type {\n        vertical-align: middle;\n    }\n\n    .dataframe tbody tr th {\n        vertical-align: top;\n    }\n\n    .dataframe thead th {\n        text-align: right;\n    }\n</style>\n<table border=\"1\" class=\"dataframe\">\n  <thead>\n    <tr style=\"text-align: right;\">\n      <th></th>\n      <th>No_Calamity</th>\n      <th>Calamity</th>\n    </tr>\n    <tr>\n      <th>Date</th>\n      <th></th>\n      <th></th>\n    </tr>\n  </thead>\n  <tbody>\n    <tr>\n      <th>1953-05-31 00:00:00+00:00</th>\n      <td>0</td>\n      <td>1</td>\n    </tr>\n    <tr>\n      <th>1953-06-30 00:00:00+00:00</th>\n      <td>0</td>\n      <td>1</td>\n    </tr>\n    <tr>\n      <th>1953-07-31 00:00:00+00:00</th>\n      <td>1</td>\n      <td>0</td>\n    </tr>\n    <tr>\n      <th>1953-08-31 00:00:00+00:00</th>\n      <td>1</td>\n      <td>0</td>\n    </tr>\n    <tr>\n      <th>1953-09-30 00:00:00+00:00</th>\n      <td>1</td>\n      <td>0</td>\n    </tr>\n  </tbody>\n</table>\n</div>"
          },
          "metadata": {}
        }
      ],
      "execution_count": null,
      "metadata": {
        "jupyter": {
          "source_hidden": false,
          "outputs_hidden": false
        },
        "nteract": {
          "transient": {
            "deleting": false
          }
        },
        "gather": {
          "logged": 1648845388979
        },
        "id": "vXI12CXOun8S",
        "outputId": "3d8033ed-0032-41e4-f290-2959cea853be"
      }
    },
    {
      "cell_type": "code",
      "source": [
        "import matplotlib as mlb\n",
        "import matplotlib.pyplot as plt"
      ],
      "outputs": [],
      "execution_count": null,
      "metadata": {
        "jupyter": {
          "source_hidden": false,
          "outputs_hidden": false
        },
        "nteract": {
          "transient": {
            "deleting": false
          }
        },
        "gather": {
          "logged": 1648845402944
        },
        "id": "eygFYHaUun8S"
      }
    },
    {
      "cell_type": "code",
      "source": [
        "df3[['Calamity', 'No_Calamity']].plot(subplots=True)"
      ],
      "outputs": [
        {
          "output_type": "execute_result",
          "execution_count": 34,
          "data": {
            "text/plain": "array([<AxesSubplot:xlabel='Date'>, <AxesSubplot:xlabel='Date'>],\n      dtype=object)"
          },
          "metadata": {}
        },
        {
          "output_type": "display_data",
          "data": {
            "text/plain": "<Figure size 432x288 with 2 Axes>",
            "image/png": "[encoded data removed]"
          },
          "metadata": {
            "needs_background": "light"
          }
        }
      ],
      "execution_count": null,
      "metadata": {
        "jupyter": {
          "source_hidden": false,
          "outputs_hidden": false
        },
        "nteract": {
          "transient": {
            "deleting": false
          }
        },
        "gather": {
          "logged": 1648845438344
        },
        "id": "MY19Mg3Gun8T",
        "outputId": "7b06c454-fb39-4612-841f-99643f9eb0fa"
      }
    },
    {
      "cell_type": "code",
      "source": [
        "dataset = df3.values\n",
        "dataset"
      ],
      "outputs": [
        {
          "output_type": "execute_result",
          "execution_count": 35,
          "data": {
            "text/plain": "array([[0, 1],\n       [0, 1],\n       [1, 0],\n       ...,\n       [1, 0],\n       [0, 0],\n       [0, 0]])"
          },
          "metadata": {}
        }
      ],
      "execution_count": null,
      "metadata": {
        "jupyter": {
          "source_hidden": false,
          "outputs_hidden": false
        },
        "nteract": {
          "transient": {
            "deleting": false
          }
        },
        "gather": {
          "logged": 1648845446949
        },
        "id": "sGP_wM8tun8T",
        "outputId": "6f96de33-08ab-488e-9b34-ae3ac2e8bfae"
      }
    },
    {
      "cell_type": "code",
      "source": [
        "dataset = dataset.astype(float)\n",
        "dataset"
      ],
      "outputs": [
        {
          "output_type": "execute_result",
          "execution_count": 36,
          "data": {
            "text/plain": "array([[0., 1.],\n       [0., 1.],\n       [1., 0.],\n       ...,\n       [1., 0.],\n       [0., 0.],\n       [0., 0.]])"
          },
          "metadata": {}
        }
      ],
      "execution_count": null,
      "metadata": {
        "jupyter": {
          "source_hidden": false,
          "outputs_hidden": false
        },
        "nteract": {
          "transient": {
            "deleting": false
          }
        },
        "gather": {
          "logged": 1648845454271
        },
        "id": "ib6s_FCyun8T",
        "outputId": "d0454ce8-69c5-448b-d178-f872afa49a3f"
      }
    },
    {
      "cell_type": "code",
      "source": [
        "# split into train and test sets\n",
        "train_size = int(len(dataset) * 0.80)\n",
        "test_size = len(dataset) - train_size\n",
        "train, test = dataset[0:train_size,:], dataset[train_size:len(dataset),:]\n",
        "print(len(train), len(test))"
      ],
      "outputs": [
        {
          "output_type": "stream",
          "name": "stdout",
          "text": "646 162\n"
        }
      ],
      "execution_count": null,
      "metadata": {
        "jupyter": {
          "source_hidden": false,
          "outputs_hidden": false
        },
        "nteract": {
          "transient": {
            "deleting": false
          }
        },
        "gather": {
          "logged": 1648845473115
        },
        "id": "9CzEz2Uyun8T",
        "outputId": "41303c13-e039-492f-f6f5-3f6b7c64e772"
      }
    },
    {
      "cell_type": "code",
      "source": [
        "train"
      ],
      "outputs": [
        {
          "output_type": "execute_result",
          "execution_count": 38,
          "data": {
            "text/plain": "array([[0., 1.],\n       [0., 1.],\n       [1., 0.],\n       ...,\n       [1., 0.],\n       [1., 0.],\n       [1., 0.]])"
          },
          "metadata": {}
        }
      ],
      "execution_count": null,
      "metadata": {
        "jupyter": {
          "source_hidden": false,
          "outputs_hidden": false
        },
        "nteract": {
          "transient": {
            "deleting": false
          }
        },
        "gather": {
          "logged": 1648845479978
        },
        "id": "Odjgr0n-un8U",
        "outputId": "4179f449-b940-4a30-84c1-0f401d097a30"
      }
    },
    {
      "cell_type": "code",
      "source": [
        "test"
      ],
      "outputs": [
        {
          "output_type": "execute_result",
          "execution_count": 39,
          "data": {
            "text/plain": "array([[1., 0.],\n       [1., 0.],\n       [1., 0.],\n       [1., 0.],\n       [1., 0.],\n       [0., 0.],\n       [1., 0.],\n       [1., 0.],\n       [1., 0.],\n       [1., 0.],\n       [1., 0.],\n       [1., 0.],\n       [1., 0.],\n       [1., 0.],\n       [1., 0.],\n       [1., 0.],\n       [0., 0.],\n       [0., 0.],\n       [0., 0.],\n       [1., 0.],\n       [1., 0.],\n       [1., 0.],\n       [1., 0.],\n       [1., 0.],\n       [1., 0.],\n       [1., 0.],\n       [1., 0.],\n       [1., 0.],\n       [1., 0.],\n       [1., 0.],\n       [1., 0.],\n       [1., 0.],\n       [1., 0.],\n       [1., 0.],\n       [1., 0.],\n       [1., 0.],\n       [1., 0.],\n       [1., 0.],\n       [1., 0.],\n       [0., 0.],\n       [1., 0.],\n       [1., 0.],\n       [1., 0.],\n       [1., 0.],\n       [1., 0.],\n       [1., 0.],\n       [1., 0.],\n       [1., 0.],\n       [1., 0.],\n       [1., 0.],\n       [1., 0.],\n       [1., 0.],\n       [1., 0.],\n       [1., 0.],\n       [1., 0.],\n       [1., 0.],\n       [1., 0.],\n       [1., 0.],\n       [1., 0.],\n       [1., 0.],\n       [1., 0.],\n       [1., 0.],\n       [1., 0.],\n       [1., 0.],\n       [1., 0.],\n       [1., 0.],\n       [1., 0.],\n       [1., 0.],\n       [1., 0.],\n       [1., 0.],\n       [1., 0.],\n       [1., 0.],\n       [1., 0.],\n       [1., 0.],\n       [1., 0.],\n       [1., 0.],\n       [1., 0.],\n       [1., 0.],\n       [1., 0.],\n       [1., 0.],\n       [1., 0.],\n       [1., 0.],\n       [1., 0.],\n       [1., 0.],\n       [1., 0.],\n       [1., 0.],\n       [1., 0.],\n       [1., 0.],\n       [1., 0.],\n       [1., 0.],\n       [1., 0.],\n       [1., 0.],\n       [1., 0.],\n       [1., 0.],\n       [1., 0.],\n       [1., 0.],\n       [1., 0.],\n       [1., 0.],\n       [1., 0.],\n       [1., 0.],\n       [1., 0.],\n       [1., 0.],\n       [1., 0.],\n       [1., 0.],\n       [1., 0.],\n       [1., 0.],\n       [1., 0.],\n       [1., 0.],\n       [0., 1.],\n       [0., 1.],\n       [0., 1.],\n       [1., 0.],\n       [1., 0.],\n       [1., 0.],\n       [1., 0.],\n       [1., 0.],\n       [1., 0.],\n       [1., 0.],\n       [1., 0.],\n       [1., 0.],\n       [1., 0.],\n       [1., 0.],\n       [1., 0.],\n       [1., 0.],\n       [1., 0.],\n       [0., 0.],\n       [1., 0.],\n       [1., 0.],\n       [1., 0.],\n       [1., 0.],\n       [1., 0.],\n       [1., 0.],\n       [1., 0.],\n       [1., 0.],\n       [1., 0.],\n       [0., 1.],\n       [1., 0.],\n       [1., 0.],\n       [0., 1.],\n       [1., 0.],\n       [1., 0.],\n       [1., 0.],\n       [1., 0.],\n       [1., 0.],\n       [1., 0.],\n       [1., 0.],\n       [1., 0.],\n       [0., 1.],\n       [1., 0.],\n       [1., 0.],\n       [0., 1.],\n       [1., 0.],\n       [1., 0.],\n       [1., 0.],\n       [1., 0.],\n       [1., 0.],\n       [1., 0.],\n       [1., 0.],\n       [1., 0.],\n       [1., 0.],\n       [0., 0.],\n       [0., 0.]])"
          },
          "metadata": {}
        }
      ],
      "execution_count": null,
      "metadata": {
        "jupyter": {
          "source_hidden": false,
          "outputs_hidden": false
        },
        "nteract": {
          "transient": {
            "deleting": false
          }
        },
        "gather": {
          "logged": 1648845484932
        },
        "id": "2V3knm1Oun8U",
        "outputId": "f57f9c10-3d45-4ef1-c2f0-0121089dedd2"
      }
    },
    {
      "cell_type": "code",
      "source": [
        "# convert an array of values into a dataset matrix\n",
        "def create_dataset(dataset, look_back=72):\n",
        "\tdataX, dataY = [], []\n",
        "\tfor i in range(len(dataset)-look_back-1):\n",
        "\t\ta = dataset[i:(i+look_back)]\n",
        "\t\tb = dataset[(i+look_back)]\n",
        "\t\tdataX.append(a)\n",
        "\t\tdataY.append(b)\n",
        "\treturn np.array(dataX), np.array(dataY)"
      ],
      "outputs": [],
      "execution_count": null,
      "metadata": {
        "jupyter": {
          "source_hidden": false,
          "outputs_hidden": false
        },
        "nteract": {
          "transient": {
            "deleting": false
          }
        },
        "gather": {
          "logged": 1648851882077
        },
        "id": "qwPs5jMlun8U"
      }
    },
    {
      "cell_type": "code",
      "source": [
        "# reshape into X=t and Y=t+1\n",
        "look_back = 72\n",
        "trainX, trainY = create_dataset(train, look_back)\n",
        "testX, testY = create_dataset(test, look_back)"
      ],
      "outputs": [],
      "execution_count": null,
      "metadata": {
        "jupyter": {
          "source_hidden": false,
          "outputs_hidden": false
        },
        "nteract": {
          "transient": {
            "deleting": false
          }
        },
        "gather": {
          "logged": 1648851884948
        },
        "id": "3NEgsQQpun8U"
      }
    },
    {
      "cell_type": "code",
      "source": [
        "trainX.shape"
      ],
      "outputs": [
        {
          "output_type": "execute_result",
          "execution_count": 158,
          "data": {
            "text/plain": "(573, 72, 2)"
          },
          "metadata": {}
        }
      ],
      "execution_count": null,
      "metadata": {
        "jupyter": {
          "source_hidden": false,
          "outputs_hidden": false
        },
        "nteract": {
          "transient": {
            "deleting": false
          }
        },
        "gather": {
          "logged": 1648851888166
        },
        "id": "sDRP_bg3un8V",
        "outputId": "80fda504-cc36-4fe8-d380-9806e66b182f"
      }
    },
    {
      "cell_type": "code",
      "source": [
        "trainY.shape"
      ],
      "outputs": [
        {
          "output_type": "execute_result",
          "execution_count": 159,
          "data": {
            "text/plain": "(573, 2)"
          },
          "metadata": {}
        }
      ],
      "execution_count": null,
      "metadata": {
        "jupyter": {
          "source_hidden": false,
          "outputs_hidden": false
        },
        "nteract": {
          "transient": {
            "deleting": false
          }
        },
        "gather": {
          "logged": 1648851890995
        },
        "id": "pAM8L7K6un8V",
        "outputId": "fe1eb831-0d2e-4a64-cdac-1f7c9eb8922b"
      }
    },
    {
      "cell_type": "code",
      "source": [
        "trainY"
      ],
      "outputs": [
        {
          "output_type": "execute_result",
          "execution_count": 160,
          "data": {
            "text/plain": "array([[1., 0.],\n       [1., 0.],\n       [0., 1.],\n       ...,\n       [1., 0.],\n       [1., 0.],\n       [1., 0.]])"
          },
          "metadata": {}
        }
      ],
      "execution_count": null,
      "metadata": {
        "jupyter": {
          "source_hidden": false,
          "outputs_hidden": false
        },
        "nteract": {
          "transient": {
            "deleting": false
          }
        },
        "gather": {
          "logged": 1648851897065
        },
        "id": "4rglutW6un8V",
        "outputId": "56cbc295-8186-479e-a3bb-bb668a3b3a7a"
      }
    },
    {
      "cell_type": "code",
      "source": [
        "# reshape input to be [samples, time steps, features]\n",
        "trainX = np.reshape(trainX, (trainX.shape[0], look_back, trainX.shape[2]))\n",
        "testX = np.reshape(testX, (testX.shape[0], look_back, testX.shape[2]))"
      ],
      "outputs": [],
      "execution_count": null,
      "metadata": {
        "jupyter": {
          "source_hidden": false,
          "outputs_hidden": false
        },
        "nteract": {
          "transient": {
            "deleting": false
          }
        },
        "gather": {
          "logged": 1648851903026
        },
        "id": "mGn4DPF7un8V"
      }
    },
    {
      "cell_type": "code",
      "source": [
        "testX.shape"
      ],
      "outputs": [
        {
          "output_type": "execute_result",
          "execution_count": 162,
          "data": {
            "text/plain": "(89, 72, 2)"
          },
          "metadata": {}
        }
      ],
      "execution_count": null,
      "metadata": {
        "jupyter": {
          "source_hidden": false,
          "outputs_hidden": false
        },
        "nteract": {
          "transient": {
            "deleting": false
          }
        },
        "gather": {
          "logged": 1648851905005
        },
        "id": "SXgw3xNgun8W",
        "outputId": "1a6728b7-72fc-4215-fb5b-acabfb004e71"
      }
    },
    {
      "cell_type": "code",
      "source": [
        "import tensorflow as tf"
      ],
      "outputs": [],
      "execution_count": null,
      "metadata": {
        "jupyter": {
          "source_hidden": false,
          "outputs_hidden": false
        },
        "nteract": {
          "transient": {
            "deleting": false
          }
        },
        "gather": {
          "logged": 1648845528925
        },
        "id": "Fc8lJ_-Bun8W"
      }
    },
    {
      "cell_type": "code",
      "source": [
        "# creating and fitting the LSTM network\n",
        "model = Sequential()\n",
        "model.add(LSTM(64, input_shape=(look_back, trainX.shape[2]), return_sequences = True))\n",
        "model.add(LSTM(64, return_sequences=False))\n",
        "model.add(tf.keras.layers.Dropout(0.3))\n",
        "model.add(Dense(2,activation='softmax'))"
      ],
      "outputs": [],
      "execution_count": null,
      "metadata": {
        "jupyter": {
          "source_hidden": false,
          "outputs_hidden": false
        },
        "nteract": {
          "transient": {
            "deleting": false
          }
        },
        "gather": {
          "logged": 1648851915819
        },
        "id": "QZiUQfzRun8W"
      }
    },
    {
      "cell_type": "code",
      "source": [
        "model.summary()"
      ],
      "outputs": [
        {
          "output_type": "stream",
          "name": "stdout",
          "text": "Model: \"sequential_2\"\n_________________________________________________________________\n Layer (type)                Output Shape              Param #   \n=================================================================\n lstm_4 (LSTM)               (None, 72, 64)            17152     \n                                                                 \n lstm_5 (LSTM)               (None, 64)                33024     \n                                                                 \n dropout_2 (Dropout)         (None, 64)                0         \n                                                                 \n dense_2 (Dense)             (None, 2)                 130       \n                                                                 \n=================================================================\nTotal params: 50,306\nTrainable params: 50,306\nNon-trainable params: 0\n_________________________________________________________________\n"
        }
      ],
      "execution_count": null,
      "metadata": {
        "jupyter": {
          "source_hidden": false,
          "outputs_hidden": false
        },
        "nteract": {
          "transient": {
            "deleting": false
          }
        },
        "gather": {
          "logged": 1648851918082
        },
        "id": "FTghlvwQun8W",
        "outputId": "318812cf-5e45-42fc-f21e-939aff4b4b60"
      }
    },
    {
      "cell_type": "code",
      "source": [
        "from tensorflow import keras"
      ],
      "outputs": [],
      "execution_count": null,
      "metadata": {
        "jupyter": {
          "source_hidden": false,
          "outputs_hidden": false
        },
        "nteract": {
          "transient": {
            "deleting": false
          }
        },
        "gather": {
          "logged": 1648845564924
        },
        "id": "GMUyG1tkun8W"
      }
    },
    {
      "cell_type": "code",
      "source": [
        "METRICS = [\n",
        "   \n",
        "      keras.metrics.BinaryAccuracy(name='accuracy'),\n",
        "      keras.metrics.Precision(name='precision'),\n",
        "      keras.metrics.Recall(name='recall'),\n",
        "    \n",
        "\n",
        "]"
      ],
      "outputs": [],
      "execution_count": null,
      "metadata": {
        "jupyter": {
          "source_hidden": false,
          "outputs_hidden": false
        },
        "nteract": {
          "transient": {
            "deleting": false
          }
        },
        "gather": {
          "logged": 1648846677923
        },
        "id": "w0uceiDSun8X"
      }
    },
    {
      "cell_type": "code",
      "source": [
        "\"\"\"pip install tensorflow-addons\n",
        "import tensorflow_addons as tfa\n",
        "fl = tfa.losses.SigmoidFocalCrossEntropy(alpha, gamma)\n",
        "def focal_loss_custom(alpha, gamma):\n",
        "   def binary_focal_loss(y_true, y_pred):\n",
        "      fl = tfa.losses.SigmoidFocalCrossEntropy(alpha=alpha, gamma=gamma)\n",
        "      y_true_K = K.ones_like(y_true)\n",
        "      focal_loss = fl(y_true, y_pred)\n",
        "      return focal_loss\n",
        "   return binary_focal_loss"
      ],
      "outputs": [
        {
          "output_type": "stream",
          "name": "stdout",
          "text": "Requirement already satisfied: tensorflow-addons in /anaconda/envs/azureml_py38_PT_TF/lib/python3.8/site-packages (0.16.1)\nRequirement already satisfied: typeguard>=2.7 in /anaconda/envs/azureml_py38_PT_TF/lib/python3.8/site-packages (from tensorflow-addons) (2.13.3)\nNote: you may need to restart the kernel to use updated packages.\n"
        }
      ],
      "execution_count": null,
      "metadata": {
        "jupyter": {
          "source_hidden": false,
          "outputs_hidden": false
        },
        "nteract": {
          "transient": {
            "deleting": false
          }
        },
        "gather": {
          "logged": 1648823964697
        },
        "id": "gT3baG_qun8X",
        "outputId": "ee6bc217-b661-4cd2-888f-8e19dbf97acb"
      }
    },
    {
      "cell_type": "code",
      "source": [
        "\"\"\"from tensorflow_addons import focal_loss\n",
        "from focal_loss import sparse_categorical_focal_loss"
      ],
      "outputs": [
        {
          "output_type": "error",
          "ename": "ImportError",
          "evalue": "cannot import name 'focal_loss' from 'tensorflow_addons' (/anaconda/envs/azureml_py38_PT_TF/lib/python3.8/site-packages/tensorflow_addons/__init__.py)",
          "traceback": [
            "\u001b[0;31m---------------------------------------------------------------------------\u001b[0m",
            "\u001b[0;31mImportError\u001b[0m                               Traceback (most recent call last)",
            "\u001b[0;32m<ipython-input-160-85766e373125>\u001b[0m in \u001b[0;36m<module>\u001b[0;34m\u001b[0m\n\u001b[0;32m----> 1\u001b[0;31m \u001b[0;32mfrom\u001b[0m \u001b[0mtensorflow_addons\u001b[0m \u001b[0;32mimport\u001b[0m \u001b[0mfocal_loss\u001b[0m\u001b[0;34m\u001b[0m\u001b[0;34m\u001b[0m\u001b[0m\n\u001b[0m\u001b[1;32m      2\u001b[0m \u001b[0;32mfrom\u001b[0m \u001b[0mfocal_loss\u001b[0m \u001b[0;32mimport\u001b[0m \u001b[0msparse_categorical_focal_loss\u001b[0m\u001b[0;34m\u001b[0m\u001b[0;34m\u001b[0m\u001b[0m\n",
            "\u001b[0;31mImportError\u001b[0m: cannot import name 'focal_loss' from 'tensorflow_addons' (/anaconda/envs/azureml_py38_PT_TF/lib/python3.8/site-packages/tensorflow_addons/__init__.py)"
          ]
        }
      ],
      "execution_count": null,
      "metadata": {
        "jupyter": {
          "source_hidden": false,
          "outputs_hidden": false
        },
        "nteract": {
          "transient": {
            "deleting": false
          }
        },
        "gather": {
          "logged": 1648885792691
        },
        "id": "qefyA1sEun8X",
        "outputId": "f07680f1-a492-49b6-98ea-2b7d1d568e51"
      }
    },
    {
      "cell_type": "code",
      "source": [
        "\"\"\"import tensorflow_addons as tfa\n",
        "f2 = tfa.losses.SigmoidFocalCrossEntropy()"
      ],
      "outputs": [],
      "execution_count": null,
      "metadata": {
        "jupyter": {
          "source_hidden": false,
          "outputs_hidden": false
        },
        "nteract": {
          "transient": {
            "deleting": false
          }
        },
        "gather": {
          "logged": 1648824031694
        },
        "id": "EEAvg5jkun8Y"
      }
    },
    {
      "cell_type": "code",
      "source": [
        "\"\"\"pip install focal-loss\n",
        "from focal_loss import SparseCategoricalFocalLoss"
      ],
      "outputs": [
        {
          "output_type": "stream",
          "name": "stdout",
          "text": "Collecting focal-loss\n  Downloading focal_loss-0.0.7-py3-none-any.whl (19 kB)\nRequirement already satisfied: tensorflow>=2.2 in /anaconda/envs/azureml_py38_PT_TF/lib/python3.8/site-packages (from focal-loss) (2.8.0)\nRequirement already satisfied: tensorflow-io-gcs-filesystem>=0.23.1 in /anaconda/envs/azureml_py38_PT_TF/lib/python3.8/site-packages (from tensorflow>=2.2->focal-loss) (0.24.0)\nRequirement already satisfied: h5py>=2.9.0 in /anaconda/envs/azureml_py38_PT_TF/lib/python3.8/site-packages (from tensorflow>=2.2->focal-loss) (3.6.0)\nRequirement already satisfied: wrapt>=1.11.0 in /anaconda/envs/azureml_py38_PT_TF/lib/python3.8/site-packages (from tensorflow>=2.2->focal-loss) (1.13.3)\nRequirement already satisfied: numpy>=1.20 in /anaconda/envs/azureml_py38_PT_TF/lib/python3.8/site-packages (from tensorflow>=2.2->focal-loss) (1.22.2)\nRequirement already satisfied: six>=1.12.0 in /anaconda/envs/azureml_py38_PT_TF/lib/python3.8/site-packages (from tensorflow>=2.2->focal-loss) (1.16.0)\nRequirement already satisfied: keras<2.9,>=2.8.0rc0 in /anaconda/envs/azureml_py38_PT_TF/lib/python3.8/site-packages (from tensorflow>=2.2->focal-loss) (2.8.0)\nRequirement already satisfied: tf-estimator-nightly==2.8.0.dev2021122109 in /anaconda/envs/azureml_py38_PT_TF/lib/python3.8/site-packages (from tensorflow>=2.2->focal-loss) (2.8.0.dev2021122109)\nRequirement already satisfied: setuptools in /anaconda/envs/azureml_py38_PT_TF/lib/python3.8/site-packages (from tensorflow>=2.2->focal-loss) (50.3.0.post20201006)\nRequirement already satisfied: google-pasta>=0.1.1 in /anaconda/envs/azureml_py38_PT_TF/lib/python3.8/site-packages (from tensorflow>=2.2->focal-loss) (0.2.0)\nRequirement already satisfied: tensorboard<2.9,>=2.8 in /anaconda/envs/azureml_py38_PT_TF/lib/python3.8/site-packages (from tensorflow>=2.2->focal-loss) (2.8.0)\nRequirement already satisfied: typing-extensions>=3.6.6 in /anaconda/envs/azureml_py38_PT_TF/lib/python3.8/site-packages (from tensorflow>=2.2->focal-loss) (4.0.1)\nRequirement already satisfied: keras-preprocessing>=1.1.1 in /anaconda/envs/azureml_py38_PT_TF/lib/python3.8/site-packages (from tensorflow>=2.2->focal-loss) (1.1.2)\nRequirement already satisfied: absl-py>=0.4.0 in /anaconda/envs/azureml_py38_PT_TF/lib/python3.8/site-packages (from tensorflow>=2.2->focal-loss) (1.0.0)\nRequirement already satisfied: protobuf>=3.9.2 in /anaconda/envs/azureml_py38_PT_TF/lib/python3.8/site-packages (from tensorflow>=2.2->focal-loss) (3.19.4)\nRequirement already satisfied: grpcio<2.0,>=1.24.3 in /anaconda/envs/azureml_py38_PT_TF/lib/python3.8/site-packages (from tensorflow>=2.2->focal-loss) (1.43.0)\nRequirement already satisfied: astunparse>=1.6.0 in /anaconda/envs/azureml_py38_PT_TF/lib/python3.8/site-packages (from tensorflow>=2.2->focal-loss) (1.6.3)\nRequirement already satisfied: flatbuffers>=1.12 in /anaconda/envs/azureml_py38_PT_TF/lib/python3.8/site-packages (from tensorflow>=2.2->focal-loss) (2.0)\nRequirement already satisfied: termcolor>=1.1.0 in /anaconda/envs/azureml_py38_PT_TF/lib/python3.8/site-packages (from tensorflow>=2.2->focal-loss) (1.1.0)\nRequirement already satisfied: gast>=0.2.1 in /anaconda/envs/azureml_py38_PT_TF/lib/python3.8/site-packages (from tensorflow>=2.2->focal-loss) (0.5.3)\nRequirement already satisfied: libclang>=9.0.1 in /anaconda/envs/azureml_py38_PT_TF/lib/python3.8/site-packages (from tensorflow>=2.2->focal-loss) (13.0.0)\nRequirement already satisfied: opt-einsum>=2.3.2 in /anaconda/envs/azureml_py38_PT_TF/lib/python3.8/site-packages (from tensorflow>=2.2->focal-loss) (3.3.0)\nRequirement already satisfied: wheel>=0.26 in /anaconda/envs/azureml_py38_PT_TF/lib/python3.8/site-packages (from tensorboard<2.9,>=2.8->tensorflow>=2.2->focal-loss) (0.35.1)\nRequirement already satisfied: google-auth<3,>=1.6.3 in /anaconda/envs/azureml_py38_PT_TF/lib/python3.8/site-packages (from tensorboard<2.9,>=2.8->tensorflow>=2.2->focal-loss) (2.6.0)\nRequirement already satisfied: tensorboard-plugin-wit>=1.6.0 in /anaconda/envs/azureml_py38_PT_TF/lib/python3.8/site-packages (from tensorboard<2.9,>=2.8->tensorflow>=2.2->focal-loss) (1.8.1)\nRequirement already satisfied: werkzeug>=0.11.15 in /anaconda/envs/azureml_py38_PT_TF/lib/python3.8/site-packages (from tensorboard<2.9,>=2.8->tensorflow>=2.2->focal-loss) (2.0.3)\nRequirement already satisfied: markdown>=2.6.8 in /anaconda/envs/azureml_py38_PT_TF/lib/python3.8/site-packages (from tensorboard<2.9,>=2.8->tensorflow>=2.2->focal-loss) (3.3.6)\nRequirement already satisfied: google-auth-oauthlib<0.5,>=0.4.1 in /anaconda/envs/azureml_py38_PT_TF/lib/python3.8/site-packages (from tensorboard<2.9,>=2.8->tensorflow>=2.2->focal-loss) (0.4.6)\nRequirement already satisfied: tensorboard-data-server<0.7.0,>=0.6.0 in /anaconda/envs/azureml_py38_PT_TF/lib/python3.8/site-packages (from tensorboard<2.9,>=2.8->tensorflow>=2.2->focal-loss) (0.6.1)\nRequirement already satisfied: requests<3,>=2.21.0 in /anaconda/envs/azureml_py38_PT_TF/lib/python3.8/site-packages (from tensorboard<2.9,>=2.8->tensorflow>=2.2->focal-loss) (2.27.1)\nRequirement already satisfied: cachetools<6.0,>=2.0.0 in /anaconda/envs/azureml_py38_PT_TF/lib/python3.8/site-packages (from google-auth<3,>=1.6.3->tensorboard<2.9,>=2.8->tensorflow>=2.2->focal-loss) (5.0.0)\nRequirement already satisfied: pyasn1-modules>=0.2.1 in /anaconda/envs/azureml_py38_PT_TF/lib/python3.8/site-packages (from google-auth<3,>=1.6.3->tensorboard<2.9,>=2.8->tensorflow>=2.2->focal-loss) (0.2.8)\nRequirement already satisfied: rsa<5,>=3.1.4; python_version >= \"3.6\" in /anaconda/envs/azureml_py38_PT_TF/lib/python3.8/site-packages (from google-auth<3,>=1.6.3->tensorboard<2.9,>=2.8->tensorflow>=2.2->focal-loss) (4.8)\nRequirement already satisfied: importlib-metadata>=4.4; python_version < \"3.10\" in /anaconda/envs/azureml_py38_PT_TF/lib/python3.8/site-packages (from markdown>=2.6.8->tensorboard<2.9,>=2.8->tensorflow>=2.2->focal-loss) (4.10.1)\nRequirement already satisfied: requests-oauthlib>=0.7.0 in /anaconda/envs/azureml_py38_PT_TF/lib/python3.8/site-packages (from google-auth-oauthlib<0.5,>=0.4.1->tensorboard<2.9,>=2.8->tensorflow>=2.2->focal-loss) (1.3.1)\nRequirement already satisfied: charset-normalizer~=2.0.0; python_version >= \"3\" in /anaconda/envs/azureml_py38_PT_TF/lib/python3.8/site-packages (from requests<3,>=2.21.0->tensorboard<2.9,>=2.8->tensorflow>=2.2->focal-loss) (2.0.11)\nRequirement already satisfied: idna<4,>=2.5; python_version >= \"3\" in /anaconda/envs/azureml_py38_PT_TF/lib/python3.8/site-packages (from requests<3,>=2.21.0->tensorboard<2.9,>=2.8->tensorflow>=2.2->focal-loss) (3.3)\nRequirement already satisfied: certifi>=2017.4.17 in /anaconda/envs/azureml_py38_PT_TF/lib/python3.8/site-packages (from requests<3,>=2.21.0->tensorboard<2.9,>=2.8->tensorflow>=2.2->focal-loss) (2021.10.8)\nRequirement already satisfied: urllib3<1.27,>=1.21.1 in /anaconda/envs/azureml_py38_PT_TF/lib/python3.8/site-packages (from requests<3,>=2.21.0->tensorboard<2.9,>=2.8->tensorflow>=2.2->focal-loss) (1.26.7)\nRequirement already satisfied: pyasn1<0.5.0,>=0.4.6 in /anaconda/envs/azureml_py38_PT_TF/lib/python3.8/site-packages (from pyasn1-modules>=0.2.1->google-auth<3,>=1.6.3->tensorboard<2.9,>=2.8->tensorflow>=2.2->focal-loss) (0.4.8)\nRequirement already satisfied: zipp>=0.5 in /anaconda/envs/azureml_py38_PT_TF/lib/python3.8/site-packages (from importlib-metadata>=4.4; python_version < \"3.10\"->markdown>=2.6.8->tensorboard<2.9,>=2.8->tensorflow>=2.2->focal-loss) (3.7.0)\nRequirement already satisfied: oauthlib>=3.0.0 in /anaconda/envs/azureml_py38_PT_TF/lib/python3.8/site-packages (from requests-oauthlib>=0.7.0->google-auth-oauthlib<0.5,>=0.4.1->tensorboard<2.9,>=2.8->tensorflow>=2.2->focal-loss) (3.2.0)\nInstalling collected packages: focal-loss\nSuccessfully installed focal-loss-0.0.7\nNote: you may need to restart the kernel to use updated packages.\n"
        }
      ],
      "execution_count": null,
      "metadata": {
        "jupyter": {
          "source_hidden": false,
          "outputs_hidden": false
        },
        "nteract": {
          "transient": {
            "deleting": false
          }
        },
        "gather": {
          "logged": 1648829606738
        },
        "id": "S6Y3pjrgun8Y",
        "outputId": "2278e796-4a0c-411f-fa41-52daeecd978c"
      }
    },
    {
      "cell_type": "code",
      "source": [
        "pip install dill"
      ],
      "outputs": [
        {
          "output_type": "stream",
          "name": "stdout",
          "text": "Requirement already satisfied: dill in /anaconda/envs/azureml_py38_PT_TF/lib/python3.8/site-packages (0.3.4)\nNote: you may need to restart the kernel to use updated packages.\n"
        }
      ],
      "execution_count": null,
      "metadata": {
        "jupyter": {
          "source_hidden": false,
          "outputs_hidden": false
        },
        "nteract": {
          "transient": {
            "deleting": false
          }
        },
        "gather": {
          "logged": 1648845584805
        },
        "id": "RE9VTxmNun8Y",
        "outputId": "5a836aae-885a-4654-9ed3-d05ff6ca7629"
      }
    },
    {
      "cell_type": "code",
      "source": [
        "from keras import backend as K\n",
        "\n",
        "import dill\n",
        "def binary_focal_loss(gamma=2., alpha=.25):\n",
        "    \"\"\"\n",
        "    Binary form of focal loss.\n",
        "      FL(p_t) = -alpha * (1 - p_t)**gamma * log(p_t)\n",
        "      where p = sigmoid(x), p_t = p or 1 - p depending on if the label is 1 or 0, respectively.\n",
        "    References:\n",
        "        https://arxiv.org/pdf/1708.02002.pdf\n",
        "    Usage:\n",
        "     model.compile(loss=[binary_focal_loss(alpha=.25, gamma=2)], metrics=[\"accuracy\"], optimizer=adam)\n",
        "    \"\"\"\n",
        "\n",
        "    def binary_focal_loss_fixed(y_true, y_pred):\n",
        "        \"\"\"\n",
        "        :param y_true: A tensor of the same shape as `y_pred`\n",
        "        :param y_pred:  A tensor resulting from a sigmoid\n",
        "        :return: Output tensor.\n",
        "        \"\"\"\n",
        "        y_true = tf.cast(y_true, tf.float32)\n",
        "        # Define epsilon so that the back-propagation will not result in NaN for 0 divisor case\n",
        "        epsilon = K.epsilon()\n",
        "        # Add the epsilon to prediction value\n",
        "        # y_pred = y_pred + epsilon\n",
        "        # Clip the prediciton value\n",
        "        y_pred = K.clip(y_pred, epsilon, 1.0 - epsilon)\n",
        "        # Calculate p_t\n",
        "        p_t = tf.where(K.equal(y_true, 1), y_pred, 1 - y_pred)\n",
        "        # Calculate alpha_t\n",
        "        alpha_factor = K.ones_like(y_true) * alpha\n",
        "        alpha_t = tf.where(K.equal(y_true, 1), alpha_factor, 1 - alpha_factor)\n",
        "        # Calculate cross entropy\n",
        "        cross_entropy = -K.log(p_t)\n",
        "        weight = alpha_t * K.pow((1 - p_t), gamma)\n",
        "        # Calculate focal loss\n",
        "        loss = weight * cross_entropy\n",
        "        # Sum the losses in mini_batch\n",
        "        loss = K.mean(K.sum(loss, axis=1))\n",
        "        return loss\n",
        "\n",
        "    return binary_focal_loss_fixed\n",
        "\n",
        "if __name__ == '__main__':\n",
        "\n",
        "    # Test serialization of nested functions\n",
        "    bin_inner = dill.loads(dill.dumps(binary_focal_loss(gamma=2., alpha=.25)))\n",
        "    print(bin_inner)"
      ],
      "outputs": [
        {
          "output_type": "stream",
          "name": "stdout",
          "text": "<function binary_focal_loss_fixed at 0x7fe16ab545e0>\n"
        }
      ],
      "execution_count": null,
      "metadata": {
        "jupyter": {
          "source_hidden": false,
          "outputs_hidden": false
        },
        "nteract": {
          "transient": {
            "deleting": false
          }
        },
        "gather": {
          "logged": 1648845732265
        },
        "id": "sODULDFQun8Y",
        "outputId": "511fa6d1-c22e-487a-ba6d-61b3abfc63f2"
      }
    },
    {
      "cell_type": "code",
      "source": [
        "from keras import backend as K\n",
        "\n",
        "import dill\n",
        "\n",
        "def categorical_focal_loss(alpha, gamma=2.):\n",
        "    \"\"\"\n",
        "    Softmax version of focal loss.\n",
        "    When there is a skew between different categories/labels in your data set, you can try to apply this function as a\n",
        "    loss.\n",
        "           m\n",
        "      FL = ∑  -alpha * (1 - p_o,c)^gamma * y_o,c * log(p_o,c)\n",
        "          c=1\n",
        "      where m = number of classes, c = class and o = observation\n",
        "    Parameters:\n",
        "      alpha -- the same as weighing factor in balanced cross entropy. Alpha is used to specify the weight of different\n",
        "      categories/labels, the size of the array needs to be consistent with the number of classes.\n",
        "      gamma -- focusing parameter for modulating factor (1-p)\n",
        "    Default value:\n",
        "      gamma -- 2.0 as mentioned in the paper\n",
        "      alpha -- 0.25 as mentioned in the paper\n",
        "    References:\n",
        "        Official paper: https://arxiv.org/pdf/1708.02002.pdf\n",
        "        https://www.tensorflow.org/api_docs/python/tf/keras/backend/categorical_crossentropy\n",
        "    Usage:\n",
        "     model.compile(loss=[categorical_focal_loss(alpha=[[.25, .25, .25]], gamma=2)], metrics=[\"accuracy\"], optimizer=adam)\n",
        "    \"\"\"\n",
        "\n",
        "    alpha = np.array(alpha, dtype=np.float32)\n",
        "\n",
        "    def categorical_focal_loss_fixed(y_true, y_pred):\n",
        "        \"\"\"\n",
        "        :param y_true: A tensor of the same shape as `y_pred`\n",
        "        :param y_pred: A tensor resulting from a softmax\n",
        "        :return: Output tensor.\n",
        "        \"\"\"\n",
        "\n",
        "        # Clip the prediction value to prevent NaN's and Inf's\n",
        "        epsilon = K.epsilon()\n",
        "        y_pred = K.clip(y_pred, epsilon, 1. - epsilon)\n",
        "\n",
        "        # Calculate Cross Entropy\n",
        "        cross_entropy = -y_true * K.log(y_pred)\n",
        "\n",
        "        # Calculate Focal Loss\n",
        "        loss = alpha * K.pow(1 - y_pred, gamma) * cross_entropy\n",
        "\n",
        "        # Compute mean loss in mini_batch\n",
        "        return K.mean(K.sum(loss, axis=-1))\n",
        "\n",
        "    return categorical_focal_loss_fixed\n",
        "\n",
        "\n",
        "if __name__ == '__main__':\n",
        "\n",
        "    # Test serialization of nested functions\n",
        "   \n",
        "\n",
        "    cat_inner = dill.loads(dill.dumps(categorical_focal_loss(gamma=2., alpha=.25)))\n",
        "    print(cat_inner)"
      ],
      "outputs": [
        {
          "output_type": "stream",
          "name": "stdout",
          "text": "<function categorical_focal_loss_fixed at 0x7fe16984e3a0>\n"
        }
      ],
      "execution_count": null,
      "metadata": {
        "jupyter": {
          "source_hidden": false,
          "outputs_hidden": false
        },
        "nteract": {
          "transient": {
            "deleting": false
          }
        },
        "gather": {
          "logged": 1648846573958
        },
        "id": "FnhI_N7Cun8Z",
        "outputId": "a2157f89-5a04-4711-d9e9-58c3379b1b6b"
      }
    },
    {
      "cell_type": "code",
      "source": [
        "model.compile(loss=[categorical_focal_loss(alpha=[[.30, .70]], gamma=2)], optimizer='adam', metrics = METRICS)"
      ],
      "outputs": [],
      "execution_count": null,
      "metadata": {
        "jupyter": {
          "source_hidden": false,
          "outputs_hidden": false
        },
        "nteract": {
          "transient": {
            "deleting": false
          }
        },
        "gather": {
          "logged": 1648852020928
        },
        "id": "DsK7h4DSun8a"
      }
    },
    {
      "cell_type": "code",
      "source": [
        "model.fit(trainX, trainY, epochs=50, batch_size=6)"
      ],
      "outputs": [
        {
          "output_type": "stream",
          "name": "stdout",
          "text": "Epoch 1/50\n96/96 [==============================] - 8s 45ms/step - loss: 0.0435 - accuracy: 0.6331 - precision: 0.6266 - recall: 0.9125\b\b\b\b\b\b\b\b\b\b\b\b\b\b\b\b\b\b\b\b\b\b\b\b\b\b\b\b\b\b\b\b\b\b\b\b\b\b\b\b\b\b\b\b\b\b\b\b\b\b\b\b\b\b\b\b\b\b\b\b\b\b\b\b\b\b\b\b\b\b\b\b\b\b\b\b\b\b\b\b\b\b\b\b\b\b\b\b\b\b\b\b\b\b\b\b\b\b\b\b\b\b\b\b\b\b\b\b\b\b\b\b\b\b\b\b\b\b\nEpoch 2/50\n96/96 [==============================] - 4s 45ms/step - loss: 0.0393 - accuracy: 0.9136 - precision: 0.9040 - recall: 0.9217\b\b\b\b\b\b\b\b\b\b\b\b\b\b\b\b\b\b\b\b\b\b\b\b\b\b\b\b\b\b\b\b\b\b\b\b\b\b\b\b\b\b\b\b\b\b\b\b\b\b\b\b\b\b\b\b\b\b\b\b\b\b\b\b\b\b\b\b\b\b\b\b\b\b\b\b\b\b\b\b\b\b\b\b\b\b\b\b\b\b\b\b\b\b\b\b\b\b\b\b\b\b\b\b\b\b\b\b\b\b\b\b\b\b\nEpoch 3/50\n96/96 [==============================] - 4s 44ms/step - loss: 0.0407 - accuracy: 0.9136 - precision: 0.9040 - recall: 0.9217\b\b\b\b\b\b\b\b\b\b\b\b\b\b\b\b\b\b\b\b\b\b\b\b\b\b\b\b\b\b\b\b\b\b\b\b\b\b\b\b\b\b\b\b\b\b\b\b\b\b\b\b\b\b\b\b\b\b\b\b\b\b\b\b\b\b\b\b\b\b\b\b\b\b\b\b\b\b\b\b\b\b\b\b\b\b\b\b\b\b\b\b\b\b\b\b\b\b\b\b\b\b\b\b\b\b\b\b\b\b\b\b\b\b\nEpoch 4/50\n96/96 [==============================] - 4s 44ms/step - loss: 0.0394 - accuracy: 0.9136 - precision: 0.9040 - recall: 0.9217\b\b\b\b\b\b\b\b\b\b\b\b\b\b\b\b\b\b\b\b\b\b\b\b\b\b\b\b\b\b\b\b\b\b\b\b\b\b\b\b\b\b\b\b\b\b\b\b\b\b\b\b\b\b\b\b\b\b\b\b\b\b\b\b\b\b\b\b\b\b\b\b\b\b\b\b\b\b\b\b\b\b\b\b\b\b\b\b\b\b\b\b\b\b\b\b\b\b\b\b\b\b\b\b\b\b\b\b\b\b\b\b\b\b\nEpoch 5/50\n96/96 [==============================] - 4s 44ms/step - loss: 0.0396 - accuracy: 0.9136 - precision: 0.9040 - recall: 0.9217\b\b\b\b\b\b\b\b\b\b\b\b\b\b\b\b\b\b\b\b\b\b\b\b\b\b\b\b\b\b\b\b\b\b\b\b\b\b\b\b\b\b\b\b\b\b\b\b\b\b\b\b\b\b\b\b\b\b\b\b\b\b\b\b\b\b\b\b\b\b\b\b\b\b\b\b\b\b\b\b\b\b\b\b\b\b\b\b\b\b\b\b\b\b\b\b\b\b\b\b\b\b\b\b\b\b\b\b\b\b\b\b\b\b\nEpoch 6/50\n96/96 [==============================] - 4s 44ms/step - loss: 0.0385 - accuracy: 0.9136 - precision: 0.9040 - recall: 0.9217\b\b\b\b\b\b\b\b\b\b\b\b\b\b\b\b\b\b\b\b\b\b\b\b\b\b\b\b\b\b\b\b\b\b\b\b\b\b\b\b\b\b\b\b\b\b\b\b\b\b\b\b\b\b\b\b\b\b\b\b\b\b\b\b\b\b\b\b\b\b\b\b\b\b\b\b\b\b\b\b\b\b\b\b\b\b\b\b\b\b\b\b\b\b\b\b\b\b\b\b\b\b\b\b\b\b\b\b\b\b\b\b\b\b\nEpoch 7/50\n96/96 [==============================] - 4s 43ms/step - loss: 0.0406 - accuracy: 0.9136 - precision: 0.9040 - recall: 0.9217\b\b\b\b\b\b\b\b\b\b\b\b\b\b\b\b\b\b\b\b\b\b\b\b\b\b\b\b\b\b\b\b\b\b\b\b\b\b\b\b\b\b\b\b\b\b\b\b\b\b\b\b\b\b\b\b\b\b\b\b\b\b\b\b\b\b\b\b\b\b\b\b\b\b\b\b\b\b\b\b\b\b\b\b\b\b\b\b\b\b\b\b\b\b\b\b\b\b\b\b\b\b\b\b\b\b\b\b\b\b\b\b\b\b\nEpoch 8/50\n96/96 [==============================] - 4s 43ms/step - loss: 0.0398 - accuracy: 0.9136 - precision: 0.9040 - recall: 0.9217\b\b\b\b\b\b\b\b\b\b\b\b\b\b\b\b\b\b\b\b\b\b\b\b\b\b\b\b\b\b\b\b\b\b\b\b\b\b\b\b\b\b\b\b\b\b\b\b\b\b\b\b\b\b\b\b\b\b\b\b\b\b\b\b\b\b\b\b\b\b\b\b\b\b\b\b\b\b\b\b\b\b\b\b\b\b\b\b\b\b\b\b\b\b\b\b\b\b\b\b\b\b\b\b\b\b\b\b\b\b\b\b\b\b\nEpoch 9/50\n96/96 [==============================] - 4s 44ms/step - loss: 0.0383 - accuracy: 0.9136 - precision: 0.9040 - recall: 0.9217\b\b\b\b\b\b\b\b\b\b\b\b\b\b\b\b\b\b\b\b\b\b\b\b\b\b\b\b\b\b\b\b\b\b\b\b\b\b\b\b\b\b\b\b\b\b\b\b\b\b\b\b\b\b\b\b\b\b\b\b\b\b\b\b\b\b\b\b\b\b\b\b\b\b\b\b\b\b\b\b\b\b\b\b\b\b\b\b\b\b\b\b\b\b\b\b\b\b\b\b\b\b\b\b\b\b\b\b\b\b\b\b\b\b\nEpoch 10/50\n96/96 [==============================] - 4s 43ms/step - loss: 0.0382 - accuracy: 0.9136 - precision: 0.9040 - recall: 0.9217\b\b\b\b\b\b\b\b\b\b\b\b\b\b\b\b\b\b\b\b\b\b\b\b\b\b\b\b\b\b\b\b\b\b\b\b\b\b\b\b\b\b\b\b\b\b\b\b\b\b\b\b\b\b\b\b\b\b\b\b\b\b\b\b\b\b\b\b\b\b\b\b\b\b\b\b\b\b\b\b\b\b\b\b\b\b\b\b\b\b\b\b\b\b\b\b\b\b\b\b\b\b\b\b\b\b\b\b\b\b\b\b\b\b\nEpoch 11/50\n96/96 [==============================] - 4s 44ms/step - loss: 0.0385 - accuracy: 0.9136 - precision: 0.9040 - recall: 0.9217\b\b\b\b\b\b\b\b\b\b\b\b\b\b\b\b\b\b\b\b\b\b\b\b\b\b\b\b\b\b\b\b\b\b\b\b\b\b\b\b\b\b\b\b\b\b\b\b\b\b\b\b\b\b\b\b\b\b\b\b\b\b\b\b\b\b\b\b\b\b\b\b\b\b\b\b\b\b\b\b\b\b\b\b\b\b\b\b\b\b\b\b\b\b\b\b\b\b\b\b\b\b\b\b\b\b\b\b\b\b\b\b\b\b\nEpoch 12/50\n96/96 [==============================] - 4s 43ms/step - loss: 0.0391 - accuracy: 0.9136 - precision: 0.9040 - recall: 0.9217\b\b\b\b\b\b\b\b\b\b\b\b\b\b\b\b\b\b\b\b\b\b\b\b\b\b\b\b\b\b\b\b\b\b\b\b\b\b\b\b\b\b\b\b\b\b\b\b\b\b\b\b\b\b\b\b\b\b\b\b\b\b\b\b\b\b\b\b\b\b\b\b\b\b\b\b\b\b\b\b\b\b\b\b\b\b\b\b\b\b\b\b\b\b\b\b\b\b\b\b\b\b\b\b\b\b\b\b\b\b\b\b\b\b\nEpoch 13/50\n96/96 [==============================] - 4s 44ms/step - loss: 0.0384 - accuracy: 0.9136 - precision: 0.9040 - recall: 0.9217\b\b\b\b\b\b\b\b\b\b\b\b\b\b\b\b\b\b\b\b\b\b\b\b\b\b\b\b\b\b\b\b\b\b\b\b\b\b\b\b\b\b\b\b\b\b\b\b\b\b\b\b\b\b\b\b\b\b\b\b\b\b\b\b\b\b\b\b\b\b\b\b\b\b\b\b\b\b\b\b\b\b\b\b\b\b\b\b\b\b\b\b\b\b\b\b\b\b\b\b\b\b\b\b\b\b\b\b\b\b\b\b\b\b\nEpoch 14/50\n96/96 [==============================] - 4s 43ms/step - loss: 0.0390 - accuracy: 0.9136 - precision: 0.9040 - recall: 0.9217\b\b\b\b\b\b\b\b\b\b\b\b\b\b\b\b\b\b\b\b\b\b\b\b\b\b\b\b\b\b\b\b\b\b\b\b\b\b\b\b\b\b\b\b\b\b\b\b\b\b\b\b\b\b\b\b\b\b\b\b\b\b\b\b\b\b\b\b\b\b\b\b\b\b\b\b\b\b\b\b\b\b\b\b\b\b\b\b\b\b\b\b\b\b\b\b\b\b\b\b\b\b\b\b\b\b\b\b\b\b\b\b\b\b\nEpoch 15/50\n96/96 [==============================] - 4s 43ms/step - loss: 0.0384 - accuracy: 0.9136 - precision: 0.9040 - recall: 0.9217\b\b\b\b\b\b\b\b\b\b\b\b\b\b\b\b\b\b\b\b\b\b\b\b\b\b\b\b\b\b\b\b\b\b\b\b\b\b\b\b\b\b\b\b\b\b\b\b\b\b\b\b\b\b\b\b\b\b\b\b\b\b\b\b\b\b\b\b\b\b\b\b\b\b\b\b\b\b\b\b\b\b\b\b\b\b\b\b\b\b\b\b\b\b\b\b\b\b\b\b\b\b\b\b\b\b\b\b\b\b\b\b\b\b\nEpoch 16/50\n96/96 [==============================] - 4s 43ms/step - loss: 0.0386 - accuracy: 0.9136 - precision: 0.9040 - recall: 0.9217\b\b\b\b\b\b\b\b\b\b\b\b\b\b\b\b\b\b\b\b\b\b\b\b\b\b\b\b\b\b\b\b\b\b\b\b\b\b\b\b\b\b\b\b\b\b\b\b\b\b\b\b\b\b\b\b\b\b\b\b\b\b\b\b\b\b\b\b\b\b\b\b\b\b\b\b\b\b\b\b\b\b\b\b\b\b\b\b\b\b\b\b\b\b\b\b\b\b\b\b\b\b\b\b\b\b\b\b\b\b\b\b\b\b\nEpoch 17/50\n96/96 [==============================] - 4s 44ms/step - loss: 0.0389 - accuracy: 0.9136 - precision: 0.9040 - recall: 0.9217\b\b\b\b\b\b\b\b\b\b\b\b\b\b\b\b\b\b\b\b\b\b\b\b\b\b\b\b\b\b\b\b\b\b\b\b\b\b\b\b\b\b\b\b\b\b\b\b\b\b\b\b\b\b\b\b\b\b\b\b\b\b\b\b\b\b\b\b\b\b\b\b\b\b\b\b\b\b\b\b\b\b\b\b\b\b\b\b\b\b\b\b\b\b\b\b\b\b\b\b\b\b\b\b\b\b\b\b\b\b\b\b\b\b\nEpoch 18/50\n96/96 [==============================] - 4s 44ms/step - loss: 0.0387 - accuracy: 0.9136 - precision: 0.9040 - recall: 0.9217\b\b\b\b\b\b\b\b\b\b\b\b\b\b\b\b\b\b\b\b\b\b\b\b\b\b\b\b\b\b\b\b\b\b\b\b\b\b\b\b\b\b\b\b\b\b\b\b\b\b\b\b\b\b\b\b\b\b\b\b\b\b\b\b\b\b\b\b\b\b\b\b\b\b\b\b\b\b\b\b\b\b\b\b\b\b\b\b\b\b\b\b\b\b\b\b\b\b\b\b\b\b\b\b\b\b\b\b\b\b\b\b\b\b\nEpoch 19/50\n96/96 [==============================] - 4s 44ms/step - loss: 0.0384 - accuracy: 0.9136 - precision: 0.9040 - recall: 0.9217\b\b\b\b\b\b\b\b\b\b\b\b\b\b\b\b\b\b\b\b\b\b\b\b\b\b\b\b\b\b\b\b\b\b\b\b\b\b\b\b\b\b\b\b\b\b\b\b\b\b\b\b\b\b\b\b\b\b\b\b\b\b\b\b\b\b\b\b\b\b\b\b\b\b\b\b\b\b\b\b\b\b\b\b\b\b\b\b\b\b\b\b\b\b\b\b\b\b\b\b\b\b\b\b\b\b\b\b\b\b\b\b\b\b\nEpoch 20/50\n96/96 [==============================] - 4s 44ms/step - loss: 0.0390 - accuracy: 0.9136 - precision: 0.9040 - recall: 0.9217\b\b\b\b\b\b\b\b\b\b\b\b\b\b\b\b\b\b\b\b\b\b\b\b\b\b\b\b\b\b\b\b\b\b\b\b\b\b\b\b\b\b\b\b\b\b\b\b\b\b\b\b\b\b\b\b\b\b\b\b\b\b\b\b\b\b\b\b\b\b\b\b\b\b\b\b\b\b\b\b\b\b\b\b\b\b\b\b\b\b\b\b\b\b\b\b\b\b\b\b\b\b\b\b\b\b\b\b\b\b\b\b\b\b\nEpoch 21/50\n96/96 [==============================] - 4s 44ms/step - loss: 0.0388 - accuracy: 0.9136 - precision: 0.9040 - recall: 0.9217\b\b\b\b\b\b\b\b\b\b\b\b\b\b\b\b\b\b\b\b\b\b\b\b\b\b\b\b\b\b\b\b\b\b\b\b\b\b\b\b\b\b\b\b\b\b\b\b\b\b\b\b\b\b\b\b\b\b\b\b\b\b\b\b\b\b\b\b\b\b\b\b\b\b\b\b\b\b\b\b\b\b\b\b\b\b\b\b\b\b\b\b\b\b\b\b\b\b\b\b\b\b\b\b\b\b\b\b\b\b\b\b\b\b\nEpoch 22/50\n96/96 [==============================] - 4s 44ms/step - loss: 0.0381 - accuracy: 0.9136 - precision: 0.9040 - recall: 0.9217\b\b\b\b\b\b\b\b\b\b\b\b\b\b\b\b\b\b\b\b\b\b\b\b\b\b\b\b\b\b\b\b\b\b\b\b\b\b\b\b\b\b\b\b\b\b\b\b\b\b\b\b\b\b\b\b\b\b\b\b\b\b\b\b\b\b\b\b\b\b\b\b\b\b\b\b\b\b\b\b\b\b\b\b\b\b\b\b\b\b\b\b\b\b\b\b\b\b\b\b\b\b\b\b\b\b\b\b\b\b\b\b\b\b\nEpoch 23/50\n96/96 [==============================] - 4s 45ms/step - loss: 0.0386 - accuracy: 0.9136 - precision: 0.9040 - recall: 0.9217\b\b\b\b\b\b\b\b\b\b\b\b\b\b\b\b\b\b\b\b\b\b\b\b\b\b\b\b\b\b\b\b\b\b\b\b\b\b\b\b\b\b\b\b\b\b\b\b\b\b\b\b\b\b\b\b\b\b\b\b\b\b\b\b\b\b\b\b\b\b\b\b\b\b\b\b\b\b\b\b\b\b\b\b\b\b\b\b\b\b\b\b\b\b\b\b\b\b\b\b\b\b\b\b\b\b\b\b\b\b\b\b\b\b\nEpoch 24/50\n96/96 [==============================] - 4s 44ms/step - loss: 0.0382 - accuracy: 0.9136 - precision: 0.9040 - recall: 0.9217\b\b\b\b\b\b\b\b\b\b\b\b\b\b\b\b\b\b\b\b\b\b\b\b\b\b\b\b\b\b\b\b\b\b\b\b\b\b\b\b\b\b\b\b\b\b\b\b\b\b\b\b\b\b\b\b\b\b\b\b\b\b\b\b\b\b\b\b\b\b\b\b\b\b\b\b\b\b\b\b\b\b\b\b\b\b\b\b\b\b\b\b\b\b\b\b\b\b\b\b\b\b\b\b\b\b\b\b\b\b\b\b\b\b\nEpoch 25/50\n96/96 [==============================] - 4s 43ms/step - loss: 0.0382 - accuracy: 0.9136 - precision: 0.9040 - recall: 0.9217\b\b\b\b\b\b\b\b\b\b\b\b\b\b\b\b\b\b\b\b\b\b\b\b\b\b\b\b\b\b\b\b\b\b\b\b\b\b\b\b\b\b\b\b\b\b\b\b\b\b\b\b\b\b\b\b\b\b\b\b\b\b\b\b\b\b\b\b\b\b\b\b\b\b\b\b\b\b\b\b\b\b\b\b\b\b\b\b\b\b\b\b\b\b\b\b\b\b\b\b\b\b\b\b\b\b\b\b\b\b\b\b\b\b\nEpoch 26/50\n96/96 [==============================] - 4s 44ms/step - loss: 0.0382 - accuracy: 0.9136 - precision: 0.9040 - recall: 0.9217\b\b\b\b\b\b\b\b\b\b\b\b\b\b\b\b\b\b\b\b\b\b\b\b\b\b\b\b\b\b\b\b\b\b\b\b\b\b\b\b\b\b\b\b\b\b\b\b\b\b\b\b\b\b\b\b\b\b\b\b\b\b\b\b\b\b\b\b\b\b\b\b\b\b\b\b\b\b\b\b\b\b\b\b\b\b\b\b\b\b\b\b\b\b\b\b\b\b\b\b\b\b\b\b\b\b\b\b\b\b\b\b\b\b\nEpoch 27/50\n96/96 [==============================] - 4s 44ms/step - loss: 0.0379 - accuracy: 0.9136 - precision: 0.9040 - recall: 0.9217\b\b\b\b\b\b\b\b\b\b\b\b\b\b\b\b\b\b\b\b\b\b\b\b\b\b\b\b\b\b\b\b\b\b\b\b\b\b\b\b\b\b\b\b\b\b\b\b\b\b\b\b\b\b\b\b\b\b\b\b\b\b\b\b\b\b\b\b\b\b\b\b\b\b\b\b\b\b\b\b\b\b\b\b\b\b\b\b\b\b\b\b\b\b\b\b\b\b\b\b\b\b\b\b\b\b\b\b\b\b\b\b\b\b\nEpoch 28/50\n96/96 [==============================] - 4s 44ms/step - loss: 0.0380 - accuracy: 0.9136 - precision: 0.9040 - recall: 0.9217\b\b\b\b\b\b\b\b\b\b\b\b\b\b\b\b\b\b\b\b\b\b\b\b\b\b\b\b\b\b\b\b\b\b\b\b\b\b\b\b\b\b\b\b\b\b\b\b\b\b\b\b\b\b\b\b\b\b\b\b\b\b\b\b\b\b\b\b\b\b\b\b\b\b\b\b\b\b\b\b\b\b\b\b\b\b\b\b\b\b\b\b\b\b\b\b\b\b\b\b\b\b\b\b\b\b\b\b\b\b\b\b\b\b\nEpoch 29/50\n96/96 [==============================] - 4s 45ms/step - loss: 0.0386 - accuracy: 0.9136 - precision: 0.9040 - recall: 0.9217\b\b\b\b\b\b\b\b\b\b\b\b\b\b\b\b\b\b\b\b\b\b\b\b\b\b\b\b\b\b\b\b\b\b\b\b\b\b\b\b\b\b\b\b\b\b\b\b\b\b\b\b\b\b\b\b\b\b\b\b\b\b\b\b\b\b\b\b\b\b\b\b\b\b\b\b\b\b\b\b\b\b\b\b\b\b\b\b\b\b\b\b\b\b\b\b\b\b\b\b\b\b\b\b\b\b\b\b\b\b\b\b\b\b\nEpoch 30/50\n96/96 [==============================] - 5s 54ms/step - loss: 0.0377 - accuracy: 0.9136 - precision: 0.9040 - recall: 0.9217\b\b\b\b\b\b\b\b\b\b\b\b\b\b\b\b\b\b\b\b\b\b\b\b\b\b\b\b\b\b\b\b\b\b\b\b\b\b\b\b\b\b\b\b\b\b\b\b\b\b\b\b\b\b\b\b\b\b\b\b\b\b\b\b\b\b\b\b\b\b\b\b\b\b\b\b\b\b\b\b\b\b\b\b\b\b\b\b\b\b\b\b\b\b\b\b\b\b\b\b\b\b\b\b\b\b\b\b\b\b\b\b\b\b\nEpoch 31/50\n96/96 [==============================] - 5s 55ms/step - loss: 0.0377 - accuracy: 0.9136 - precision: 0.9040 - recall: 0.9217\b\b\b\b\b\b\b\b\b\b\b\b\b\b\b\b\b\b\b\b\b\b\b\b\b\b\b\b\b\b\b\b\b\b\b\b\b\b\b\b\b\b\b\b\b\b\b\b\b\b\b\b\b\b\b\b\b\b\b\b\b\b\b\b\b\b\b\b\b\b\b\b\b\b\b\b\b\b\b\b\b\b\b\b\b\b\b\b\b\b\b\b\b\b\b\b\b\b\b\b\b\b\b\b\b\b\b\b\b\b\b\b\b\b\nEpoch 32/50\n96/96 [==============================] - 5s 56ms/step - loss: 0.0383 - accuracy: 0.9136 - precision: 0.9040 - recall: 0.9217\b\b\b\b\b\b\b\b\b\b\b\b\b\b\b\b\b\b\b\b\b\b\b\b\b\b\b\b\b\b\b\b\b\b\b\b\b\b\b\b\b\b\b\b\b\b\b\b\b\b\b\b\b\b\b\b\b\b\b\b\b\b\b\b\b\b\b\b\b\b\b\b\b\b\b\b\b\b\b\b\b\b\b\b\b\b\b\b\b\b\b\b\b\b\b\b\b\b\b\b\b\b\b\b\b\b\b\b\b\b\b\b\b\b\nEpoch 33/50\n96/96 [==============================] - 5s 55ms/step - loss: 0.0383 - accuracy: 0.9136 - precision: 0.9040 - recall: 0.9217\b\b\b\b\b\b\b\b\b\b\b\b\b\b\b\b\b\b\b\b\b\b\b\b\b\b\b\b\b\b\b\b\b\b\b\b\b\b\b\b\b\b\b\b\b\b\b\b\b\b\b\b\b\b\b\b\b\b\b\b\b\b\b\b\b\b\b\b\b\b\b\b\b\b\b\b\b\b\b\b\b\b\b\b\b\b\b\b\b\b\b\b\b\b\b\b\b\b\b\b\b\b\b\b\b\b\b\b\b\b\b\b\b\b\nEpoch 34/50\n96/96 [==============================] - 5s 55ms/step - loss: 0.0380 - accuracy: 0.9136 - precision: 0.9040 - recall: 0.9217\b\b\b\b\b\b\b\b\b\b\b\b\b\b\b\b\b\b\b\b\b\b\b\b\b\b\b\b\b\b\b\b\b\b\b\b\b\b\b\b\b\b\b\b\b\b\b\b\b\b\b\b\b\b\b\b\b\b\b\b\b\b\b\b\b\b\b\b\b\b\b\b\b\b\b\b\b\b\b\b\b\b\b\b\b\b\b\b\b\b\b\b\b\b\b\b\b\b\b\b\b\b\b\b\b\b\b\b\b\b\b\b\b\b\nEpoch 35/50\n96/96 [==============================] - 5s 55ms/step - loss: 0.0381 - accuracy: 0.9136 - precision: 0.9040 - recall: 0.9217\b\b\b\b\b\b\b\b\b\b\b\b\b\b\b\b\b\b\b\b\b\b\b\b\b\b\b\b\b\b\b\b\b\b\b\b\b\b\b\b\b\b\b\b\b\b\b\b\b\b\b\b\b\b\b\b\b\b\b\b\b\b\b\b\b\b\b\b\b\b\b\b\b\b\b\b\b\b\b\b\b\b\b\b\b\b\b\b\b\b\b\b\b\b\b\b\b\b\b\b\b\b\b\b\b\b\b\b\b\b\b\b\b\b\nEpoch 36/50\n96/96 [==============================] - 5s 54ms/step - loss: 0.0382 - accuracy: 0.9136 - precision: 0.9040 - recall: 0.9217\b\b\b\b\b\b\b\b\b\b\b\b\b\b\b\b\b\b\b\b\b\b\b\b\b\b\b\b\b\b\b\b\b\b\b\b\b\b\b\b\b\b\b\b\b\b\b\b\b\b\b\b\b\b\b\b\b\b\b\b\b\b\b\b\b\b\b\b\b\b\b\b\b\b\b\b\b\b\b\b\b\b\b\b\b\b\b\b\b\b\b\b\b\b\b\b\b\b\b\b\b\b\b\b\b\b\b\b\b\b\b\b\b\b\nEpoch 37/50\n96/96 [==============================] - 5s 54ms/step - loss: 0.0376 - accuracy: 0.9136 - precision: 0.9040 - recall: 0.9217\b\b\b\b\b\b\b\b\b\b\b\b\b\b\b\b\b\b\b\b\b\b\b\b\b\b\b\b\b\b\b\b\b\b\b\b\b\b\b\b\b\b\b\b\b\b\b\b\b\b\b\b\b\b\b\b\b\b\b\b\b\b\b\b\b\b\b\b\b\b\b\b\b\b\b\b\b\b\b\b\b\b\b\b\b\b\b\b\b\b\b\b\b\b\b\b\b\b\b\b\b\b\b\b\b\b\b\b\b\b\b\b\b\b\nEpoch 38/50\n96/96 [==============================] - 5s 55ms/step - loss: 0.0390 - accuracy: 0.9136 - precision: 0.9040 - recall: 0.9217\b\b\b\b\b\b\b\b\b\b\b\b\b\b\b\b\b\b\b\b\b\b\b\b\b\b\b\b\b\b\b\b\b\b\b\b\b\b\b\b\b\b\b\b\b\b\b\b\b\b\b\b\b\b\b\b\b\b\b\b\b\b\b\b\b\b\b\b\b\b\b\b\b\b\b\b\b\b\b\b\b\b\b\b\b\b\b\b\b\b\b\b\b\b\b\b\b\b\b\b\b\b\b\b\b\b\b\b\b\b\b\b\b\b\nEpoch 39/50\n96/96 [==============================] - 5s 55ms/step - loss: 0.0377 - accuracy: 0.9136 - precision: 0.9040 - recall: 0.9217\b\b\b\b\b\b\b\b\b\b\b\b\b\b\b\b\b\b\b\b\b\b\b\b\b\b\b\b\b\b\b\b\b\b\b\b\b\b\b\b\b\b\b\b\b\b\b\b\b\b\b\b\b\b\b\b\b\b\b\b\b\b\b\b\b\b\b\b\b\b\b\b\b\b\b\b\b\b\b\b\b\b\b\b\b\b\b\b\b\b\b\b\b\b\b\b\b\b\b\b\b\b\b\b\b\b\b\b\b\b\b\b\b\b\nEpoch 40/50\n96/96 [==============================] - 5s 56ms/step - loss: 0.0378 - accuracy: 0.9136 - precision: 0.9040 - recall: 0.9217\b\b\b\b\b\b\b\b\b\b\b\b\b\b\b\b\b\b\b\b\b\b\b\b\b\b\b\b\b\b\b\b\b\b\b\b\b\b\b\b\b\b\b\b\b\b\b\b\b\b\b\b\b\b\b\b\b\b\b\b\b\b\b\b\b\b\b\b\b\b\b\b\b\b\b\b\b\b\b\b\b\b\b\b\b\b\b\b\b\b\b\b\b\b\b\b\b\b\b\b\b\b\b\b\b\b\b\b\b\b\b\b\b\b\nEpoch 41/50\n96/96 [==============================] - 5s 55ms/step - loss: 0.0378 - accuracy: 0.9136 - precision: 0.9040 - recall: 0.9217\b\b\b\b\b\b\b\b\b\b\b\b\b\b\b\b\b\b\b\b\b\b\b\b\b\b\b\b\b\b\b\b\b\b\b\b\b\b\b\b\b\b\b\b\b\b\b\b\b\b\b\b\b\b\b\b\b\b\b\b\b\b\b\b\b\b\b\b\b\b\b\b\b\b\b\b\b\b\b\b\b\b\b\b\b\b\b\b\b\b\b\b\b\b\b\b\b\b\b\b\b\b\b\b\b\b\b\b\b\b\b\b\b\b\nEpoch 42/50\n96/96 [==============================] - 5s 55ms/step - loss: 0.0380 - accuracy: 0.9136 - precision: 0.9040 - recall: 0.9217\b\b\b\b\b\b\b\b\b\b\b\b\b\b\b\b\b\b\b\b\b\b\b\b\b\b\b\b\b\b\b\b\b\b\b\b\b\b\b\b\b\b\b\b\b\b\b\b\b\b\b\b\b\b\b\b\b\b\b\b\b\b\b\b\b\b\b\b\b\b\b\b\b\b\b\b\b\b\b\b\b\b\b\b\b\b\b\b\b\b\b\b\b\b\b\b\b\b\b\b\b\b\b\b\b\b\b\b\b\b\b\b\b\b\nEpoch 43/50\n96/96 [==============================] - 5s 54ms/step - loss: 0.0383 - accuracy: 0.9136 - precision: 0.9040 - recall: 0.9217\b\b\b\b\b\b\b\b\b\b\b\b\b\b\b\b\b\b\b\b\b\b\b\b\b\b\b\b\b\b\b\b\b\b\b\b\b\b\b\b\b\b\b\b\b\b\b\b\b\b\b\b\b\b\b\b\b\b\b\b\b\b\b\b\b\b\b\b\b\b\b\b\b\b\b\b\b\b\b\b\b\b\b\b\b\b\b\b\b\b\b\b\b\b\b\b\b\b\b\b\b\b\b\b\b\b\b\b\b\b\b\b\b\b\nEpoch 44/50\n96/96 [==============================] - 5s 56ms/step - loss: 0.0376 - accuracy: 0.9136 - precision: 0.9040 - recall: 0.9217\b\b\b\b\b\b\b\b\b\b\b\b\b\b\b\b\b\b\b\b\b\b\b\b\b\b\b\b\b\b\b\b\b\b\b\b\b\b\b\b\b\b\b\b\b\b\b\b\b\b\b\b\b\b\b\b\b\b\b\b\b\b\b\b\b\b\b\b\b\b\b\b\b\b\b\b\b\b\b\b\b\b\b\b\b\b\b\b\b\b\b\b\b\b\b\b\b\b\b\b\b\b\b\b\b\b\b\b\b\b\b\b\b\b\nEpoch 45/50\n96/96 [==============================] - 5s 55ms/step - loss: 0.0380 - accuracy: 0.9136 - precision: 0.9040 - recall: 0.9217\b\b\b\b\b\b\b\b\b\b\b\b\b\b\b\b\b\b\b\b\b\b\b\b\b\b\b\b\b\b\b\b\b\b\b\b\b\b\b\b\b\b\b\b\b\b\b\b\b\b\b\b\b\b\b\b\b\b\b\b\b\b\b\b\b\b\b\b\b\b\b\b\b\b\b\b\b\b\b\b\b\b\b\b\b\b\b\b\b\b\b\b\b\b\b\b\b\b\b\b\b\b\b\b\b\b\b\b\b\b\b\b\b\b\nEpoch 46/50\n96/96 [==============================] - 5s 54ms/step - loss: 0.0377 - accuracy: 0.9136 - precision: 0.9040 - recall: 0.9217\b\b\b\b\b\b\b\b\b\b\b\b\b\b\b\b\b\b\b\b\b\b\b\b\b\b\b\b\b\b\b\b\b\b\b\b\b\b\b\b\b\b\b\b\b\b\b\b\b\b\b\b\b\b\b\b\b\b\b\b\b\b\b\b\b\b\b\b\b\b\b\b\b\b\b\b\b\b\b\b\b\b\b\b\b\b\b\b\b\b\b\b\b\b\b\b\b\b\b\b\b\b\b\b\b\b\b\b\b\b\b\b\b\b\nEpoch 47/50\n96/96 [==============================] - 5s 57ms/step - loss: 0.0376 - accuracy: 0.9136 - precision: 0.9040 - recall: 0.9217\b\b\b\b\b\b\b\b\b\b\b\b\b\b\b\b\b\b\b\b\b\b\b\b\b\b\b\b\b\b\b\b\b\b\b\b\b\b\b\b\b\b\b\b\b\b\b\b\b\b\b\b\b\b\b\b\b\b\b\b\b\b\b\b\b\b\b\b\b\b\b\b\b\b\b\b\b\b\b\b\b\b\b\b\b\b\b\b\b\b\b\b\b\b\b\b\b\b\b\b\b\b\b\b\b\b\b\b\b\b\b\b\b\b\nEpoch 48/50\n96/96 [==============================] - 5s 56ms/step - loss: 0.0383 - accuracy: 0.9136 - precision: 0.9040 - recall: 0.9217\b\b\b\b\b\b\b\b\b\b\b\b\b\b\b\b\b\b\b\b\b\b\b\b\b\b\b\b\b\b\b\b\b\b\b\b\b\b\b\b\b\b\b\b\b\b\b\b\b\b\b\b\b\b\b\b\b\b\b\b\b\b\b\b\b\b\b\b\b\b\b\b\b\b\b\b\b\b\b\b\b\b\b\b\b\b\b\b\b\b\b\b\b\b\b\b\b\b\b\b\b\b\b\b\b\b\b\b\b\b\b\b\b\b\nEpoch 49/50\n96/96 [==============================] - 5s 56ms/step - loss: 0.0379 - accuracy: 0.9136 - precision: 0.9040 - recall: 0.9217\b\b\b\b\b\b\b\b\b\b\b\b\b\b\b\b\b\b\b\b\b\b\b\b\b\b\b\b\b\b\b\b\b\b\b\b\b\b\b\b\b\b\b\b\b\b\b\b\b\b\b\b\b\b\b\b\b\b\b\b\b\b\b\b\b\b\b\b\b\b\b\b\b\b\b\b\b\b\b\b\b\b\b\b\b\b\b\b\b\b\b\b\b\b\b\b\b\b\b\b\b\b\b\b\b\b\b\b\b\b\b\b\b\b\nEpoch 50/50\n96/96 [==============================] - 5s 56ms/step - loss: 0.0374 - accuracy: 0.9136 - precision: 0.9040 - recall: 0.9217\b\b\b\b\b\b\b\b\b\b\b\b\b\b\b\b\b\b\b\b\b\b\b\b\b\b\b\b\b\b\b\b\b\b\b\b\b\b\b\b\b\b\b\b\b\b\b\b\b\b\b\b\b\b\b\b\b\b\b\b\b\b\b\b\b\b\b\b\b\b\b\b\b\b\b\b\b\b\b\b\b\b\b\b\b\b\b\b\b\b\b\b\b\b\b\b\b\b\b\b\b\b\b\b\b\b\b\b\b\b\b\b\b\b\n"
        },
        {
          "output_type": "execute_result",
          "execution_count": 166,
          "data": {
            "text/plain": "<keras.callbacks.History at 0x7fe145934fd0>"
          },
          "metadata": {}
        }
      ],
      "execution_count": null,
      "metadata": {
        "jupyter": {
          "source_hidden": false,
          "outputs_hidden": false
        },
        "nteract": {
          "transient": {
            "deleting": false
          }
        },
        "gather": {
          "logged": 1648852265419
        },
        "id": "AWcF_oZzun8a",
        "outputId": "34f5758b-2dc9-4645-f825-df421d550855"
      }
    },
    {
      "cell_type": "code",
      "source": [
        "# make predictions\n",
        "trainPredict = model.predict(trainX)\n",
        "testPredict = model.predict(testX)"
      ],
      "outputs": [],
      "execution_count": null,
      "metadata": {
        "jupyter": {
          "source_hidden": false,
          "outputs_hidden": false
        },
        "nteract": {
          "transient": {
            "deleting": false
          }
        },
        "gather": {
          "logged": 1648852282109
        },
        "id": "cB7x2yCLun8b"
      }
    },
    {
      "cell_type": "code",
      "source": [
        "trainPredict.shape"
      ],
      "outputs": [
        {
          "output_type": "execute_result",
          "execution_count": 168,
          "data": {
            "text/plain": "(573, 2)"
          },
          "metadata": {}
        }
      ],
      "execution_count": null,
      "metadata": {
        "jupyter": {
          "source_hidden": false,
          "outputs_hidden": false
        },
        "nteract": {
          "transient": {
            "deleting": false
          }
        },
        "gather": {
          "logged": 1648852284116
        },
        "id": "KlDHlEMWun8b",
        "outputId": "81d48f96-c44e-45ff-a400-8e21ce314ea1"
      }
    },
    {
      "cell_type": "code",
      "source": [
        "trainPredict"
      ],
      "outputs": [
        {
          "output_type": "execute_result",
          "execution_count": 169,
          "data": {
            "text/plain": "array([[0.67898285, 0.32101712],\n       [0.6683615 , 0.33163843],\n       [0.65672827, 0.3432718 ],\n       ...,\n       [0.6426067 , 0.35739332],\n       [0.64465785, 0.3553421 ],\n       [0.64703935, 0.3529606 ]], dtype=float32)"
          },
          "metadata": {}
        }
      ],
      "execution_count": null,
      "metadata": {
        "jupyter": {
          "source_hidden": false,
          "outputs_hidden": false
        },
        "nteract": {
          "transient": {
            "deleting": false
          }
        },
        "gather": {
          "logged": 1648852288112
        },
        "id": "uzCstRPDun8b",
        "outputId": "31a746b3-9197-45cc-d7e4-606faa3e45a7"
      }
    },
    {
      "cell_type": "code",
      "source": [
        "np.argmax(trainPredict, axis=1)"
      ],
      "outputs": [
        {
          "output_type": "execute_result",
          "execution_count": 170,
          "data": {
            "text/plain": "array([0, 0, 0, 0, 0, 0, 0, 0, 0, 0, 0, 0, 0, 0, 0, 0, 0, 0, 0, 0, 0, 0,\n       0, 0, 0, 0, 0, 0, 0, 0, 0, 0, 0, 0, 0, 0, 0, 0, 0, 0, 0, 0, 0, 0,\n       0, 0, 0, 0, 0, 0, 0, 0, 0, 0, 0, 0, 0, 0, 0, 0, 0, 0, 0, 0, 0, 0,\n       0, 0, 0, 0, 0, 0, 0, 0, 0, 0, 0, 0, 0, 0, 0, 0, 0, 0, 0, 0, 0, 0,\n       0, 0, 0, 0, 0, 0, 0, 0, 0, 0, 0, 0, 0, 0, 0, 0, 0, 0, 0, 0, 0, 0,\n       0, 0, 0, 0, 0, 0, 0, 0, 0, 0, 0, 0, 0, 0, 0, 0, 0, 0, 0, 0, 0, 0,\n       0, 0, 0, 0, 0, 0, 0, 0, 0, 0, 0, 0, 0, 0, 0, 0, 0, 0, 0, 0, 0, 0,\n       0, 0, 0, 0, 0, 0, 0, 0, 0, 0, 0, 0, 0, 0, 0, 0, 0, 0, 0, 0, 0, 0,\n       0, 0, 0, 0, 0, 0, 0, 0, 0, 0, 0, 0, 0, 0, 0, 0, 0, 0, 0, 0, 0, 0,\n       0, 0, 0, 0, 0, 0, 0, 0, 0, 0, 0, 0, 0, 0, 0, 0, 0, 0, 0, 0, 0, 0,\n       0, 0, 0, 0, 0, 0, 0, 0, 0, 0, 0, 0, 0, 0, 0, 0, 0, 0, 0, 0, 0, 0,\n       0, 0, 0, 0, 0, 0, 0, 0, 0, 0, 0, 0, 0, 0, 0, 0, 0, 0, 0, 0, 0, 0,\n       0, 0, 0, 0, 0, 0, 0, 0, 0, 0, 0, 0, 0, 0, 0, 0, 0, 0, 0, 0, 0, 0,\n       0, 0, 0, 0, 0, 0, 0, 0, 0, 0, 0, 0, 0, 0, 0, 0, 0, 0, 0, 0, 0, 0,\n       0, 0, 0, 0, 0, 0, 0, 0, 0, 0, 0, 0, 0, 0, 0, 0, 0, 0, 0, 0, 0, 0,\n       0, 0, 0, 0, 0, 0, 0, 0, 0, 0, 0, 0, 0, 0, 0, 0, 0, 0, 0, 0, 0, 0,\n       0, 0, 0, 0, 0, 0, 0, 0, 0, 0, 0, 0, 0, 0, 0, 0, 0, 0, 0, 0, 0, 0,\n       0, 0, 0, 0, 0, 0, 0, 0, 0, 0, 0, 0, 0, 0, 0, 0, 0, 0, 0, 0, 0, 0,\n       0, 0, 0, 0, 0, 0, 0, 0, 0, 0, 0, 0, 0, 0, 0, 0, 0, 0, 0, 0, 0, 0,\n       0, 0, 0, 0, 0, 0, 0, 0, 0, 0, 0, 0, 0, 0, 0, 0, 0, 0, 0, 0, 0, 0,\n       0, 0, 0, 0, 0, 0, 0, 0, 0, 0, 0, 0, 0, 0, 0, 0, 0, 0, 0, 0, 0, 0,\n       0, 0, 0, 0, 0, 0, 0, 0, 0, 0, 0, 0, 0, 0, 0, 0, 0, 0, 0, 0, 0, 0,\n       0, 0, 0, 0, 0, 0, 0, 0, 0, 0, 0, 0, 0, 0, 0, 0, 0, 0, 0, 0, 0, 0,\n       0, 0, 0, 0, 0, 0, 0, 0, 0, 0, 0, 0, 0, 0, 0, 0, 0, 0, 0, 0, 0, 0,\n       0, 0, 0, 0, 0, 0, 0, 0, 0, 0, 0, 0, 0, 0, 0, 0, 0, 0, 0, 0, 0, 0,\n       0, 0, 0, 0, 0, 0, 0, 0, 0, 0, 0, 0, 0, 0, 0, 0, 0, 0, 0, 0, 0, 0,\n       0])"
          },
          "metadata": {}
        }
      ],
      "execution_count": null,
      "metadata": {
        "jupyter": {
          "source_hidden": false,
          "outputs_hidden": false
        },
        "nteract": {
          "transient": {
            "deleting": false
          }
        },
        "gather": {
          "logged": 1648852293079
        },
        "id": "wnWGrJbRun8b",
        "outputId": "46263aac-5bed-40f2-f9ba-92e2bce77e00"
      }
    },
    {
      "cell_type": "code",
      "source": [
        "trainY"
      ],
      "outputs": [
        {
          "output_type": "execute_result",
          "execution_count": 171,
          "data": {
            "text/plain": "array([[1., 0.],\n       [1., 0.],\n       [0., 1.],\n       ...,\n       [1., 0.],\n       [1., 0.],\n       [1., 0.]])"
          },
          "metadata": {}
        }
      ],
      "execution_count": null,
      "metadata": {
        "jupyter": {
          "source_hidden": false,
          "outputs_hidden": false
        },
        "nteract": {
          "transient": {
            "deleting": false
          }
        },
        "gather": {
          "logged": 1648852310024
        },
        "id": "Kf3WxxTSun8c",
        "outputId": "46a94d78-630e-4224-98dc-b0501c31be37"
      }
    },
    {
      "cell_type": "code",
      "source": [
        "np.argmax(trainY, axis=1)"
      ],
      "outputs": [
        {
          "output_type": "execute_result",
          "execution_count": 172,
          "data": {
            "text/plain": "array([0, 0, 1, 0, 0, 0, 0, 0, 0, 0, 0, 0, 0, 0, 0, 0, 0, 0, 0, 0, 0, 0,\n       0, 0, 0, 0, 0, 0, 0, 0, 0, 0, 0, 0, 0, 0, 0, 0, 0, 0, 0, 0, 0, 0,\n       0, 0, 0, 0, 0, 0, 0, 0, 0, 0, 0, 0, 0, 0, 0, 0, 0, 0, 0, 0, 0, 0,\n       0, 0, 0, 0, 0, 0, 0, 1, 0, 0, 0, 0, 0, 0, 0, 0, 0, 0, 1, 0, 0, 0,\n       1, 0, 0, 0, 0, 0, 0, 0, 0, 0, 0, 0, 0, 0, 0, 0, 0, 0, 0, 0, 0, 1,\n       1, 0, 0, 0, 0, 0, 0, 0, 0, 0, 0, 0, 0, 0, 0, 0, 0, 0, 0, 0, 0, 0,\n       1, 0, 0, 0, 0, 0, 0, 0, 0, 0, 0, 0, 0, 0, 0, 0, 1, 0, 0, 0, 1, 0,\n       0, 0, 1, 0, 0, 0, 0, 0, 0, 0, 0, 0, 0, 0, 0, 1, 1, 0, 0, 0, 0, 0,\n       0, 0, 0, 0, 0, 0, 0, 0, 0, 0, 1, 0, 0, 1, 0, 1, 0, 0, 0, 0, 0, 0,\n       0, 0, 0, 0, 0, 0, 0, 1, 0, 0, 0, 0, 0, 0, 0, 0, 0, 0, 0, 0, 0, 0,\n       0, 0, 0, 0, 0, 0, 0, 0, 0, 0, 0, 1, 0, 0, 0, 0, 0, 0, 0, 1, 0, 1,\n       1, 0, 1, 0, 0, 0, 0, 0, 0, 0, 0, 0, 0, 0, 1, 0, 0, 0, 0, 0, 0, 0,\n       0, 0, 0, 0, 1, 1, 0, 0, 0, 0, 0, 1, 1, 0, 0, 0, 0, 0, 0, 0, 0, 0,\n       0, 0, 0, 0, 0, 0, 0, 0, 0, 0, 0, 0, 0, 0, 0, 0, 0, 0, 1, 1, 0, 0,\n       0, 0, 0, 0, 0, 0, 0, 0, 0, 0, 0, 0, 0, 0, 0, 1, 1, 0, 0, 0, 0, 0,\n       0, 0, 0, 0, 0, 0, 1, 0, 0, 0, 0, 0, 1, 0, 0, 0, 0, 0, 0, 0, 0, 0,\n       0, 0, 0, 0, 0, 0, 1, 0, 0, 1, 0, 0, 0, 0, 0, 0, 0, 0, 0, 0, 0, 0,\n       0, 0, 0, 0, 0, 0, 0, 0, 0, 0, 0, 0, 0, 0, 0, 0, 0, 1, 0, 0, 1, 0,\n       0, 1, 0, 0, 0, 0, 1, 0, 0, 0, 0, 0, 0, 0, 0, 0, 0, 0, 0, 0, 0, 0,\n       0, 0, 0, 0, 0, 0, 0, 1, 0, 0, 0, 0, 0, 0, 0, 0, 0, 0, 0, 0, 0, 0,\n       0, 0, 0, 0, 0, 0, 0, 0, 0, 0, 0, 0, 0, 0, 0, 0, 0, 1, 0, 0, 0, 0,\n       0, 0, 0, 0, 0, 0, 0, 0, 0, 0, 0, 1, 0, 0, 0, 0, 0, 0, 1, 0, 0, 0,\n       0, 0, 0, 0, 0, 0, 1, 0, 0, 0, 0, 0, 0, 0, 0, 0, 0, 0, 0, 0, 0, 0,\n       0, 0, 0, 0, 0, 0, 0, 0, 0, 0, 0, 1, 0, 0, 0, 0, 0, 0, 0, 0, 0, 0,\n       0, 0, 0, 0, 0, 0, 0, 0, 0, 0, 0, 0, 0, 0, 0, 0, 0, 0, 0, 0, 0, 0,\n       0, 0, 0, 0, 0, 0, 0, 0, 0, 0, 0, 0, 0, 0, 0, 0, 0, 0, 0, 0, 0, 0,\n       0])"
          },
          "metadata": {}
        }
      ],
      "execution_count": null,
      "metadata": {
        "jupyter": {
          "source_hidden": false,
          "outputs_hidden": false
        },
        "nteract": {
          "transient": {
            "deleting": false
          }
        },
        "gather": {
          "logged": 1648852313131
        },
        "id": "GXnIZNoxun8c",
        "outputId": "ece3655e-dbd2-405b-8da6-47e8c14542d4"
      }
    },
    {
      "cell_type": "code",
      "source": [
        "np.argmax(testPredict, axis=1)"
      ],
      "outputs": [
        {
          "output_type": "execute_result",
          "execution_count": 173,
          "data": {
            "text/plain": "array([0, 0, 0, 0, 0, 0, 0, 0, 0, 0, 0, 0, 0, 0, 0, 0, 0, 0, 0, 0, 0, 0,\n       0, 0, 0, 0, 0, 0, 0, 0, 0, 0, 0, 0, 0, 0, 0, 0, 0, 0, 0, 0, 0, 0,\n       0, 0, 0, 0, 0, 0, 0, 0, 0, 0, 0, 0, 0, 0, 0, 0, 0, 0, 0, 0, 0, 0,\n       0, 0, 0, 0, 0, 0, 0, 0, 0, 0, 0, 0, 0, 0, 0, 0, 0, 0, 0, 0, 0, 0,\n       0])"
          },
          "metadata": {}
        }
      ],
      "execution_count": null,
      "metadata": {
        "jupyter": {
          "source_hidden": false,
          "outputs_hidden": false
        },
        "nteract": {
          "transient": {
            "deleting": false
          }
        },
        "gather": {
          "logged": 1648852320107
        },
        "id": "0817r4ezun8c",
        "outputId": "8167b093-93f5-4b84-d4ca-f93fde455c48"
      }
    },
    {
      "cell_type": "code",
      "source": [
        "np.argmax(testY, axis=1)"
      ],
      "outputs": [
        {
          "output_type": "execute_result",
          "execution_count": 174,
          "data": {
            "text/plain": "array([0, 0, 0, 0, 0, 0, 0, 0, 0, 0, 0, 0, 0, 0, 0, 0, 0, 0, 0, 0, 0, 0,\n       0, 0, 0, 0, 0, 0, 0, 0, 0, 0, 0, 0, 0, 0, 1, 1, 1, 0, 0, 0, 0, 0,\n       0, 0, 0, 0, 0, 0, 0, 0, 0, 0, 0, 0, 0, 0, 0, 0, 0, 0, 0, 1, 0, 0,\n       1, 0, 0, 0, 0, 0, 0, 0, 0, 1, 0, 0, 1, 0, 0, 0, 0, 0, 0, 0, 0, 0,\n       0])"
          },
          "metadata": {}
        }
      ],
      "execution_count": null,
      "metadata": {
        "jupyter": {
          "source_hidden": false,
          "outputs_hidden": false
        },
        "nteract": {
          "transient": {
            "deleting": false
          }
        },
        "gather": {
          "logged": 1648852324205
        },
        "id": "Xrt2eBtRun8c",
        "outputId": "77b95c73-1e6e-4ac4-e3ad-e1db6bb93d4d"
      }
    },
    {
      "cell_type": "code",
      "source": [
        "# shift train predictions for plotting\n",
        "trainPredictPlot = np.empty_like(dataset)\n",
        "trainPredictPlot.astype(float)\n",
        "trainPredictPlot[look_back:len(trainPredict)+look_back] = trainPredict\n",
        "# shift test predictions for plotting\n",
        "testPredictPlot = np.empty_like(dataset)\n",
        "testPredictPlot[len(trainPredict)+(look_back*2)+1:len(dataset)-1] = testPredict\n",
        "# plot baseline and predictions\n",
        "plt.plot(dataset)\n",
        "plt.plot(trainPredictPlot)\n",
        "plt.plot(testPredictPlot)\n",
        "plt.show()"
      ],
      "outputs": [
        {
          "output_type": "display_data",
          "data": {
            "text/plain": "<Figure size 432x288 with 1 Axes>",
            "image/png": "[encoded data removed]"
          },
          "metadata": {
            "needs_background": "light"
          }
        }
      ],
      "execution_count": null,
      "metadata": {
        "jupyter": {
          "source_hidden": false,
          "outputs_hidden": false
        },
        "nteract": {
          "transient": {
            "deleting": false
          }
        },
        "gather": {
          "logged": 1648847143944
        },
        "id": "upx585coun8c",
        "outputId": "9ee18ed2-a751-4579-a36e-30b3dc0acbb0"
      }
    },
    {
      "cell_type": "code",
      "source": [
        "import math\n",
        "def rmse(predictions, targets):\n",
        "    return np.sqrt(((predictions - targets) ** 2).mean())\n",
        "# calculate root mean squared error\n",
        "trainScore = math.sqrt(rmse(trainY, trainPredict))\n",
        "print('Train Score: %.2f RMSE' % (trainScore))\n",
        "testScore = math.sqrt(rmse(testY, testPredict))\n",
        "print('Test Score: %.2f RMSE' % (testScore))"
      ],
      "outputs": [
        {
          "output_type": "stream",
          "name": "stdout",
          "text": "Train Score: 0.62 RMSE\nTest Score: 0.62 RMSE\n"
        }
      ],
      "execution_count": null,
      "metadata": {
        "jupyter": {
          "source_hidden": false,
          "outputs_hidden": false
        },
        "nteract": {
          "transient": {
            "deleting": false
          }
        },
        "gather": {
          "logged": 1648847155911
        },
        "id": "PqKCzwoWun8d",
        "outputId": "776d6aae-7184-45de-ea9a-8580cb58c383"
      }
    },
    {
      "cell_type": "code",
      "source": [
        "pip install seaborn"
      ],
      "outputs": [
        {
          "output_type": "stream",
          "name": "stdout",
          "text": "Collecting seaborn\n  Downloading seaborn-0.11.2-py3-none-any.whl (292 kB)\n\u001b[K     |████████████████████████████████| 292 kB 21.5 MB/s eta 0:00:01\n\u001b[?25hRequirement already satisfied: numpy>=1.15 in /anaconda/envs/azureml_py38_PT_TF/lib/python3.8/site-packages (from seaborn) (1.22.2)\nRequirement already satisfied: pandas>=0.23 in /anaconda/envs/azureml_py38_PT_TF/lib/python3.8/site-packages (from seaborn) (1.4.0)\nRequirement already satisfied: matplotlib>=2.2 in /anaconda/envs/azureml_py38_PT_TF/lib/python3.8/site-packages (from seaborn) (3.5.1)\nRequirement already satisfied: scipy>=1.0 in /anaconda/envs/azureml_py38_PT_TF/lib/python3.8/site-packages (from seaborn) (1.8.0)\nRequirement already satisfied: pytz>=2020.1 in /anaconda/envs/azureml_py38_PT_TF/lib/python3.8/site-packages (from pandas>=0.23->seaborn) (2021.3)\nRequirement already satisfied: python-dateutil>=2.8.1 in /anaconda/envs/azureml_py38_PT_TF/lib/python3.8/site-packages (from pandas>=0.23->seaborn) (2.8.2)\nRequirement already satisfied: pillow>=6.2.0 in /anaconda/envs/azureml_py38_PT_TF/lib/python3.8/site-packages (from matplotlib>=2.2->seaborn) (9.0.1)\nRequirement already satisfied: kiwisolver>=1.0.1 in /anaconda/envs/azureml_py38_PT_TF/lib/python3.8/site-packages (from matplotlib>=2.2->seaborn) (1.3.2)\nRequirement already satisfied: cycler>=0.10 in /anaconda/envs/azureml_py38_PT_TF/lib/python3.8/site-packages (from matplotlib>=2.2->seaborn) (0.11.0)\nRequirement already satisfied: fonttools>=4.22.0 in /anaconda/envs/azureml_py38_PT_TF/lib/python3.8/site-packages (from matplotlib>=2.2->seaborn) (4.29.1)\nRequirement already satisfied: pyparsing>=2.2.1 in /anaconda/envs/azureml_py38_PT_TF/lib/python3.8/site-packages (from matplotlib>=2.2->seaborn) (3.0.7)\nRequirement already satisfied: packaging>=20.0 in /anaconda/envs/azureml_py38_PT_TF/lib/python3.8/site-packages (from matplotlib>=2.2->seaborn) (21.3)\nRequirement already satisfied: six>=1.5 in /anaconda/envs/azureml_py38_PT_TF/lib/python3.8/site-packages (from python-dateutil>=2.8.1->pandas>=0.23->seaborn) (1.16.0)\nInstalling collected packages: seaborn\nSuccessfully installed seaborn-0.11.2\nNote: you may need to restart the kernel to use updated packages.\n"
        }
      ],
      "execution_count": null,
      "metadata": {
        "jupyter": {
          "source_hidden": false,
          "outputs_hidden": false
        },
        "nteract": {
          "transient": {
            "deleting": false
          }
        },
        "gather": {
          "logged": 1648847312971
        },
        "id": "XfMGObb_un8d",
        "outputId": "6c655c32-0766-4046-fc7f-5f0046f4b817"
      }
    },
    {
      "cell_type": "code",
      "source": [
        "import seaborn as sns"
      ],
      "outputs": [],
      "execution_count": null,
      "metadata": {
        "jupyter": {
          "source_hidden": false,
          "outputs_hidden": false
        },
        "nteract": {
          "transient": {
            "deleting": false
          }
        },
        "gather": {
          "logged": 1648847485947
        },
        "id": "t6y_xfIqun8d"
      }
    }
  ],
  "metadata": {
    "kernelspec": {
      "name": "azureml_py38_pt_tf",
      "language": "python",
      "display_name": "Python 3.8 - Pytorch and Tensorflow"
    },
    "language_info": {
      "name": "python",
      "version": "3.8.1",
      "mimetype": "text/x-python",
      "codemirror_mode": {
        "name": "ipython",
        "version": 3
      },
      "pygments_lexer": "ipython3",
      "nbconvert_exporter": "python",
      "file_extension": ".py"
    },
    "kernel_info": {
      "name": "azureml_py38_pt_tf"
    },
    "microsoft": {
      "host": {
        "AzureML": {
          "notebookHasBeenCompleted": true
        }
      }
    },
    "nteract": {
      "version": "nteract-front-end@1.0.0"
    },
    "colab": {
      "name": "Binary_Model.ipynb",
      "provenance": [],
      "include_colab_link": true
    }
  },
  "nbformat": 4,
  "nbformat_minor": 0
}